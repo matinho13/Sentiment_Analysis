{
 "cells": [
  {
   "cell_type": "code",
   "execution_count": 100,
   "metadata": {},
   "outputs": [],
   "source": [
    "import pandas as pd\n",
    "import nltk\n",
    "from nltk import*\n",
    "import seaborn as sns\n",
    "from sklearn.metrics import f1_score, accuracy_score\n",
    "import numpy as np \n",
    "import matplotlib.pyplot as plt\n",
    "from sklearn import metrics\n",
    "from collections import Counter"
   ]
  },
  {
   "cell_type": "markdown",
   "metadata": {},
   "source": [
    "# Data Cleaning and Exploration"
   ]
  },
  {
   "cell_type": "code",
   "execution_count": 101,
   "metadata": {},
   "outputs": [],
   "source": [
    "df = pd.read_csv(\"Satzveri2_36_Itemslong_short.txt\",  sep= ',', header= 0)\n",
    "df = df.drop(['Column 1'], axis=1)"
   ]
  },
  {
   "cell_type": "code",
   "execution_count": 102,
   "metadata": {},
   "outputs": [
    {
     "data": {
      "text/html": [
       "<div>\n",
       "<style scoped>\n",
       "    .dataframe tbody tr th:only-of-type {\n",
       "        vertical-align: middle;\n",
       "    }\n",
       "\n",
       "    .dataframe tbody tr th {\n",
       "        vertical-align: top;\n",
       "    }\n",
       "\n",
       "    .dataframe thead th {\n",
       "        text-align: right;\n",
       "    }\n",
       "</style>\n",
       "<table border=\"1\" class=\"dataframe\">\n",
       "  <thead>\n",
       "    <tr style=\"text-align: right;\">\n",
       "      <th></th>\n",
       "      <th>Satz</th>\n",
       "      <th>noun</th>\n",
       "      <th>polarity_noun</th>\n",
       "      <th>adjective</th>\n",
       "      <th>polarity_adj</th>\n",
       "      <th>valence_rating_sent</th>\n",
       "    </tr>\n",
       "  </thead>\n",
       "  <tbody>\n",
       "    <tr>\n",
       "      <th>0</th>\n",
       "      <td>Die Biene ist aktiv.</td>\n",
       "      <td>Biene</td>\n",
       "      <td>positiv</td>\n",
       "      <td>aktiv</td>\n",
       "      <td>positiv</td>\n",
       "      <td>4</td>\n",
       "    </tr>\n",
       "    <tr>\n",
       "      <th>1</th>\n",
       "      <td>Die Brautjungfer ist amüsant.</td>\n",
       "      <td>Brautjungfer</td>\n",
       "      <td>positiv</td>\n",
       "      <td>amüsant</td>\n",
       "      <td>positiv</td>\n",
       "      <td>7</td>\n",
       "    </tr>\n",
       "    <tr>\n",
       "      <th>2</th>\n",
       "      <td>Der Garten ist berühmt.</td>\n",
       "      <td>Garten</td>\n",
       "      <td>positiv</td>\n",
       "      <td>berühmt</td>\n",
       "      <td>positiv</td>\n",
       "      <td>6</td>\n",
       "    </tr>\n",
       "    <tr>\n",
       "      <th>3</th>\n",
       "      <td>Der Gewinn ist süß.</td>\n",
       "      <td>Gewinn</td>\n",
       "      <td>positiv</td>\n",
       "      <td>süß</td>\n",
       "      <td>positiv</td>\n",
       "      <td>7</td>\n",
       "    </tr>\n",
       "    <tr>\n",
       "      <th>4</th>\n",
       "      <td>Der Künstler ist gutmütig.</td>\n",
       "      <td>Künstler</td>\n",
       "      <td>positiv</td>\n",
       "      <td>gutmütig</td>\n",
       "      <td>positiv</td>\n",
       "      <td>6</td>\n",
       "    </tr>\n",
       "  </tbody>\n",
       "</table>\n",
       "</div>"
      ],
      "text/plain": [
       "                            Satz          noun polarity_noun adjective  \\\n",
       "0           Die Biene ist aktiv.         Biene       positiv     aktiv   \n",
       "1  Die Brautjungfer ist amüsant.  Brautjungfer       positiv   amüsant   \n",
       "2        Der Garten ist berühmt.        Garten       positiv   berühmt   \n",
       "3            Der Gewinn ist süß.        Gewinn       positiv       süß   \n",
       "4     Der Künstler ist gutmütig.      Künstler       positiv  gutmütig   \n",
       "\n",
       "  polarity_adj  valence_rating_sent  \n",
       "0      positiv                    4  \n",
       "1      positiv                    7  \n",
       "2      positiv                    6  \n",
       "3      positiv                    7  \n",
       "4      positiv                    6  "
      ]
     },
     "execution_count": 102,
     "metadata": {},
     "output_type": "execute_result"
    }
   ],
   "source": [
    "df.head()"
   ]
  },
  {
   "cell_type": "code",
   "execution_count": 103,
   "metadata": {},
   "outputs": [
    {
     "name": "stdout",
     "output_type": "stream",
     "text": [
      "<class 'pandas.core.frame.DataFrame'>\n",
      "RangeIndex: 561 entries, 0 to 560\n",
      "Data columns (total 6 columns):\n",
      " #   Column               Non-Null Count  Dtype \n",
      "---  ------               --------------  ----- \n",
      " 0   Satz                 561 non-null    object\n",
      " 1   noun                 561 non-null    object\n",
      " 2   polarity_noun        561 non-null    object\n",
      " 3   adjective            561 non-null    object\n",
      " 4   polarity_adj         561 non-null    object\n",
      " 5   valence_rating_sent  561 non-null    int64 \n",
      "dtypes: int64(1), object(5)\n",
      "memory usage: 26.4+ KB\n"
     ]
    }
   ],
   "source": [
    "df.info()"
   ]
  },
  {
   "cell_type": "code",
   "execution_count": 104,
   "metadata": {},
   "outputs": [
    {
     "data": {
      "text/plain": [
       "(561, 6)"
      ]
     },
     "execution_count": 104,
     "metadata": {},
     "output_type": "execute_result"
    }
   ],
   "source": [
    "df.shape"
   ]
  },
  {
   "cell_type": "code",
   "execution_count": 105,
   "metadata": {},
   "outputs": [
    {
     "data": {
      "text/plain": [
       "Index(['Satz', 'noun', 'polarity_noun', 'adjective', 'polarity_adj',\n",
       "       'valence_rating_sent'],\n",
       "      dtype='object')"
      ]
     },
     "execution_count": 105,
     "metadata": {},
     "output_type": "execute_result"
    }
   ],
   "source": [
    "df.columns"
   ]
  },
  {
   "cell_type": "code",
   "execution_count": 106,
   "metadata": {},
   "outputs": [
    {
     "data": {
      "text/plain": [
       "193"
      ]
     },
     "execution_count": 106,
     "metadata": {},
     "output_type": "execute_result"
    }
   ],
   "source": [
    "len(df.noun.unique())"
   ]
  },
  {
   "cell_type": "code",
   "execution_count": 107,
   "metadata": {},
   "outputs": [
    {
     "data": {
      "text/plain": [
       "279"
      ]
     },
     "execution_count": 107,
     "metadata": {},
     "output_type": "execute_result"
    }
   ],
   "source": [
    "len(df.adjective.unique())"
   ]
  },
  {
   "cell_type": "code",
   "execution_count": 108,
   "metadata": {},
   "outputs": [
    {
     "data": {
      "text/plain": [
       "positiv    281\n",
       "negativ    280\n",
       "Name: polarity_noun, dtype: int64"
      ]
     },
     "execution_count": 108,
     "metadata": {},
     "output_type": "execute_result"
    }
   ],
   "source": [
    "df.polarity_noun.value_counts()"
   ]
  },
  {
   "cell_type": "code",
   "execution_count": 109,
   "metadata": {},
   "outputs": [
    {
     "data": {
      "text/plain": [
       "positiv    189\n",
       "negativ    188\n",
       "neutral    184\n",
       "Name: polarity_adj, dtype: int64"
      ]
     },
     "execution_count": 109,
     "metadata": {},
     "output_type": "execute_result"
    }
   ],
   "source": [
    "df.polarity_adj.value_counts()"
   ]
  },
  {
   "cell_type": "code",
   "execution_count": 110,
   "metadata": {},
   "outputs": [
    {
     "data": {
      "text/plain": [
       "5    101\n",
       "4     99\n",
       "3     89\n",
       "2     82\n",
       "6     73\n",
       "7     49\n",
       "1     44\n",
       "8     23\n",
       "9      1\n",
       "Name: valence_rating_sent, dtype: int64"
      ]
     },
     "execution_count": 110,
     "metadata": {},
     "output_type": "execute_result"
    }
   ],
   "source": [
    "df.valence_rating_sent.value_counts()"
   ]
  },
  {
   "cell_type": "code",
   "execution_count": 111,
   "metadata": {},
   "outputs": [],
   "source": [
    "df[\"tokenized_sents\"] = df.apply(lambda row: nltk.word_tokenize(row[\"Satz\"]), axis=1)"
   ]
  },
  {
   "cell_type": "code",
   "execution_count": 112,
   "metadata": {
    "scrolled": true
   },
   "outputs": [
    {
     "data": {
      "text/html": [
       "<div>\n",
       "<style scoped>\n",
       "    .dataframe tbody tr th:only-of-type {\n",
       "        vertical-align: middle;\n",
       "    }\n",
       "\n",
       "    .dataframe tbody tr th {\n",
       "        vertical-align: top;\n",
       "    }\n",
       "\n",
       "    .dataframe thead th {\n",
       "        text-align: right;\n",
       "    }\n",
       "</style>\n",
       "<table border=\"1\" class=\"dataframe\">\n",
       "  <thead>\n",
       "    <tr style=\"text-align: right;\">\n",
       "      <th></th>\n",
       "      <th>Satz</th>\n",
       "      <th>noun</th>\n",
       "      <th>polarity_noun</th>\n",
       "      <th>adjective</th>\n",
       "      <th>polarity_adj</th>\n",
       "      <th>valence_rating_sent</th>\n",
       "      <th>tokenized_sents</th>\n",
       "    </tr>\n",
       "  </thead>\n",
       "  <tbody>\n",
       "    <tr>\n",
       "      <th>0</th>\n",
       "      <td>Die Biene ist aktiv.</td>\n",
       "      <td>Biene</td>\n",
       "      <td>positiv</td>\n",
       "      <td>aktiv</td>\n",
       "      <td>positiv</td>\n",
       "      <td>4</td>\n",
       "      <td>[Die, Biene, ist, aktiv, .]</td>\n",
       "    </tr>\n",
       "    <tr>\n",
       "      <th>1</th>\n",
       "      <td>Die Brautjungfer ist amüsant.</td>\n",
       "      <td>Brautjungfer</td>\n",
       "      <td>positiv</td>\n",
       "      <td>amüsant</td>\n",
       "      <td>positiv</td>\n",
       "      <td>7</td>\n",
       "      <td>[Die, Brautjungfer, ist, amüsant, .]</td>\n",
       "    </tr>\n",
       "    <tr>\n",
       "      <th>2</th>\n",
       "      <td>Der Garten ist berühmt.</td>\n",
       "      <td>Garten</td>\n",
       "      <td>positiv</td>\n",
       "      <td>berühmt</td>\n",
       "      <td>positiv</td>\n",
       "      <td>6</td>\n",
       "      <td>[Der, Garten, ist, berühmt, .]</td>\n",
       "    </tr>\n",
       "    <tr>\n",
       "      <th>3</th>\n",
       "      <td>Der Gewinn ist süß.</td>\n",
       "      <td>Gewinn</td>\n",
       "      <td>positiv</td>\n",
       "      <td>süß</td>\n",
       "      <td>positiv</td>\n",
       "      <td>7</td>\n",
       "      <td>[Der, Gewinn, ist, süß, .]</td>\n",
       "    </tr>\n",
       "    <tr>\n",
       "      <th>4</th>\n",
       "      <td>Der Künstler ist gutmütig.</td>\n",
       "      <td>Künstler</td>\n",
       "      <td>positiv</td>\n",
       "      <td>gutmütig</td>\n",
       "      <td>positiv</td>\n",
       "      <td>6</td>\n",
       "      <td>[Der, Künstler, ist, gutmütig, .]</td>\n",
       "    </tr>\n",
       "  </tbody>\n",
       "</table>\n",
       "</div>"
      ],
      "text/plain": [
       "                            Satz          noun polarity_noun adjective  \\\n",
       "0           Die Biene ist aktiv.         Biene       positiv     aktiv   \n",
       "1  Die Brautjungfer ist amüsant.  Brautjungfer       positiv   amüsant   \n",
       "2        Der Garten ist berühmt.        Garten       positiv   berühmt   \n",
       "3            Der Gewinn ist süß.        Gewinn       positiv       süß   \n",
       "4     Der Künstler ist gutmütig.      Künstler       positiv  gutmütig   \n",
       "\n",
       "  polarity_adj  valence_rating_sent                       tokenized_sents  \n",
       "0      positiv                    4           [Die, Biene, ist, aktiv, .]  \n",
       "1      positiv                    7  [Die, Brautjungfer, ist, amüsant, .]  \n",
       "2      positiv                    6        [Der, Garten, ist, berühmt, .]  \n",
       "3      positiv                    7            [Der, Gewinn, ist, süß, .]  \n",
       "4      positiv                    6     [Der, Künstler, ist, gutmütig, .]  "
      ]
     },
     "execution_count": 112,
     "metadata": {},
     "output_type": "execute_result"
    }
   ],
   "source": [
    "df.head()"
   ]
  },
  {
   "cell_type": "markdown",
   "metadata": {},
   "source": [
    "# SentiArt"
   ]
  },
  {
   "cell_type": "code",
   "execution_count": 113,
   "metadata": {},
   "outputs": [],
   "source": [
    "TC = \"120kSentiArt_DE.xlsx\""
   ]
  },
  {
   "cell_type": "code",
   "execution_count": 114,
   "metadata": {},
   "outputs": [
    {
     "data": {
      "text/html": [
       "<div>\n",
       "<style scoped>\n",
       "    .dataframe tbody tr th:only-of-type {\n",
       "        vertical-align: middle;\n",
       "    }\n",
       "\n",
       "    .dataframe tbody tr th {\n",
       "        vertical-align: top;\n",
       "    }\n",
       "\n",
       "    .dataframe thead th {\n",
       "        text-align: right;\n",
       "    }\n",
       "</style>\n",
       "<table border=\"1\" class=\"dataframe\">\n",
       "  <thead>\n",
       "    <tr style=\"text-align: right;\">\n",
       "      <th></th>\n",
       "      <th>word</th>\n",
       "      <th>wordLC</th>\n",
       "      <th>AAPz</th>\n",
       "      <th>ang_z</th>\n",
       "      <th>fear_z</th>\n",
       "      <th>disg_z</th>\n",
       "      <th>hap_z</th>\n",
       "      <th>sad_z</th>\n",
       "      <th>surp_z</th>\n",
       "    </tr>\n",
       "  </thead>\n",
       "  <tbody>\n",
       "    <tr>\n",
       "      <th>0</th>\n",
       "      <td>Aachen</td>\n",
       "      <td>aachen</td>\n",
       "      <td>0.6557</td>\n",
       "      <td>0.097</td>\n",
       "      <td>-1.0980</td>\n",
       "      <td>-1.2940</td>\n",
       "      <td>-0.4470</td>\n",
       "      <td>-1.3020</td>\n",
       "      <td>-0.6360</td>\n",
       "    </tr>\n",
       "    <tr>\n",
       "      <th>1</th>\n",
       "      <td>Aal</td>\n",
       "      <td>aal</td>\n",
       "      <td>0.3076</td>\n",
       "      <td>0.234</td>\n",
       "      <td>-0.4620</td>\n",
       "      <td>1.4168</td>\n",
       "      <td>-0.1940</td>\n",
       "      <td>0.1161</td>\n",
       "      <td>-0.3240</td>\n",
       "    </tr>\n",
       "    <tr>\n",
       "      <th>2</th>\n",
       "      <td>Aale</td>\n",
       "      <td>aale</td>\n",
       "      <td>0.0619</td>\n",
       "      <td>0.218</td>\n",
       "      <td>-0.1440</td>\n",
       "      <td>0.4773</td>\n",
       "      <td>-0.1210</td>\n",
       "      <td>-0.1830</td>\n",
       "      <td>0.0135</td>\n",
       "    </tr>\n",
       "    <tr>\n",
       "      <th>3</th>\n",
       "      <td>Aas</td>\n",
       "      <td>aas</td>\n",
       "      <td>-1.0440</td>\n",
       "      <td>0.258</td>\n",
       "      <td>0.1618</td>\n",
       "      <td>2.0333</td>\n",
       "      <td>0.3128</td>\n",
       "      <td>0.3957</td>\n",
       "      <td>-0.8440</td>\n",
       "    </tr>\n",
       "    <tr>\n",
       "      <th>4</th>\n",
       "      <td>Aasfresser</td>\n",
       "      <td>aasfresser</td>\n",
       "      <td>-1.5150</td>\n",
       "      <td>0.327</td>\n",
       "      <td>1.1859</td>\n",
       "      <td>1.9843</td>\n",
       "      <td>0.2766</td>\n",
       "      <td>0.6850</td>\n",
       "      <td>0.5720</td>\n",
       "    </tr>\n",
       "  </tbody>\n",
       "</table>\n",
       "</div>"
      ],
      "text/plain": [
       "         word      wordLC    AAPz  ang_z  fear_z  disg_z   hap_z   sad_z  \\\n",
       "0      Aachen      aachen  0.6557  0.097 -1.0980 -1.2940 -0.4470 -1.3020   \n",
       "1         Aal         aal  0.3076  0.234 -0.4620  1.4168 -0.1940  0.1161   \n",
       "2        Aale        aale  0.0619  0.218 -0.1440  0.4773 -0.1210 -0.1830   \n",
       "3         Aas         aas -1.0440  0.258  0.1618  2.0333  0.3128  0.3957   \n",
       "4  Aasfresser  aasfresser -1.5150  0.327  1.1859  1.9843  0.2766  0.6850   \n",
       "\n",
       "   surp_z  \n",
       "0 -0.6360  \n",
       "1 -0.3240  \n",
       "2  0.0135  \n",
       "3 -0.8440  \n",
       "4  0.5720  "
      ]
     },
     "execution_count": 114,
     "metadata": {},
     "output_type": "execute_result"
    }
   ],
   "source": [
    "sa = pd.read_excel(TC)\n",
    "sa.head()"
   ]
  },
  {
   "cell_type": "code",
   "execution_count": 115,
   "metadata": {},
   "outputs": [
    {
     "data": {
      "text/html": [
       "<div>\n",
       "<style scoped>\n",
       "    .dataframe tbody tr th:only-of-type {\n",
       "        vertical-align: middle;\n",
       "    }\n",
       "\n",
       "    .dataframe tbody tr th {\n",
       "        vertical-align: top;\n",
       "    }\n",
       "\n",
       "    .dataframe thead th {\n",
       "        text-align: right;\n",
       "    }\n",
       "</style>\n",
       "<table border=\"1\" class=\"dataframe\">\n",
       "  <thead>\n",
       "    <tr style=\"text-align: right;\">\n",
       "      <th></th>\n",
       "      <th>word</th>\n",
       "      <th>wordLC</th>\n",
       "      <th>AAPz</th>\n",
       "      <th>ang_z</th>\n",
       "      <th>fear_z</th>\n",
       "      <th>disg_z</th>\n",
       "      <th>hap_z</th>\n",
       "      <th>sad_z</th>\n",
       "      <th>surp_z</th>\n",
       "    </tr>\n",
       "  </thead>\n",
       "  <tbody>\n",
       "    <tr>\n",
       "      <th>89714</th>\n",
       "      <td>ist</td>\n",
       "      <td>ist</td>\n",
       "      <td>0.2667</td>\n",
       "      <td>0.185</td>\n",
       "      <td>0.0794</td>\n",
       "      <td>-0.521</td>\n",
       "      <td>0.3249</td>\n",
       "      <td>-0.26</td>\n",
       "      <td>0.7149</td>\n",
       "    </tr>\n",
       "  </tbody>\n",
       "</table>\n",
       "</div>"
      ],
      "text/plain": [
       "      word wordLC    AAPz  ang_z  fear_z  disg_z   hap_z  sad_z  surp_z\n",
       "89714  ist    ist  0.2667  0.185  0.0794  -0.521  0.3249  -0.26  0.7149"
      ]
     },
     "execution_count": 115,
     "metadata": {},
     "output_type": "execute_result"
    }
   ],
   "source": [
    "sa[sa.word == \"ist\"]"
   ]
  },
  {
   "cell_type": "code",
   "execution_count": 116,
   "metadata": {},
   "outputs": [
    {
     "data": {
      "text/html": [
       "<div>\n",
       "<style scoped>\n",
       "    .dataframe tbody tr th:only-of-type {\n",
       "        vertical-align: middle;\n",
       "    }\n",
       "\n",
       "    .dataframe tbody tr th {\n",
       "        vertical-align: top;\n",
       "    }\n",
       "\n",
       "    .dataframe thead th {\n",
       "        text-align: right;\n",
       "    }\n",
       "</style>\n",
       "<table border=\"1\" class=\"dataframe\">\n",
       "  <thead>\n",
       "    <tr style=\"text-align: right;\">\n",
       "      <th></th>\n",
       "      <th>word</th>\n",
       "      <th>wordLC</th>\n",
       "      <th>AAPz</th>\n",
       "      <th>ang_z</th>\n",
       "      <th>fear_z</th>\n",
       "      <th>disg_z</th>\n",
       "      <th>hap_z</th>\n",
       "      <th>sad_z</th>\n",
       "      <th>surp_z</th>\n",
       "    </tr>\n",
       "  </thead>\n",
       "  <tbody>\n",
       "    <tr>\n",
       "      <th>74617</th>\n",
       "      <td>der</td>\n",
       "      <td>der</td>\n",
       "      <td>0.2257</td>\n",
       "      <td>0.203</td>\n",
       "      <td>0.2325</td>\n",
       "      <td>-0.814</td>\n",
       "      <td>0.0234</td>\n",
       "      <td>-0.916</td>\n",
       "      <td>0.7538</td>\n",
       "    </tr>\n",
       "  </tbody>\n",
       "</table>\n",
       "</div>"
      ],
      "text/plain": [
       "      word wordLC    AAPz  ang_z  fear_z  disg_z   hap_z  sad_z  surp_z\n",
       "74617  der    der  0.2257  0.203  0.2325  -0.814  0.0234 -0.916  0.7538"
      ]
     },
     "execution_count": 116,
     "metadata": {},
     "output_type": "execute_result"
    }
   ],
   "source": [
    "sa[sa.word == \"der\"]"
   ]
  },
  {
   "cell_type": "code",
   "execution_count": 117,
   "metadata": {},
   "outputs": [
    {
     "data": {
      "text/html": [
       "<div>\n",
       "<style scoped>\n",
       "    .dataframe tbody tr th:only-of-type {\n",
       "        vertical-align: middle;\n",
       "    }\n",
       "\n",
       "    .dataframe tbody tr th {\n",
       "        vertical-align: top;\n",
       "    }\n",
       "\n",
       "    .dataframe thead th {\n",
       "        text-align: right;\n",
       "    }\n",
       "</style>\n",
       "<table border=\"1\" class=\"dataframe\">\n",
       "  <thead>\n",
       "    <tr style=\"text-align: right;\">\n",
       "      <th></th>\n",
       "      <th>word</th>\n",
       "      <th>wordLC</th>\n",
       "      <th>AAPz</th>\n",
       "      <th>ang_z</th>\n",
       "      <th>fear_z</th>\n",
       "      <th>disg_z</th>\n",
       "      <th>hap_z</th>\n",
       "      <th>sad_z</th>\n",
       "      <th>surp_z</th>\n",
       "    </tr>\n",
       "  </thead>\n",
       "  <tbody>\n",
       "    <tr>\n",
       "      <th>74808</th>\n",
       "      <td>die</td>\n",
       "      <td>die</td>\n",
       "      <td>0.1848</td>\n",
       "      <td>0.276</td>\n",
       "      <td>0.8681</td>\n",
       "      <td>-0.462</td>\n",
       "      <td>0.3611</td>\n",
       "      <td>-0.308</td>\n",
       "      <td>0.9097</td>\n",
       "    </tr>\n",
       "  </tbody>\n",
       "</table>\n",
       "</div>"
      ],
      "text/plain": [
       "      word wordLC    AAPz  ang_z  fear_z  disg_z   hap_z  sad_z  surp_z\n",
       "74808  die    die  0.1848  0.276  0.8681  -0.462  0.3611 -0.308  0.9097"
      ]
     },
     "execution_count": 117,
     "metadata": {},
     "output_type": "execute_result"
    }
   ],
   "source": [
    "sa[sa.word == \"die\"]"
   ]
  },
  {
   "cell_type": "code",
   "execution_count": 118,
   "metadata": {},
   "outputs": [
    {
     "data": {
      "text/html": [
       "<div>\n",
       "<style scoped>\n",
       "    .dataframe tbody tr th:only-of-type {\n",
       "        vertical-align: middle;\n",
       "    }\n",
       "\n",
       "    .dataframe tbody tr th {\n",
       "        vertical-align: top;\n",
       "    }\n",
       "\n",
       "    .dataframe thead th {\n",
       "        text-align: right;\n",
       "    }\n",
       "</style>\n",
       "<table border=\"1\" class=\"dataframe\">\n",
       "  <thead>\n",
       "    <tr style=\"text-align: right;\">\n",
       "      <th></th>\n",
       "      <th>word</th>\n",
       "      <th>wordLC</th>\n",
       "      <th>AAPz</th>\n",
       "      <th>ang_z</th>\n",
       "      <th>fear_z</th>\n",
       "      <th>disg_z</th>\n",
       "      <th>hap_z</th>\n",
       "      <th>sad_z</th>\n",
       "      <th>surp_z</th>\n",
       "    </tr>\n",
       "  </thead>\n",
       "  <tbody>\n",
       "    <tr>\n",
       "      <th>74227</th>\n",
       "      <td>das</td>\n",
       "      <td>das</td>\n",
       "      <td>0.3281</td>\n",
       "      <td>0.254</td>\n",
       "      <td>0.5385</td>\n",
       "      <td>-0.139</td>\n",
       "      <td>0.7349</td>\n",
       "      <td>0.1064</td>\n",
       "      <td>0.9486</td>\n",
       "    </tr>\n",
       "  </tbody>\n",
       "</table>\n",
       "</div>"
      ],
      "text/plain": [
       "      word wordLC    AAPz  ang_z  fear_z  disg_z   hap_z   sad_z  surp_z\n",
       "74227  das    das  0.3281  0.254  0.5385  -0.139  0.7349  0.1064  0.9486"
      ]
     },
     "execution_count": 118,
     "metadata": {},
     "output_type": "execute_result"
    }
   ],
   "source": [
    "sa[sa.word == \"das\"]"
   ]
  },
  {
   "cell_type": "code",
   "execution_count": 119,
   "metadata": {},
   "outputs": [],
   "source": [
    "sent_AAPz_noun = []\n",
    "sent_AAPz_adj = []\n",
    "sent_AAPz_sent = []"
   ]
  },
  {
   "cell_type": "code",
   "execution_count": 120,
   "metadata": {},
   "outputs": [],
   "source": [
    "my_list = []\n",
    "for sent in df.tokenized_sents:\n",
    "    my_list.append(sent)\n",
    "    \n",
    "nouns = []\n",
    "for noun in df.noun:\n",
    "    nouns.append(noun)\n",
    "    \n",
    "adjs = []\n",
    "for adj in df.adjective:\n",
    "    adjs.append(adj)"
   ]
  },
  {
   "cell_type": "code",
   "execution_count": 121,
   "metadata": {},
   "outputs": [
    {
     "data": {
      "text/plain": [
       "279"
      ]
     },
     "execution_count": 121,
     "metadata": {},
     "output_type": "execute_result"
    }
   ],
   "source": [
    "len(set(adjs))"
   ]
  },
  {
   "cell_type": "code",
   "execution_count": 122,
   "metadata": {},
   "outputs": [
    {
     "data": {
      "text/plain": [
       "193"
      ]
     },
     "execution_count": 122,
     "metadata": {},
     "output_type": "execute_result"
    }
   ],
   "source": [
    "len(set(nouns))"
   ]
  },
  {
   "cell_type": "markdown",
   "metadata": {},
   "source": [
    "# The Hit Rate (94.958 %)"
   ]
  },
  {
   "cell_type": "code",
   "execution_count": 123,
   "metadata": {},
   "outputs": [],
   "source": [
    "word_list = []\n",
    "for sent in df.tokenized_sents:\n",
    "    for word in sent:\n",
    "        word_list.append(word)"
   ]
  },
  {
   "cell_type": "code",
   "execution_count": 124,
   "metadata": {},
   "outputs": [
    {
     "name": "stdout",
     "output_type": "stream",
     "text": [
      "116313\n",
      "452\n",
      "476\n"
     ]
    }
   ],
   "source": [
    "senti_words = []\n",
    "for word in sa.word:\n",
    "    senti_words.append(word)\n",
    "print(len(senti_words))\n",
    "\n",
    "match_senti = []\n",
    "for word in set(word_list):\n",
    "    if word in senti_words:\n",
    "        match_senti.append(word)\n",
    "print(len(match_senti))\n",
    "print(len(set(word_list)))"
   ]
  },
  {
   "cell_type": "code",
   "execution_count": 125,
   "metadata": {},
   "outputs": [
    {
     "name": "stdout",
     "output_type": "stream",
     "text": [
      "The hit rate of SentiArt =  94.958 %\n"
     ]
    }
   ],
   "source": [
    "print(\"The hit rate of SentiArt = \", round(len(match_senti)*100/len(set(word_list)),3), \"%\")"
   ]
  },
  {
   "cell_type": "code",
   "execution_count": 126,
   "metadata": {},
   "outputs": [],
   "source": [
    "for sent in my_list:\n",
    "    dt = sa.query(\"word in @sent\")\n",
    "    sent_AAPz_sent.append(dt.AAPz.mean())    "
   ]
  },
  {
   "cell_type": "code",
   "execution_count": 127,
   "metadata": {
    "scrolled": true
   },
   "outputs": [],
   "source": [
    "for noun in nouns:\n",
    "    dt = sa.query(\"word in @noun\")\n",
    "    sent_AAPz_noun.append(dt.AAPz.mean())"
   ]
  },
  {
   "cell_type": "code",
   "execution_count": 128,
   "metadata": {},
   "outputs": [],
   "source": [
    "for adj in adjs:\n",
    "    dt = sa.query('word in @adj')\n",
    "    sent_AAPz_adj.append(dt.AAPz.mean())"
   ]
  },
  {
   "cell_type": "code",
   "execution_count": 129,
   "metadata": {},
   "outputs": [],
   "source": [
    "df[\"senti_adj\"] = sent_AAPz_adj\n",
    "df[\"senti_noun\"] = sent_AAPz_noun\n",
    "df[\"senti_sent\"] = sent_AAPz_sent"
   ]
  },
  {
   "cell_type": "code",
   "execution_count": 130,
   "metadata": {},
   "outputs": [
    {
     "name": "stdout",
     "output_type": "stream",
     "text": [
      "30\n",
      "18\n",
      "0\n"
     ]
    }
   ],
   "source": [
    "print(df.senti_adj.isna().sum())\n",
    "print(df.senti_noun.isna().sum())\n",
    "print(df.senti_sent.isna().sum())"
   ]
  },
  {
   "cell_type": "markdown",
   "metadata": {},
   "source": [
    "# List of the Missing Nouns and Adjectives"
   ]
  },
  {
   "cell_type": "code",
   "execution_count": 131,
   "metadata": {},
   "outputs": [],
   "source": [
    "missing_adj = df.loc[pd.isna(df[\"senti_adj\"]), \"adjective\"]\n",
    "missing_noun = df.loc[pd.isna(df[\"senti_adj\"]), \"noun\"]"
   ]
  },
  {
   "cell_type": "code",
   "execution_count": 132,
   "metadata": {},
   "outputs": [
    {
     "data": {
      "text/plain": [
       "18             weise\n",
       "53            schick\n",
       "64         ehrwürdig\n",
       "74        einfühlsam\n",
       "112            weise\n",
       "147           schick\n",
       "158        ehrwürdig\n",
       "169       einfühlsam\n",
       "210    selbstgefälli\n",
       "273        intrigant\n",
       "276           dement\n",
       "280         pickelig\n",
       "283          toxisch\n",
       "305    selbstgefälli\n",
       "368        intrigant\n",
       "371           dement\n",
       "373         pickelig\n",
       "376          toxisch\n",
       "377          lautlos\n",
       "425         russisch\n",
       "456         gehorsam\n",
       "458       manierlich\n",
       "460         türkisch\n",
       "467        unbehaart\n",
       "469          lautlos\n",
       "516         russisch\n",
       "548         gehorsam\n",
       "550       manierlich\n",
       "552         türkisch\n",
       "559        unbehaart\n",
       "Name: adjective, dtype: object"
      ]
     },
     "execution_count": 132,
     "metadata": {},
     "output_type": "execute_result"
    }
   ],
   "source": [
    "missing_adj"
   ]
  },
  {
   "cell_type": "code",
   "execution_count": 133,
   "metadata": {},
   "outputs": [
    {
     "data": {
      "text/plain": [
       "18              Genie\n",
       "53           Pizzeria\n",
       "64     Hochzeitsfeier\n",
       "74             Heiler\n",
       "112         Flittchen\n",
       "147           Mahnmal\n",
       "158        Beerdigung\n",
       "169      Besserwisser\n",
       "210            Kumpel\n",
       "273     Kindermädchen\n",
       "276         Bräutigam\n",
       "280            Helfer\n",
       "283             Birne\n",
       "305            Führer\n",
       "368       Schlägertyp\n",
       "371    Kinderschänder\n",
       "373             Luder\n",
       "376             Kotze\n",
       "377             Biene\n",
       "425        Kinderarzt\n",
       "456            Kumpan\n",
       "458      Spielkamerad\n",
       "460            Bruder\n",
       "467           Sponsor\n",
       "469             Wespe\n",
       "516          Zahnarzt\n",
       "548              Nazi\n",
       "550          Komplize\n",
       "552          Sünderin\n",
       "559           Prahler\n",
       "Name: noun, dtype: object"
      ]
     },
     "execution_count": 133,
     "metadata": {},
     "output_type": "execute_result"
    }
   ],
   "source": [
    "missing_noun"
   ]
  },
  {
   "cell_type": "code",
   "execution_count": 134,
   "metadata": {},
   "outputs": [
    {
     "name": "stdout",
     "output_type": "stream",
     "text": [
      "<class 'pandas.core.frame.DataFrame'>\n",
      "RangeIndex: 561 entries, 0 to 560\n",
      "Data columns (total 10 columns):\n",
      " #   Column               Non-Null Count  Dtype  \n",
      "---  ------               --------------  -----  \n",
      " 0   Satz                 561 non-null    object \n",
      " 1   noun                 561 non-null    object \n",
      " 2   polarity_noun        561 non-null    object \n",
      " 3   adjective            561 non-null    object \n",
      " 4   polarity_adj         561 non-null    object \n",
      " 5   valence_rating_sent  561 non-null    int64  \n",
      " 6   tokenized_sents      561 non-null    object \n",
      " 7   senti_adj            531 non-null    float64\n",
      " 8   senti_noun           543 non-null    float64\n",
      " 9   senti_sent           561 non-null    float64\n",
      "dtypes: float64(3), int64(1), object(6)\n",
      "memory usage: 44.0+ KB\n"
     ]
    }
   ],
   "source": [
    "df.info()"
   ]
  },
  {
   "cell_type": "code",
   "execution_count": 135,
   "metadata": {},
   "outputs": [],
   "source": [
    "df = round(df,3)\n",
    "df_NOM = df.dropna() "
   ]
  },
  {
   "cell_type": "code",
   "execution_count": 136,
   "metadata": {},
   "outputs": [
    {
     "data": {
      "text/plain": [
       "(515, 10)"
      ]
     },
     "execution_count": 136,
     "metadata": {},
     "output_type": "execute_result"
    }
   ],
   "source": [
    "df_NOM.shape"
   ]
  },
  {
   "cell_type": "code",
   "execution_count": 137,
   "metadata": {},
   "outputs": [
    {
     "data": {
      "text/html": [
       "<div>\n",
       "<style scoped>\n",
       "    .dataframe tbody tr th:only-of-type {\n",
       "        vertical-align: middle;\n",
       "    }\n",
       "\n",
       "    .dataframe tbody tr th {\n",
       "        vertical-align: top;\n",
       "    }\n",
       "\n",
       "    .dataframe thead th {\n",
       "        text-align: right;\n",
       "    }\n",
       "</style>\n",
       "<table border=\"1\" class=\"dataframe\">\n",
       "  <thead>\n",
       "    <tr style=\"text-align: right;\">\n",
       "      <th></th>\n",
       "      <th>Satz</th>\n",
       "      <th>noun</th>\n",
       "      <th>polarity_noun</th>\n",
       "      <th>adjective</th>\n",
       "      <th>polarity_adj</th>\n",
       "      <th>valence_rating_sent</th>\n",
       "      <th>tokenized_sents</th>\n",
       "      <th>senti_adj</th>\n",
       "      <th>senti_noun</th>\n",
       "      <th>senti_sent</th>\n",
       "    </tr>\n",
       "  </thead>\n",
       "  <tbody>\n",
       "    <tr>\n",
       "      <th>0</th>\n",
       "      <td>Die Biene ist aktiv.</td>\n",
       "      <td>Biene</td>\n",
       "      <td>positiv</td>\n",
       "      <td>aktiv</td>\n",
       "      <td>positiv</td>\n",
       "      <td>4</td>\n",
       "      <td>[Die, Biene, ist, aktiv, .]</td>\n",
       "      <td>1.209</td>\n",
       "      <td>0.942</td>\n",
       "      <td>0.806</td>\n",
       "    </tr>\n",
       "    <tr>\n",
       "      <th>1</th>\n",
       "      <td>Die Brautjungfer ist amüsant.</td>\n",
       "      <td>Brautjungfer</td>\n",
       "      <td>positiv</td>\n",
       "      <td>amüsant</td>\n",
       "      <td>positiv</td>\n",
       "      <td>7</td>\n",
       "      <td>[Die, Brautjungfer, ist, amüsant, .]</td>\n",
       "      <td>0.697</td>\n",
       "      <td>0.922</td>\n",
       "      <td>0.628</td>\n",
       "    </tr>\n",
       "    <tr>\n",
       "      <th>2</th>\n",
       "      <td>Der Garten ist berühmt.</td>\n",
       "      <td>Garten</td>\n",
       "      <td>positiv</td>\n",
       "      <td>berühmt</td>\n",
       "      <td>positiv</td>\n",
       "      <td>6</td>\n",
       "      <td>[Der, Garten, ist, berühmt, .]</td>\n",
       "      <td>1.229</td>\n",
       "      <td>2.335</td>\n",
       "      <td>1.277</td>\n",
       "    </tr>\n",
       "    <tr>\n",
       "      <th>3</th>\n",
       "      <td>Der Gewinn ist süß.</td>\n",
       "      <td>Gewinn</td>\n",
       "      <td>positiv</td>\n",
       "      <td>süß</td>\n",
       "      <td>positiv</td>\n",
       "      <td>7</td>\n",
       "      <td>[Der, Gewinn, ist, süß, .]</td>\n",
       "      <td>0.676</td>\n",
       "      <td>0.349</td>\n",
       "      <td>0.431</td>\n",
       "    </tr>\n",
       "    <tr>\n",
       "      <th>4</th>\n",
       "      <td>Der Künstler ist gutmütig.</td>\n",
       "      <td>Künstler</td>\n",
       "      <td>positiv</td>\n",
       "      <td>gutmütig</td>\n",
       "      <td>positiv</td>\n",
       "      <td>6</td>\n",
       "      <td>[Der, Künstler, ist, gutmütig, .]</td>\n",
       "      <td>0.164</td>\n",
       "      <td>1.802</td>\n",
       "      <td>0.744</td>\n",
       "    </tr>\n",
       "  </tbody>\n",
       "</table>\n",
       "</div>"
      ],
      "text/plain": [
       "                            Satz          noun polarity_noun adjective  \\\n",
       "0           Die Biene ist aktiv.         Biene       positiv     aktiv   \n",
       "1  Die Brautjungfer ist amüsant.  Brautjungfer       positiv   amüsant   \n",
       "2        Der Garten ist berühmt.        Garten       positiv   berühmt   \n",
       "3            Der Gewinn ist süß.        Gewinn       positiv       süß   \n",
       "4     Der Künstler ist gutmütig.      Künstler       positiv  gutmütig   \n",
       "\n",
       "  polarity_adj  valence_rating_sent                       tokenized_sents  \\\n",
       "0      positiv                    4           [Die, Biene, ist, aktiv, .]   \n",
       "1      positiv                    7  [Die, Brautjungfer, ist, amüsant, .]   \n",
       "2      positiv                    6        [Der, Garten, ist, berühmt, .]   \n",
       "3      positiv                    7            [Der, Gewinn, ist, süß, .]   \n",
       "4      positiv                    6     [Der, Künstler, ist, gutmütig, .]   \n",
       "\n",
       "   senti_adj  senti_noun  senti_sent  \n",
       "0      1.209       0.942       0.806  \n",
       "1      0.697       0.922       0.628  \n",
       "2      1.229       2.335       1.277  \n",
       "3      0.676       0.349       0.431  \n",
       "4      0.164       1.802       0.744  "
      ]
     },
     "execution_count": 137,
     "metadata": {},
     "output_type": "execute_result"
    }
   ],
   "source": [
    "df_NOM.head()"
   ]
  },
  {
   "cell_type": "code",
   "execution_count": null,
   "metadata": {},
   "outputs": [],
   "source": []
  },
  {
   "cell_type": "markdown",
   "metadata": {},
   "source": [
    "# Detecting the influence of the noun polarity and adj polarity on the polarity of the sentence according to the computation of SentiArt"
   ]
  },
  {
   "cell_type": "markdown",
   "metadata": {},
   "source": [
    "The Correlation"
   ]
  },
  {
   "cell_type": "code",
   "execution_count": 138,
   "metadata": {},
   "outputs": [
    {
     "data": {
      "text/html": [
       "<div>\n",
       "<style scoped>\n",
       "    .dataframe tbody tr th:only-of-type {\n",
       "        vertical-align: middle;\n",
       "    }\n",
       "\n",
       "    .dataframe tbody tr th {\n",
       "        vertical-align: top;\n",
       "    }\n",
       "\n",
       "    .dataframe thead th {\n",
       "        text-align: right;\n",
       "    }\n",
       "</style>\n",
       "<table border=\"1\" class=\"dataframe\">\n",
       "  <thead>\n",
       "    <tr style=\"text-align: right;\">\n",
       "      <th></th>\n",
       "      <th>senti_adj</th>\n",
       "      <th>senti_noun</th>\n",
       "      <th>senti_sent</th>\n",
       "    </tr>\n",
       "  </thead>\n",
       "  <tbody>\n",
       "    <tr>\n",
       "      <th>senti_adj</th>\n",
       "      <td>1.000000</td>\n",
       "      <td>0.042373</td>\n",
       "      <td>0.759809</td>\n",
       "    </tr>\n",
       "    <tr>\n",
       "      <th>senti_noun</th>\n",
       "      <td>0.042373</td>\n",
       "      <td>1.000000</td>\n",
       "      <td>0.681723</td>\n",
       "    </tr>\n",
       "    <tr>\n",
       "      <th>senti_sent</th>\n",
       "      <td>0.759809</td>\n",
       "      <td>0.681723</td>\n",
       "      <td>1.000000</td>\n",
       "    </tr>\n",
       "  </tbody>\n",
       "</table>\n",
       "</div>"
      ],
      "text/plain": [
       "            senti_adj  senti_noun  senti_sent\n",
       "senti_adj    1.000000    0.042373    0.759809\n",
       "senti_noun   0.042373    1.000000    0.681723\n",
       "senti_sent   0.759809    0.681723    1.000000"
      ]
     },
     "execution_count": 138,
     "metadata": {},
     "output_type": "execute_result"
    }
   ],
   "source": [
    "df_NOM[[\"senti_adj\", \"senti_noun\", \"senti_sent\"]].corr()"
   ]
  },
  {
   "cell_type": "code",
   "execution_count": 139,
   "metadata": {},
   "outputs": [
    {
     "data": {
      "image/png": "[encoded data removed]",
      "text/plain": [
       "<Figure size 432x288 with 2 Axes>"
      ]
     },
     "metadata": {
      "needs_background": "light"
     },
     "output_type": "display_data"
    }
   ],
   "source": [
    "corrMatrix_s = df_NOM[[\"senti_adj\", \"senti_noun\", \"senti_sent\"]].corr()\n",
    "sns.heatmap(corrMatrix_s, annot=True, cmap=\"YlGnBu\")\n",
    "plt.show()"
   ]
  },
  {
   "cell_type": "code",
   "execution_count": 140,
   "metadata": {},
   "outputs": [
    {
     "data": {
      "text/plain": [
       "valence_rating_sent  polarity_noun\n",
       "1                    negativ          20\n",
       "                     positiv          15\n",
       "2                    negativ          47\n",
       "                     positiv          31\n",
       "3                    negativ          50\n",
       "                     positiv          31\n",
       "4                    negativ          51\n",
       "                     positiv          40\n",
       "5                    negativ          52\n",
       "                     positiv          42\n",
       "6                    negativ          19\n",
       "                     positiv          47\n",
       "7                    negativ          15\n",
       "                     positiv          32\n",
       "8                    negativ           1\n",
       "                     positiv          21\n",
       "9                    positiv           1\n",
       "Name: valence_rating_sent, dtype: int64"
      ]
     },
     "execution_count": 140,
     "metadata": {},
     "output_type": "execute_result"
    }
   ],
   "source": [
    "df_NOM.groupby([\"valence_rating_sent\", \"polarity_noun\"])[\"valence_rating_sent\"].count()"
   ]
  },
  {
   "cell_type": "code",
   "execution_count": 141,
   "metadata": {},
   "outputs": [
    {
     "data": {
      "text/plain": [
       "valence_rating_sent  polarity_adj\n",
       "1                    negativ         29\n",
       "                     neutral          3\n",
       "                     positiv          3\n",
       "2                    negativ         57\n",
       "                     neutral         13\n",
       "                     positiv          8\n",
       "3                    negativ         39\n",
       "                     neutral         31\n",
       "                     positiv         11\n",
       "4                    negativ         25\n",
       "                     neutral         47\n",
       "                     positiv         19\n",
       "5                    negativ         16\n",
       "                     neutral         41\n",
       "                     positiv         37\n",
       "6                    negativ          7\n",
       "                     neutral         16\n",
       "                     positiv         43\n",
       "7                    neutral         13\n",
       "                     positiv         34\n",
       "8                    neutral          2\n",
       "                     positiv         20\n",
       "9                    positiv          1\n",
       "Name: valence_rating_sent, dtype: int64"
      ]
     },
     "execution_count": 141,
     "metadata": {},
     "output_type": "execute_result"
    }
   ],
   "source": [
    "df_NOM.groupby([\"valence_rating_sent\", \"polarity_adj\"])[\"valence_rating_sent\"].count()"
   ]
  },
  {
   "cell_type": "code",
   "execution_count": null,
   "metadata": {},
   "outputs": [],
   "source": []
  },
  {
   "cell_type": "markdown",
   "metadata": {},
   "source": [
    "Regression Analysis"
   ]
  },
  {
   "cell_type": "code",
   "execution_count": 142,
   "metadata": {},
   "outputs": [],
   "source": [
    "from sklearn.linear_model import LinearRegression"
   ]
  },
  {
   "cell_type": "code",
   "execution_count": 143,
   "metadata": {},
   "outputs": [],
   "source": [
    "x = df_NOM.iloc[:, 7:9].values"
   ]
  },
  {
   "cell_type": "code",
   "execution_count": 144,
   "metadata": {},
   "outputs": [],
   "source": [
    "# Output values \n",
    "y = df_NOM.iloc[:, 9].values  \n",
    "y1 = y \n",
    "y1 = y1.reshape(-1, 1) "
   ]
  },
  {
   "cell_type": "code",
   "execution_count": 145,
   "metadata": {},
   "outputs": [
    {
     "name": "stdout",
     "output_type": "stream",
     "text": [
      "coefficient of determination: 0.9999534278174739\n"
     ]
    }
   ],
   "source": [
    "model = LinearRegression().fit(x, y)\n",
    "r_sq = model.score(x, y)\n",
    "print('coefficient of determination:', r_sq) #R**2"
   ]
  },
  {
   "cell_type": "code",
   "execution_count": 146,
   "metadata": {},
   "outputs": [
    {
     "name": "stdout",
     "output_type": "stream",
     "text": [
      "intercept: 0.08919168484627149\n"
     ]
    }
   ],
   "source": [
    "print('intercept:', model.intercept_)"
   ]
  },
  {
   "cell_type": "code",
   "execution_count": 147,
   "metadata": {},
   "outputs": [
    {
     "name": "stdout",
     "output_type": "stream",
     "text": [
      "slope: [0.33333491 0.33308546]\n"
     ]
    }
   ],
   "source": [
    "print('slope:', model.coef_)"
   ]
  },
  {
   "cell_type": "code",
   "execution_count": null,
   "metadata": {},
   "outputs": [],
   "source": []
  },
  {
   "cell_type": "markdown",
   "metadata": {},
   "source": [
    "# Evaluating the Performance of SentiArt\n",
    "\n",
    "* The Valence of the sentence after Converting the APPz scores into 9 categories "
   ]
  },
  {
   "cell_type": "code",
   "execution_count": 148,
   "metadata": {},
   "outputs": [
    {
     "name": "stderr",
     "output_type": "stream",
     "text": [
      "<ipython-input-148-59bdf83a2c36>:1: SettingWithCopyWarning: \n",
      "A value is trying to be set on a copy of a slice from a DataFrame.\n",
      "Try using .loc[row_indexer,col_indexer] = value instead\n",
      "\n",
      "See the caveats in the documentation: https://pandas.pydata.org/pandas-docs/stable/user_guide/indexing.html#returning-a-view-versus-a-copy\n",
      "  df_NOM[\"score\"] = pd.cut(df_NOM[\"senti_sent\"], bins=9, labels=[1, 2, 3, 4, 5, 6, 7, 8, 9])\n"
     ]
    }
   ],
   "source": [
    "df_NOM[\"score\"] = pd.cut(df_NOM[\"senti_sent\"], bins=9, labels=[1, 2, 3, 4, 5, 6, 7, 8, 9])"
   ]
  },
  {
   "cell_type": "code",
   "execution_count": 149,
   "metadata": {},
   "outputs": [
    {
     "data": {
      "text/plain": [
       "5    114\n",
       "4    109\n",
       "6     98\n",
       "3     70\n",
       "7     52\n",
       "2     37\n",
       "8     22\n",
       "1     10\n",
       "9      3\n",
       "Name: score, dtype: int64"
      ]
     },
     "execution_count": 149,
     "metadata": {},
     "output_type": "execute_result"
    }
   ],
   "source": [
    "df_NOM.score.value_counts()"
   ]
  },
  {
   "cell_type": "code",
   "execution_count": 150,
   "metadata": {},
   "outputs": [
    {
     "data": {
      "text/plain": [
       "Text(0, 0.5, 'Label')"
      ]
     },
     "execution_count": 150,
     "metadata": {},
     "output_type": "execute_result"
    },
    {
     "data": {
      "image/png": "[encoded data removed]",
      "text/plain": [
       "<Figure size 432x288 with 1 Axes>"
      ]
     },
     "metadata": {
      "needs_background": "light"
     },
     "output_type": "display_data"
    }
   ],
   "source": [
    "ax = df_NOM.score.value_counts(sort=False).plot(kind=\"barh\")\n",
    "ax.set_xlabel(\"Number of Samples, SentiArt\")\n",
    "ax.set_ylabel(\"Label\")"
   ]
  },
  {
   "cell_type": "code",
   "execution_count": 151,
   "metadata": {},
   "outputs": [
    {
     "data": {
      "text/plain": [
       "Text(0, 0.5, 'Label')"
      ]
     },
     "execution_count": 151,
     "metadata": {},
     "output_type": "execute_result"
    },
    {
     "data": {
      "image/png": "[encoded data removed]",
      "text/plain": [
       "<Figure size 432x288 with 1 Axes>"
      ]
     },
     "metadata": {
      "needs_background": "light"
     },
     "output_type": "display_data"
    }
   ],
   "source": [
    "ax = df_NOM.valence_rating_sent.value_counts(sort=False).plot(kind=\"barh\")\n",
    "ax.set_xlabel(\"Number of Samples\")\n",
    "ax.set_ylabel(\"Label\")"
   ]
  },
  {
   "cell_type": "code",
   "execution_count": 152,
   "metadata": {},
   "outputs": [
    {
     "data": {
      "text/html": [
       "<div>\n",
       "<style scoped>\n",
       "    .dataframe tbody tr th:only-of-type {\n",
       "        vertical-align: middle;\n",
       "    }\n",
       "\n",
       "    .dataframe tbody tr th {\n",
       "        vertical-align: top;\n",
       "    }\n",
       "\n",
       "    .dataframe thead th {\n",
       "        text-align: right;\n",
       "    }\n",
       "</style>\n",
       "<table border=\"1\" class=\"dataframe\">\n",
       "  <thead>\n",
       "    <tr style=\"text-align: right;\">\n",
       "      <th></th>\n",
       "      <th>Satz</th>\n",
       "      <th>noun</th>\n",
       "      <th>polarity_noun</th>\n",
       "      <th>adjective</th>\n",
       "      <th>polarity_adj</th>\n",
       "      <th>valence_rating_sent</th>\n",
       "      <th>tokenized_sents</th>\n",
       "      <th>senti_adj</th>\n",
       "      <th>senti_noun</th>\n",
       "      <th>senti_sent</th>\n",
       "      <th>score</th>\n",
       "    </tr>\n",
       "  </thead>\n",
       "  <tbody>\n",
       "    <tr>\n",
       "      <th>28</th>\n",
       "      <td>Der Gesang ist anmutig.</td>\n",
       "      <td>Gesang</td>\n",
       "      <td>positiv</td>\n",
       "      <td>anmutig</td>\n",
       "      <td>positiv</td>\n",
       "      <td>8</td>\n",
       "      <td>[Der, Gesang, ist, anmutig, .]</td>\n",
       "      <td>2.867</td>\n",
       "      <td>2.232</td>\n",
       "      <td>1.789</td>\n",
       "      <td>9</td>\n",
       "    </tr>\n",
       "    <tr>\n",
       "      <th>61</th>\n",
       "      <td>Die Orchidee ist makellos.</td>\n",
       "      <td>Orchidee</td>\n",
       "      <td>positiv</td>\n",
       "      <td>makellos</td>\n",
       "      <td>positiv</td>\n",
       "      <td>5</td>\n",
       "      <td>[Die, Orchidee, ist, makellos, .]</td>\n",
       "      <td>2.212</td>\n",
       "      <td>2.355</td>\n",
       "      <td>1.611</td>\n",
       "      <td>9</td>\n",
       "    </tr>\n",
       "    <tr>\n",
       "      <th>63</th>\n",
       "      <td>Der Geburtstag ist wunderschön.</td>\n",
       "      <td>Geburtstag</td>\n",
       "      <td>positiv</td>\n",
       "      <td>wunderschön</td>\n",
       "      <td>positiv</td>\n",
       "      <td>7</td>\n",
       "      <td>[Der, Geburtstag, ist, wunderschön, .]</td>\n",
       "      <td>3.256</td>\n",
       "      <td>0.942</td>\n",
       "      <td>1.488</td>\n",
       "      <td>9</td>\n",
       "    </tr>\n",
       "  </tbody>\n",
       "</table>\n",
       "</div>"
      ],
      "text/plain": [
       "                               Satz        noun polarity_noun    adjective  \\\n",
       "28          Der Gesang ist anmutig.      Gesang       positiv      anmutig   \n",
       "61       Die Orchidee ist makellos.    Orchidee       positiv     makellos   \n",
       "63  Der Geburtstag ist wunderschön.  Geburtstag       positiv  wunderschön   \n",
       "\n",
       "   polarity_adj  valence_rating_sent                         tokenized_sents  \\\n",
       "28      positiv                    8          [Der, Gesang, ist, anmutig, .]   \n",
       "61      positiv                    5       [Die, Orchidee, ist, makellos, .]   \n",
       "63      positiv                    7  [Der, Geburtstag, ist, wunderschön, .]   \n",
       "\n",
       "    senti_adj  senti_noun  senti_sent score  \n",
       "28      2.867       2.232       1.789     9  \n",
       "61      2.212       2.355       1.611     9  \n",
       "63      3.256       0.942       1.488     9  "
      ]
     },
     "execution_count": 152,
     "metadata": {},
     "output_type": "execute_result"
    }
   ],
   "source": [
    "df_NOM[df_NOM[\"score\"] == 9]"
   ]
  },
  {
   "cell_type": "code",
   "execution_count": 153,
   "metadata": {},
   "outputs": [
    {
     "data": {
      "text/html": [
       "<div>\n",
       "<style scoped>\n",
       "    .dataframe tbody tr th:only-of-type {\n",
       "        vertical-align: middle;\n",
       "    }\n",
       "\n",
       "    .dataframe tbody tr th {\n",
       "        vertical-align: top;\n",
       "    }\n",
       "\n",
       "    .dataframe thead th {\n",
       "        text-align: right;\n",
       "    }\n",
       "</style>\n",
       "<table border=\"1\" class=\"dataframe\">\n",
       "  <thead>\n",
       "    <tr style=\"text-align: right;\">\n",
       "      <th></th>\n",
       "      <th>Satz</th>\n",
       "      <th>noun</th>\n",
       "      <th>polarity_noun</th>\n",
       "      <th>adjective</th>\n",
       "      <th>polarity_adj</th>\n",
       "      <th>valence_rating_sent</th>\n",
       "      <th>tokenized_sents</th>\n",
       "      <th>senti_adj</th>\n",
       "      <th>senti_noun</th>\n",
       "      <th>senti_sent</th>\n",
       "      <th>score</th>\n",
       "    </tr>\n",
       "  </thead>\n",
       "  <tbody>\n",
       "    <tr>\n",
       "      <th>41</th>\n",
       "      <td>Die Kellnerin ist dankbar.</td>\n",
       "      <td>Kellnerin</td>\n",
       "      <td>positiv</td>\n",
       "      <td>dankbar</td>\n",
       "      <td>positiv</td>\n",
       "      <td>9</td>\n",
       "      <td>[Die, Kellnerin, ist, dankbar, .]</td>\n",
       "      <td>1.147</td>\n",
       "      <td>0.226</td>\n",
       "      <td>0.546</td>\n",
       "      <td>6</td>\n",
       "    </tr>\n",
       "  </tbody>\n",
       "</table>\n",
       "</div>"
      ],
      "text/plain": [
       "                          Satz       noun polarity_noun adjective  \\\n",
       "41  Die Kellnerin ist dankbar.  Kellnerin       positiv   dankbar   \n",
       "\n",
       "   polarity_adj  valence_rating_sent                    tokenized_sents  \\\n",
       "41      positiv                    9  [Die, Kellnerin, ist, dankbar, .]   \n",
       "\n",
       "    senti_adj  senti_noun  senti_sent score  \n",
       "41      1.147       0.226       0.546     6  "
      ]
     },
     "execution_count": 153,
     "metadata": {},
     "output_type": "execute_result"
    }
   ],
   "source": [
    "df_NOM[df_NOM[\"valence_rating_sent\"] == 9]"
   ]
  },
  {
   "cell_type": "code",
   "execution_count": 154,
   "metadata": {},
   "outputs": [],
   "source": [
    "def print_accuracy(df, pred_column):\n",
    "    \"Print f1 score and accuracy after making predictions\"\n",
    "    f1_macro = f1_score(df[\"valence_rating_sent\"], df[pred_column], average='macro')\n",
    "    acc = accuracy_score(df[\"valence_rating_sent\"], df[pred_column])*100\n",
    "    return f1_macro, acc"
   ]
  },
  {
   "cell_type": "code",
   "execution_count": 155,
   "metadata": {},
   "outputs": [
    {
     "name": "stdout",
     "output_type": "stream",
     "text": [
      "Macro F1-score: 0.158\n",
      "Accuracy: 19.223\n"
     ]
    }
   ],
   "source": [
    "# Get model accuracy and f1 score\n",
    "acc = print_accuracy(df_NOM, \"score\")\n",
    "print(\"Macro F1-score: {}\\nAccuracy: {}\".format(round(acc[0], 3), round(acc[1], 3)))"
   ]
  },
  {
   "cell_type": "code",
   "execution_count": 156,
   "metadata": {},
   "outputs": [
    {
     "data": {
      "image/png": "[encoded data removed]",
      "text/plain": [
       "<Figure size 432x432 with 2 Axes>"
      ]
     },
     "metadata": {
      "needs_background": "light"
     },
     "output_type": "display_data"
    }
   ],
   "source": [
    "confusion_matrix = metrics.confusion_matrix(df_NOM.valence_rating_sent, df_NOM.score)\n",
    "f,ax = plt.subplots(figsize=(6,6))\n",
    "sns.heatmap(confusion_matrix, annot=True, linewidths=.5, fmt= 'd',ax=ax, cmap=\"YlGnBu\");\n",
    "plt.xlabel(\"true label\");\n",
    "plt.ylabel(\"predictions\");"
   ]
  },
  {
   "cell_type": "code",
   "execution_count": null,
   "metadata": {},
   "outputs": [],
   "source": []
  },
  {
   "cell_type": "markdown",
   "metadata": {},
   "source": [
    "* The Valence of the nouns and adjectives"
   ]
  },
  {
   "cell_type": "code",
   "execution_count": 158,
   "metadata": {},
   "outputs": [
    {
     "name": "stderr",
     "output_type": "stream",
     "text": [
      "<ipython-input-158-fdf05fcb6535>:1: SettingWithCopyWarning: \n",
      "A value is trying to be set on a copy of a slice from a DataFrame.\n",
      "Try using .loc[row_indexer,col_indexer] = value instead\n",
      "\n",
      "See the caveats in the documentation: https://pandas.pydata.org/pandas-docs/stable/user_guide/indexing.html#returning-a-view-versus-a-copy\n",
      "  df_NOM[\"senti_noun\"] = np.where((df_NOM[\"senti_noun\"] <= -0.05), \"negativ\", np.where((df_NOM[\"senti_noun\"] >= 0.05),\"positiv\", \"neutral\"))\n"
     ]
    }
   ],
   "source": [
    "df_NOM[\"senti_noun\"] = np.where((df_NOM[\"senti_noun\"] <= -0.05), \"negativ\", np.where((df_NOM[\"senti_noun\"] >= 0.05),\"positiv\", \"neutral\"))"
   ]
  },
  {
   "cell_type": "code",
   "execution_count": 159,
   "metadata": {},
   "outputs": [
    {
     "name": "stderr",
     "output_type": "stream",
     "text": [
      "<ipython-input-159-ffe05824ef14>:1: SettingWithCopyWarning: \n",
      "A value is trying to be set on a copy of a slice from a DataFrame.\n",
      "Try using .loc[row_indexer,col_indexer] = value instead\n",
      "\n",
      "See the caveats in the documentation: https://pandas.pydata.org/pandas-docs/stable/user_guide/indexing.html#returning-a-view-versus-a-copy\n",
      "  df_NOM[\"senti_adj\"] = np.where((df_NOM[\"senti_adj\"] < -0.05), \"negativ\", np.where((df_NOM[\"senti_adj\"] > 0.05),\"positiv\", \"neutral\"))\n"
     ]
    }
   ],
   "source": [
    "df_NOM[\"senti_adj\"] = np.where((df_NOM[\"senti_adj\"] < -0.05), \"negativ\", np.where((df_NOM[\"senti_adj\"] > 0.05),\"positiv\", \"neutral\"))"
   ]
  },
  {
   "cell_type": "code",
   "execution_count": 160,
   "metadata": {},
   "outputs": [
    {
     "data": {
      "image/png": "[encoded data removed]",
      "text/plain": [
       "<Figure size 432x288 with 1 Axes>"
      ]
     },
     "metadata": {
      "needs_background": "light"
     },
     "output_type": "display_data"
    }
   ],
   "source": [
    "plt.hist([df_NOM.polarity_adj, df_NOM.senti_adj], label=[\"True\", \"predicted_s\"])\n",
    "plt.legend(loc='upper right')\n",
    "plt.show()"
   ]
  },
  {
   "cell_type": "code",
   "execution_count": 161,
   "metadata": {},
   "outputs": [
    {
     "data": {
      "image/png": "[encoded data removed]",
      "text/plain": [
       "<Figure size 432x288 with 1 Axes>"
      ]
     },
     "metadata": {
      "needs_background": "light"
     },
     "output_type": "display_data"
    }
   ],
   "source": [
    "plt.hist([df_NOM.polarity_noun, df_NOM.senti_noun], label=[\"True\", \"predicted_s\"])\n",
    "plt.legend(loc='upper right')\n",
    "plt.show()"
   ]
  },
  {
   "cell_type": "code",
   "execution_count": 162,
   "metadata": {},
   "outputs": [
    {
     "name": "stdout",
     "output_type": "stream",
     "text": [
      "f1_macro of polarity_adj vs senti_adj is: 0.513\n",
      "accuracy of polarity_adj vs senti_adj is: 63.107 %\n"
     ]
    }
   ],
   "source": [
    "f1_macro = f1_score(df_NOM[\"polarity_adj\"], df_NOM[\"senti_adj\"], average='macro')\n",
    "acc = accuracy_score(df_NOM[\"polarity_adj\"], df_NOM[\"senti_adj\"])*100\n",
    "print(\"f1_macro of polarity_adj vs senti_adj is:\", round(f1_macro, 3))\n",
    "print(\"accuracy of polarity_adj vs senti_adj is:\", round(acc,3), \"%\")"
   ]
  },
  {
   "cell_type": "code",
   "execution_count": 163,
   "metadata": {},
   "outputs": [
    {
     "data": {
      "image/png": "[encoded data removed]",
      "text/plain": [
       "<Figure size 288x288 with 2 Axes>"
      ]
     },
     "metadata": {
      "needs_background": "light"
     },
     "output_type": "display_data"
    }
   ],
   "source": [
    "confusion_matrix = metrics.confusion_matrix(df_NOM[\"polarity_noun\"], df_NOM[\"senti_noun\"])\n",
    "f,ax = plt.subplots(figsize=(4,4))\n",
    "sns.heatmap(confusion_matrix, annot=True, linewidths=.5, fmt= \"d\",ax=ax, cmap=\"YlGnBu\");\n",
    "plt.title(\"confusion matrix\")\n",
    "plt.xlabel(\"true label\");\n",
    "plt.ylabel(\"predictions\");"
   ]
  },
  {
   "cell_type": "code",
   "execution_count": 164,
   "metadata": {},
   "outputs": [
    {
     "name": "stdout",
     "output_type": "stream",
     "text": [
      "f1_macro of polarity_noun vs senti_adj is: 0.617\n",
      "accuracy of polarity_noun vs senti_adj is: 91.262 %\n"
     ]
    }
   ],
   "source": [
    "f1_macro = f1_score(df_NOM[\"polarity_noun\"], df_NOM[\"senti_noun\"], average=\"macro\")\n",
    "acc = accuracy_score(df_NOM[\"polarity_noun\"], df_NOM[\"senti_noun\"])*100\n",
    "print(\"f1_macro of polarity_noun vs senti_adj is:\", round(f1_macro, 3))\n",
    "print(\"accuracy of polarity_noun vs senti_adj is:\", round(acc,3), \"%\")"
   ]
  },
  {
   "cell_type": "code",
   "execution_count": 165,
   "metadata": {},
   "outputs": [
    {
     "data": {
      "image/png": "[encoded data removed]",
      "text/plain": [
       "<Figure size 360x360 with 2 Axes>"
      ]
     },
     "metadata": {
      "needs_background": "light"
     },
     "output_type": "display_data"
    }
   ],
   "source": [
    "confusion_matrix = metrics.confusion_matrix(df_NOM[\"polarity_adj\"], df_NOM[\"senti_adj\"])\n",
    "f,ax = plt.subplots(figsize=(5,5))\n",
    "sns.heatmap(confusion_matrix, annot=True, linewidths=.5, fmt= \"d\",ax=ax, cmap=\"YlGnBu\");\n",
    "plt.title(\"confusion matrix\")\n",
    "plt.xlabel(\"true label\");\n",
    "plt.ylabel(\"predictions\");"
   ]
  },
  {
   "cell_type": "code",
   "execution_count": null,
   "metadata": {},
   "outputs": [],
   "source": []
  },
  {
   "cell_type": "markdown",
   "metadata": {},
   "source": [
    "# EMOLEX"
   ]
  },
  {
   "cell_type": "code",
   "execution_count": 166,
   "metadata": {},
   "outputs": [
    {
     "data": {
      "text/html": [
       "<div>\n",
       "<style scoped>\n",
       "    .dataframe tbody tr th:only-of-type {\n",
       "        vertical-align: middle;\n",
       "    }\n",
       "\n",
       "    .dataframe tbody tr th {\n",
       "        vertical-align: top;\n",
       "    }\n",
       "\n",
       "    .dataframe thead th {\n",
       "        text-align: right;\n",
       "    }\n",
       "</style>\n",
       "<table border=\"1\" class=\"dataframe\">\n",
       "  <thead>\n",
       "    <tr style=\"text-align: right;\">\n",
       "      <th></th>\n",
       "      <th>English (en)</th>\n",
       "      <th>Afrikaans (af)</th>\n",
       "      <th>Albanian (sq)</th>\n",
       "      <th>Amharic (am)</th>\n",
       "      <th>Arabic (ar)</th>\n",
       "      <th>Armenian (hy)</th>\n",
       "      <th>Azeerbaijani (az)</th>\n",
       "      <th>Basque (eu)</th>\n",
       "      <th>Belarusian (be)</th>\n",
       "      <th>Bengali (bn)</th>\n",
       "      <th>...</th>\n",
       "      <th>Positive</th>\n",
       "      <th>Negative</th>\n",
       "      <th>Anger</th>\n",
       "      <th>Anticipation</th>\n",
       "      <th>Disgust</th>\n",
       "      <th>Fear</th>\n",
       "      <th>Joy</th>\n",
       "      <th>Sadness</th>\n",
       "      <th>Surprise</th>\n",
       "      <th>Trust</th>\n",
       "    </tr>\n",
       "  </thead>\n",
       "  <tbody>\n",
       "    <tr>\n",
       "      <th>0</th>\n",
       "      <td>aback</td>\n",
       "      <td>uit die veld geslaan</td>\n",
       "      <td>prapa</td>\n",
       "      <td>ተጭኗል</td>\n",
       "      <td>الى الوراء</td>\n",
       "      <td>շեղում</td>\n",
       "      <td>sanki</td>\n",
       "      <td>aback</td>\n",
       "      <td>ззаду</td>\n",
       "      <td>পশ্চাতে</td>\n",
       "      <td>...</td>\n",
       "      <td>0</td>\n",
       "      <td>0</td>\n",
       "      <td>0</td>\n",
       "      <td>0</td>\n",
       "      <td>0</td>\n",
       "      <td>0</td>\n",
       "      <td>0</td>\n",
       "      <td>0</td>\n",
       "      <td>0</td>\n",
       "      <td>0</td>\n",
       "    </tr>\n",
       "    <tr>\n",
       "      <th>1</th>\n",
       "      <td>abacus</td>\n",
       "      <td>abakus</td>\n",
       "      <td>numërator</td>\n",
       "      <td>abacus</td>\n",
       "      <td>طبلية تاج</td>\n",
       "      <td>անբավարարություն</td>\n",
       "      <td>abacus</td>\n",
       "      <td>abako</td>\n",
       "      <td>абака</td>\n",
       "      <td>গণনা-যন্ত্রবিশেষ</td>\n",
       "      <td>...</td>\n",
       "      <td>0</td>\n",
       "      <td>0</td>\n",
       "      <td>0</td>\n",
       "      <td>0</td>\n",
       "      <td>0</td>\n",
       "      <td>0</td>\n",
       "      <td>0</td>\n",
       "      <td>0</td>\n",
       "      <td>0</td>\n",
       "      <td>1</td>\n",
       "    </tr>\n",
       "    <tr>\n",
       "      <th>2</th>\n",
       "      <td>abandon</td>\n",
       "      <td>verlaat</td>\n",
       "      <td>braktis</td>\n",
       "      <td>ውጣ</td>\n",
       "      <td>تخلى</td>\n",
       "      <td>լքել</td>\n",
       "      <td>tərk et</td>\n",
       "      <td>bertan behera</td>\n",
       "      <td>адмовіцца ад</td>\n",
       "      <td>বর্জিত করা</td>\n",
       "      <td>...</td>\n",
       "      <td>0</td>\n",
       "      <td>1</td>\n",
       "      <td>0</td>\n",
       "      <td>0</td>\n",
       "      <td>0</td>\n",
       "      <td>1</td>\n",
       "      <td>0</td>\n",
       "      <td>1</td>\n",
       "      <td>0</td>\n",
       "      <td>0</td>\n",
       "    </tr>\n",
       "    <tr>\n",
       "      <th>3</th>\n",
       "      <td>abandoned</td>\n",
       "      <td>verlate</td>\n",
       "      <td>braktisur</td>\n",
       "      <td>ተትቷል</td>\n",
       "      <td>مهجور</td>\n",
       "      <td>լքված</td>\n",
       "      <td>tərk etdi</td>\n",
       "      <td>abandonatutako</td>\n",
       "      <td>закінуты</td>\n",
       "      <td>পরিত্যক্ত</td>\n",
       "      <td>...</td>\n",
       "      <td>0</td>\n",
       "      <td>1</td>\n",
       "      <td>1</td>\n",
       "      <td>0</td>\n",
       "      <td>0</td>\n",
       "      <td>1</td>\n",
       "      <td>0</td>\n",
       "      <td>1</td>\n",
       "      <td>0</td>\n",
       "      <td>0</td>\n",
       "    </tr>\n",
       "    <tr>\n",
       "      <th>4</th>\n",
       "      <td>abandonment</td>\n",
       "      <td>verlating</td>\n",
       "      <td>braktisje</td>\n",
       "      <td>ማቋረጥ</td>\n",
       "      <td>التخلي عن</td>\n",
       "      <td>հրաժարվելով</td>\n",
       "      <td>ləğv</td>\n",
       "      <td>abandono</td>\n",
       "      <td>пакіданне</td>\n",
       "      <td>বিসর্জন</td>\n",
       "      <td>...</td>\n",
       "      <td>0</td>\n",
       "      <td>1</td>\n",
       "      <td>1</td>\n",
       "      <td>0</td>\n",
       "      <td>0</td>\n",
       "      <td>1</td>\n",
       "      <td>0</td>\n",
       "      <td>1</td>\n",
       "      <td>1</td>\n",
       "      <td>0</td>\n",
       "    </tr>\n",
       "  </tbody>\n",
       "</table>\n",
       "<p>5 rows × 115 columns</p>\n",
       "</div>"
      ],
      "text/plain": [
       "  English (en)        Afrikaans (af) Albanian (sq) Amharic (am) Arabic (ar)  \\\n",
       "0        aback  uit die veld geslaan         prapa         ተጭኗል  الى الوراء   \n",
       "1       abacus                abakus     numërator       abacus   طبلية تاج   \n",
       "2      abandon               verlaat       braktis           ውጣ        تخلى   \n",
       "3    abandoned               verlate     braktisur         ተትቷል       مهجور   \n",
       "4  abandonment             verlating     braktisje         ማቋረጥ   التخلي عن   \n",
       "\n",
       "      Armenian (hy) Azeerbaijani (az)     Basque (eu) Belarusian (be)  \\\n",
       "0            շեղում             sanki           aback           ззаду   \n",
       "1  անբավարարություն            abacus           abako           абака   \n",
       "2              լքել           tərk et   bertan behera    адмовіцца ад   \n",
       "3             լքված         tərk etdi  abandonatutako        закінуты   \n",
       "4       հրաժարվելով              ləğv        abandono       пакіданне   \n",
       "\n",
       "       Bengali (bn)  ... Positive Negative Anger Anticipation Disgust Fear  \\\n",
       "0           পশ্চাতে  ...        0        0     0            0       0    0   \n",
       "1  গণনা-যন্ত্রবিশেষ  ...        0        0     0            0       0    0   \n",
       "2        বর্জিত করা  ...        0        1     0            0       0    1   \n",
       "3         পরিত্যক্ত  ...        0        1     1            0       0    1   \n",
       "4           বিসর্জন  ...        0        1     1            0       0    1   \n",
       "\n",
       "  Joy Sadness Surprise Trust  \n",
       "0   0       0        0     0  \n",
       "1   0       0        0     1  \n",
       "2   0       1        0     0  \n",
       "3   0       1        0     0  \n",
       "4   0       1        1     0  \n",
       "\n",
       "[5 rows x 115 columns]"
      ]
     },
     "execution_count": 166,
     "metadata": {},
     "output_type": "execute_result"
    }
   ],
   "source": [
    "file =  \"NRC-Emotion-Lexicon-v0.92-In105Languages-Nov2017Translations.xlsx\"\n",
    "emo = pd.read_excel(file)\n",
    "emo.head()"
   ]
  },
  {
   "cell_type": "code",
   "execution_count": 167,
   "metadata": {},
   "outputs": [
    {
     "data": {
      "text/plain": [
       "Index(['English (en)', 'Afrikaans (af)', 'Albanian (sq)', 'Amharic (am)',\n",
       "       'Arabic (ar)', 'Armenian (hy)', 'Azeerbaijani (az)', 'Basque (eu)',\n",
       "       'Belarusian (be)', 'Bengali (bn)',\n",
       "       ...\n",
       "       'Positive', 'Negative', 'Anger', 'Anticipation', 'Disgust', 'Fear',\n",
       "       'Joy', 'Sadness', 'Surprise', 'Trust'],\n",
       "      dtype='object', length=115)"
      ]
     },
     "execution_count": 167,
     "metadata": {},
     "output_type": "execute_result"
    }
   ],
   "source": [
    "emo.columns"
   ]
  },
  {
   "cell_type": "code",
   "execution_count": 168,
   "metadata": {},
   "outputs": [],
   "source": [
    "emo = emo[[\"German (de)\",'Positive', 'Negative']]"
   ]
  },
  {
   "cell_type": "code",
   "execution_count": 169,
   "metadata": {},
   "outputs": [],
   "source": [
    "emo = emo.rename(columns={\"German (de)\":\"de\"})"
   ]
  },
  {
   "cell_type": "code",
   "execution_count": 170,
   "metadata": {},
   "outputs": [
    {
     "data": {
      "text/html": [
       "<div>\n",
       "<style scoped>\n",
       "    .dataframe tbody tr th:only-of-type {\n",
       "        vertical-align: middle;\n",
       "    }\n",
       "\n",
       "    .dataframe tbody tr th {\n",
       "        vertical-align: top;\n",
       "    }\n",
       "\n",
       "    .dataframe thead th {\n",
       "        text-align: right;\n",
       "    }\n",
       "</style>\n",
       "<table border=\"1\" class=\"dataframe\">\n",
       "  <thead>\n",
       "    <tr style=\"text-align: right;\">\n",
       "      <th></th>\n",
       "      <th>de</th>\n",
       "      <th>Positive</th>\n",
       "      <th>Negative</th>\n",
       "    </tr>\n",
       "  </thead>\n",
       "  <tbody>\n",
       "    <tr>\n",
       "      <th>0</th>\n",
       "      <td>zurück</td>\n",
       "      <td>0</td>\n",
       "      <td>0</td>\n",
       "    </tr>\n",
       "    <tr>\n",
       "      <th>1</th>\n",
       "      <td>Abakus</td>\n",
       "      <td>0</td>\n",
       "      <td>0</td>\n",
       "    </tr>\n",
       "    <tr>\n",
       "      <th>2</th>\n",
       "      <td>verlassen</td>\n",
       "      <td>0</td>\n",
       "      <td>1</td>\n",
       "    </tr>\n",
       "    <tr>\n",
       "      <th>3</th>\n",
       "      <td>verlassen</td>\n",
       "      <td>0</td>\n",
       "      <td>1</td>\n",
       "    </tr>\n",
       "    <tr>\n",
       "      <th>4</th>\n",
       "      <td>Aufgabe</td>\n",
       "      <td>0</td>\n",
       "      <td>1</td>\n",
       "    </tr>\n",
       "  </tbody>\n",
       "</table>\n",
       "</div>"
      ],
      "text/plain": [
       "          de  Positive  Negative\n",
       "0     zurück         0         0\n",
       "1     Abakus         0         0\n",
       "2  verlassen         0         1\n",
       "3  verlassen         0         1\n",
       "4    Aufgabe         0         1"
      ]
     },
     "execution_count": 170,
     "metadata": {},
     "output_type": "execute_result"
    }
   ],
   "source": [
    "emo.head()"
   ]
  },
  {
   "cell_type": "code",
   "execution_count": 171,
   "metadata": {},
   "outputs": [
    {
     "data": {
      "text/plain": [
       "(14182, 3)"
      ]
     },
     "execution_count": 171,
     "metadata": {},
     "output_type": "execute_result"
    }
   ],
   "source": [
    "emo.shape"
   ]
  },
  {
   "cell_type": "markdown",
   "metadata": {},
   "source": [
    "# The Hit Rate of EMOLEX (56.933 %)"
   ]
  },
  {
   "cell_type": "code",
   "execution_count": 172,
   "metadata": {},
   "outputs": [
    {
     "name": "stdout",
     "output_type": "stream",
     "text": [
      "14182\n"
     ]
    }
   ],
   "source": [
    "emo_words = []\n",
    "for word in emo[\"de\"]:\n",
    "    emo_words.append(word)\n",
    "print(len(emo_words))"
   ]
  },
  {
   "cell_type": "code",
   "execution_count": 173,
   "metadata": {},
   "outputs": [
    {
     "name": "stdout",
     "output_type": "stream",
     "text": [
      "271\n"
     ]
    }
   ],
   "source": [
    "match_emo = []\n",
    "for word in set(word_list):\n",
    "    if word in emo_words:\n",
    "        match_emo.append(word)\n",
    "print(len(match_emo))"
   ]
  },
  {
   "cell_type": "code",
   "execution_count": 174,
   "metadata": {},
   "outputs": [
    {
     "name": "stdout",
     "output_type": "stream",
     "text": [
      "The hit rate of EmoLex =  56.933 %\n"
     ]
    }
   ],
   "source": [
    "print(\"The hit rate of EmoLex = \", round(len(match_emo)*100/len(set(word_list)),3), \"%\")"
   ]
  },
  {
   "cell_type": "code",
   "execution_count": null,
   "metadata": {},
   "outputs": [],
   "source": []
  },
  {
   "cell_type": "markdown",
   "metadata": {},
   "source": [
    "# Emolex does not match each of Der, Die, Das, and ist, therefore we just evaluated the predicted polarity of the nouns and the adjectives"
   ]
  },
  {
   "cell_type": "code",
   "execution_count": 175,
   "metadata": {},
   "outputs": [
    {
     "data": {
      "text/html": [
       "<div>\n",
       "<style scoped>\n",
       "    .dataframe tbody tr th:only-of-type {\n",
       "        vertical-align: middle;\n",
       "    }\n",
       "\n",
       "    .dataframe tbody tr th {\n",
       "        vertical-align: top;\n",
       "    }\n",
       "\n",
       "    .dataframe thead th {\n",
       "        text-align: right;\n",
       "    }\n",
       "</style>\n",
       "<table border=\"1\" class=\"dataframe\">\n",
       "  <thead>\n",
       "    <tr style=\"text-align: right;\">\n",
       "      <th></th>\n",
       "      <th>de</th>\n",
       "      <th>Positive</th>\n",
       "      <th>Negative</th>\n",
       "    </tr>\n",
       "  </thead>\n",
       "  <tbody>\n",
       "  </tbody>\n",
       "</table>\n",
       "</div>"
      ],
      "text/plain": [
       "Empty DataFrame\n",
       "Columns: [de, Positive, Negative]\n",
       "Index: []"
      ]
     },
     "execution_count": 175,
     "metadata": {},
     "output_type": "execute_result"
    }
   ],
   "source": [
    "emo[emo[\"de\"] == \"der\"]"
   ]
  },
  {
   "cell_type": "code",
   "execution_count": 176,
   "metadata": {},
   "outputs": [
    {
     "data": {
      "text/html": [
       "<div>\n",
       "<style scoped>\n",
       "    .dataframe tbody tr th:only-of-type {\n",
       "        vertical-align: middle;\n",
       "    }\n",
       "\n",
       "    .dataframe tbody tr th {\n",
       "        vertical-align: top;\n",
       "    }\n",
       "\n",
       "    .dataframe thead th {\n",
       "        text-align: right;\n",
       "    }\n",
       "</style>\n",
       "<table border=\"1\" class=\"dataframe\">\n",
       "  <thead>\n",
       "    <tr style=\"text-align: right;\">\n",
       "      <th></th>\n",
       "      <th>de</th>\n",
       "      <th>Positive</th>\n",
       "      <th>Negative</th>\n",
       "    </tr>\n",
       "  </thead>\n",
       "  <tbody>\n",
       "  </tbody>\n",
       "</table>\n",
       "</div>"
      ],
      "text/plain": [
       "Empty DataFrame\n",
       "Columns: [de, Positive, Negative]\n",
       "Index: []"
      ]
     },
     "execution_count": 176,
     "metadata": {},
     "output_type": "execute_result"
    }
   ],
   "source": [
    "emo[emo[\"de\"] == \"das\"]"
   ]
  },
  {
   "cell_type": "code",
   "execution_count": 177,
   "metadata": {},
   "outputs": [
    {
     "data": {
      "text/html": [
       "<div>\n",
       "<style scoped>\n",
       "    .dataframe tbody tr th:only-of-type {\n",
       "        vertical-align: middle;\n",
       "    }\n",
       "\n",
       "    .dataframe tbody tr th {\n",
       "        vertical-align: top;\n",
       "    }\n",
       "\n",
       "    .dataframe thead th {\n",
       "        text-align: right;\n",
       "    }\n",
       "</style>\n",
       "<table border=\"1\" class=\"dataframe\">\n",
       "  <thead>\n",
       "    <tr style=\"text-align: right;\">\n",
       "      <th></th>\n",
       "      <th>de</th>\n",
       "      <th>Positive</th>\n",
       "      <th>Negative</th>\n",
       "    </tr>\n",
       "  </thead>\n",
       "  <tbody>\n",
       "  </tbody>\n",
       "</table>\n",
       "</div>"
      ],
      "text/plain": [
       "Empty DataFrame\n",
       "Columns: [de, Positive, Negative]\n",
       "Index: []"
      ]
     },
     "execution_count": 177,
     "metadata": {},
     "output_type": "execute_result"
    }
   ],
   "source": [
    "emo[emo[\"de\"] == \"die\"]"
   ]
  },
  {
   "cell_type": "code",
   "execution_count": 178,
   "metadata": {},
   "outputs": [
    {
     "data": {
      "text/html": [
       "<div>\n",
       "<style scoped>\n",
       "    .dataframe tbody tr th:only-of-type {\n",
       "        vertical-align: middle;\n",
       "    }\n",
       "\n",
       "    .dataframe tbody tr th {\n",
       "        vertical-align: top;\n",
       "    }\n",
       "\n",
       "    .dataframe thead th {\n",
       "        text-align: right;\n",
       "    }\n",
       "</style>\n",
       "<table border=\"1\" class=\"dataframe\">\n",
       "  <thead>\n",
       "    <tr style=\"text-align: right;\">\n",
       "      <th></th>\n",
       "      <th>de</th>\n",
       "      <th>Positive</th>\n",
       "      <th>Negative</th>\n",
       "    </tr>\n",
       "  </thead>\n",
       "  <tbody>\n",
       "  </tbody>\n",
       "</table>\n",
       "</div>"
      ],
      "text/plain": [
       "Empty DataFrame\n",
       "Columns: [de, Positive, Negative]\n",
       "Index: []"
      ]
     },
     "execution_count": 178,
     "metadata": {},
     "output_type": "execute_result"
    }
   ],
   "source": [
    "emo[emo[\"de\"] == \"ist\"]"
   ]
  },
  {
   "cell_type": "code",
   "execution_count": 179,
   "metadata": {},
   "outputs": [],
   "source": [
    "match_emo_n = []\n",
    "for noun in nouns:\n",
    "    if noun in emo_words:\n",
    "        match_emo_n.append(noun)"
   ]
  },
  {
   "cell_type": "code",
   "execution_count": 180,
   "metadata": {},
   "outputs": [
    {
     "data": {
      "text/plain": [
       "316"
      ]
     },
     "execution_count": 180,
     "metadata": {},
     "output_type": "execute_result"
    }
   ],
   "source": [
    "len(match_emo_n)"
   ]
  },
  {
   "cell_type": "code",
   "execution_count": 181,
   "metadata": {},
   "outputs": [
    {
     "data": {
      "text/plain": [
       "326"
      ]
     },
     "execution_count": 181,
     "metadata": {},
     "output_type": "execute_result"
    }
   ],
   "source": [
    "match_emo_a = []\n",
    "for adj in adjs:\n",
    "    if adj in emo_words:\n",
    "        match_emo_a.append(adj)\n",
    "len(match_emo_a)"
   ]
  },
  {
   "cell_type": "code",
   "execution_count": 182,
   "metadata": {},
   "outputs": [
    {
     "name": "stdout",
     "output_type": "stream",
     "text": [
      "len(test_noun) = 561\n",
      "Counter({'NAN': 275, 'negativ': 102, 'neutral': 96, 'positiv': 88})\n"
     ]
    }
   ],
   "source": [
    "test_noun = []\n",
    "for noun in nouns:\n",
    "    dt = emo.query('de in @noun')\n",
    "    if dt.Positive.mean() == 1:\n",
    "        test_noun.append(\"positiv\")\n",
    "    elif dt.Negative.mean() == 1:\n",
    "        test_noun.append(\"negativ\")\n",
    "    elif dt.Negative.mean() == 0 and dt.Positive.mean() == 0:\n",
    "        test_noun.append(\"neutral\")   \n",
    "    else:\n",
    "        test_noun.append(\"NAN\")\n",
    "\n",
    "print(\"len(test_noun) =\", len(test_noun))\n",
    "print(Counter(test_noun))"
   ]
  },
  {
   "cell_type": "code",
   "execution_count": 183,
   "metadata": {},
   "outputs": [
    {
     "name": "stdout",
     "output_type": "stream",
     "text": [
      "len(test_adj) = 561\n",
      "Counter({'NAN': 278, 'negativ': 133, 'positiv': 98, 'neutral': 52})\n"
     ]
    }
   ],
   "source": [
    "test_adj = []\n",
    "for adj in adjs:\n",
    "    dt = emo.query(\"de in @adj\")\n",
    "    if dt.Positive.mean() == 1:\n",
    "        test_adj.append(\"positiv\")\n",
    "    elif dt.Negative.mean() == 1:\n",
    "        test_adj.append(\"negativ\")\n",
    "    elif dt.Negative.mean() == 0 and dt.Positive.mean() == 0:\n",
    "        test_adj.append(\"neutral\")   \n",
    "    else:\n",
    "        test_adj.append(\"NAN\")\n",
    "        \n",
    "\n",
    "\n",
    "print(\"len(test_adj) =\", len(test_adj))\n",
    "print(Counter(test_adj))"
   ]
  },
  {
   "cell_type": "code",
   "execution_count": 184,
   "metadata": {},
   "outputs": [],
   "source": [
    "df[\"emo_noun\"] = test_noun\n",
    "df[\"emo_adj\"] = test_adj"
   ]
  },
  {
   "cell_type": "code",
   "execution_count": 185,
   "metadata": {},
   "outputs": [],
   "source": [
    "df_emo = df[[\"noun\", \"polarity_noun\", \"emo_noun\", \"adjective\", \"polarity_adj\", \"emo_adj\", \"valence_rating_sent\"]]"
   ]
  },
  {
   "cell_type": "code",
   "execution_count": 186,
   "metadata": {},
   "outputs": [
    {
     "data": {
      "image/png": "[encoded data removed]",
      "text/plain": [
       "<Figure size 432x288 with 1 Axes>"
      ]
     },
     "metadata": {
      "needs_background": "light"
     },
     "output_type": "display_data"
    }
   ],
   "source": [
    "plt.hist([df_emo.polarity_adj, df_emo.emo_adj], label=[\"True\", \"predicted_e\"])\n",
    "plt.legend(loc='upper right')\n",
    "plt.show()"
   ]
  },
  {
   "cell_type": "code",
   "execution_count": 187,
   "metadata": {},
   "outputs": [
    {
     "data": {
      "image/png": "[encoded data removed]",
      "text/plain": [
       "<Figure size 432x288 with 1 Axes>"
      ]
     },
     "metadata": {
      "needs_background": "light"
     },
     "output_type": "display_data"
    }
   ],
   "source": [
    "plt.hist([df_emo.polarity_noun, df_emo.emo_noun], label=[\"True\", \"predicted_e\"])\n",
    "plt.legend(loc='upper right')\n",
    "plt.show()"
   ]
  },
  {
   "cell_type": "code",
   "execution_count": null,
   "metadata": {},
   "outputs": [],
   "source": []
  },
  {
   "cell_type": "code",
   "execution_count": 188,
   "metadata": {},
   "outputs": [
    {
     "data": {
      "text/plain": [
       "(286, 7)"
      ]
     },
     "execution_count": 188,
     "metadata": {},
     "output_type": "execute_result"
    }
   ],
   "source": [
    "df_noun = df_emo.copy()\n",
    "indexNames = df_noun[ df_noun[\"emo_noun\"] == \"NAN\" ].index\n",
    "df_noun.drop(indexNames , inplace=True)\n",
    "df_noun.shape"
   ]
  },
  {
   "cell_type": "code",
   "execution_count": 189,
   "metadata": {},
   "outputs": [
    {
     "name": "stdout",
     "output_type": "stream",
     "text": [
      "f1_macro of polarity_noun vs emo_noun is: 0.5\n",
      "accuracy of polarity_noun vs emo_noun is: 62.238 %\n"
     ]
    }
   ],
   "source": [
    "f1_macro = f1_score(df_noun[\"polarity_noun\"], df_noun[\"emo_noun\"], average=\"macro\")\n",
    "acc = accuracy_score(df_noun[\"polarity_noun\"], df_noun[\"emo_noun\"])*100\n",
    "print(\"f1_macro of polarity_noun vs emo_noun is:\", round(f1_macro, 3))\n",
    "print(\"accuracy of polarity_noun vs emo_noun is:\", round(acc,3), \"%\")"
   ]
  },
  {
   "cell_type": "code",
   "execution_count": 190,
   "metadata": {},
   "outputs": [
    {
     "data": {
      "text/plain": [
       "(283, 7)"
      ]
     },
     "execution_count": 190,
     "metadata": {},
     "output_type": "execute_result"
    }
   ],
   "source": [
    "df_adj = df_emo.copy()\n",
    "indexNames = df_adj[ df_adj[\"emo_adj\"] == \"NAN\" ].index\n",
    "df_adj.drop(indexNames , inplace=True)\n",
    "df_adj.shape"
   ]
  },
  {
   "cell_type": "code",
   "execution_count": 191,
   "metadata": {},
   "outputs": [
    {
     "name": "stdout",
     "output_type": "stream",
     "text": [
      "f1_macro of polarity_adj vs emo_adj is: 0.765\n",
      "accuracy of polarity_adj vs emo_adj is: 78.799 %\n"
     ]
    }
   ],
   "source": [
    "f1_macro = f1_score(df_adj[\"polarity_adj\"], df_adj[\"emo_adj\"], average=\"macro\")\n",
    "acc = accuracy_score(df_adj[\"polarity_adj\"], df_adj[\"emo_adj\"])*100\n",
    "print(\"f1_macro of polarity_adj vs emo_adj is:\", round(f1_macro, 3))\n",
    "print(\"accuracy of polarity_adj vs emo_adj is:\", round(acc,3), \"%\")"
   ]
  },
  {
   "cell_type": "code",
   "execution_count": null,
   "metadata": {},
   "outputs": [],
   "source": []
  },
  {
   "cell_type": "markdown",
   "metadata": {},
   "source": [
    "# After removing both of the missing nouns and adjectives"
   ]
  },
  {
   "cell_type": "code",
   "execution_count": 192,
   "metadata": {},
   "outputs": [
    {
     "data": {
      "text/plain": [
       "(150, 7)"
      ]
     },
     "execution_count": 192,
     "metadata": {},
     "output_type": "execute_result"
    }
   ],
   "source": [
    "df_clean = df_adj.copy()\n",
    "indexNames = df_clean[ df_clean[\"emo_noun\"] == \"NAN\" ].index\n",
    "df_clean.drop(indexNames , inplace=True)\n",
    "df_clean.shape"
   ]
  },
  {
   "cell_type": "code",
   "execution_count": 193,
   "metadata": {},
   "outputs": [
    {
     "name": "stdout",
     "output_type": "stream",
     "text": [
      "f1_macro of polarity_noun vs emo_noun is: 0.526\n",
      "accuracy of polarity_noun vs emo_noun is: 66.667 %\n"
     ]
    }
   ],
   "source": [
    "f1_macro = f1_score(df_clean[\"polarity_noun\"], df_clean[\"emo_noun\"], average=\"macro\")\n",
    "acc = accuracy_score(df_clean[\"polarity_noun\"], df_clean[\"emo_noun\"])*100\n",
    "print(\"f1_macro of polarity_noun vs emo_noun is:\", round(f1_macro, 3))\n",
    "print(\"accuracy of polarity_noun vs emo_noun is:\", round(acc,3), \"%\")"
   ]
  },
  {
   "cell_type": "code",
   "execution_count": 194,
   "metadata": {},
   "outputs": [
    {
     "name": "stdout",
     "output_type": "stream",
     "text": [
      "f1_macro of polarity_adj vs emo_adj is: 0.749\n",
      "accuracy of polarity_adj vs emo_adj is: 78.667 %\n"
     ]
    }
   ],
   "source": [
    "f1_macro = f1_score(df_clean[\"polarity_adj\"], df_clean[\"emo_adj\"], average= \"macro\")\n",
    "acc = accuracy_score(df_clean[\"polarity_adj\"], df_clean[\"emo_adj\"])*100\n",
    "print(\"f1_macro of polarity_adj vs emo_adj is:\", round(f1_macro, 3))\n",
    "print(\"accuracy of polarity_adj vs emo_adj is:\", round(acc,3), \"%\")\n"
   ]
  },
  {
   "cell_type": "code",
   "execution_count": null,
   "metadata": {},
   "outputs": [],
   "source": []
  }
 ],
 "metadata": {
  "kernelspec": {
   "display_name": "Python 3",
   "language": "python",
   "name": "python3"
  },
  "language_info": {
   "codemirror_mode": {
    "name": "ipython",
    "version": 3
   },
   "file_extension": ".py",
   "mimetype": "text/x-python",
   "name": "python",
   "nbconvert_exporter": "python",
   "pygments_lexer": "ipython3",
   "version": "3.8.5"
  }
 },
 "nbformat": 4,
 "nbformat_minor": 4
}
