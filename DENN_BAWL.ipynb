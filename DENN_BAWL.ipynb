{
 "cells": [
  {
   "cell_type": "code",
   "execution_count": 85,
   "metadata": {},
   "outputs": [],
   "source": [
    "import pandas as pd\n",
    "import seaborn as sns\n",
    "from sklearn.metrics import f1_score, accuracy_score\n",
    "import numpy as np \n",
    "import matplotlib.pyplot as plt\n",
    "from sklearn import metrics\n",
    "from collections import Counter\n",
    "from scipy import stats"
   ]
  },
  {
   "cell_type": "markdown",
   "metadata": {},
   "source": [
    "# Data Cleaning and Exploration"
   ]
  },
  {
   "cell_type": "code",
   "execution_count": 86,
   "metadata": {},
   "outputs": [],
   "source": [
    "df = pd.read_csv(\"denn_bawl_german.txt\",  sep= ',', header= 0)"
   ]
  },
  {
   "cell_type": "code",
   "execution_count": 87,
   "metadata": {},
   "outputs": [
    {
     "data": {
      "text/plain": [
       "(1958, 13)"
      ]
     },
     "execution_count": 87,
     "metadata": {},
     "output_type": "execute_result"
    }
   ],
   "source": [
    "df.shape"
   ]
  },
  {
   "cell_type": "code",
   "execution_count": 88,
   "metadata": {},
   "outputs": [
    {
     "data": {
      "text/html": [
       "<div>\n",
       "<style scoped>\n",
       "    .dataframe tbody tr th:only-of-type {\n",
       "        vertical-align: middle;\n",
       "    }\n",
       "\n",
       "    .dataframe tbody tr th {\n",
       "        vertical-align: top;\n",
       "    }\n",
       "\n",
       "    .dataframe thead th {\n",
       "        text-align: right;\n",
       "    }\n",
       "</style>\n",
       "<table border=\"1\" class=\"dataframe\">\n",
       "  <thead>\n",
       "    <tr style=\"text-align: right;\">\n",
       "      <th></th>\n",
       "      <th>WORD</th>\n",
       "      <th>Val</th>\n",
       "      <th>Val_sd</th>\n",
       "      <th>joy</th>\n",
       "      <th>joy_sd</th>\n",
       "      <th>anger</th>\n",
       "      <th>anger_sd</th>\n",
       "      <th>sadness</th>\n",
       "      <th>sadness_sd</th>\n",
       "      <th>fear</th>\n",
       "      <th>fear_sd</th>\n",
       "      <th>disgust</th>\n",
       "      <th>disgust_sd</th>\n",
       "    </tr>\n",
       "  </thead>\n",
       "  <tbody>\n",
       "    <tr>\n",
       "      <th>0</th>\n",
       "      <td>abart</td>\n",
       "      <td>-1,6</td>\n",
       "      <td>0,6992059</td>\n",
       "      <td>1,4762</td>\n",
       "      <td>0,98076744</td>\n",
       "      <td>1,7143</td>\n",
       "      <td>1,0556</td>\n",
       "      <td>1,7143</td>\n",
       "      <td>1,1019</td>\n",
       "      <td>1,8095</td>\n",
       "      <td>0,9284</td>\n",
       "      <td>2,4762</td>\n",
       "      <td>1,3645</td>\n",
       "    </tr>\n",
       "    <tr>\n",
       "      <th>1</th>\n",
       "      <td>abbau</td>\n",
       "      <td>-1</td>\n",
       "      <td>1,1697953</td>\n",
       "      <td>1,25</td>\n",
       "      <td>0,7163504</td>\n",
       "      <td>2,4</td>\n",
       "      <td>1,1425</td>\n",
       "      <td>2,35</td>\n",
       "      <td>1,2258</td>\n",
       "      <td>2,3</td>\n",
       "      <td>1,4179</td>\n",
       "      <td>1,5</td>\n",
       "      <td>0,8272</td>\n",
       "    </tr>\n",
       "    <tr>\n",
       "      <th>2</th>\n",
       "      <td>abbild</td>\n",
       "      <td>-0,2</td>\n",
       "      <td>0,63245553</td>\n",
       "      <td>1,8636</td>\n",
       "      <td>1,03718734</td>\n",
       "      <td>1,4545</td>\n",
       "      <td>1,0108</td>\n",
       "      <td>1,2273</td>\n",
       "      <td>0,5284</td>\n",
       "      <td>1,3636</td>\n",
       "      <td>0,9021</td>\n",
       "      <td>1,3182</td>\n",
       "      <td>0,9455</td>\n",
       "    </tr>\n",
       "    <tr>\n",
       "      <th>3</th>\n",
       "      <td>abbruch</td>\n",
       "      <td>-0,7</td>\n",
       "      <td>1,15950181</td>\n",
       "      <td>1,1</td>\n",
       "      <td>0,30779351</td>\n",
       "      <td>2,55</td>\n",
       "      <td>1,3169</td>\n",
       "      <td>1,7</td>\n",
       "      <td>0,9234</td>\n",
       "      <td>2,15</td>\n",
       "      <td>1,268</td>\n",
       "      <td>1,2</td>\n",
       "      <td>0,6959</td>\n",
       "    </tr>\n",
       "    <tr>\n",
       "      <th>4</th>\n",
       "      <td>abdruck</td>\n",
       "      <td>-0,1</td>\n",
       "      <td>0,31622777</td>\n",
       "      <td>1,4</td>\n",
       "      <td>0,75393703</td>\n",
       "      <td>1,2</td>\n",
       "      <td>0,5231</td>\n",
       "      <td>1,1</td>\n",
       "      <td>0,4472</td>\n",
       "      <td>1</td>\n",
       "      <td>0</td>\n",
       "      <td>1</td>\n",
       "      <td>0</td>\n",
       "    </tr>\n",
       "  </tbody>\n",
       "</table>\n",
       "</div>"
      ],
      "text/plain": [
       "      WORD   Val      Val_sd     joy      joy_sd   anger anger_sd sadness  \\\n",
       "0    abart  -1,6   0,6992059  1,4762  0,98076744  1,7143   1,0556  1,7143   \n",
       "1    abbau    -1   1,1697953    1,25   0,7163504     2,4   1,1425    2,35   \n",
       "2   abbild  -0,2  0,63245553  1,8636  1,03718734  1,4545   1,0108  1,2273   \n",
       "3  abbruch  -0,7  1,15950181     1,1  0,30779351    2,55   1,3169     1,7   \n",
       "4  abdruck  -0,1  0,31622777     1,4  0,75393703     1,2   0,5231     1,1   \n",
       "\n",
       "  sadness_sd    fear fear_sd disgust disgust_sd  \n",
       "0     1,1019  1,8095  0,9284  2,4762     1,3645  \n",
       "1     1,2258     2,3  1,4179     1,5     0,8272  \n",
       "2     0,5284  1,3636  0,9021  1,3182     0,9455  \n",
       "3     0,9234    2,15   1,268     1,2     0,6959  \n",
       "4     0,4472       1       0       1          0  "
      ]
     },
     "execution_count": 88,
     "metadata": {},
     "output_type": "execute_result"
    }
   ],
   "source": [
    "df.head()"
   ]
  },
  {
   "cell_type": "code",
   "execution_count": 89,
   "metadata": {},
   "outputs": [
    {
     "name": "stdout",
     "output_type": "stream",
     "text": [
      "<class 'pandas.core.frame.DataFrame'>\n",
      "RangeIndex: 1958 entries, 0 to 1957\n",
      "Data columns (total 13 columns):\n",
      " #   Column      Non-Null Count  Dtype \n",
      "---  ------      --------------  ----- \n",
      " 0   WORD        1958 non-null   object\n",
      " 1   Val         1958 non-null   object\n",
      " 2   Val_sd      1958 non-null   object\n",
      " 3   joy         1958 non-null   object\n",
      " 4   joy_sd      1958 non-null   object\n",
      " 5   anger       1958 non-null   object\n",
      " 6   anger_sd    1958 non-null   object\n",
      " 7   sadness     1958 non-null   object\n",
      " 8   sadness_sd  1958 non-null   object\n",
      " 9   fear        1958 non-null   object\n",
      " 10  fear_sd     1958 non-null   object\n",
      " 11  disgust     1958 non-null   object\n",
      " 12  disgust_sd  1958 non-null   object\n",
      "dtypes: object(13)\n",
      "memory usage: 199.0+ KB\n"
     ]
    }
   ],
   "source": [
    "df.info()"
   ]
  },
  {
   "cell_type": "code",
   "execution_count": 90,
   "metadata": {},
   "outputs": [],
   "source": [
    "df = df.apply(lambda x: x.str.replace(',','.'))\n",
    "cols = df.columns.drop(\"WORD\")\n",
    "df[cols] = df[cols].apply(pd.to_numeric, errors='coerce')"
   ]
  },
  {
   "cell_type": "code",
   "execution_count": 91,
   "metadata": {},
   "outputs": [
    {
     "data": {
      "text/html": [
       "<div>\n",
       "<style scoped>\n",
       "    .dataframe tbody tr th:only-of-type {\n",
       "        vertical-align: middle;\n",
       "    }\n",
       "\n",
       "    .dataframe tbody tr th {\n",
       "        vertical-align: top;\n",
       "    }\n",
       "\n",
       "    .dataframe thead th {\n",
       "        text-align: right;\n",
       "    }\n",
       "</style>\n",
       "<table border=\"1\" class=\"dataframe\">\n",
       "  <thead>\n",
       "    <tr style=\"text-align: right;\">\n",
       "      <th></th>\n",
       "      <th>Val</th>\n",
       "      <th>joy</th>\n",
       "      <th>anger</th>\n",
       "      <th>sadness</th>\n",
       "      <th>fear</th>\n",
       "      <th>disgust</th>\n",
       "    </tr>\n",
       "  </thead>\n",
       "  <tbody>\n",
       "    <tr>\n",
       "      <th>Val</th>\n",
       "      <td>1.000000</td>\n",
       "      <td>0.839311</td>\n",
       "      <td>-0.718214</td>\n",
       "      <td>-0.497845</td>\n",
       "      <td>-0.636182</td>\n",
       "      <td>-0.445439</td>\n",
       "    </tr>\n",
       "    <tr>\n",
       "      <th>joy</th>\n",
       "      <td>0.839311</td>\n",
       "      <td>1.000000</td>\n",
       "      <td>-0.516796</td>\n",
       "      <td>-0.269514</td>\n",
       "      <td>-0.417055</td>\n",
       "      <td>-0.333224</td>\n",
       "    </tr>\n",
       "    <tr>\n",
       "      <th>anger</th>\n",
       "      <td>-0.718214</td>\n",
       "      <td>-0.516796</td>\n",
       "      <td>1.000000</td>\n",
       "      <td>0.555835</td>\n",
       "      <td>0.616946</td>\n",
       "      <td>0.356450</td>\n",
       "    </tr>\n",
       "    <tr>\n",
       "      <th>sadness</th>\n",
       "      <td>-0.497845</td>\n",
       "      <td>-0.269514</td>\n",
       "      <td>0.555835</td>\n",
       "      <td>1.000000</td>\n",
       "      <td>0.698792</td>\n",
       "      <td>0.305165</td>\n",
       "    </tr>\n",
       "    <tr>\n",
       "      <th>fear</th>\n",
       "      <td>-0.636182</td>\n",
       "      <td>-0.417055</td>\n",
       "      <td>0.616946</td>\n",
       "      <td>0.698792</td>\n",
       "      <td>1.000000</td>\n",
       "      <td>0.394672</td>\n",
       "    </tr>\n",
       "    <tr>\n",
       "      <th>disgust</th>\n",
       "      <td>-0.445439</td>\n",
       "      <td>-0.333224</td>\n",
       "      <td>0.356450</td>\n",
       "      <td>0.305165</td>\n",
       "      <td>0.394672</td>\n",
       "      <td>1.000000</td>\n",
       "    </tr>\n",
       "  </tbody>\n",
       "</table>\n",
       "</div>"
      ],
      "text/plain": [
       "              Val       joy     anger   sadness      fear   disgust\n",
       "Val      1.000000  0.839311 -0.718214 -0.497845 -0.636182 -0.445439\n",
       "joy      0.839311  1.000000 -0.516796 -0.269514 -0.417055 -0.333224\n",
       "anger   -0.718214 -0.516796  1.000000  0.555835  0.616946  0.356450\n",
       "sadness -0.497845 -0.269514  0.555835  1.000000  0.698792  0.305165\n",
       "fear    -0.636182 -0.417055  0.616946  0.698792  1.000000  0.394672\n",
       "disgust -0.445439 -0.333224  0.356450  0.305165  0.394672  1.000000"
      ]
     },
     "execution_count": 91,
     "metadata": {},
     "output_type": "execute_result"
    }
   ],
   "source": [
    "corrMatrix = df[['Val', 'joy', 'anger', 'sadness', 'fear', 'disgust']].corr()\n",
    "corrMatrix"
   ]
  },
  {
   "cell_type": "code",
   "execution_count": 92,
   "metadata": {},
   "outputs": [
    {
     "data": {
      "image/png": "[encoded data removed]",
      "text/plain": [
       "<Figure size 432x288 with 2 Axes>"
      ]
     },
     "metadata": {
      "needs_background": "light"
     },
     "output_type": "display_data"
    }
   ],
   "source": [
    "sns.heatmap(corrMatrix, annot=True)\n",
    "plt.show()"
   ]
  },
  {
   "cell_type": "markdown",
   "metadata": {},
   "source": [
    "# SentiArt\n",
    "\n"
   ]
  },
  {
   "cell_type": "code",
   "execution_count": 93,
   "metadata": {},
   "outputs": [
    {
     "data": {
      "text/html": [
       "<div>\n",
       "<style scoped>\n",
       "    .dataframe tbody tr th:only-of-type {\n",
       "        vertical-align: middle;\n",
       "    }\n",
       "\n",
       "    .dataframe tbody tr th {\n",
       "        vertical-align: top;\n",
       "    }\n",
       "\n",
       "    .dataframe thead th {\n",
       "        text-align: right;\n",
       "    }\n",
       "</style>\n",
       "<table border=\"1\" class=\"dataframe\">\n",
       "  <thead>\n",
       "    <tr style=\"text-align: right;\">\n",
       "      <th></th>\n",
       "      <th>word</th>\n",
       "      <th>wordLC</th>\n",
       "      <th>AAPz</th>\n",
       "      <th>ang_z</th>\n",
       "      <th>fear_z</th>\n",
       "      <th>disg_z</th>\n",
       "      <th>hap_z</th>\n",
       "      <th>sad_z</th>\n",
       "      <th>surp_z</th>\n",
       "    </tr>\n",
       "  </thead>\n",
       "  <tbody>\n",
       "    <tr>\n",
       "      <th>0</th>\n",
       "      <td>Aachen</td>\n",
       "      <td>aachen</td>\n",
       "      <td>0.6557</td>\n",
       "      <td>0.097</td>\n",
       "      <td>-1.0980</td>\n",
       "      <td>-1.2940</td>\n",
       "      <td>-0.4470</td>\n",
       "      <td>-1.3020</td>\n",
       "      <td>-0.6360</td>\n",
       "    </tr>\n",
       "    <tr>\n",
       "      <th>1</th>\n",
       "      <td>Aal</td>\n",
       "      <td>aal</td>\n",
       "      <td>0.3076</td>\n",
       "      <td>0.234</td>\n",
       "      <td>-0.4620</td>\n",
       "      <td>1.4168</td>\n",
       "      <td>-0.1940</td>\n",
       "      <td>0.1161</td>\n",
       "      <td>-0.3240</td>\n",
       "    </tr>\n",
       "    <tr>\n",
       "      <th>2</th>\n",
       "      <td>Aale</td>\n",
       "      <td>aale</td>\n",
       "      <td>0.0619</td>\n",
       "      <td>0.218</td>\n",
       "      <td>-0.1440</td>\n",
       "      <td>0.4773</td>\n",
       "      <td>-0.1210</td>\n",
       "      <td>-0.1830</td>\n",
       "      <td>0.0135</td>\n",
       "    </tr>\n",
       "    <tr>\n",
       "      <th>3</th>\n",
       "      <td>Aas</td>\n",
       "      <td>aas</td>\n",
       "      <td>-1.0440</td>\n",
       "      <td>0.258</td>\n",
       "      <td>0.1618</td>\n",
       "      <td>2.0333</td>\n",
       "      <td>0.3128</td>\n",
       "      <td>0.3957</td>\n",
       "      <td>-0.8440</td>\n",
       "    </tr>\n",
       "    <tr>\n",
       "      <th>4</th>\n",
       "      <td>Aasfresser</td>\n",
       "      <td>aasfresser</td>\n",
       "      <td>-1.5150</td>\n",
       "      <td>0.327</td>\n",
       "      <td>1.1859</td>\n",
       "      <td>1.9843</td>\n",
       "      <td>0.2766</td>\n",
       "      <td>0.6850</td>\n",
       "      <td>0.5720</td>\n",
       "    </tr>\n",
       "  </tbody>\n",
       "</table>\n",
       "</div>"
      ],
      "text/plain": [
       "         word      wordLC    AAPz  ang_z  fear_z  disg_z   hap_z   sad_z  \\\n",
       "0      Aachen      aachen  0.6557  0.097 -1.0980 -1.2940 -0.4470 -1.3020   \n",
       "1         Aal         aal  0.3076  0.234 -0.4620  1.4168 -0.1940  0.1161   \n",
       "2        Aale        aale  0.0619  0.218 -0.1440  0.4773 -0.1210 -0.1830   \n",
       "3         Aas         aas -1.0440  0.258  0.1618  2.0333  0.3128  0.3957   \n",
       "4  Aasfresser  aasfresser -1.5150  0.327  1.1859  1.9843  0.2766  0.6850   \n",
       "\n",
       "   surp_z  \n",
       "0 -0.6360  \n",
       "1 -0.3240  \n",
       "2  0.0135  \n",
       "3 -0.8440  \n",
       "4  0.5720  "
      ]
     },
     "execution_count": 93,
     "metadata": {},
     "output_type": "execute_result"
    }
   ],
   "source": [
    "TC = \"120kSentiArt_DE.xlsx\"\n",
    "sa = pd.read_excel(TC)\n",
    "sa.head()"
   ]
  },
  {
   "cell_type": "markdown",
   "metadata": {},
   "source": [
    "# The Hit Rate of SentiArt of SentiArt (92.594 %)\n",
    "\n"
   ]
  },
  {
   "cell_type": "code",
   "execution_count": 94,
   "metadata": {},
   "outputs": [
    {
     "name": "stdout",
     "output_type": "stream",
     "text": [
      "116313\n",
      "1958\n",
      "1813\n"
     ]
    }
   ],
   "source": [
    "senti_words = []\n",
    "for word in sa.wordLC:\n",
    "    senti_words.append(word)\n",
    "\n",
    "my_words = []\n",
    "for word in df.WORD:\n",
    "    my_words.append(word)\n",
    "    \n",
    "senti_match = []\n",
    "for word in my_words:\n",
    "    if word in senti_words:\n",
    "        senti_match.append(word)\n",
    "        \n",
    "print(len(senti_words))\n",
    "print(len(my_words))\n",
    "print(len(senti_match))"
   ]
  },
  {
   "cell_type": "code",
   "execution_count": 95,
   "metadata": {},
   "outputs": [
    {
     "name": "stdout",
     "output_type": "stream",
     "text": [
      "The hit rate of SentiArt =  92.594 %\n"
     ]
    }
   ],
   "source": [
    "print(\"The hit rate of SentiArt = \", round(len(senti_match)*100/len(my_words),3), \"%\")"
   ]
  },
  {
   "cell_type": "code",
   "execution_count": 96,
   "metadata": {},
   "outputs": [],
   "source": [
    "AAPz = []\n",
    "ang_z = []\n",
    "fear_z = []\n",
    "disg_z = []\n",
    "joy_z = []\n",
    "sad_z = []"
   ]
  },
  {
   "cell_type": "code",
   "execution_count": 97,
   "metadata": {},
   "outputs": [],
   "source": [
    "for word in my_words:\n",
    "    dt = sa.query(\"wordLC in @word\")\n",
    "    AAPz.append(dt.AAPz.mean())  \n",
    "    ang_z.append(dt.ang_z.mean())\n",
    "    fear_z.append(dt.fear_z.mean())\n",
    "    disg_z.append(dt.disg_z.mean())\n",
    "    joy_z.append(dt.hap_z.mean())\n",
    "    sad_z.append(dt.sad_z.mean())"
   ]
  },
  {
   "cell_type": "code",
   "execution_count": 98,
   "metadata": {},
   "outputs": [],
   "source": [
    "df[\"AAPz\"] = AAPz\n",
    "df[\"ang_z\"] = ang_z \n",
    "df[\"fear_z\"] = fear_z\n",
    "df[\"disg_z\"] = disg_z\n",
    "df[\"joy_z\"] = joy_z\n",
    "df[\"sad_z\"] = sad_z "
   ]
  },
  {
   "cell_type": "code",
   "execution_count": 99,
   "metadata": {},
   "outputs": [
    {
     "name": "stdout",
     "output_type": "stream",
     "text": [
      "<class 'pandas.core.frame.DataFrame'>\n",
      "RangeIndex: 1958 entries, 0 to 1957\n",
      "Data columns (total 19 columns):\n",
      " #   Column      Non-Null Count  Dtype  \n",
      "---  ------      --------------  -----  \n",
      " 0   WORD        1958 non-null   object \n",
      " 1   Val         1958 non-null   float64\n",
      " 2   Val_sd      1958 non-null   float64\n",
      " 3   joy         1958 non-null   float64\n",
      " 4   joy_sd      1958 non-null   float64\n",
      " 5   anger       1958 non-null   float64\n",
      " 6   anger_sd    1958 non-null   float64\n",
      " 7   sadness     1958 non-null   float64\n",
      " 8   sadness_sd  1958 non-null   float64\n",
      " 9   fear        1958 non-null   float64\n",
      " 10  fear_sd     1958 non-null   float64\n",
      " 11  disgust     1958 non-null   float64\n",
      " 12  disgust_sd  1958 non-null   float64\n",
      " 13  AAPz        1813 non-null   float64\n",
      " 14  ang_z       1813 non-null   float64\n",
      " 15  fear_z      1813 non-null   float64\n",
      " 16  disg_z      1813 non-null   float64\n",
      " 17  joy_z       1813 non-null   float64\n",
      " 18  sad_z       1813 non-null   float64\n",
      "dtypes: float64(18), object(1)\n",
      "memory usage: 290.8+ KB\n"
     ]
    }
   ],
   "source": [
    "df.info()"
   ]
  },
  {
   "cell_type": "code",
   "execution_count": 100,
   "metadata": {},
   "outputs": [
    {
     "data": {
      "text/plain": [
       "145"
      ]
     },
     "execution_count": 100,
     "metadata": {},
     "output_type": "execute_result"
    }
   ],
   "source": [
    "df.sad_z.isna().sum() # Datapoints are not in SentiArt"
   ]
  },
  {
   "cell_type": "code",
   "execution_count": 101,
   "metadata": {},
   "outputs": [
    {
     "data": {
      "text/plain": [
       "(1813, 19)"
      ]
     },
     "execution_count": 101,
     "metadata": {},
     "output_type": "execute_result"
    }
   ],
   "source": [
    "df_NOM = df.dropna()\n",
    "df_NOM.shape"
   ]
  },
  {
   "cell_type": "code",
   "execution_count": 102,
   "metadata": {},
   "outputs": [
    {
     "data": {
      "text/html": [
       "<div>\n",
       "<style scoped>\n",
       "    .dataframe tbody tr th:only-of-type {\n",
       "        vertical-align: middle;\n",
       "    }\n",
       "\n",
       "    .dataframe tbody tr th {\n",
       "        vertical-align: top;\n",
       "    }\n",
       "\n",
       "    .dataframe thead th {\n",
       "        text-align: right;\n",
       "    }\n",
       "</style>\n",
       "<table border=\"1\" class=\"dataframe\">\n",
       "  <thead>\n",
       "    <tr style=\"text-align: right;\">\n",
       "      <th></th>\n",
       "      <th>AAPz</th>\n",
       "      <th>joy_z</th>\n",
       "      <th>ang_z</th>\n",
       "      <th>sad_z</th>\n",
       "      <th>fear_z</th>\n",
       "      <th>disg_z</th>\n",
       "    </tr>\n",
       "  </thead>\n",
       "  <tbody>\n",
       "    <tr>\n",
       "      <th>AAPz</th>\n",
       "      <td>1.000000</td>\n",
       "      <td>0.149601</td>\n",
       "      <td>-0.504832</td>\n",
       "      <td>-0.178178</td>\n",
       "      <td>-0.554675</td>\n",
       "      <td>-0.424151</td>\n",
       "    </tr>\n",
       "    <tr>\n",
       "      <th>joy_z</th>\n",
       "      <td>0.149601</td>\n",
       "      <td>1.000000</td>\n",
       "      <td>0.615969</td>\n",
       "      <td>0.768651</td>\n",
       "      <td>0.569995</td>\n",
       "      <td>0.576303</td>\n",
       "    </tr>\n",
       "    <tr>\n",
       "      <th>ang_z</th>\n",
       "      <td>-0.504832</td>\n",
       "      <td>0.615969</td>\n",
       "      <td>1.000000</td>\n",
       "      <td>0.812230</td>\n",
       "      <td>0.868054</td>\n",
       "      <td>0.788444</td>\n",
       "    </tr>\n",
       "    <tr>\n",
       "      <th>sad_z</th>\n",
       "      <td>-0.178178</td>\n",
       "      <td>0.768651</td>\n",
       "      <td>0.812230</td>\n",
       "      <td>1.000000</td>\n",
       "      <td>0.768101</td>\n",
       "      <td>0.790655</td>\n",
       "    </tr>\n",
       "    <tr>\n",
       "      <th>fear_z</th>\n",
       "      <td>-0.554675</td>\n",
       "      <td>0.569995</td>\n",
       "      <td>0.868054</td>\n",
       "      <td>0.768101</td>\n",
       "      <td>1.000000</td>\n",
       "      <td>0.739085</td>\n",
       "    </tr>\n",
       "    <tr>\n",
       "      <th>disg_z</th>\n",
       "      <td>-0.424151</td>\n",
       "      <td>0.576303</td>\n",
       "      <td>0.788444</td>\n",
       "      <td>0.790655</td>\n",
       "      <td>0.739085</td>\n",
       "      <td>1.000000</td>\n",
       "    </tr>\n",
       "  </tbody>\n",
       "</table>\n",
       "</div>"
      ],
      "text/plain": [
       "            AAPz     joy_z     ang_z     sad_z    fear_z    disg_z\n",
       "AAPz    1.000000  0.149601 -0.504832 -0.178178 -0.554675 -0.424151\n",
       "joy_z   0.149601  1.000000  0.615969  0.768651  0.569995  0.576303\n",
       "ang_z  -0.504832  0.615969  1.000000  0.812230  0.868054  0.788444\n",
       "sad_z  -0.178178  0.768651  0.812230  1.000000  0.768101  0.790655\n",
       "fear_z -0.554675  0.569995  0.868054  0.768101  1.000000  0.739085\n",
       "disg_z -0.424151  0.576303  0.788444  0.790655  0.739085  1.000000"
      ]
     },
     "execution_count": 102,
     "metadata": {},
     "output_type": "execute_result"
    }
   ],
   "source": [
    "corrMatrix_s = df_NOM[[\"AAPz\", \"joy_z\", \"ang_z\", \"sad_z\", \"fear_z\", \"disg_z\"]].corr()\n",
    "corrMatrix_s"
   ]
  },
  {
   "cell_type": "code",
   "execution_count": 103,
   "metadata": {},
   "outputs": [
    {
     "data": {
      "image/png": "[encoded data removed]",
      "text/plain": [
       "<Figure size 432x288 with 2 Axes>"
      ]
     },
     "metadata": {
      "needs_background": "light"
     },
     "output_type": "display_data"
    }
   ],
   "source": [
    "sns.heatmap(corrMatrix_s, annot=True)\n",
    "plt.show()"
   ]
  },
  {
   "cell_type": "markdown",
   "metadata": {},
   "source": [
    "# Regression Analysis"
   ]
  },
  {
   "cell_type": "code",
   "execution_count": 104,
   "metadata": {},
   "outputs": [
    {
     "data": {
      "image/png": "[encoded data removed]",
      "text/plain": [
       "<Figure size 432x288 with 1 Axes>"
      ]
     },
     "metadata": {
      "needs_background": "light"
     },
     "output_type": "display_data"
    },
    {
     "name": "stdout",
     "output_type": "stream",
     "text": [
      "Gradient =  0.864\n",
      "R-squared=  0.725\n",
      "p_value=  0.0\n",
      "std_err=  0.019\n"
     ]
    }
   ],
   "source": [
    "x = df_NOM[\"AAPz\"]\n",
    "y = df_NOM[\"Val\"]\n",
    "gradient, intercept, r_value, p_value, std_err = stats.linregress(x,y)\n",
    "mn=np.min(x)\n",
    "mx=np.max(x)\n",
    "x1=np.linspace(mn,mx,500)\n",
    "y1 = gradient*x1 + intercept\n",
    "plt.plot(x,y,'ob')\n",
    "plt.plot(x1, y1,'-r')\n",
    "plt.xlabel(\"APPz\")\n",
    "plt.ylabel(\"valence rating\")\n",
    "plt.show()\n",
    "print(\"Gradient = \", round(gradient, 3))\n",
    "print(\"R-squared= \", round(r_value, 3))\n",
    "print(\"p_value= \", round(p_value, 3))\n",
    "print(\"std_err= \", round(std_err, 3))"
   ]
  },
  {
   "cell_type": "markdown",
   "metadata": {},
   "source": [
    "# Converting the data into three categories  "
   ]
  },
  {
   "cell_type": "code",
   "execution_count": 105,
   "metadata": {},
   "outputs": [],
   "source": [
    "df_categories = pd.DataFrame()"
   ]
  },
  {
   "cell_type": "code",
   "execution_count": 106,
   "metadata": {},
   "outputs": [],
   "source": [
    "df_categories[\"Val\"] = pd.cut(df_NOM[\"Val\"], bins = 3, labels=[1, 2, 3])\n",
    "df_categories[\"joy\"] = pd.cut(df_NOM[\"joy\"], bins = 3, labels=[1, 2, 3])\n",
    "df_categories[\"anger\"] = pd.cut(df_NOM[\"anger\"], bins = 3, labels=[1, 2, 3])\n",
    "df_categories[\"sadness\"] = pd.cut(df_NOM[\"sadness\"], bins = 3, labels=[1, 2, 3])\n",
    "df_categories[\"fear\"] = pd.cut(df_NOM[\"fear\"], bins = 3, labels=[1, 2, 3])\n",
    "df_categories[\"disgust\"] = pd.cut(df_NOM[\"disgust\"], bins = 3, labels=[1, 2, 3])\n",
    "df_categories[\"AAPz\"] = pd.cut(df_NOM[\"AAPz\"], bins = 3, labels=[1, 2, 3])\n",
    "df_categories[\"ang_z\"] = pd.cut(df_NOM[\"ang_z\"], bins = 3, labels=[1, 2, 3])\n",
    "df_categories[\"fear_z\"] = pd.cut(df_NOM[\"fear_z\"], bins = 3, labels=[1, 2, 3])\n",
    "df_categories[\"disg_z\"] = pd.cut(df_NOM[\"disg_z\"], bins = 3, labels=[1, 2, 3])\n",
    "df_categories[\"joy_z\"] = pd.cut(df_NOM[\"joy_z\"], bins = 3, labels=[1, 2, 3])\n",
    "df_categories[\"sad_z\"] = pd.cut(df_NOM[\"sad_z\"], bins = 3, labels=[1, 2, 3])"
   ]
  },
  {
   "cell_type": "markdown",
   "metadata": {},
   "source": [
    "# Evaluating the performance of SentiArt"
   ]
  },
  {
   "cell_type": "markdown",
   "metadata": {},
   "source": [
    "# The Valence"
   ]
  },
  {
   "cell_type": "code",
   "execution_count": 107,
   "metadata": {},
   "outputs": [
    {
     "name": "stdout",
     "output_type": "stream",
     "text": [
      "f1_macro : 0.641\n",
      "accuracy: 66.189 %\n"
     ]
    },
    {
     "data": {
      "image/png": "[encoded data removed]",
      "text/plain": [
       "<Figure size 288x288 with 2 Axes>"
      ]
     },
     "metadata": {
      "needs_background": "light"
     },
     "output_type": "display_data"
    }
   ],
   "source": [
    "f1_macro = f1_score(df_categories[\"Val\"], df_categories[\"AAPz\"], average=\"macro\")\n",
    "acc = accuracy_score(df_categories[\"Val\"], df_categories[\"AAPz\"])*100\n",
    "print(\"f1_macro :\", round(f1_macro, 3))\n",
    "print(\"accuracy:\", round(acc,3), \"%\")\n",
    "confusion_matrix = metrics.confusion_matrix(df_categories[\"Val\"], df_categories[\"AAPz\"])\n",
    "f,ax = plt.subplots(figsize=(4,4))\n",
    "sns.heatmap(confusion_matrix, annot=True, linewidths=.5, fmt= \"d\",ax=ax, cmap=\"YlGnBu\");\n",
    "plt.title(\"confusion matrix\")\n",
    "plt.xlabel(\"true label\");\n",
    "plt.ylabel(\"predictions\");"
   ]
  },
  {
   "cell_type": "markdown",
   "metadata": {},
   "source": [
    "# The discrete emotions"
   ]
  },
  {
   "cell_type": "code",
   "execution_count": 108,
   "metadata": {},
   "outputs": [
    {
     "name": "stdout",
     "output_type": "stream",
     "text": [
      "f1_macro : 0.317\n",
      "accuracy: 59.901 %\n"
     ]
    }
   ],
   "source": [
    "f1_macro = f1_score(df_categories[\"joy\"], df_categories[\"joy_z\"], average=\"macro\")\n",
    "acc = accuracy_score(df_categories[\"joy\"], df_categories[\"joy_z\"])*100\n",
    "print(\"f1_macro :\", round(f1_macro, 3))\n",
    "print(\"accuracy:\", round(acc,3), \"%\")"
   ]
  },
  {
   "cell_type": "code",
   "execution_count": 109,
   "metadata": {},
   "outputs": [
    {
     "name": "stdout",
     "output_type": "stream",
     "text": [
      "f1_macro : 0.449\n",
      "accuracy: 68.064 %\n"
     ]
    }
   ],
   "source": [
    "f1_macro = f1_score(df_categories[\"anger\"], df_categories[\"ang_z\"], average=\"macro\")\n",
    "acc = accuracy_score(df_categories[\"anger\"], df_categories[\"ang_z\"])*100\n",
    "print(\"f1_macro :\", round(f1_macro, 3))\n",
    "print(\"accuracy:\", round(acc,3), \"%\")"
   ]
  },
  {
   "cell_type": "code",
   "execution_count": 110,
   "metadata": {},
   "outputs": [
    {
     "name": "stdout",
     "output_type": "stream",
     "text": [
      "f1_macro : 0.265\n",
      "accuracy: 37.121 %\n"
     ]
    }
   ],
   "source": [
    "f1_macro = f1_score(df_categories[\"sadness\"], df_categories[\"sad_z\"], average=\"macro\")\n",
    "acc = accuracy_score(df_categories[\"sadness\"], df_categories[\"sad_z\"])*100\n",
    "print(\"f1_macro :\", round(f1_macro, 3))\n",
    "print(\"accuracy:\", round(acc,3), \"%\")"
   ]
  },
  {
   "cell_type": "code",
   "execution_count": 111,
   "metadata": {},
   "outputs": [
    {
     "name": "stdout",
     "output_type": "stream",
     "text": [
      "f1_macro : 0.415\n",
      "accuracy: 73.469 %\n"
     ]
    }
   ],
   "source": [
    "f1_macro = f1_score(df_categories[\"fear\"], df_categories[\"fear_z\"], average=\"macro\")\n",
    "acc = accuracy_score(df_categories[\"fear\"], df_categories[\"fear_z\"])*100\n",
    "print(\"f1_macro :\", round(f1_macro, 3))\n",
    "print(\"accuracy:\", round(acc,3), \"%\")"
   ]
  },
  {
   "cell_type": "code",
   "execution_count": 112,
   "metadata": {},
   "outputs": [
    {
     "name": "stdout",
     "output_type": "stream",
     "text": [
      "f1_macro : 0.382\n",
      "accuracy: 70.877 %\n"
     ]
    }
   ],
   "source": [
    "f1_macro = f1_score(df_categories[\"disgust\"], df_categories[\"disg_z\"], average=\"macro\")\n",
    "acc = accuracy_score(df_categories[\"disgust\"], df_categories[\"disg_z\"])*100\n",
    "print(\"f1_macro :\", round(f1_macro, 3))\n",
    "print(\"accuracy:\", round(acc,3), \"%\")"
   ]
  },
  {
   "cell_type": "markdown",
   "metadata": {},
   "source": [
    "# Evaluating the performance of SentiArt: The Polarity\n",
    "\n",
    "The neutral words in Denn_BAWL have scores between -0.5 and 0.5 \n",
    "\n",
    "The neutral words according to APPz in SentiArt have scores between -0.05 and 0.05"
   ]
  },
  {
   "cell_type": "code",
   "execution_count": 113,
   "metadata": {},
   "outputs": [],
   "source": [
    "polarity = pd.DataFrame()\n",
    "polarity[\"true\"] = np.where((df_NOM[\"Val\"] <= - 0.5), -1, np.where((df_NOM[\"Val\"] >= 0.5), 1, 0))\n",
    "polarity[\"predicted\"] = np.where((df_NOM[\"AAPz\"] <= - 0.05), -1, np.where((df_NOM[\"AAPz\"] >= 0.05), 1, 0))"
   ]
  },
  {
   "cell_type": "code",
   "execution_count": 114,
   "metadata": {},
   "outputs": [
    {
     "data": {
      "text/plain": [
       " 1    794\n",
       "-1    562\n",
       " 0    457\n",
       "Name: true, dtype: int64"
      ]
     },
     "execution_count": 114,
     "metadata": {},
     "output_type": "execute_result"
    }
   ],
   "source": [
    "polarity[\"true\"].value_counts()"
   ]
  },
  {
   "cell_type": "code",
   "execution_count": 115,
   "metadata": {},
   "outputs": [
    {
     "data": {
      "text/plain": [
       " 1    924\n",
       "-1    812\n",
       " 0     77\n",
       "Name: predicted, dtype: int64"
      ]
     },
     "execution_count": 115,
     "metadata": {},
     "output_type": "execute_result"
    }
   ],
   "source": [
    "polarity[\"predicted\"].value_counts()"
   ]
  },
  {
   "cell_type": "code",
   "execution_count": 116,
   "metadata": {},
   "outputs": [
    {
     "data": {
      "image/png": "[encoded data removed]",
      "text/plain": [
       "<Figure size 432x288 with 1 Axes>"
      ]
     },
     "metadata": {
      "needs_background": "light"
     },
     "output_type": "display_data"
    }
   ],
   "source": [
    "plt.hist([polarity.true, polarity.predicted], label=[\"True\", \"predicted_s\"])\n",
    "plt.legend(loc= \"upper center\")\n",
    "plt.show()"
   ]
  },
  {
   "cell_type": "code",
   "execution_count": 117,
   "metadata": {},
   "outputs": [
    {
     "name": "stdout",
     "output_type": "stream",
     "text": [
      "f1_macro : 0.51\n",
      "accuracy: 62.438 %\n"
     ]
    },
    {
     "data": {
      "image/png": "[encoded data removed]",
      "text/plain": [
       "<Figure size 288x288 with 2 Axes>"
      ]
     },
     "metadata": {
      "needs_background": "light"
     },
     "output_type": "display_data"
    }
   ],
   "source": [
    "f1_macro = f1_score(polarity[\"true\"], polarity[\"predicted\"], average=\"macro\")\n",
    "acc = accuracy_score(polarity[\"true\"], polarity[\"predicted\"])*100\n",
    "print(\"f1_macro :\", round(f1_macro, 3))\n",
    "print(\"accuracy:\", round(acc,3), \"%\")\n",
    "confusion_matrix = metrics.confusion_matrix(polarity[\"true\"], polarity[\"predicted\"])\n",
    "f,ax = plt.subplots(figsize=(4,4))\n",
    "sns.heatmap(confusion_matrix, annot=True, linewidths=.5, fmt= \"d\",ax=ax, cmap=\"YlGnBu\");\n",
    "plt.title(\"confusion matrix\")\n",
    "plt.xlabel(\"true label\");\n",
    "plt.ylabel(\"predictions\");"
   ]
  },
  {
   "cell_type": "markdown",
   "metadata": {},
   "source": [
    "# Words that have highest joy score"
   ]
  },
  {
   "cell_type": "code",
   "execution_count": 118,
   "metadata": {},
   "outputs": [
    {
     "data": {
      "text/plain": [
       "1561       sonne\n",
       "1026        meer\n",
       "1560      sommer\n",
       "497     freizeit\n",
       "925        liebe\n",
       "502      frieden\n",
       "499       freund\n",
       "995         mama\n",
       "1570        spaß\n",
       "445       ferien\n",
       "Name: WORD, dtype: object"
      ]
     },
     "execution_count": 118,
     "metadata": {},
     "output_type": "execute_result"
    }
   ],
   "source": [
    "joy_t = df_NOM.nlargest(10, \"joy\")\n",
    "joy_t[\"WORD\"]"
   ]
  },
  {
   "cell_type": "code",
   "execution_count": 119,
   "metadata": {},
   "outputs": [
    {
     "data": {
      "text/plain": [
       "498       freude\n",
       "1570        spaß\n",
       "967         lust\n",
       "1898       wonne\n",
       "1860      wehmut\n",
       "712        jubel\n",
       "1751    ungeduld\n",
       "671     hoffnung\n",
       "1157     neugier\n",
       "1703      trauer\n",
       "Name: WORD, dtype: object"
      ]
     },
     "execution_count": 119,
     "metadata": {},
     "output_type": "execute_result"
    }
   ],
   "source": [
    "joy_p = df_NOM.nlargest(10, \"joy_z\") #spaß (common), trauer, wehmut, ungeduld!\n",
    "joy_p[\"WORD\"]"
   ]
  },
  {
   "cell_type": "markdown",
   "metadata": {},
   "source": [
    "# Words that have highest fear score"
   ]
  },
  {
   "cell_type": "code",
   "execution_count": 120,
   "metadata": {},
   "outputs": [
    {
     "data": {
      "text/plain": [
       "1727       tumor\n",
       "837        krieg\n",
       "582      giftgas\n",
       "881       lawine\n",
       "65      alptraum\n",
       "127      atemnot\n",
       "256        bombe\n",
       "1665      terror\n",
       "1417        ruin\n",
       "1693        tote\n",
       "Name: WORD, dtype: object"
      ]
     },
     "execution_count": 120,
     "metadata": {},
     "output_type": "execute_result"
    }
   ],
   "source": [
    "fear_t = df_NOM.nlargest(10, \"fear\")\n",
    "fear_t[\"WORD\"]"
   ]
  },
  {
   "cell_type": "code",
   "execution_count": 121,
   "metadata": {},
   "outputs": [
    {
     "data": {
      "text/plain": [
       "86         angst\n",
       "515       furcht\n",
       "1209       panik\n",
       "1450       scham\n",
       "24       abscheu\n",
       "1180    ohnmacht\n",
       "1490     schreck\n",
       "1564      sorgen\n",
       "377         ekel\n",
       "1703      trauer\n",
       "Name: WORD, dtype: object"
      ]
     },
     "execution_count": 121,
     "metadata": {},
     "output_type": "execute_result"
    }
   ],
   "source": [
    "fear_p = df_NOM.nlargest(10, \"fear_z\")\n",
    "fear_p[\"WORD\"]"
   ]
  },
  {
   "cell_type": "code",
   "execution_count": 122,
   "metadata": {},
   "outputs": [
    {
     "data": {
      "text/html": [
       "<div>\n",
       "<style scoped>\n",
       "    .dataframe tbody tr th:only-of-type {\n",
       "        vertical-align: middle;\n",
       "    }\n",
       "\n",
       "    .dataframe tbody tr th {\n",
       "        vertical-align: top;\n",
       "    }\n",
       "\n",
       "    .dataframe thead th {\n",
       "        text-align: right;\n",
       "    }\n",
       "</style>\n",
       "<table border=\"1\" class=\"dataframe\">\n",
       "  <thead>\n",
       "    <tr style=\"text-align: right;\">\n",
       "      <th></th>\n",
       "      <th>WORD</th>\n",
       "      <th>Val</th>\n",
       "      <th>Val_sd</th>\n",
       "      <th>joy</th>\n",
       "      <th>joy_sd</th>\n",
       "      <th>anger</th>\n",
       "      <th>anger_sd</th>\n",
       "      <th>sadness</th>\n",
       "      <th>sadness_sd</th>\n",
       "      <th>fear</th>\n",
       "      <th>fear_sd</th>\n",
       "      <th>disgust</th>\n",
       "      <th>disgust_sd</th>\n",
       "      <th>AAPz</th>\n",
       "      <th>ang_z</th>\n",
       "      <th>fear_z</th>\n",
       "      <th>disg_z</th>\n",
       "      <th>joy_z</th>\n",
       "      <th>sad_z</th>\n",
       "    </tr>\n",
       "  </thead>\n",
       "  <tbody>\n",
       "    <tr>\n",
       "      <th>1703</th>\n",
       "      <td>trauer</td>\n",
       "      <td>-2.1</td>\n",
       "      <td>0.967906</td>\n",
       "      <td>1.05</td>\n",
       "      <td>0.223607</td>\n",
       "      <td>1.75</td>\n",
       "      <td>0.9105</td>\n",
       "      <td>3.75</td>\n",
       "      <td>1.4824</td>\n",
       "      <td>2.35</td>\n",
       "      <td>1.3485</td>\n",
       "      <td>1.1</td>\n",
       "      <td>0.3078</td>\n",
       "      <td>-0.675</td>\n",
       "      <td>0.675</td>\n",
       "      <td>4.3877</td>\n",
       "      <td>3.0217</td>\n",
       "      <td>4.2802</td>\n",
       "      <td>4.9861</td>\n",
       "    </tr>\n",
       "  </tbody>\n",
       "</table>\n",
       "</div>"
      ],
      "text/plain": [
       "        WORD  Val    Val_sd   joy    joy_sd  anger  anger_sd  sadness  \\\n",
       "1703  trauer -2.1  0.967906  1.05  0.223607   1.75    0.9105     3.75   \n",
       "\n",
       "      sadness_sd  fear  fear_sd  disgust  disgust_sd   AAPz  ang_z  fear_z  \\\n",
       "1703      1.4824  2.35   1.3485      1.1      0.3078 -0.675  0.675  4.3877   \n",
       "\n",
       "      disg_z   joy_z   sad_z  \n",
       "1703  3.0217  4.2802  4.9861  "
      ]
     },
     "execution_count": 122,
     "metadata": {},
     "output_type": "execute_result"
    }
   ],
   "source": [
    "df_NOM[df_NOM[\"WORD\"] ==\"trauer\"]"
   ]
  },
  {
   "cell_type": "code",
   "execution_count": null,
   "metadata": {},
   "outputs": [],
   "source": []
  },
  {
   "cell_type": "markdown",
   "metadata": {},
   "source": [
    "# EMOLEX"
   ]
  },
  {
   "cell_type": "code",
   "execution_count": 123,
   "metadata": {},
   "outputs": [
    {
     "data": {
      "text/html": [
       "<div>\n",
       "<style scoped>\n",
       "    .dataframe tbody tr th:only-of-type {\n",
       "        vertical-align: middle;\n",
       "    }\n",
       "\n",
       "    .dataframe tbody tr th {\n",
       "        vertical-align: top;\n",
       "    }\n",
       "\n",
       "    .dataframe thead th {\n",
       "        text-align: right;\n",
       "    }\n",
       "</style>\n",
       "<table border=\"1\" class=\"dataframe\">\n",
       "  <thead>\n",
       "    <tr style=\"text-align: right;\">\n",
       "      <th></th>\n",
       "      <th>English (en)</th>\n",
       "      <th>Afrikaans (af)</th>\n",
       "      <th>Albanian (sq)</th>\n",
       "      <th>Amharic (am)</th>\n",
       "      <th>Arabic (ar)</th>\n",
       "      <th>Armenian (hy)</th>\n",
       "      <th>Azeerbaijani (az)</th>\n",
       "      <th>Basque (eu)</th>\n",
       "      <th>Belarusian (be)</th>\n",
       "      <th>Bengali (bn)</th>\n",
       "      <th>...</th>\n",
       "      <th>Positive</th>\n",
       "      <th>Negative</th>\n",
       "      <th>Anger</th>\n",
       "      <th>Anticipation</th>\n",
       "      <th>Disgust</th>\n",
       "      <th>Fear</th>\n",
       "      <th>Joy</th>\n",
       "      <th>Sadness</th>\n",
       "      <th>Surprise</th>\n",
       "      <th>Trust</th>\n",
       "    </tr>\n",
       "  </thead>\n",
       "  <tbody>\n",
       "    <tr>\n",
       "      <th>0</th>\n",
       "      <td>aback</td>\n",
       "      <td>uit die veld geslaan</td>\n",
       "      <td>prapa</td>\n",
       "      <td>ተጭኗል</td>\n",
       "      <td>الى الوراء</td>\n",
       "      <td>շեղում</td>\n",
       "      <td>sanki</td>\n",
       "      <td>aback</td>\n",
       "      <td>ззаду</td>\n",
       "      <td>পশ্চাতে</td>\n",
       "      <td>...</td>\n",
       "      <td>0</td>\n",
       "      <td>0</td>\n",
       "      <td>0</td>\n",
       "      <td>0</td>\n",
       "      <td>0</td>\n",
       "      <td>0</td>\n",
       "      <td>0</td>\n",
       "      <td>0</td>\n",
       "      <td>0</td>\n",
       "      <td>0</td>\n",
       "    </tr>\n",
       "    <tr>\n",
       "      <th>1</th>\n",
       "      <td>abacus</td>\n",
       "      <td>abakus</td>\n",
       "      <td>numërator</td>\n",
       "      <td>abacus</td>\n",
       "      <td>طبلية تاج</td>\n",
       "      <td>անբավարարություն</td>\n",
       "      <td>abacus</td>\n",
       "      <td>abako</td>\n",
       "      <td>абака</td>\n",
       "      <td>গণনা-যন্ত্রবিশেষ</td>\n",
       "      <td>...</td>\n",
       "      <td>0</td>\n",
       "      <td>0</td>\n",
       "      <td>0</td>\n",
       "      <td>0</td>\n",
       "      <td>0</td>\n",
       "      <td>0</td>\n",
       "      <td>0</td>\n",
       "      <td>0</td>\n",
       "      <td>0</td>\n",
       "      <td>1</td>\n",
       "    </tr>\n",
       "    <tr>\n",
       "      <th>2</th>\n",
       "      <td>abandon</td>\n",
       "      <td>verlaat</td>\n",
       "      <td>braktis</td>\n",
       "      <td>ውጣ</td>\n",
       "      <td>تخلى</td>\n",
       "      <td>լքել</td>\n",
       "      <td>tərk et</td>\n",
       "      <td>bertan behera</td>\n",
       "      <td>адмовіцца ад</td>\n",
       "      <td>বর্জিত করা</td>\n",
       "      <td>...</td>\n",
       "      <td>0</td>\n",
       "      <td>1</td>\n",
       "      <td>0</td>\n",
       "      <td>0</td>\n",
       "      <td>0</td>\n",
       "      <td>1</td>\n",
       "      <td>0</td>\n",
       "      <td>1</td>\n",
       "      <td>0</td>\n",
       "      <td>0</td>\n",
       "    </tr>\n",
       "    <tr>\n",
       "      <th>3</th>\n",
       "      <td>abandoned</td>\n",
       "      <td>verlate</td>\n",
       "      <td>braktisur</td>\n",
       "      <td>ተትቷል</td>\n",
       "      <td>مهجور</td>\n",
       "      <td>լքված</td>\n",
       "      <td>tərk etdi</td>\n",
       "      <td>abandonatutako</td>\n",
       "      <td>закінуты</td>\n",
       "      <td>পরিত্যক্ত</td>\n",
       "      <td>...</td>\n",
       "      <td>0</td>\n",
       "      <td>1</td>\n",
       "      <td>1</td>\n",
       "      <td>0</td>\n",
       "      <td>0</td>\n",
       "      <td>1</td>\n",
       "      <td>0</td>\n",
       "      <td>1</td>\n",
       "      <td>0</td>\n",
       "      <td>0</td>\n",
       "    </tr>\n",
       "    <tr>\n",
       "      <th>4</th>\n",
       "      <td>abandonment</td>\n",
       "      <td>verlating</td>\n",
       "      <td>braktisje</td>\n",
       "      <td>ማቋረጥ</td>\n",
       "      <td>التخلي عن</td>\n",
       "      <td>հրաժարվելով</td>\n",
       "      <td>ləğv</td>\n",
       "      <td>abandono</td>\n",
       "      <td>пакіданне</td>\n",
       "      <td>বিসর্জন</td>\n",
       "      <td>...</td>\n",
       "      <td>0</td>\n",
       "      <td>1</td>\n",
       "      <td>1</td>\n",
       "      <td>0</td>\n",
       "      <td>0</td>\n",
       "      <td>1</td>\n",
       "      <td>0</td>\n",
       "      <td>1</td>\n",
       "      <td>1</td>\n",
       "      <td>0</td>\n",
       "    </tr>\n",
       "  </tbody>\n",
       "</table>\n",
       "<p>5 rows × 115 columns</p>\n",
       "</div>"
      ],
      "text/plain": [
       "  English (en)        Afrikaans (af) Albanian (sq) Amharic (am) Arabic (ar)  \\\n",
       "0        aback  uit die veld geslaan         prapa         ተጭኗል  الى الوراء   \n",
       "1       abacus                abakus     numërator       abacus   طبلية تاج   \n",
       "2      abandon               verlaat       braktis           ውጣ        تخلى   \n",
       "3    abandoned               verlate     braktisur         ተትቷል       مهجور   \n",
       "4  abandonment             verlating     braktisje         ማቋረጥ   التخلي عن   \n",
       "\n",
       "      Armenian (hy) Azeerbaijani (az)     Basque (eu) Belarusian (be)  \\\n",
       "0            շեղում             sanki           aback           ззаду   \n",
       "1  անբավարարություն            abacus           abako           абака   \n",
       "2              լքել           tərk et   bertan behera    адмовіцца ад   \n",
       "3             լքված         tərk etdi  abandonatutako        закінуты   \n",
       "4       հրաժարվելով              ləğv        abandono       пакіданне   \n",
       "\n",
       "       Bengali (bn)  ... Positive Negative Anger Anticipation Disgust Fear  \\\n",
       "0           পশ্চাতে  ...        0        0     0            0       0    0   \n",
       "1  গণনা-যন্ত্রবিশেষ  ...        0        0     0            0       0    0   \n",
       "2        বর্জিত করা  ...        0        1     0            0       0    1   \n",
       "3         পরিত্যক্ত  ...        0        1     1            0       0    1   \n",
       "4           বিসর্জন  ...        0        1     1            0       0    1   \n",
       "\n",
       "  Joy Sadness Surprise Trust  \n",
       "0   0       0        0     0  \n",
       "1   0       0        0     1  \n",
       "2   0       1        0     0  \n",
       "3   0       1        0     0  \n",
       "4   0       1        1     0  \n",
       "\n",
       "[5 rows x 115 columns]"
      ]
     },
     "execution_count": 123,
     "metadata": {},
     "output_type": "execute_result"
    }
   ],
   "source": [
    "file =  \"NRC-Emotion-Lexicon-v0.92-In105Languages-Nov2017Translations.xlsx\"\n",
    "emo = pd.read_excel(file)\n",
    "emo.head()"
   ]
  },
  {
   "cell_type": "code",
   "execution_count": 124,
   "metadata": {},
   "outputs": [],
   "source": [
    "emo = emo[[\"German (de)\", \"Positive\", \"Negative\"]]\n",
    "emo = emo.rename(columns={\"German (de)\":\"de\"})"
   ]
  },
  {
   "cell_type": "code",
   "execution_count": 125,
   "metadata": {},
   "outputs": [
    {
     "data": {
      "text/html": [
       "<div>\n",
       "<style scoped>\n",
       "    .dataframe tbody tr th:only-of-type {\n",
       "        vertical-align: middle;\n",
       "    }\n",
       "\n",
       "    .dataframe tbody tr th {\n",
       "        vertical-align: top;\n",
       "    }\n",
       "\n",
       "    .dataframe thead th {\n",
       "        text-align: right;\n",
       "    }\n",
       "</style>\n",
       "<table border=\"1\" class=\"dataframe\">\n",
       "  <thead>\n",
       "    <tr style=\"text-align: right;\">\n",
       "      <th></th>\n",
       "      <th>de</th>\n",
       "      <th>Positive</th>\n",
       "      <th>Negative</th>\n",
       "    </tr>\n",
       "  </thead>\n",
       "  <tbody>\n",
       "    <tr>\n",
       "      <th>0</th>\n",
       "      <td>zurück</td>\n",
       "      <td>0</td>\n",
       "      <td>0</td>\n",
       "    </tr>\n",
       "    <tr>\n",
       "      <th>1</th>\n",
       "      <td>Abakus</td>\n",
       "      <td>0</td>\n",
       "      <td>0</td>\n",
       "    </tr>\n",
       "    <tr>\n",
       "      <th>2</th>\n",
       "      <td>verlassen</td>\n",
       "      <td>0</td>\n",
       "      <td>1</td>\n",
       "    </tr>\n",
       "    <tr>\n",
       "      <th>3</th>\n",
       "      <td>verlassen</td>\n",
       "      <td>0</td>\n",
       "      <td>1</td>\n",
       "    </tr>\n",
       "    <tr>\n",
       "      <th>4</th>\n",
       "      <td>Aufgabe</td>\n",
       "      <td>0</td>\n",
       "      <td>1</td>\n",
       "    </tr>\n",
       "  </tbody>\n",
       "</table>\n",
       "</div>"
      ],
      "text/plain": [
       "          de  Positive  Negative\n",
       "0     zurück         0         0\n",
       "1     Abakus         0         0\n",
       "2  verlassen         0         1\n",
       "3  verlassen         0         1\n",
       "4    Aufgabe         0         1"
      ]
     },
     "execution_count": 125,
     "metadata": {},
     "output_type": "execute_result"
    }
   ],
   "source": [
    "emo.head()"
   ]
  },
  {
   "cell_type": "markdown",
   "metadata": {},
   "source": [
    "# The Hit Rate (0.46 %, 9 words)"
   ]
  },
  {
   "cell_type": "code",
   "execution_count": 126,
   "metadata": {},
   "outputs": [
    {
     "name": "stdout",
     "output_type": "stream",
     "text": [
      "14182\n"
     ]
    }
   ],
   "source": [
    "emo_words = []\n",
    "for word in emo[\"de\"]:\n",
    "    emo_words.append(word)\n",
    "print(len(emo_words))"
   ]
  },
  {
   "cell_type": "code",
   "execution_count": 127,
   "metadata": {},
   "outputs": [
    {
     "name": "stdout",
     "output_type": "stream",
     "text": [
      "9\n"
     ]
    }
   ],
   "source": [
    "match_emo = []\n",
    "for word in my_words:\n",
    "    if word in emo_words:\n",
    "        match_emo.append(word)\n",
    "print(len(match_emo))"
   ]
  },
  {
   "cell_type": "code",
   "execution_count": 128,
   "metadata": {},
   "outputs": [
    {
     "data": {
      "text/plain": [
       "['delikt',\n",
       " 'fest',\n",
       " 'fett',\n",
       " 'schroff',\n",
       " 'stolz',\n",
       " 'trotz',\n",
       " 'wagen',\n",
       " 'wert',\n",
       " 'wolle']"
      ]
     },
     "execution_count": 128,
     "metadata": {},
     "output_type": "execute_result"
    }
   ],
   "source": [
    "match_emo"
   ]
  },
  {
   "cell_type": "code",
   "execution_count": 129,
   "metadata": {},
   "outputs": [
    {
     "name": "stdout",
     "output_type": "stream",
     "text": [
      "The hit rate of EmoLex =  0.46 %\n"
     ]
    }
   ],
   "source": [
    "print(\"The hit rate of EmoLex = \", round(len(match_emo)*100/len(my_words),3), \"%\")"
   ]
  },
  {
   "cell_type": "code",
   "execution_count": 130,
   "metadata": {},
   "outputs": [
    {
     "name": "stdout",
     "output_type": "stream",
     "text": [
      "len(emo_polarity) = 1958\n",
      "Counter({'NAN': 1949, 0: 4, -1: 3, 1: 2})\n"
     ]
    }
   ],
   "source": [
    "emo_polarity = []\n",
    "for word in my_words:\n",
    "    dt = emo.query(\"de in @word\")\n",
    "    if dt.Positive.mean() == 1:\n",
    "        emo_polarity.append(1)\n",
    "    elif dt.Negative.mean() == 1:\n",
    "        emo_polarity.append(-1)\n",
    "    elif dt.Negative.mean() == 0 and dt.Positive.mean() == 0:\n",
    "        emo_polarity.append(0)   \n",
    "    else:\n",
    "        emo_polarity.append(\"NAN\")\n",
    "\n",
    "print(\"len(emo_polarity) =\", len(emo_polarity))\n",
    "print(Counter(emo_polarity))"
   ]
  },
  {
   "cell_type": "code",
   "execution_count": null,
   "metadata": {},
   "outputs": [],
   "source": []
  }
 ],
 "metadata": {
  "kernelspec": {
   "display_name": "Python 3",
   "language": "python",
   "name": "python3"
  },
  "language_info": {
   "codemirror_mode": {
    "name": "ipython",
    "version": 3
   },
   "file_extension": ".py",
   "mimetype": "text/x-python",
   "name": "python",
   "nbconvert_exporter": "python",
   "pygments_lexer": "ipython3",
   "version": "3.8.5"
  }
 },
 "nbformat": 4,
 "nbformat_minor": 4
}
