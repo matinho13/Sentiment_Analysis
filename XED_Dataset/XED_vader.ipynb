{
 "cells": [
  {
   "cell_type": "code",
   "execution_count": 1,
   "metadata": {},
   "outputs": [],
   "source": [
    "import os,codecs\n",
    "import pandas as pd\n",
    "import nltk\n",
    "from nltk import*\n",
    "import matplotlib.pyplot as plt\n",
    "import string\n",
    "import numpy as np\n",
    "import seaborn as sns\n",
    "\n",
    "from sklearn.model_selection import train_test_split\n",
    "from sklearn.pipeline import Pipeline\n",
    "from sklearn.feature_extraction.text import TfidfVectorizer\n",
    "from sklearn.naive_bayes import MultinomialNB\n",
    "from sklearn.svm import LinearSVC\n",
    "from sklearn import metrics\n",
    "from sklearn.linear_model import LogisticRegression\n",
    "from sklearn.metrics import f1_score, accuracy_score"
   ]
  },
  {
   "cell_type": "markdown",
   "metadata": {},
   "source": [
    "# Data Cleaning"
   ]
  },
  {
   "cell_type": "code",
   "execution_count": 2,
   "metadata": {},
   "outputs": [
    {
     "data": {
      "text/html": [
       "<div>\n",
       "<style scoped>\n",
       "    .dataframe tbody tr th:only-of-type {\n",
       "        vertical-align: middle;\n",
       "    }\n",
       "\n",
       "    .dataframe tbody tr th {\n",
       "        vertical-align: top;\n",
       "    }\n",
       "\n",
       "    .dataframe thead th {\n",
       "        text-align: right;\n",
       "    }\n",
       "</style>\n",
       "<table border=\"1\" class=\"dataframe\">\n",
       "  <thead>\n",
       "    <tr style=\"text-align: right;\">\n",
       "      <th></th>\n",
       "      <th>sent</th>\n",
       "      <th>label_1</th>\n",
       "    </tr>\n",
       "  </thead>\n",
       "  <tbody>\n",
       "    <tr>\n",
       "      <th>0</th>\n",
       "      <td>, ...</td>\n",
       "      <td>1</td>\n",
       "    </tr>\n",
       "    <tr>\n",
       "      <th>1</th>\n",
       "      <td>!</td>\n",
       "      <td>1, 4, 7</td>\n",
       "    </tr>\n",
       "    <tr>\n",
       "      <th>2</th>\n",
       "      <td>... And I don't think we need to discuss the T...</td>\n",
       "      <td>8, 1</td>\n",
       "    </tr>\n",
       "    <tr>\n",
       "      <th>3</th>\n",
       "      <td>* So get up out of your bed</td>\n",
       "      <td>1</td>\n",
       "    </tr>\n",
       "    <tr>\n",
       "      <th>4</th>\n",
       "      <td>A confession that you hired [PERSON] ... and a...</td>\n",
       "      <td>1, 6</td>\n",
       "    </tr>\n",
       "  </tbody>\n",
       "</table>\n",
       "</div>"
      ],
      "text/plain": [
       "                                                sent  label_1\n",
       "0                                              , ...        1\n",
       "1                                                  !  1, 4, 7\n",
       "2  ... And I don't think we need to discuss the T...     8, 1\n",
       "3                        * So get up out of your bed        1\n",
       "4  A confession that you hired [PERSON] ... and a...     1, 6"
      ]
     },
     "execution_count": 2,
     "metadata": {},
     "output_type": "execute_result"
    }
   ],
   "source": [
    "df = pd.read_csv(\"XED.txt\",  error_bad_lines=False, sep= '\\t', header= None, names = [\"sent\", \"label_1\"])\n",
    "df.head()"
   ]
  },
  {
   "cell_type": "code",
   "execution_count": 3,
   "metadata": {},
   "outputs": [],
   "source": [
    "df[[\"label_1\", \"label_2\"]] = df['label_1'].str.split(\",\", 1, expand=True)\n",
    "df[[\"label_2\", \"label_3\"]] = df['label_2'].str.split(\",\", 1, expand=True)"
   ]
  },
  {
   "cell_type": "code",
   "execution_count": 4,
   "metadata": {},
   "outputs": [],
   "source": [
    "df[\"label_1\"] = pd.to_numeric(df[\"label_1\"])\n",
    "df[\"label_2_fill\"] = np.where(df.label_2.isnull(), df.label_1, df.label_2)\n",
    "df[\"label_2_fill\"] = pd.to_numeric(df[\"label_2_fill\"])"
   ]
  },
  {
   "cell_type": "code",
   "execution_count": 5,
   "metadata": {},
   "outputs": [],
   "source": [
    "lst_stopwords = nltk.corpus.stopwords.words(\"english\")"
   ]
  },
  {
   "cell_type": "code",
   "execution_count": 6,
   "metadata": {},
   "outputs": [],
   "source": [
    "def utils_preprocess_text(text, flg_stemm=False, flg_lemm=True, lst_stopwords=None):\n",
    "    ## clean (convert to lowercase and remove punctuations and characters and then strip)\n",
    "    text = re.sub(r'[^\\w\\s]', '', str(text).lower().strip())\n",
    "    \n",
    "               \n",
    "    ## Tokenize (convert from string to list)\n",
    "    lst_text = text.split()\n",
    "    table = str.maketrans('', '', string.punctuation)\n",
    "    lst_text = [w.translate(table) for w in lst_text]\n",
    "                   \n",
    "    ## back to string from list\n",
    "    text = \" \".join(lst_text)\n",
    "    return text"
   ]
  },
  {
   "cell_type": "code",
   "execution_count": 7,
   "metadata": {},
   "outputs": [],
   "source": [
    "df[\"text_clean\"] = df[\"sent\"].apply(lambda x: \n",
    "          utils_preprocess_text(x, flg_stemm=False, flg_lemm=True, \n",
    "          lst_stopwords= lst_stopwords))"
   ]
  },
  {
   "cell_type": "code",
   "execution_count": 8,
   "metadata": {},
   "outputs": [
    {
     "data": {
      "text/html": [
       "<div>\n",
       "<style scoped>\n",
       "    .dataframe tbody tr th:only-of-type {\n",
       "        vertical-align: middle;\n",
       "    }\n",
       "\n",
       "    .dataframe tbody tr th {\n",
       "        vertical-align: top;\n",
       "    }\n",
       "\n",
       "    .dataframe thead th {\n",
       "        text-align: right;\n",
       "    }\n",
       "</style>\n",
       "<table border=\"1\" class=\"dataframe\">\n",
       "  <thead>\n",
       "    <tr style=\"text-align: right;\">\n",
       "      <th></th>\n",
       "      <th>sent</th>\n",
       "      <th>label_1</th>\n",
       "      <th>label_2</th>\n",
       "      <th>label_3</th>\n",
       "      <th>label_2_fill</th>\n",
       "      <th>text_clean</th>\n",
       "      <th>tokenized_sents</th>\n",
       "    </tr>\n",
       "  </thead>\n",
       "  <tbody>\n",
       "    <tr>\n",
       "      <th>0</th>\n",
       "      <td>, ...</td>\n",
       "      <td>1</td>\n",
       "      <td>None</td>\n",
       "      <td>None</td>\n",
       "      <td>1</td>\n",
       "      <td></td>\n",
       "      <td>[]</td>\n",
       "    </tr>\n",
       "    <tr>\n",
       "      <th>1</th>\n",
       "      <td>!</td>\n",
       "      <td>1</td>\n",
       "      <td>4</td>\n",
       "      <td>7</td>\n",
       "      <td>4</td>\n",
       "      <td></td>\n",
       "      <td>[]</td>\n",
       "    </tr>\n",
       "    <tr>\n",
       "      <th>2</th>\n",
       "      <td>... And I don't think we need to discuss the T...</td>\n",
       "      <td>8</td>\n",
       "      <td>1</td>\n",
       "      <td>None</td>\n",
       "      <td>1</td>\n",
       "      <td>and i dont think we need to discuss the trinit...</td>\n",
       "      <td>[and, i, dont, think, we, need, to, discuss, t...</td>\n",
       "    </tr>\n",
       "    <tr>\n",
       "      <th>3</th>\n",
       "      <td>* So get up out of your bed</td>\n",
       "      <td>1</td>\n",
       "      <td>None</td>\n",
       "      <td>None</td>\n",
       "      <td>1</td>\n",
       "      <td>so get up out of your bed</td>\n",
       "      <td>[so, get, up, out, of, your, bed]</td>\n",
       "    </tr>\n",
       "    <tr>\n",
       "      <th>4</th>\n",
       "      <td>A confession that you hired [PERSON] ... and a...</td>\n",
       "      <td>1</td>\n",
       "      <td>6</td>\n",
       "      <td>None</td>\n",
       "      <td>6</td>\n",
       "      <td>a confession that you hired person and are res...</td>\n",
       "      <td>[a, confession, that, you, hired, person, and,...</td>\n",
       "    </tr>\n",
       "  </tbody>\n",
       "</table>\n",
       "</div>"
      ],
      "text/plain": [
       "                                                sent  label_1 label_2 label_3  \\\n",
       "0                                              , ...        1    None    None   \n",
       "1                                                  !        1       4       7   \n",
       "2  ... And I don't think we need to discuss the T...        8       1    None   \n",
       "3                        * So get up out of your bed        1    None    None   \n",
       "4  A confession that you hired [PERSON] ... and a...        1       6    None   \n",
       "\n",
       "   label_2_fill                                         text_clean  \\\n",
       "0             1                                                      \n",
       "1             4                                                      \n",
       "2             1  and i dont think we need to discuss the trinit...   \n",
       "3             1                          so get up out of your bed   \n",
       "4             6  a confession that you hired person and are res...   \n",
       "\n",
       "                                     tokenized_sents  \n",
       "0                                                 []  \n",
       "1                                                 []  \n",
       "2  [and, i, dont, think, we, need, to, discuss, t...  \n",
       "3                  [so, get, up, out, of, your, bed]  \n",
       "4  [a, confession, that, you, hired, person, and,...  "
      ]
     },
     "execution_count": 8,
     "metadata": {},
     "output_type": "execute_result"
    }
   ],
   "source": [
    "df['tokenized_sents'] = df.apply(lambda row: nltk.word_tokenize(row[\"text_clean\"]), axis=1)\n",
    "df.head()"
   ]
  },
  {
   "cell_type": "code",
   "execution_count": 9,
   "metadata": {},
   "outputs": [
    {
     "data": {
      "text/plain": [
       "(3, 7)"
      ]
     },
     "execution_count": 9,
     "metadata": {},
     "output_type": "execute_result"
    }
   ],
   "source": [
    "h = df[df[\"text_clean\"] == \"\"]\n",
    "h.shape"
   ]
  },
  {
   "cell_type": "code",
   "execution_count": null,
   "metadata": {},
   "outputs": [],
   "source": []
  },
  {
   "cell_type": "markdown",
   "metadata": {},
   "source": [
    "# The Hit Rate of Vader (18.134 %)"
   ]
  },
  {
   "cell_type": "code",
   "execution_count": 10,
   "metadata": {},
   "outputs": [
    {
     "data": {
      "text/html": [
       "<div>\n",
       "<style scoped>\n",
       "    .dataframe tbody tr th:only-of-type {\n",
       "        vertical-align: middle;\n",
       "    }\n",
       "\n",
       "    .dataframe tbody tr th {\n",
       "        vertical-align: top;\n",
       "    }\n",
       "\n",
       "    .dataframe thead th {\n",
       "        text-align: right;\n",
       "    }\n",
       "</style>\n",
       "<table border=\"1\" class=\"dataframe\">\n",
       "  <thead>\n",
       "    <tr style=\"text-align: right;\">\n",
       "      <th></th>\n",
       "      <th>word</th>\n",
       "      <th>value_1</th>\n",
       "      <th>value_2</th>\n",
       "      <th>list</th>\n",
       "    </tr>\n",
       "  </thead>\n",
       "  <tbody>\n",
       "    <tr>\n",
       "      <th>0</th>\n",
       "      <td>);&lt;</td>\n",
       "      <td>-2.6</td>\n",
       "      <td>0.80000</td>\n",
       "      <td>[-2, -2, -2, -3, -2, -3, -2, -2, -4, -4]</td>\n",
       "    </tr>\n",
       "    <tr>\n",
       "      <th>1</th>\n",
       "      <td>*)</td>\n",
       "      <td>0.6</td>\n",
       "      <td>1.42829</td>\n",
       "      <td>[1, -1, 1, -3, 1, 1, 2, 1, 1, 2]</td>\n",
       "    </tr>\n",
       "    <tr>\n",
       "      <th>2</th>\n",
       "      <td>*-)</td>\n",
       "      <td>0.3</td>\n",
       "      <td>1.61555</td>\n",
       "      <td>[1, -3, -2, 2, 1, 1, -1, 2, 1, 1]</td>\n",
       "    </tr>\n",
       "    <tr>\n",
       "      <th>3</th>\n",
       "      <td>*-:</td>\n",
       "      <td>2.1</td>\n",
       "      <td>1.51327</td>\n",
       "      <td>[2, 2, 4, 4, 2, 1, -1, 4, 1, 2]</td>\n",
       "    </tr>\n",
       "    <tr>\n",
       "      <th>4</th>\n",
       "      <td>*-;</td>\n",
       "      <td>2.4</td>\n",
       "      <td>1.62481</td>\n",
       "      <td>[2, 3, 4, 4, 2, 1, -1, 4, 1, 4]</td>\n",
       "    </tr>\n",
       "  </tbody>\n",
       "</table>\n",
       "</div>"
      ],
      "text/plain": [
       "  word  value_1  value_2                                      list\n",
       "0  );<     -2.6  0.80000  [-2, -2, -2, -3, -2, -3, -2, -2, -4, -4]\n",
       "1   *)      0.6  1.42829          [1, -1, 1, -3, 1, 1, 2, 1, 1, 2]\n",
       "2  *-)      0.3  1.61555         [1, -3, -2, 2, 1, 1, -1, 2, 1, 1]\n",
       "3  *-:      2.1  1.51327           [2, 2, 4, 4, 2, 1, -1, 4, 1, 2]\n",
       "4  *-;      2.4  1.62481           [2, 3, 4, 4, 2, 1, -1, 4, 1, 4]"
      ]
     },
     "execution_count": 10,
     "metadata": {},
     "output_type": "execute_result"
    }
   ],
   "source": [
    "file = \"vader_lexicon.txt\"\n",
    "vader_df = pd.read_csv(file,  names=[\"word\", \"value_1\", \"value_2\", \"list\"], skiprows=45, sep='\\t')\n",
    "vader_df.head()"
   ]
  },
  {
   "cell_type": "code",
   "execution_count": 11,
   "metadata": {},
   "outputs": [
    {
     "data": {
      "text/plain": [
       "(7475, 4)"
      ]
     },
     "execution_count": 11,
     "metadata": {},
     "output_type": "execute_result"
    }
   ],
   "source": [
    "vader_df.shape"
   ]
  },
  {
   "cell_type": "code",
   "execution_count": 12,
   "metadata": {},
   "outputs": [
    {
     "name": "stdout",
     "output_type": "stream",
     "text": [
      "the length of the list word_list 130534\n",
      "the length of the set word_list 8586\n"
     ]
    }
   ],
   "source": [
    "word_list = []\n",
    "for sent in df.tokenized_sents:\n",
    "    for word in sent:\n",
    "        word_list.append(word)\n",
    "        \n",
    "print(\"the length of the list word_list\", len(word_list))\n",
    "print(\"the length of the set word_list\", len(set(word_list)))"
   ]
  },
  {
   "cell_type": "code",
   "execution_count": 13,
   "metadata": {},
   "outputs": [
    {
     "name": "stdout",
     "output_type": "stream",
     "text": [
      "7475\n"
     ]
    }
   ],
   "source": [
    "vader_words = []\n",
    "for word in vader_df.word:\n",
    "    vader_words.append(word)\n",
    "print(len(vader_words))"
   ]
  },
  {
   "cell_type": "code",
   "execution_count": 14,
   "metadata": {},
   "outputs": [
    {
     "name": "stdout",
     "output_type": "stream",
     "text": [
      "1557\n"
     ]
    }
   ],
   "source": [
    "match_vader = []\n",
    "for word in set(word_list):\n",
    "    if word in vader_words:\n",
    "        match_vader.append(word)\n",
    "print(len(match_vader))"
   ]
  },
  {
   "cell_type": "code",
   "execution_count": 15,
   "metadata": {},
   "outputs": [
    {
     "name": "stdout",
     "output_type": "stream",
     "text": [
      "The hit rate of Vader =  18.134 %)\n"
     ]
    }
   ],
   "source": [
    "print(\"The hit rate of Vader = \", round(len(match_vader)*100/len(set(word_list)),3), \"%)\")"
   ]
  },
  {
   "cell_type": "code",
   "execution_count": null,
   "metadata": {},
   "outputs": [],
   "source": []
  },
  {
   "cell_type": "markdown",
   "metadata": {},
   "source": [
    "# Evaluating the Performance of Vader"
   ]
  },
  {
   "cell_type": "code",
   "execution_count": 16,
   "metadata": {},
   "outputs": [],
   "source": [
    "from vaderSentiment.vaderSentiment import SentimentIntensityAnalyzer"
   ]
  },
  {
   "cell_type": "code",
   "execution_count": 17,
   "metadata": {},
   "outputs": [],
   "source": [
    "def sentiment_scores(sentence): \n",
    "  \n",
    "    sid_obj = SentimentIntensityAnalyzer() \n",
    "    sentiment_dict = sid_obj.polarity_scores(sentence) \n",
    "     \n",
    "    \n",
    "    if sentiment_dict['compound'] >= 0.05 : \n",
    "        return 1 \n",
    "  \n",
    "    elif sentiment_dict['compound'] <= - 0.05 : \n",
    "        return -1 \n",
    "  \n",
    "    else : \n",
    "        return 0\n"
   ]
  },
  {
   "cell_type": "code",
   "execution_count": 18,
   "metadata": {},
   "outputs": [],
   "source": [
    "polarity = []\n",
    "for sent in df.text_clean:\n",
    "    polarity.append(sentiment_scores(sent))"
   ]
  },
  {
   "cell_type": "code",
   "execution_count": 19,
   "metadata": {},
   "outputs": [
    {
     "data": {
      "text/plain": [
       "17528"
      ]
     },
     "execution_count": 19,
     "metadata": {},
     "output_type": "execute_result"
    }
   ],
   "source": [
    "len(polarity)"
   ]
  },
  {
   "cell_type": "code",
   "execution_count": 20,
   "metadata": {},
   "outputs": [],
   "source": [
    "df[\"polarity\"] = polarity"
   ]
  },
  {
   "cell_type": "code",
   "execution_count": 21,
   "metadata": {},
   "outputs": [
    {
     "data": {
      "text/html": [
       "<div>\n",
       "<style scoped>\n",
       "    .dataframe tbody tr th:only-of-type {\n",
       "        vertical-align: middle;\n",
       "    }\n",
       "\n",
       "    .dataframe tbody tr th {\n",
       "        vertical-align: top;\n",
       "    }\n",
       "\n",
       "    .dataframe thead th {\n",
       "        text-align: right;\n",
       "    }\n",
       "</style>\n",
       "<table border=\"1\" class=\"dataframe\">\n",
       "  <thead>\n",
       "    <tr style=\"text-align: right;\">\n",
       "      <th></th>\n",
       "      <th>sent</th>\n",
       "      <th>label_1</th>\n",
       "      <th>label_2</th>\n",
       "      <th>label_3</th>\n",
       "      <th>label_2_fill</th>\n",
       "      <th>text_clean</th>\n",
       "      <th>tokenized_sents</th>\n",
       "      <th>polarity</th>\n",
       "    </tr>\n",
       "  </thead>\n",
       "  <tbody>\n",
       "    <tr>\n",
       "      <th>0</th>\n",
       "      <td>, ...</td>\n",
       "      <td>1</td>\n",
       "      <td>None</td>\n",
       "      <td>None</td>\n",
       "      <td>1</td>\n",
       "      <td></td>\n",
       "      <td>[]</td>\n",
       "      <td>0</td>\n",
       "    </tr>\n",
       "    <tr>\n",
       "      <th>1</th>\n",
       "      <td>!</td>\n",
       "      <td>1</td>\n",
       "      <td>4</td>\n",
       "      <td>7</td>\n",
       "      <td>4</td>\n",
       "      <td></td>\n",
       "      <td>[]</td>\n",
       "      <td>0</td>\n",
       "    </tr>\n",
       "    <tr>\n",
       "      <th>2</th>\n",
       "      <td>... And I don't think we need to discuss the T...</td>\n",
       "      <td>8</td>\n",
       "      <td>1</td>\n",
       "      <td>None</td>\n",
       "      <td>1</td>\n",
       "      <td>and i dont think we need to discuss the trinit...</td>\n",
       "      <td>[and, i, dont, think, we, need, to, discuss, t...</td>\n",
       "      <td>0</td>\n",
       "    </tr>\n",
       "    <tr>\n",
       "      <th>3</th>\n",
       "      <td>* So get up out of your bed</td>\n",
       "      <td>1</td>\n",
       "      <td>None</td>\n",
       "      <td>None</td>\n",
       "      <td>1</td>\n",
       "      <td>so get up out of your bed</td>\n",
       "      <td>[so, get, up, out, of, your, bed]</td>\n",
       "      <td>0</td>\n",
       "    </tr>\n",
       "    <tr>\n",
       "      <th>4</th>\n",
       "      <td>A confession that you hired [PERSON] ... and a...</td>\n",
       "      <td>1</td>\n",
       "      <td>6</td>\n",
       "      <td>None</td>\n",
       "      <td>6</td>\n",
       "      <td>a confession that you hired person and are res...</td>\n",
       "      <td>[a, confession, that, you, hired, person, and,...</td>\n",
       "      <td>-1</td>\n",
       "    </tr>\n",
       "  </tbody>\n",
       "</table>\n",
       "</div>"
      ],
      "text/plain": [
       "                                                sent  label_1 label_2 label_3  \\\n",
       "0                                              , ...        1    None    None   \n",
       "1                                                  !        1       4       7   \n",
       "2  ... And I don't think we need to discuss the T...        8       1    None   \n",
       "3                        * So get up out of your bed        1    None    None   \n",
       "4  A confession that you hired [PERSON] ... and a...        1       6    None   \n",
       "\n",
       "   label_2_fill                                         text_clean  \\\n",
       "0             1                                                      \n",
       "1             4                                                      \n",
       "2             1  and i dont think we need to discuss the trinit...   \n",
       "3             1                          so get up out of your bed   \n",
       "4             6  a confession that you hired person and are res...   \n",
       "\n",
       "                                     tokenized_sents  polarity  \n",
       "0                                                 []         0  \n",
       "1                                                 []         0  \n",
       "2  [and, i, dont, think, we, need, to, discuss, t...         0  \n",
       "3                  [so, get, up, out, of, your, bed]         0  \n",
       "4  [a, confession, that, you, hired, person, and,...        -1  "
      ]
     },
     "execution_count": 21,
     "metadata": {},
     "output_type": "execute_result"
    }
   ],
   "source": [
    "df.head()"
   ]
  },
  {
   "cell_type": "code",
   "execution_count": 22,
   "metadata": {},
   "outputs": [
    {
     "data": {
      "image/png": "[encoded data removed]",
      "text/plain": [
       "<Figure size 432x288 with 1 Axes>"
      ]
     },
     "metadata": {
      "needs_background": "light"
     },
     "output_type": "display_data"
    }
   ],
   "source": [
    "plt.hist(df[\"polarity\"]);"
   ]
  },
  {
   "cell_type": "code",
   "execution_count": 23,
   "metadata": {},
   "outputs": [
    {
     "data": {
      "text/plain": [
       " 0    7291\n",
       " 1    5686\n",
       "-1    4551\n",
       "Name: polarity, dtype: int64"
      ]
     },
     "execution_count": 23,
     "metadata": {},
     "output_type": "execute_result"
    }
   ],
   "source": [
    "df.polarity.value_counts()"
   ]
  },
  {
   "cell_type": "code",
   "execution_count": 24,
   "metadata": {},
   "outputs": [],
   "source": [
    "df = df[[\"text_clean\", \"label_1\", \"label_2_fill\", \"polarity\"]]"
   ]
  },
  {
   "cell_type": "code",
   "execution_count": 25,
   "metadata": {},
   "outputs": [],
   "source": [
    "df[\"label_polarity\"] = df[\"label_1\"].map({1:-1, 2:1, 3:-1, 4:-1, 5:1, 6:-1, 7:-1, 8:1})"
   ]
  },
  {
   "cell_type": "code",
   "execution_count": 26,
   "metadata": {},
   "outputs": [
    {
     "data": {
      "text/plain": [
       "-1    10291\n",
       " 1     7237\n",
       "Name: label_polarity, dtype: int64"
      ]
     },
     "execution_count": 26,
     "metadata": {},
     "output_type": "execute_result"
    }
   ],
   "source": [
    "df[\"label_polarity\"].value_counts()"
   ]
  },
  {
   "cell_type": "code",
   "execution_count": 27,
   "metadata": {},
   "outputs": [],
   "source": [
    "def print_accuracy(df, pred_column):\n",
    "    \"Print f1 score and accuracy after making predictions\"\n",
    "    f1_macro = f1_score(df[\"label_polarity\"], df[pred_column], average='macro')\n",
    "    acc = accuracy_score(df[\"label_polarity\"], df[pred_column])*100\n",
    "    return f1_macro, acc"
   ]
  },
  {
   "cell_type": "code",
   "execution_count": 28,
   "metadata": {},
   "outputs": [
    {
     "name": "stdout",
     "output_type": "stream",
     "text": [
      "Macro F1-score: 0.358\n",
      "Accuracy: 42.412\n"
     ]
    }
   ],
   "source": [
    "acc = print_accuracy(df, \"polarity\")\n",
    "print(\"Macro F1-score: {}\\nAccuracy: {}\".format(round(acc[0], 3), round(acc[1], 3)))"
   ]
  },
  {
   "cell_type": "code",
   "execution_count": 29,
   "metadata": {},
   "outputs": [
    {
     "data": {
      "image/png": "[encoded data removed]",
      "text/plain": [
       "<Figure size 360x360 with 2 Axes>"
      ]
     },
     "metadata": {
      "needs_background": "light"
     },
     "output_type": "display_data"
    }
   ],
   "source": [
    "confusion_matrix = metrics.confusion_matrix(df.label_polarity, df.polarity)\n",
    "f,ax = plt.subplots(figsize=(5,5))\n",
    "sns.heatmap(confusion_matrix, annot=True, linewidths=.5, fmt= 'd',ax=ax, cmap=\"YlGnBu\");\n",
    "plt.title(\"confusion matrix of NB\")\n",
    "plt.xlabel(\"true label\");\n",
    "plt.ylabel(\"predictions\");"
   ]
  },
  {
   "cell_type": "markdown",
   "metadata": {},
   "source": [
    "# After removing the neutral datapoints"
   ]
  },
  {
   "cell_type": "code",
   "execution_count": 30,
   "metadata": {},
   "outputs": [
    {
     "data": {
      "text/plain": [
       "(10237, 5)"
      ]
     },
     "execution_count": 30,
     "metadata": {},
     "output_type": "execute_result"
    }
   ],
   "source": [
    "df_pol = df[df.polarity != 0]\n",
    "df_pol.shape"
   ]
  },
  {
   "cell_type": "code",
   "execution_count": 31,
   "metadata": {},
   "outputs": [
    {
     "name": "stdout",
     "output_type": "stream",
     "text": [
      "Macro F1-score: 0.358\n",
      "Accuracy: 42.412\n"
     ]
    }
   ],
   "source": [
    "#After removing the neutral\n",
    "acc = print_accuracy(df, \"polarity\")\n",
    "print(\"Macro F1-score: {}\\nAccuracy: {}\".format(round(acc[0], 3), round(acc[1], 3)))"
   ]
  },
  {
   "cell_type": "code",
   "execution_count": 32,
   "metadata": {},
   "outputs": [
    {
     "data": {
      "image/png": "[encoded data removed]",
      "text/plain": [
       "<Figure size 360x360 with 2 Axes>"
      ]
     },
     "metadata": {
      "needs_background": "light"
     },
     "output_type": "display_data"
    }
   ],
   "source": [
    "confusion_matrix = metrics.confusion_matrix(df.label_polarity, df.polarity)\n",
    "f,ax = plt.subplots(figsize=(5,5))\n",
    "sns.heatmap(confusion_matrix, annot=True, linewidths=.5, fmt= 'd',ax=ax, cmap=\"YlGnBu\");\n",
    "plt.title(\"confusion matrix of NB\")\n",
    "plt.xlabel(\"true label\");\n",
    "plt.ylabel(\"predictions\");"
   ]
  },
  {
   "cell_type": "markdown",
   "metadata": {},
   "source": [
    "# Classification"
   ]
  },
  {
   "cell_type": "code",
   "execution_count": 33,
   "metadata": {},
   "outputs": [
    {
     "data": {
      "text/plain": [
       "(17528, 5)"
      ]
     },
     "execution_count": 33,
     "metadata": {},
     "output_type": "execute_result"
    }
   ],
   "source": [
    "df.shape"
   ]
  },
  {
   "cell_type": "code",
   "execution_count": 34,
   "metadata": {},
   "outputs": [
    {
     "data": {
      "text/plain": [
       " 0    7291\n",
       " 1    5686\n",
       "-1    4551\n",
       "Name: polarity, dtype: int64"
      ]
     },
     "execution_count": 34,
     "metadata": {},
     "output_type": "execute_result"
    }
   ],
   "source": [
    "df.polarity.value_counts()"
   ]
  },
  {
   "cell_type": "code",
   "execution_count": 35,
   "metadata": {},
   "outputs": [
    {
     "data": {
      "text/plain": [
       "-1    10291\n",
       " 1     7237\n",
       "Name: label_polarity, dtype: int64"
      ]
     },
     "execution_count": 35,
     "metadata": {},
     "output_type": "execute_result"
    }
   ],
   "source": [
    "df.label_polarity.value_counts()"
   ]
  },
  {
   "cell_type": "code",
   "execution_count": 36,
   "metadata": {},
   "outputs": [
    {
     "data": {
      "text/plain": [
       "(17528, 5)"
      ]
     },
     "execution_count": 36,
     "metadata": {},
     "output_type": "execute_result"
    }
   ],
   "source": [
    "df.shape"
   ]
  },
  {
   "cell_type": "code",
   "execution_count": 37,
   "metadata": {},
   "outputs": [
    {
     "data": {
      "text/html": [
       "<div>\n",
       "<style scoped>\n",
       "    .dataframe tbody tr th:only-of-type {\n",
       "        vertical-align: middle;\n",
       "    }\n",
       "\n",
       "    .dataframe tbody tr th {\n",
       "        vertical-align: top;\n",
       "    }\n",
       "\n",
       "    .dataframe thead th {\n",
       "        text-align: right;\n",
       "    }\n",
       "</style>\n",
       "<table border=\"1\" class=\"dataframe\">\n",
       "  <thead>\n",
       "    <tr style=\"text-align: right;\">\n",
       "      <th></th>\n",
       "      <th>text_clean</th>\n",
       "      <th>label_1</th>\n",
       "      <th>label_2_fill</th>\n",
       "      <th>polarity</th>\n",
       "      <th>label_polarity</th>\n",
       "    </tr>\n",
       "  </thead>\n",
       "  <tbody>\n",
       "    <tr>\n",
       "      <th>0</th>\n",
       "      <td></td>\n",
       "      <td>1</td>\n",
       "      <td>1</td>\n",
       "      <td>0</td>\n",
       "      <td>-1</td>\n",
       "    </tr>\n",
       "    <tr>\n",
       "      <th>1</th>\n",
       "      <td></td>\n",
       "      <td>1</td>\n",
       "      <td>4</td>\n",
       "      <td>0</td>\n",
       "      <td>-1</td>\n",
       "    </tr>\n",
       "    <tr>\n",
       "      <th>2</th>\n",
       "      <td>and i dont think we need to discuss the trinit...</td>\n",
       "      <td>8</td>\n",
       "      <td>1</td>\n",
       "      <td>0</td>\n",
       "      <td>1</td>\n",
       "    </tr>\n",
       "    <tr>\n",
       "      <th>3</th>\n",
       "      <td>so get up out of your bed</td>\n",
       "      <td>1</td>\n",
       "      <td>1</td>\n",
       "      <td>0</td>\n",
       "      <td>-1</td>\n",
       "    </tr>\n",
       "    <tr>\n",
       "      <th>4</th>\n",
       "      <td>a confession that you hired person and are res...</td>\n",
       "      <td>1</td>\n",
       "      <td>6</td>\n",
       "      <td>-1</td>\n",
       "      <td>-1</td>\n",
       "    </tr>\n",
       "  </tbody>\n",
       "</table>\n",
       "</div>"
      ],
      "text/plain": [
       "                                          text_clean  label_1  label_2_fill  \\\n",
       "0                                                           1             1   \n",
       "1                                                           1             4   \n",
       "2  and i dont think we need to discuss the trinit...        8             1   \n",
       "3                          so get up out of your bed        1             1   \n",
       "4  a confession that you hired person and are res...        1             6   \n",
       "\n",
       "   polarity  label_polarity  \n",
       "0         0              -1  \n",
       "1         0              -1  \n",
       "2         0               1  \n",
       "3         0              -1  \n",
       "4        -1              -1  "
      ]
     },
     "execution_count": 37,
     "metadata": {},
     "output_type": "execute_result"
    }
   ],
   "source": [
    "df.head()"
   ]
  },
  {
   "cell_type": "code",
   "execution_count": 38,
   "metadata": {},
   "outputs": [],
   "source": [
    "X = df[\"text_clean\"]\n",
    "y_target = df[\"polarity\"]\n",
    "y_label = df[\"label_polarity\"]\n",
    "\n",
    "X_train, X_test, y_train_t, y_test_t, y_train_l, y_test_l = train_test_split(X, y_target, y_label, test_size=0.30, random_state=42)"
   ]
  },
  {
   "cell_type": "code",
   "execution_count": 39,
   "metadata": {},
   "outputs": [],
   "source": [
    "# Naïve Bayes:\n",
    "text_clf_nb = Pipeline([('tfidf', TfidfVectorizer()),\n",
    "                     ('clf', MultinomialNB()),\n",
    "])\n",
    "\n",
    "# Linear SVC:\n",
    "text_clf_lsvc = Pipeline([('tfidf', TfidfVectorizer()),\n",
    "                     ('clf', LinearSVC()),\n",
    "])\n",
    "\n",
    "# LogisticRegression \n",
    "text_clf_lr = Pipeline([('tfidf', TfidfVectorizer()),\n",
    "                     ('clf', LogisticRegression()),\n",
    "])"
   ]
  },
  {
   "cell_type": "code",
   "execution_count": 40,
   "metadata": {},
   "outputs": [
    {
     "name": "stdout",
     "output_type": "stream",
     "text": [
      "Report of MultinomialNB, vader polarity\n",
      "Confusion Matrix \n",
      " [[ 637 1815  648]\n",
      " [   0    0    0]\n",
      " [ 118 1093  948]]\n",
      "              precision    recall  f1-score   support\n",
      "\n",
      "          -1       0.84      0.21      0.33      3100\n",
      "           0       0.00      0.00      0.00         0\n",
      "           1       0.59      0.44      0.50      2159\n",
      "\n",
      "    accuracy                           0.30      5259\n",
      "   macro avg       0.48      0.21      0.28      5259\n",
      "weighted avg       0.74      0.30      0.40      5259\n",
      "\n",
      "Accuracy Score:  0.3013880965963111\n"
     ]
    },
    {
     "name": "stderr",
     "output_type": "stream",
     "text": [
      "C:\\Users\\rahaf\\Anaconda3\\lib\\site-packages\\sklearn\\metrics\\_classification.py:1221: UndefinedMetricWarning: Recall and F-score are ill-defined and being set to 0.0 in labels with no true samples. Use `zero_division` parameter to control this behavior.\n",
      "  _warn_prf(average, modifier, msg_start, len(result))\n"
     ]
    }
   ],
   "source": [
    "print(\"Report of MultinomialNB, vader polarity\")\n",
    "text_clf_nb.fit(X_train, y_train_t)\n",
    "predictions = text_clf_nb.predict(X_test)\n",
    "print(\"Confusion Matrix \\n\",metrics.confusion_matrix(y_test_l,predictions))\n",
    "print(metrics.classification_report(y_test_l,predictions))\n",
    "print(\"Accuracy Score: \", metrics.accuracy_score(y_test_l,predictions))"
   ]
  },
  {
   "cell_type": "code",
   "execution_count": 41,
   "metadata": {},
   "outputs": [
    {
     "name": "stdout",
     "output_type": "stream",
     "text": [
      "Report of LinearSVC, vader polarity\n",
      "Confusion Matrix \n",
      " [[ 973 1512  615]\n",
      " [   0    0    0]\n",
      " [ 238  937  984]]\n",
      "              precision    recall  f1-score   support\n",
      "\n",
      "          -1       0.80      0.31      0.45      3100\n",
      "           0       0.00      0.00      0.00         0\n",
      "           1       0.62      0.46      0.52      2159\n",
      "\n",
      "    accuracy                           0.37      5259\n",
      "   macro avg       0.47      0.26      0.33      5259\n",
      "weighted avg       0.73      0.37      0.48      5259\n",
      "\n",
      "Accuracy Score:  0.3721239779425746\n"
     ]
    }
   ],
   "source": [
    "print(\"Report of LinearSVC, vader polarity\")\n",
    "text_clf_lsvc.fit(X_train, y_train_t)\n",
    "predictions = text_clf_lsvc.predict(X_test)\n",
    "print(\"Confusion Matrix \\n\", metrics.confusion_matrix(y_test_l,predictions))\n",
    "print(metrics.classification_report(y_test_l,predictions))\n",
    "print(\"Accuracy Score: \", metrics.accuracy_score(y_test_l,predictions))"
   ]
  },
  {
   "cell_type": "code",
   "execution_count": 42,
   "metadata": {},
   "outputs": [
    {
     "name": "stdout",
     "output_type": "stream",
     "text": [
      "Report of LogisticRegression, vader polarity\n",
      "Confusion Matrix \n",
      " [[ 863 1668  569]\n",
      " [   0    0    0]\n",
      " [ 218 1009  932]]\n",
      "              precision    recall  f1-score   support\n",
      "\n",
      "          -1       0.80      0.28      0.41      3100\n",
      "           0       0.00      0.00      0.00         0\n",
      "           1       0.62      0.43      0.51      2159\n",
      "\n",
      "    accuracy                           0.34      5259\n",
      "   macro avg       0.47      0.24      0.31      5259\n",
      "weighted avg       0.73      0.34      0.45      5259\n",
      "\n",
      "Accuracy Score:  0.3413196425175889\n"
     ]
    },
    {
     "name": "stderr",
     "output_type": "stream",
     "text": [
      "C:\\Users\\rahaf\\Anaconda3\\lib\\site-packages\\sklearn\\linear_model\\_logistic.py:762: ConvergenceWarning: lbfgs failed to converge (status=1):\n",
      "STOP: TOTAL NO. of ITERATIONS REACHED LIMIT.\n",
      "\n",
      "Increase the number of iterations (max_iter) or scale the data as shown in:\n",
      "    https://scikit-learn.org/stable/modules/preprocessing.html\n",
      "Please also refer to the documentation for alternative solver options:\n",
      "    https://scikit-learn.org/stable/modules/linear_model.html#logistic-regression\n",
      "  n_iter_i = _check_optimize_result(\n",
      "C:\\Users\\rahaf\\Anaconda3\\lib\\site-packages\\sklearn\\metrics\\_classification.py:1221: UndefinedMetricWarning: Recall and F-score are ill-defined and being set to 0.0 in labels with no true samples. Use `zero_division` parameter to control this behavior.\n",
      "  _warn_prf(average, modifier, msg_start, len(result))\n"
     ]
    }
   ],
   "source": [
    "print(\"Report of LogisticRegression, vader polarity\")\n",
    "text_clf_lr.fit(X_train, y_train_t)\n",
    "predictions = text_clf_lr.predict(X_test)\n",
    "print(\"Confusion Matrix \\n\", metrics.confusion_matrix(y_test_l,predictions))\n",
    "print(metrics.classification_report(y_test_l,predictions))\n",
    "print(\"Accuracy Score: \", metrics.accuracy_score(y_test_l,predictions))"
   ]
  },
  {
   "cell_type": "markdown",
   "metadata": {},
   "source": [
    "# For the 2nd Label"
   ]
  },
  {
   "cell_type": "code",
   "execution_count": 43,
   "metadata": {},
   "outputs": [],
   "source": [
    "df[\"label_polarity_2\"] = df[\"label_2_fill\"].map({1:-1, 2:1, 3:-1, 4:-1, 5:1, 6:-1, 7:-1, 8:1})"
   ]
  },
  {
   "cell_type": "code",
   "execution_count": 44,
   "metadata": {},
   "outputs": [],
   "source": [
    "X = df[\"text_clean\"]\n",
    "y_target = df[\"polarity\"]\n",
    "y_label = df[\"label_polarity_2\"]\n",
    "\n",
    "X_train, X_test, y_train_t, y_test_t, y_train_l, y_test_l = train_test_split(X, y_target, y_label, test_size=0.30, random_state=42)"
   ]
  },
  {
   "cell_type": "code",
   "execution_count": 45,
   "metadata": {},
   "outputs": [
    {
     "data": {
      "text/plain": [
       "-1    10692\n",
       " 1     6836\n",
       "Name: label_polarity_2, dtype: int64"
      ]
     },
     "execution_count": 45,
     "metadata": {},
     "output_type": "execute_result"
    }
   ],
   "source": [
    "df.label_polarity_2.value_counts()"
   ]
  },
  {
   "cell_type": "code",
   "execution_count": 46,
   "metadata": {},
   "outputs": [
    {
     "name": "stdout",
     "output_type": "stream",
     "text": [
      "Report of MultinomialNB, vader polarity label_2\n",
      "Confusion Matrix \n",
      " [[ 645 1880  684]\n",
      " [   0    0    0]\n",
      " [ 110 1028  912]]\n",
      "              precision    recall  f1-score   support\n",
      "\n",
      "          -1       0.85      0.20      0.33      3209\n",
      "           0       0.00      0.00      0.00         0\n",
      "           1       0.57      0.44      0.50      2050\n",
      "\n",
      "    accuracy                           0.30      5259\n",
      "   macro avg       0.48      0.22      0.28      5259\n",
      "weighted avg       0.74      0.30      0.39      5259\n",
      "\n",
      "Accuracy Score:  0.29606389047347403\n"
     ]
    },
    {
     "name": "stderr",
     "output_type": "stream",
     "text": [
      "C:\\Users\\rahaf\\Anaconda3\\lib\\site-packages\\sklearn\\metrics\\_classification.py:1221: UndefinedMetricWarning: Recall and F-score are ill-defined and being set to 0.0 in labels with no true samples. Use `zero_division` parameter to control this behavior.\n",
      "  _warn_prf(average, modifier, msg_start, len(result))\n"
     ]
    }
   ],
   "source": [
    "print(\"Report of MultinomialNB, vader polarity label_2\")\n",
    "text_clf_nb.fit(X_train, y_train_t)\n",
    "predictions = text_clf_nb.predict(X_test)\n",
    "print(\"Confusion Matrix \\n\",metrics.confusion_matrix(y_test_l,predictions))\n",
    "print(metrics.classification_report(y_test_l,predictions))\n",
    "print(\"Accuracy Score: \", metrics.accuracy_score(y_test_l,predictions))"
   ]
  },
  {
   "cell_type": "code",
   "execution_count": 47,
   "metadata": {},
   "outputs": [
    {
     "name": "stdout",
     "output_type": "stream",
     "text": [
      "Report of LinearSVC, vader polarity label_2\n",
      "Confusion Matrix \n",
      " [[ 986 1564  659]\n",
      " [   0    0    0]\n",
      " [ 225  885  940]]\n",
      "              precision    recall  f1-score   support\n",
      "\n",
      "          -1       0.81      0.31      0.45      3209\n",
      "           0       0.00      0.00      0.00         0\n",
      "           1       0.59      0.46      0.52      2050\n",
      "\n",
      "    accuracy                           0.37      5259\n",
      "   macro avg       0.47      0.26      0.32      5259\n",
      "weighted avg       0.73      0.37      0.47      5259\n",
      "\n",
      "Accuracy Score:  0.3662293211637193\n"
     ]
    }
   ],
   "source": [
    "print(\"Report of LinearSVC, vader polarity label_2\")\n",
    "text_clf_lsvc.fit(X_train, y_train_t)\n",
    "predictions = text_clf_lsvc.predict(X_test)\n",
    "print(\"Confusion Matrix \\n\", metrics.confusion_matrix(y_test_l,predictions))\n",
    "print(metrics.classification_report(y_test_l,predictions))\n",
    "print(\"Accuracy Score: \", metrics.accuracy_score(y_test_l,predictions))"
   ]
  },
  {
   "cell_type": "code",
   "execution_count": 48,
   "metadata": {},
   "outputs": [
    {
     "name": "stdout",
     "output_type": "stream",
     "text": [
      "Report of LogisticRegression, vader polarity label_2\n",
      "Confusion Matrix \n",
      " [[ 878 1723  608]\n",
      " [   0    0    0]\n",
      " [ 203  954  893]]\n",
      "              precision    recall  f1-score   support\n",
      "\n",
      "          -1       0.81      0.27      0.41      3209\n",
      "           0       0.00      0.00      0.00         0\n",
      "           1       0.59      0.44      0.50      2050\n",
      "\n",
      "    accuracy                           0.34      5259\n",
      "   macro avg       0.47      0.24      0.30      5259\n",
      "weighted avg       0.73      0.34      0.45      5259\n",
      "\n",
      "Accuracy Score:  0.33675603726944286\n"
     ]
    },
    {
     "name": "stderr",
     "output_type": "stream",
     "text": [
      "C:\\Users\\rahaf\\Anaconda3\\lib\\site-packages\\sklearn\\linear_model\\_logistic.py:762: ConvergenceWarning: lbfgs failed to converge (status=1):\n",
      "STOP: TOTAL NO. of ITERATIONS REACHED LIMIT.\n",
      "\n",
      "Increase the number of iterations (max_iter) or scale the data as shown in:\n",
      "    https://scikit-learn.org/stable/modules/preprocessing.html\n",
      "Please also refer to the documentation for alternative solver options:\n",
      "    https://scikit-learn.org/stable/modules/linear_model.html#logistic-regression\n",
      "  n_iter_i = _check_optimize_result(\n",
      "C:\\Users\\rahaf\\Anaconda3\\lib\\site-packages\\sklearn\\metrics\\_classification.py:1221: UndefinedMetricWarning: Recall and F-score are ill-defined and being set to 0.0 in labels with no true samples. Use `zero_division` parameter to control this behavior.\n",
      "  _warn_prf(average, modifier, msg_start, len(result))\n"
     ]
    }
   ],
   "source": [
    "print(\"Report of LogisticRegression, vader polarity label_2\")\n",
    "text_clf_lr.fit(X_train, y_train_t)\n",
    "predictions = text_clf_lr.predict(X_test)\n",
    "print(\"Confusion Matrix \\n\", metrics.confusion_matrix(y_test_l,predictions))\n",
    "print(metrics.classification_report(y_test_l,predictions))\n",
    "print(\"Accuracy Score: \", metrics.accuracy_score(y_test_l,predictions))"
   ]
  },
  {
   "cell_type": "code",
   "execution_count": null,
   "metadata": {},
   "outputs": [],
   "source": []
  }
 ],
 "metadata": {
  "kernelspec": {
   "display_name": "Python 3",
   "language": "python",
   "name": "python3"
  },
  "language_info": {
   "codemirror_mode": {
    "name": "ipython",
    "version": 3
   },
   "file_extension": ".py",
   "mimetype": "text/x-python",
   "name": "python",
   "nbconvert_exporter": "python",
   "pygments_lexer": "ipython3",
   "version": "3.8.5"
  }
 },
 "nbformat": 4,
 "nbformat_minor": 4
}
