{
 "cells": [
  {
   "cell_type": "code",
   "execution_count": 1,
   "metadata": {},
   "outputs": [],
   "source": [
    "import os,codecs\n",
    "import pandas as pd\n",
    "import nltk\n",
    "from nltk import*\n",
    "import matplotlib.pyplot as plt\n",
    "import string\n",
    "import numpy as np\n",
    "import seaborn as sns"
   ]
  },
  {
   "cell_type": "markdown",
   "metadata": {},
   "source": [
    "# XED Data Cleaning and Preprocessing\n",
    "\n",
    "- reading the data\n",
    "- split the labels into three columns:label_1, label_2, label_3\n",
    "- fill the missing values in label_2 with the corresponding values in label_1\n",
    "- data cleaning: removing the punctuations and the stopwords\n",
    "- tokenization"
   ]
  },
  {
   "cell_type": "code",
   "execution_count": 2,
   "metadata": {},
   "outputs": [],
   "source": [
    "df = pd.read_csv(\"XED.txt\",  error_bad_lines=False, sep= '\\t', header= None, names = [\"sent\", \"label_1\"])"
   ]
  },
  {
   "cell_type": "code",
   "execution_count": 3,
   "metadata": {},
   "outputs": [
    {
     "data": {
      "text/plain": [
       "(17528, 2)"
      ]
     },
     "execution_count": 3,
     "metadata": {},
     "output_type": "execute_result"
    }
   ],
   "source": [
    "df.shape"
   ]
  },
  {
   "cell_type": "code",
   "execution_count": 4,
   "metadata": {},
   "outputs": [],
   "source": [
    "df[[\"label_1\", \"label_2\"]] = df['label_1'].str.split(\",\", 1, expand=True)\n",
    "df[[\"label_2\", \"label_3\"]] = df['label_2'].str.split(\",\", 1, expand=True)"
   ]
  },
  {
   "cell_type": "code",
   "execution_count": 6,
   "metadata": {},
   "outputs": [
    {
     "data": {
      "text/html": [
       "<div>\n",
       "<style scoped>\n",
       "    .dataframe tbody tr th:only-of-type {\n",
       "        vertical-align: middle;\n",
       "    }\n",
       "\n",
       "    .dataframe tbody tr th {\n",
       "        vertical-align: top;\n",
       "    }\n",
       "\n",
       "    .dataframe thead th {\n",
       "        text-align: right;\n",
       "    }\n",
       "</style>\n",
       "<table border=\"1\" class=\"dataframe\">\n",
       "  <thead>\n",
       "    <tr style=\"text-align: right;\">\n",
       "      <th></th>\n",
       "      <th>sent</th>\n",
       "      <th>label_1</th>\n",
       "      <th>label_2</th>\n",
       "      <th>label_3</th>\n",
       "    </tr>\n",
       "  </thead>\n",
       "  <tbody>\n",
       "    <tr>\n",
       "      <th>0</th>\n",
       "      <td>, ...</td>\n",
       "      <td>1</td>\n",
       "      <td>None</td>\n",
       "      <td>None</td>\n",
       "    </tr>\n",
       "    <tr>\n",
       "      <th>1</th>\n",
       "      <td>!</td>\n",
       "      <td>1</td>\n",
       "      <td>4</td>\n",
       "      <td>7</td>\n",
       "    </tr>\n",
       "    <tr>\n",
       "      <th>2</th>\n",
       "      <td>... And I don't think we need to discuss the T...</td>\n",
       "      <td>8</td>\n",
       "      <td>1</td>\n",
       "      <td>None</td>\n",
       "    </tr>\n",
       "    <tr>\n",
       "      <th>3</th>\n",
       "      <td>* So get up out of your bed</td>\n",
       "      <td>1</td>\n",
       "      <td>None</td>\n",
       "      <td>None</td>\n",
       "    </tr>\n",
       "    <tr>\n",
       "      <th>4</th>\n",
       "      <td>A confession that you hired [PERSON] ... and a...</td>\n",
       "      <td>1</td>\n",
       "      <td>6</td>\n",
       "      <td>None</td>\n",
       "    </tr>\n",
       "    <tr>\n",
       "      <th>5</th>\n",
       "      <td>A dead man has one half - hour to raise his ro...</td>\n",
       "      <td>1</td>\n",
       "      <td>None</td>\n",
       "      <td>None</td>\n",
       "    </tr>\n",
       "    <tr>\n",
       "      <th>6</th>\n",
       "      <td>A guy that's talking about he's gonna solve al...</td>\n",
       "      <td>1</td>\n",
       "      <td>None</td>\n",
       "      <td>None</td>\n",
       "    </tr>\n",
       "    <tr>\n",
       "      <th>7</th>\n",
       "      <td>A guy who was a pain in the neck even before I...</td>\n",
       "      <td>1</td>\n",
       "      <td>None</td>\n",
       "      <td>None</td>\n",
       "    </tr>\n",
       "    <tr>\n",
       "      <th>8</th>\n",
       "      <td>A hundred of these are produced every day and ...</td>\n",
       "      <td>1</td>\n",
       "      <td>3</td>\n",
       "      <td>None</td>\n",
       "    </tr>\n",
       "    <tr>\n",
       "      <th>9</th>\n",
       "      <td>A lady wouldn't work for this outfit .</td>\n",
       "      <td>1</td>\n",
       "      <td>None</td>\n",
       "      <td>None</td>\n",
       "    </tr>\n",
       "  </tbody>\n",
       "</table>\n",
       "</div>"
      ],
      "text/plain": [
       "                                                sent label_1 label_2 label_3\n",
       "0                                              , ...       1    None    None\n",
       "1                                                  !       1       4       7\n",
       "2  ... And I don't think we need to discuss the T...       8       1    None\n",
       "3                        * So get up out of your bed       1    None    None\n",
       "4  A confession that you hired [PERSON] ... and a...       1       6    None\n",
       "5  A dead man has one half - hour to raise his ro...       1    None    None\n",
       "6  A guy that's talking about he's gonna solve al...       1    None    None\n",
       "7  A guy who was a pain in the neck even before I...       1    None    None\n",
       "8  A hundred of these are produced every day and ...       1       3    None\n",
       "9             A lady wouldn't work for this outfit .       1    None    None"
      ]
     },
     "execution_count": 6,
     "metadata": {},
     "output_type": "execute_result"
    }
   ],
   "source": [
    "df.head(10)"
   ]
  },
  {
   "cell_type": "code",
   "execution_count": 431,
   "metadata": {},
   "outputs": [],
   "source": [
    "df[\"label_1\"] = pd.to_numeric(df[\"label_1\"])\n",
    "df[\"label_2_fill\"] = np.where(df.label_2.isnull(), df.label_1, df.label_2)\n",
    "df[\"label_2_fill\"] = pd.to_numeric(df[\"label_2_fill\"])"
   ]
  },
  {
   "cell_type": "code",
   "execution_count": 432,
   "metadata": {},
   "outputs": [],
   "source": [
    "lst_stopwords = nltk.corpus.stopwords.words(\"english\")"
   ]
  },
  {
   "cell_type": "code",
   "execution_count": 433,
   "metadata": {},
   "outputs": [],
   "source": [
    "def utils_preprocess_text(text, flg_stemm=False, flg_lemm=True, lst_stopwords=None):\n",
    "    ## clean (convert to lowercase and remove punctuations and characters and then strip)\n",
    "    text = re.sub(r'[^\\w\\s]', '', str(text).lower().strip())\n",
    "    \n",
    "               \n",
    "    ## Tokenize (convert from string to list)\n",
    "    lst_text = text.split()\n",
    "    table = str.maketrans('', '', string.punctuation)\n",
    "    lst_text = [w.translate(table) for w in lst_text]\n",
    "                   \n",
    "    ## back to string from list\n",
    "    text = \" \".join(lst_text)\n",
    "    return text"
   ]
  },
  {
   "cell_type": "code",
   "execution_count": 434,
   "metadata": {},
   "outputs": [],
   "source": [
    "df[\"text_clean\"] = df[\"sent\"].apply(lambda x: \n",
    "          utils_preprocess_text(x, flg_stemm=False, flg_lemm=True, \n",
    "          lst_stopwords= lst_stopwords))"
   ]
  },
  {
   "cell_type": "code",
   "execution_count": 435,
   "metadata": {},
   "outputs": [
    {
     "data": {
      "text/html": [
       "<div>\n",
       "<style scoped>\n",
       "    .dataframe tbody tr th:only-of-type {\n",
       "        vertical-align: middle;\n",
       "    }\n",
       "\n",
       "    .dataframe tbody tr th {\n",
       "        vertical-align: top;\n",
       "    }\n",
       "\n",
       "    .dataframe thead th {\n",
       "        text-align: right;\n",
       "    }\n",
       "</style>\n",
       "<table border=\"1\" class=\"dataframe\">\n",
       "  <thead>\n",
       "    <tr style=\"text-align: right;\">\n",
       "      <th></th>\n",
       "      <th>sent</th>\n",
       "      <th>label_1</th>\n",
       "      <th>label_2</th>\n",
       "      <th>label_3</th>\n",
       "      <th>label_2_fill</th>\n",
       "      <th>text_clean</th>\n",
       "      <th>tokenized_sents</th>\n",
       "    </tr>\n",
       "  </thead>\n",
       "  <tbody>\n",
       "    <tr>\n",
       "      <th>0</th>\n",
       "      <td>, ...</td>\n",
       "      <td>1</td>\n",
       "      <td>None</td>\n",
       "      <td>None</td>\n",
       "      <td>1</td>\n",
       "      <td></td>\n",
       "      <td>[]</td>\n",
       "    </tr>\n",
       "    <tr>\n",
       "      <th>1</th>\n",
       "      <td>!</td>\n",
       "      <td>1</td>\n",
       "      <td>4</td>\n",
       "      <td>7</td>\n",
       "      <td>4</td>\n",
       "      <td></td>\n",
       "      <td>[]</td>\n",
       "    </tr>\n",
       "    <tr>\n",
       "      <th>2</th>\n",
       "      <td>... And I don't think we need to discuss the T...</td>\n",
       "      <td>8</td>\n",
       "      <td>1</td>\n",
       "      <td>None</td>\n",
       "      <td>1</td>\n",
       "      <td>and i dont think we need to discuss the trinit...</td>\n",
       "      <td>[and, i, dont, think, we, need, to, discuss, t...</td>\n",
       "    </tr>\n",
       "    <tr>\n",
       "      <th>3</th>\n",
       "      <td>* So get up out of your bed</td>\n",
       "      <td>1</td>\n",
       "      <td>None</td>\n",
       "      <td>None</td>\n",
       "      <td>1</td>\n",
       "      <td>so get up out of your bed</td>\n",
       "      <td>[so, get, up, out, of, your, bed]</td>\n",
       "    </tr>\n",
       "    <tr>\n",
       "      <th>4</th>\n",
       "      <td>A confession that you hired [PERSON] ... and a...</td>\n",
       "      <td>1</td>\n",
       "      <td>6</td>\n",
       "      <td>None</td>\n",
       "      <td>6</td>\n",
       "      <td>a confession that you hired person and are res...</td>\n",
       "      <td>[a, confession, that, you, hired, person, and,...</td>\n",
       "    </tr>\n",
       "  </tbody>\n",
       "</table>\n",
       "</div>"
      ],
      "text/plain": [
       "                                                sent  label_1 label_2 label_3  \\\n",
       "0                                              , ...        1    None    None   \n",
       "1                                                  !        1       4       7   \n",
       "2  ... And I don't think we need to discuss the T...        8       1    None   \n",
       "3                        * So get up out of your bed        1    None    None   \n",
       "4  A confession that you hired [PERSON] ... and a...        1       6    None   \n",
       "\n",
       "   label_2_fill                                         text_clean  \\\n",
       "0             1                                                      \n",
       "1             4                                                      \n",
       "2             1  and i dont think we need to discuss the trinit...   \n",
       "3             1                          so get up out of your bed   \n",
       "4             6  a confession that you hired person and are res...   \n",
       "\n",
       "                                     tokenized_sents  \n",
       "0                                                 []  \n",
       "1                                                 []  \n",
       "2  [and, i, dont, think, we, need, to, discuss, t...  \n",
       "3                  [so, get, up, out, of, your, bed]  \n",
       "4  [a, confession, that, you, hired, person, and,...  "
      ]
     },
     "execution_count": 435,
     "metadata": {},
     "output_type": "execute_result"
    }
   ],
   "source": [
    "df['tokenized_sents'] = df.apply(lambda row: nltk.word_tokenize(row[\"text_clean\"]), axis=1)\n",
    "df.head()"
   ]
  },
  {
   "cell_type": "markdown",
   "metadata": {},
   "source": [
    "# SentiArt Calculations"
   ]
  },
  {
   "cell_type": "code",
   "execution_count": 436,
   "metadata": {},
   "outputs": [],
   "source": [
    "TC = '250kSentiArt_EN.xlsx' "
   ]
  },
  {
   "cell_type": "code",
   "execution_count": 437,
   "metadata": {},
   "outputs": [],
   "source": [
    "sa = pd.read_excel(TC)"
   ]
  },
  {
   "cell_type": "code",
   "execution_count": 438,
   "metadata": {},
   "outputs": [],
   "source": [
    "fn = 'XED.txt'"
   ]
  },
  {
   "cell_type": "code",
   "execution_count": 439,
   "metadata": {},
   "outputs": [],
   "source": [
    "sent_mean_ang_z = []\n",
    "sent_mean_fear_z = []\n",
    "sent_mean_disg_z = []\n",
    "sent_mean_hap_z = []\n",
    "sent_mean_sad_z = []\n",
    "sent_mean_surp_z = []\n"
   ]
  },
  {
   "cell_type": "code",
   "execution_count": 440,
   "metadata": {},
   "outputs": [],
   "source": [
    "my_list = []\n",
    "for sent in df.tokenized_sents:\n",
    "    my_list.append(sent)"
   ]
  },
  {
   "cell_type": "code",
   "execution_count": 441,
   "metadata": {},
   "outputs": [
    {
     "data": {
      "text/plain": [
       "17528"
      ]
     },
     "execution_count": 441,
     "metadata": {},
     "output_type": "execute_result"
    }
   ],
   "source": [
    "len(my_list)"
   ]
  },
  {
   "cell_type": "code",
   "execution_count": 442,
   "metadata": {},
   "outputs": [],
   "source": [
    "for t in my_list:\n",
    "    dt = sa.query('word in @t')\n",
    "    sent_mean_ang_z.append(dt.ang_z.mean())\n",
    "    sent_mean_fear_z.append(dt.fear_z.mean())\n",
    "    sent_mean_disg_z.append(dt.disg_z.mean())\n",
    "    sent_mean_hap_z.append(dt.hap_z.mean())\n",
    "    sent_mean_sad_z.append(dt.sad_z.mean())\n",
    "    sent_mean_surp_z.append(dt.surp_z.mean())\n"
   ]
  },
  {
   "cell_type": "code",
   "execution_count": 443,
   "metadata": {},
   "outputs": [],
   "source": [
    "df['ang'] = sent_mean_ang_z\n",
    "df['fear'] = sent_mean_fear_z\n",
    "df['disg'] = sent_mean_disg_z\n",
    "df['hap'] = sent_mean_hap_z\n",
    "df['sad'] = sent_mean_sad_z\n",
    "df['surp'] = sent_mean_surp_z\n",
    "df = round(df,3)"
   ]
  },
  {
   "cell_type": "code",
   "execution_count": 444,
   "metadata": {},
   "outputs": [
    {
     "name": "stdout",
     "output_type": "stream",
     "text": [
      "<class 'pandas.core.frame.DataFrame'>\n",
      "RangeIndex: 17528 entries, 0 to 17527\n",
      "Data columns (total 13 columns):\n",
      " #   Column           Non-Null Count  Dtype  \n",
      "---  ------           --------------  -----  \n",
      " 0   sent             17528 non-null  object \n",
      " 1   label_1          17528 non-null  int64  \n",
      " 2   label_2          3873 non-null   object \n",
      " 3   label_3          849 non-null    object \n",
      " 4   label_2_fill     17528 non-null  int64  \n",
      " 5   text_clean       17528 non-null  object \n",
      " 6   tokenized_sents  17528 non-null  object \n",
      " 7   ang              17490 non-null  float64\n",
      " 8   fear             17490 non-null  float64\n",
      " 9   disg             17490 non-null  float64\n",
      " 10  hap              17490 non-null  float64\n",
      " 11  sad              17490 non-null  float64\n",
      " 12  surp             17490 non-null  float64\n",
      "dtypes: float64(6), int64(2), object(5)\n",
      "memory usage: 1.7+ MB\n"
     ]
    }
   ],
   "source": [
    "df.info()"
   ]
  },
  {
   "cell_type": "code",
   "execution_count": 445,
   "metadata": {},
   "outputs": [
    {
     "name": "stdout",
     "output_type": "stream",
     "text": [
      "38\n",
      "38\n",
      "38\n",
      "38\n",
      "38\n",
      "38\n"
     ]
    }
   ],
   "source": [
    "print(df.ang.isna().sum())      \n",
    "print(df.fear.isna().sum())   \n",
    "print(df.disg.isna().sum()) \n",
    "print(df.hap.isna().sum())\n",
    "print(df.sad.isnull().sum())\n",
    "print(df.surp.isnull().sum())"
   ]
  },
  {
   "cell_type": "code",
   "execution_count": 446,
   "metadata": {},
   "outputs": [
    {
     "data": {
      "text/html": [
       "<div>\n",
       "<style scoped>\n",
       "    .dataframe tbody tr th:only-of-type {\n",
       "        vertical-align: middle;\n",
       "    }\n",
       "\n",
       "    .dataframe tbody tr th {\n",
       "        vertical-align: top;\n",
       "    }\n",
       "\n",
       "    .dataframe thead th {\n",
       "        text-align: right;\n",
       "    }\n",
       "</style>\n",
       "<table border=\"1\" class=\"dataframe\">\n",
       "  <thead>\n",
       "    <tr style=\"text-align: right;\">\n",
       "      <th></th>\n",
       "      <th>sent</th>\n",
       "      <th>label_1</th>\n",
       "      <th>label_2</th>\n",
       "      <th>label_3</th>\n",
       "      <th>label_2_fill</th>\n",
       "      <th>text_clean</th>\n",
       "      <th>tokenized_sents</th>\n",
       "      <th>ang</th>\n",
       "      <th>fear</th>\n",
       "      <th>disg</th>\n",
       "      <th>hap</th>\n",
       "      <th>sad</th>\n",
       "      <th>surp</th>\n",
       "    </tr>\n",
       "  </thead>\n",
       "  <tbody>\n",
       "    <tr>\n",
       "      <th>0</th>\n",
       "      <td>, ...</td>\n",
       "      <td>1</td>\n",
       "      <td>None</td>\n",
       "      <td>None</td>\n",
       "      <td>1</td>\n",
       "      <td></td>\n",
       "      <td>[]</td>\n",
       "      <td>NaN</td>\n",
       "      <td>NaN</td>\n",
       "      <td>NaN</td>\n",
       "      <td>NaN</td>\n",
       "      <td>NaN</td>\n",
       "      <td>NaN</td>\n",
       "    </tr>\n",
       "    <tr>\n",
       "      <th>1</th>\n",
       "      <td>!</td>\n",
       "      <td>1</td>\n",
       "      <td>4</td>\n",
       "      <td>7</td>\n",
       "      <td>4</td>\n",
       "      <td></td>\n",
       "      <td>[]</td>\n",
       "      <td>NaN</td>\n",
       "      <td>NaN</td>\n",
       "      <td>NaN</td>\n",
       "      <td>NaN</td>\n",
       "      <td>NaN</td>\n",
       "      <td>NaN</td>\n",
       "    </tr>\n",
       "    <tr>\n",
       "      <th>202</th>\n",
       "      <td>Argh ! Kaili !</td>\n",
       "      <td>1</td>\n",
       "      <td>None</td>\n",
       "      <td>None</td>\n",
       "      <td>1</td>\n",
       "      <td>argh kaili</td>\n",
       "      <td>[argh, kaili]</td>\n",
       "      <td>NaN</td>\n",
       "      <td>NaN</td>\n",
       "      <td>NaN</td>\n",
       "      <td>NaN</td>\n",
       "      <td>NaN</td>\n",
       "      <td>NaN</td>\n",
       "    </tr>\n",
       "    <tr>\n",
       "      <th>287</th>\n",
       "      <td>Bullshit !</td>\n",
       "      <td>1</td>\n",
       "      <td>3</td>\n",
       "      <td>None</td>\n",
       "      <td>3</td>\n",
       "      <td>bullshit</td>\n",
       "      <td>[bullshit]</td>\n",
       "      <td>NaN</td>\n",
       "      <td>NaN</td>\n",
       "      <td>NaN</td>\n",
       "      <td>NaN</td>\n",
       "      <td>NaN</td>\n",
       "      <td>NaN</td>\n",
       "    </tr>\n",
       "    <tr>\n",
       "      <th>289</th>\n",
       "      <td>Bullshit .</td>\n",
       "      <td>1</td>\n",
       "      <td>7</td>\n",
       "      <td>None</td>\n",
       "      <td>7</td>\n",
       "      <td>bullshit</td>\n",
       "      <td>[bullshit]</td>\n",
       "      <td>NaN</td>\n",
       "      <td>NaN</td>\n",
       "      <td>NaN</td>\n",
       "      <td>NaN</td>\n",
       "      <td>NaN</td>\n",
       "      <td>NaN</td>\n",
       "    </tr>\n",
       "  </tbody>\n",
       "</table>\n",
       "</div>"
      ],
      "text/plain": [
       "               sent  label_1 label_2 label_3  label_2_fill  text_clean  \\\n",
       "0             , ...        1    None    None             1               \n",
       "1                 !        1       4       7             4               \n",
       "202  Argh ! Kaili !        1    None    None             1  argh kaili   \n",
       "287      Bullshit !        1       3    None             3    bullshit   \n",
       "289      Bullshit .        1       7    None             7    bullshit   \n",
       "\n",
       "    tokenized_sents  ang  fear  disg  hap  sad  surp  \n",
       "0                []  NaN   NaN   NaN  NaN  NaN   NaN  \n",
       "1                []  NaN   NaN   NaN  NaN  NaN   NaN  \n",
       "202   [argh, kaili]  NaN   NaN   NaN  NaN  NaN   NaN  \n",
       "287      [bullshit]  NaN   NaN   NaN  NaN  NaN   NaN  \n",
       "289      [bullshit]  NaN   NaN   NaN  NaN  NaN   NaN  "
      ]
     },
     "execution_count": 446,
     "metadata": {},
     "output_type": "execute_result"
    }
   ],
   "source": [
    "df_38 = df.loc[pd.isna(df[\"disg\"]), :]\n",
    "df_38.head()"
   ]
  },
  {
   "cell_type": "code",
   "execution_count": 447,
   "metadata": {},
   "outputs": [
    {
     "data": {
      "text/html": [
       "<div>\n",
       "<style scoped>\n",
       "    .dataframe tbody tr th:only-of-type {\n",
       "        vertical-align: middle;\n",
       "    }\n",
       "\n",
       "    .dataframe tbody tr th {\n",
       "        vertical-align: top;\n",
       "    }\n",
       "\n",
       "    .dataframe thead th {\n",
       "        text-align: right;\n",
       "    }\n",
       "</style>\n",
       "<table border=\"1\" class=\"dataframe\">\n",
       "  <thead>\n",
       "    <tr style=\"text-align: right;\">\n",
       "      <th></th>\n",
       "      <th>label_1</th>\n",
       "      <th>label_2_fill</th>\n",
       "      <th>ang</th>\n",
       "      <th>fear</th>\n",
       "      <th>disg</th>\n",
       "      <th>hap</th>\n",
       "      <th>sad</th>\n",
       "      <th>surp</th>\n",
       "    </tr>\n",
       "  </thead>\n",
       "  <tbody>\n",
       "    <tr>\n",
       "      <th>count</th>\n",
       "      <td>17528.000000</td>\n",
       "      <td>17528.000000</td>\n",
       "      <td>17490.000000</td>\n",
       "      <td>17490.000000</td>\n",
       "      <td>17490.000000</td>\n",
       "      <td>17490.000000</td>\n",
       "      <td>17490.000000</td>\n",
       "      <td>17490.000000</td>\n",
       "    </tr>\n",
       "    <tr>\n",
       "      <th>mean</th>\n",
       "      <td>4.118040</td>\n",
       "      <td>4.252624</td>\n",
       "      <td>0.378848</td>\n",
       "      <td>0.844913</td>\n",
       "      <td>0.076678</td>\n",
       "      <td>0.832702</td>\n",
       "      <td>0.617236</td>\n",
       "      <td>0.261800</td>\n",
       "    </tr>\n",
       "    <tr>\n",
       "      <th>std</th>\n",
       "      <td>2.507554</td>\n",
       "      <td>2.261142</td>\n",
       "      <td>0.467159</td>\n",
       "      <td>0.502993</td>\n",
       "      <td>0.412391</td>\n",
       "      <td>0.439062</td>\n",
       "      <td>0.473600</td>\n",
       "      <td>0.504366</td>\n",
       "    </tr>\n",
       "    <tr>\n",
       "      <th>min</th>\n",
       "      <td>1.000000</td>\n",
       "      <td>1.000000</td>\n",
       "      <td>-1.586000</td>\n",
       "      <td>-2.265000</td>\n",
       "      <td>-2.345000</td>\n",
       "      <td>-1.560000</td>\n",
       "      <td>-1.950000</td>\n",
       "      <td>-1.516000</td>\n",
       "    </tr>\n",
       "    <tr>\n",
       "      <th>25%</th>\n",
       "      <td>2.000000</td>\n",
       "      <td>2.000000</td>\n",
       "      <td>0.099000</td>\n",
       "      <td>0.546000</td>\n",
       "      <td>-0.165000</td>\n",
       "      <td>0.574000</td>\n",
       "      <td>0.338000</td>\n",
       "      <td>-0.015000</td>\n",
       "    </tr>\n",
       "    <tr>\n",
       "      <th>50%</th>\n",
       "      <td>4.000000</td>\n",
       "      <td>4.000000</td>\n",
       "      <td>0.369000</td>\n",
       "      <td>0.823000</td>\n",
       "      <td>0.055000</td>\n",
       "      <td>0.813000</td>\n",
       "      <td>0.609000</td>\n",
       "      <td>0.211000</td>\n",
       "    </tr>\n",
       "    <tr>\n",
       "      <th>75%</th>\n",
       "      <td>6.000000</td>\n",
       "      <td>6.000000</td>\n",
       "      <td>0.643000</td>\n",
       "      <td>1.118000</td>\n",
       "      <td>0.286000</td>\n",
       "      <td>1.068750</td>\n",
       "      <td>0.887000</td>\n",
       "      <td>0.480000</td>\n",
       "    </tr>\n",
       "    <tr>\n",
       "      <th>max</th>\n",
       "      <td>8.000000</td>\n",
       "      <td>8.000000</td>\n",
       "      <td>6.098000</td>\n",
       "      <td>9.478000</td>\n",
       "      <td>10.010000</td>\n",
       "      <td>5.384000</td>\n",
       "      <td>5.343000</td>\n",
       "      <td>19.531000</td>\n",
       "    </tr>\n",
       "  </tbody>\n",
       "</table>\n",
       "</div>"
      ],
      "text/plain": [
       "            label_1  label_2_fill           ang          fear          disg  \\\n",
       "count  17528.000000  17528.000000  17490.000000  17490.000000  17490.000000   \n",
       "mean       4.118040      4.252624      0.378848      0.844913      0.076678   \n",
       "std        2.507554      2.261142      0.467159      0.502993      0.412391   \n",
       "min        1.000000      1.000000     -1.586000     -2.265000     -2.345000   \n",
       "25%        2.000000      2.000000      0.099000      0.546000     -0.165000   \n",
       "50%        4.000000      4.000000      0.369000      0.823000      0.055000   \n",
       "75%        6.000000      6.000000      0.643000      1.118000      0.286000   \n",
       "max        8.000000      8.000000      6.098000      9.478000     10.010000   \n",
       "\n",
       "                hap           sad          surp  \n",
       "count  17490.000000  17490.000000  17490.000000  \n",
       "mean       0.832702      0.617236      0.261800  \n",
       "std        0.439062      0.473600      0.504366  \n",
       "min       -1.560000     -1.950000     -1.516000  \n",
       "25%        0.574000      0.338000     -0.015000  \n",
       "50%        0.813000      0.609000      0.211000  \n",
       "75%        1.068750      0.887000      0.480000  \n",
       "max        5.384000      5.343000     19.531000  "
      ]
     },
     "execution_count": 447,
     "metadata": {},
     "output_type": "execute_result"
    }
   ],
   "source": [
    "df.describe()"
   ]
  },
  {
   "cell_type": "markdown",
   "metadata": {},
   "source": [
    "Mapping the target column based on the mapping of XED.\n",
    "\n",
    "Removing the missing values.\n",
    "\n",
    "Exploring the distribution of the classes in label_1 and label_2 from XED and the target of SentiArt \n"
   ]
  },
  {
   "cell_type": "code",
   "execution_count": 448,
   "metadata": {},
   "outputs": [
    {
     "data": {
      "text/html": [
       "<div>\n",
       "<style scoped>\n",
       "    .dataframe tbody tr th:only-of-type {\n",
       "        vertical-align: middle;\n",
       "    }\n",
       "\n",
       "    .dataframe tbody tr th {\n",
       "        vertical-align: top;\n",
       "    }\n",
       "\n",
       "    .dataframe thead th {\n",
       "        text-align: right;\n",
       "    }\n",
       "</style>\n",
       "<table border=\"1\" class=\"dataframe\">\n",
       "  <thead>\n",
       "    <tr style=\"text-align: right;\">\n",
       "      <th></th>\n",
       "      <th>sent</th>\n",
       "      <th>label_1</th>\n",
       "      <th>label_2</th>\n",
       "      <th>label_3</th>\n",
       "      <th>label_2_fill</th>\n",
       "      <th>text_clean</th>\n",
       "      <th>tokenized_sents</th>\n",
       "      <th>ang</th>\n",
       "      <th>fear</th>\n",
       "      <th>disg</th>\n",
       "      <th>hap</th>\n",
       "      <th>sad</th>\n",
       "      <th>surp</th>\n",
       "    </tr>\n",
       "  </thead>\n",
       "  <tbody>\n",
       "    <tr>\n",
       "      <th>0</th>\n",
       "      <td>, ...</td>\n",
       "      <td>1</td>\n",
       "      <td>None</td>\n",
       "      <td>None</td>\n",
       "      <td>1</td>\n",
       "      <td></td>\n",
       "      <td>[]</td>\n",
       "      <td>NaN</td>\n",
       "      <td>NaN</td>\n",
       "      <td>NaN</td>\n",
       "      <td>NaN</td>\n",
       "      <td>NaN</td>\n",
       "      <td>NaN</td>\n",
       "    </tr>\n",
       "    <tr>\n",
       "      <th>1</th>\n",
       "      <td>!</td>\n",
       "      <td>1</td>\n",
       "      <td>4</td>\n",
       "      <td>7</td>\n",
       "      <td>4</td>\n",
       "      <td></td>\n",
       "      <td>[]</td>\n",
       "      <td>NaN</td>\n",
       "      <td>NaN</td>\n",
       "      <td>NaN</td>\n",
       "      <td>NaN</td>\n",
       "      <td>NaN</td>\n",
       "      <td>NaN</td>\n",
       "    </tr>\n",
       "    <tr>\n",
       "      <th>2</th>\n",
       "      <td>... And I don't think we need to discuss the T...</td>\n",
       "      <td>8</td>\n",
       "      <td>1</td>\n",
       "      <td>None</td>\n",
       "      <td>1</td>\n",
       "      <td>and i dont think we need to discuss the trinit...</td>\n",
       "      <td>[and, i, dont, think, we, need, to, discuss, t...</td>\n",
       "      <td>0.240</td>\n",
       "      <td>1.354</td>\n",
       "      <td>-0.002</td>\n",
       "      <td>0.818</td>\n",
       "      <td>0.657</td>\n",
       "      <td>-0.216</td>\n",
       "    </tr>\n",
       "    <tr>\n",
       "      <th>3</th>\n",
       "      <td>* So get up out of your bed</td>\n",
       "      <td>1</td>\n",
       "      <td>None</td>\n",
       "      <td>None</td>\n",
       "      <td>1</td>\n",
       "      <td>so get up out of your bed</td>\n",
       "      <td>[so, get, up, out, of, your, bed]</td>\n",
       "      <td>0.524</td>\n",
       "      <td>0.638</td>\n",
       "      <td>0.129</td>\n",
       "      <td>0.776</td>\n",
       "      <td>0.422</td>\n",
       "      <td>-0.158</td>\n",
       "    </tr>\n",
       "    <tr>\n",
       "      <th>4</th>\n",
       "      <td>A confession that you hired [PERSON] ... and a...</td>\n",
       "      <td>1</td>\n",
       "      <td>6</td>\n",
       "      <td>None</td>\n",
       "      <td>6</td>\n",
       "      <td>a confession that you hired person and are res...</td>\n",
       "      <td>[a, confession, that, you, hired, person, and,...</td>\n",
       "      <td>0.893</td>\n",
       "      <td>0.984</td>\n",
       "      <td>0.449</td>\n",
       "      <td>1.317</td>\n",
       "      <td>0.941</td>\n",
       "      <td>0.052</td>\n",
       "    </tr>\n",
       "  </tbody>\n",
       "</table>\n",
       "</div>"
      ],
      "text/plain": [
       "                                                sent  label_1 label_2 label_3  \\\n",
       "0                                              , ...        1    None    None   \n",
       "1                                                  !        1       4       7   \n",
       "2  ... And I don't think we need to discuss the T...        8       1    None   \n",
       "3                        * So get up out of your bed        1    None    None   \n",
       "4  A confession that you hired [PERSON] ... and a...        1       6    None   \n",
       "\n",
       "   label_2_fill                                         text_clean  \\\n",
       "0             1                                                      \n",
       "1             4                                                      \n",
       "2             1  and i dont think we need to discuss the trinit...   \n",
       "3             1                          so get up out of your bed   \n",
       "4             6  a confession that you hired person and are res...   \n",
       "\n",
       "                                     tokenized_sents    ang   fear   disg  \\\n",
       "0                                                 []    NaN    NaN    NaN   \n",
       "1                                                 []    NaN    NaN    NaN   \n",
       "2  [and, i, dont, think, we, need, to, discuss, t...  0.240  1.354 -0.002   \n",
       "3                  [so, get, up, out, of, your, bed]  0.524  0.638  0.129   \n",
       "4  [a, confession, that, you, hired, person, and,...  0.893  0.984  0.449   \n",
       "\n",
       "     hap    sad   surp  \n",
       "0    NaN    NaN    NaN  \n",
       "1    NaN    NaN    NaN  \n",
       "2  0.818  0.657 -0.216  \n",
       "3  0.776  0.422 -0.158  \n",
       "4  1.317  0.941  0.052  "
      ]
     },
     "execution_count": 448,
     "metadata": {},
     "output_type": "execute_result"
    }
   ],
   "source": [
    "df.head()"
   ]
  },
  {
   "cell_type": "code",
   "execution_count": 449,
   "metadata": {},
   "outputs": [],
   "source": [
    "df = df[[\"text_clean\", \"label_1\", \"label_2_fill\", \"ang\", \"fear\", \"disg\", \"hap\", \"sad\", \"surp\"]]"
   ]
  },
  {
   "cell_type": "code",
   "execution_count": 450,
   "metadata": {},
   "outputs": [
    {
     "data": {
      "text/plain": [
       "(17490, 9)"
      ]
     },
     "execution_count": 450,
     "metadata": {},
     "output_type": "execute_result"
    }
   ],
   "source": [
    "df = df.dropna().reset_index(drop=True)\n",
    "df.shape"
   ]
  },
  {
   "cell_type": "code",
   "execution_count": 451,
   "metadata": {},
   "outputs": [
    {
     "data": {
      "text/html": [
       "<div>\n",
       "<style scoped>\n",
       "    .dataframe tbody tr th:only-of-type {\n",
       "        vertical-align: middle;\n",
       "    }\n",
       "\n",
       "    .dataframe tbody tr th {\n",
       "        vertical-align: top;\n",
       "    }\n",
       "\n",
       "    .dataframe thead th {\n",
       "        text-align: right;\n",
       "    }\n",
       "</style>\n",
       "<table border=\"1\" class=\"dataframe\">\n",
       "  <thead>\n",
       "    <tr style=\"text-align: right;\">\n",
       "      <th></th>\n",
       "      <th>text_clean</th>\n",
       "      <th>label_1</th>\n",
       "      <th>label_2_fill</th>\n",
       "      <th>ang</th>\n",
       "      <th>fear</th>\n",
       "      <th>disg</th>\n",
       "      <th>hap</th>\n",
       "      <th>sad</th>\n",
       "      <th>surp</th>\n",
       "    </tr>\n",
       "  </thead>\n",
       "  <tbody>\n",
       "    <tr>\n",
       "      <th>0</th>\n",
       "      <td>and i dont think we need to discuss the trinit...</td>\n",
       "      <td>8</td>\n",
       "      <td>1</td>\n",
       "      <td>0.240</td>\n",
       "      <td>1.354</td>\n",
       "      <td>-0.002</td>\n",
       "      <td>0.818</td>\n",
       "      <td>0.657</td>\n",
       "      <td>-0.216</td>\n",
       "    </tr>\n",
       "    <tr>\n",
       "      <th>1</th>\n",
       "      <td>so get up out of your bed</td>\n",
       "      <td>1</td>\n",
       "      <td>1</td>\n",
       "      <td>0.524</td>\n",
       "      <td>0.638</td>\n",
       "      <td>0.129</td>\n",
       "      <td>0.776</td>\n",
       "      <td>0.422</td>\n",
       "      <td>-0.158</td>\n",
       "    </tr>\n",
       "    <tr>\n",
       "      <th>2</th>\n",
       "      <td>a confession that you hired person and are res...</td>\n",
       "      <td>1</td>\n",
       "      <td>6</td>\n",
       "      <td>0.893</td>\n",
       "      <td>0.984</td>\n",
       "      <td>0.449</td>\n",
       "      <td>1.317</td>\n",
       "      <td>0.941</td>\n",
       "      <td>0.052</td>\n",
       "    </tr>\n",
       "    <tr>\n",
       "      <th>3</th>\n",
       "      <td>a dead man has one half hour to raise his roll...</td>\n",
       "      <td>1</td>\n",
       "      <td>1</td>\n",
       "      <td>0.531</td>\n",
       "      <td>0.532</td>\n",
       "      <td>0.192</td>\n",
       "      <td>0.705</td>\n",
       "      <td>0.810</td>\n",
       "      <td>-0.044</td>\n",
       "    </tr>\n",
       "    <tr>\n",
       "      <th>4</th>\n",
       "      <td>a guy thats talking about hes gonna solve all ...</td>\n",
       "      <td>1</td>\n",
       "      <td>1</td>\n",
       "      <td>-0.040</td>\n",
       "      <td>0.501</td>\n",
       "      <td>-0.145</td>\n",
       "      <td>0.766</td>\n",
       "      <td>0.492</td>\n",
       "      <td>0.010</td>\n",
       "    </tr>\n",
       "  </tbody>\n",
       "</table>\n",
       "</div>"
      ],
      "text/plain": [
       "                                          text_clean  label_1  label_2_fill  \\\n",
       "0  and i dont think we need to discuss the trinit...        8             1   \n",
       "1                          so get up out of your bed        1             1   \n",
       "2  a confession that you hired person and are res...        1             6   \n",
       "3  a dead man has one half hour to raise his roll...        1             1   \n",
       "4  a guy thats talking about hes gonna solve all ...        1             1   \n",
       "\n",
       "     ang   fear   disg    hap    sad   surp  \n",
       "0  0.240  1.354 -0.002  0.818  0.657 -0.216  \n",
       "1  0.524  0.638  0.129  0.776  0.422 -0.158  \n",
       "2  0.893  0.984  0.449  1.317  0.941  0.052  \n",
       "3  0.531  0.532  0.192  0.705  0.810 -0.044  \n",
       "4 -0.040  0.501 -0.145  0.766  0.492  0.010  "
      ]
     },
     "execution_count": 451,
     "metadata": {},
     "output_type": "execute_result"
    }
   ],
   "source": [
    "df.head()"
   ]
  },
  {
   "cell_type": "code",
   "execution_count": 452,
   "metadata": {},
   "outputs": [],
   "source": [
    "df_1 = df[[\"ang\", \"fear\", \"disg\", \"hap\", \"sad\", \"surp\"]].apply(lambda row: row.replace(max(row), -3 ), axis=1)"
   ]
  },
  {
   "cell_type": "code",
   "execution_count": 453,
   "metadata": {},
   "outputs": [
    {
     "data": {
      "text/html": [
       "<div>\n",
       "<style scoped>\n",
       "    .dataframe tbody tr th:only-of-type {\n",
       "        vertical-align: middle;\n",
       "    }\n",
       "\n",
       "    .dataframe tbody tr th {\n",
       "        vertical-align: top;\n",
       "    }\n",
       "\n",
       "    .dataframe thead th {\n",
       "        text-align: right;\n",
       "    }\n",
       "</style>\n",
       "<table border=\"1\" class=\"dataframe\">\n",
       "  <thead>\n",
       "    <tr style=\"text-align: right;\">\n",
       "      <th></th>\n",
       "      <th>ang</th>\n",
       "      <th>fear</th>\n",
       "      <th>disg</th>\n",
       "      <th>hap</th>\n",
       "      <th>sad</th>\n",
       "      <th>surp</th>\n",
       "    </tr>\n",
       "  </thead>\n",
       "  <tbody>\n",
       "    <tr>\n",
       "      <th>0</th>\n",
       "      <td>0.240</td>\n",
       "      <td>-3.000</td>\n",
       "      <td>-0.002</td>\n",
       "      <td>0.818</td>\n",
       "      <td>0.657</td>\n",
       "      <td>-0.216</td>\n",
       "    </tr>\n",
       "    <tr>\n",
       "      <th>1</th>\n",
       "      <td>0.524</td>\n",
       "      <td>0.638</td>\n",
       "      <td>0.129</td>\n",
       "      <td>-3.000</td>\n",
       "      <td>0.422</td>\n",
       "      <td>-0.158</td>\n",
       "    </tr>\n",
       "    <tr>\n",
       "      <th>2</th>\n",
       "      <td>0.893</td>\n",
       "      <td>0.984</td>\n",
       "      <td>0.449</td>\n",
       "      <td>-3.000</td>\n",
       "      <td>0.941</td>\n",
       "      <td>0.052</td>\n",
       "    </tr>\n",
       "    <tr>\n",
       "      <th>3</th>\n",
       "      <td>0.531</td>\n",
       "      <td>0.532</td>\n",
       "      <td>0.192</td>\n",
       "      <td>0.705</td>\n",
       "      <td>-3.000</td>\n",
       "      <td>-0.044</td>\n",
       "    </tr>\n",
       "    <tr>\n",
       "      <th>4</th>\n",
       "      <td>-0.040</td>\n",
       "      <td>0.501</td>\n",
       "      <td>-0.145</td>\n",
       "      <td>-3.000</td>\n",
       "      <td>0.492</td>\n",
       "      <td>0.010</td>\n",
       "    </tr>\n",
       "  </tbody>\n",
       "</table>\n",
       "</div>"
      ],
      "text/plain": [
       "     ang   fear   disg    hap    sad   surp\n",
       "0  0.240 -3.000 -0.002  0.818  0.657 -0.216\n",
       "1  0.524  0.638  0.129 -3.000  0.422 -0.158\n",
       "2  0.893  0.984  0.449 -3.000  0.941  0.052\n",
       "3  0.531  0.532  0.192  0.705 -3.000 -0.044\n",
       "4 -0.040  0.501 -0.145 -3.000  0.492  0.010"
      ]
     },
     "execution_count": 453,
     "metadata": {},
     "output_type": "execute_result"
    }
   ],
   "source": [
    "df_1.head()"
   ]
  },
  {
   "cell_type": "code",
   "execution_count": 454,
   "metadata": {},
   "outputs": [
    {
     "data": {
      "text/plain": [
       "(17490, 6)"
      ]
     },
     "execution_count": 454,
     "metadata": {},
     "output_type": "execute_result"
    }
   ],
   "source": [
    "df_1.shape"
   ]
  },
  {
   "cell_type": "code",
   "execution_count": 455,
   "metadata": {},
   "outputs": [],
   "source": [
    "df_1[\"target\"] = df_1[[\"ang\", \"fear\", \"disg\", \"hap\", \"sad\", \"surp\"]].idxmax(axis=1)\n",
    "df_1[\"target_name\"] = df_1[[\"ang\", \"fear\", \"disg\", \"hap\", \"sad\", \"surp\"]].idxmax(axis=1)"
   ]
  },
  {
   "cell_type": "code",
   "execution_count": 456,
   "metadata": {},
   "outputs": [
    {
     "data": {
      "text/html": [
       "<div>\n",
       "<style scoped>\n",
       "    .dataframe tbody tr th:only-of-type {\n",
       "        vertical-align: middle;\n",
       "    }\n",
       "\n",
       "    .dataframe tbody tr th {\n",
       "        vertical-align: top;\n",
       "    }\n",
       "\n",
       "    .dataframe thead th {\n",
       "        text-align: right;\n",
       "    }\n",
       "</style>\n",
       "<table border=\"1\" class=\"dataframe\">\n",
       "  <thead>\n",
       "    <tr style=\"text-align: right;\">\n",
       "      <th></th>\n",
       "      <th>ang</th>\n",
       "      <th>fear</th>\n",
       "      <th>disg</th>\n",
       "      <th>hap</th>\n",
       "      <th>sad</th>\n",
       "      <th>surp</th>\n",
       "      <th>target</th>\n",
       "      <th>target_name</th>\n",
       "    </tr>\n",
       "  </thead>\n",
       "  <tbody>\n",
       "    <tr>\n",
       "      <th>0</th>\n",
       "      <td>0.240</td>\n",
       "      <td>-3.000</td>\n",
       "      <td>-0.002</td>\n",
       "      <td>0.818</td>\n",
       "      <td>0.657</td>\n",
       "      <td>-0.216</td>\n",
       "      <td>5</td>\n",
       "      <td>hap</td>\n",
       "    </tr>\n",
       "    <tr>\n",
       "      <th>1</th>\n",
       "      <td>0.524</td>\n",
       "      <td>0.638</td>\n",
       "      <td>0.129</td>\n",
       "      <td>-3.000</td>\n",
       "      <td>0.422</td>\n",
       "      <td>-0.158</td>\n",
       "      <td>4</td>\n",
       "      <td>fear</td>\n",
       "    </tr>\n",
       "    <tr>\n",
       "      <th>2</th>\n",
       "      <td>0.893</td>\n",
       "      <td>0.984</td>\n",
       "      <td>0.449</td>\n",
       "      <td>-3.000</td>\n",
       "      <td>0.941</td>\n",
       "      <td>0.052</td>\n",
       "      <td>4</td>\n",
       "      <td>fear</td>\n",
       "    </tr>\n",
       "    <tr>\n",
       "      <th>3</th>\n",
       "      <td>0.531</td>\n",
       "      <td>0.532</td>\n",
       "      <td>0.192</td>\n",
       "      <td>0.705</td>\n",
       "      <td>-3.000</td>\n",
       "      <td>-0.044</td>\n",
       "      <td>5</td>\n",
       "      <td>hap</td>\n",
       "    </tr>\n",
       "    <tr>\n",
       "      <th>4</th>\n",
       "      <td>-0.040</td>\n",
       "      <td>0.501</td>\n",
       "      <td>-0.145</td>\n",
       "      <td>-3.000</td>\n",
       "      <td>0.492</td>\n",
       "      <td>0.010</td>\n",
       "      <td>4</td>\n",
       "      <td>fear</td>\n",
       "    </tr>\n",
       "  </tbody>\n",
       "</table>\n",
       "</div>"
      ],
      "text/plain": [
       "     ang   fear   disg    hap    sad   surp  target target_name\n",
       "0  0.240 -3.000 -0.002  0.818  0.657 -0.216       5         hap\n",
       "1  0.524  0.638  0.129 -3.000  0.422 -0.158       4        fear\n",
       "2  0.893  0.984  0.449 -3.000  0.941  0.052       4        fear\n",
       "3  0.531  0.532  0.192  0.705 -3.000 -0.044       5         hap\n",
       "4 -0.040  0.501 -0.145 -3.000  0.492  0.010       4        fear"
      ]
     },
     "execution_count": 456,
     "metadata": {},
     "output_type": "execute_result"
    }
   ],
   "source": [
    "emo_map = {\"ang\": int(1), \"fear\": int(4), \"disg\": int(3), \"hap\": int(5), \"sad\" : int(6), \"surp\": int(7)}\n",
    "df_1 = df_1.replace({\"target\": emo_map})\n",
    "df_1.head()"
   ]
  },
  {
   "cell_type": "code",
   "execution_count": 457,
   "metadata": {},
   "outputs": [
    {
     "name": "stdout",
     "output_type": "stream",
     "text": [
      "<class 'pandas.core.frame.DataFrame'>\n",
      "RangeIndex: 17490 entries, 0 to 17489\n",
      "Data columns (total 8 columns):\n",
      " #   Column       Non-Null Count  Dtype  \n",
      "---  ------       --------------  -----  \n",
      " 0   ang          17490 non-null  float64\n",
      " 1   fear         17490 non-null  float64\n",
      " 2   disg         17490 non-null  float64\n",
      " 3   hap          17490 non-null  float64\n",
      " 4   sad          17490 non-null  float64\n",
      " 5   surp         17490 non-null  float64\n",
      " 6   target       17490 non-null  int64  \n",
      " 7   target_name  17490 non-null  object \n",
      "dtypes: float64(6), int64(1), object(1)\n",
      "memory usage: 1.1+ MB\n"
     ]
    }
   ],
   "source": [
    "df_1.info()"
   ]
  },
  {
   "cell_type": "code",
   "execution_count": 458,
   "metadata": {},
   "outputs": [],
   "source": [
    "df = pd.concat([df[[\"text_clean\", \"label_1\", \"label_2_fill\"]], df_1], axis=1)"
   ]
  },
  {
   "cell_type": "code",
   "execution_count": 459,
   "metadata": {},
   "outputs": [
    {
     "data": {
      "text/html": [
       "<div>\n",
       "<style scoped>\n",
       "    .dataframe tbody tr th:only-of-type {\n",
       "        vertical-align: middle;\n",
       "    }\n",
       "\n",
       "    .dataframe tbody tr th {\n",
       "        vertical-align: top;\n",
       "    }\n",
       "\n",
       "    .dataframe thead th {\n",
       "        text-align: right;\n",
       "    }\n",
       "</style>\n",
       "<table border=\"1\" class=\"dataframe\">\n",
       "  <thead>\n",
       "    <tr style=\"text-align: right;\">\n",
       "      <th></th>\n",
       "      <th>text_clean</th>\n",
       "      <th>label_1</th>\n",
       "      <th>label_2_fill</th>\n",
       "      <th>ang</th>\n",
       "      <th>fear</th>\n",
       "      <th>disg</th>\n",
       "      <th>hap</th>\n",
       "      <th>sad</th>\n",
       "      <th>surp</th>\n",
       "      <th>target</th>\n",
       "      <th>target_name</th>\n",
       "    </tr>\n",
       "  </thead>\n",
       "  <tbody>\n",
       "    <tr>\n",
       "      <th>0</th>\n",
       "      <td>and i dont think we need to discuss the trinit...</td>\n",
       "      <td>8</td>\n",
       "      <td>1</td>\n",
       "      <td>0.240</td>\n",
       "      <td>-3.000</td>\n",
       "      <td>-0.002</td>\n",
       "      <td>0.818</td>\n",
       "      <td>0.657</td>\n",
       "      <td>-0.216</td>\n",
       "      <td>5</td>\n",
       "      <td>hap</td>\n",
       "    </tr>\n",
       "    <tr>\n",
       "      <th>1</th>\n",
       "      <td>so get up out of your bed</td>\n",
       "      <td>1</td>\n",
       "      <td>1</td>\n",
       "      <td>0.524</td>\n",
       "      <td>0.638</td>\n",
       "      <td>0.129</td>\n",
       "      <td>-3.000</td>\n",
       "      <td>0.422</td>\n",
       "      <td>-0.158</td>\n",
       "      <td>4</td>\n",
       "      <td>fear</td>\n",
       "    </tr>\n",
       "    <tr>\n",
       "      <th>2</th>\n",
       "      <td>a confession that you hired person and are res...</td>\n",
       "      <td>1</td>\n",
       "      <td>6</td>\n",
       "      <td>0.893</td>\n",
       "      <td>0.984</td>\n",
       "      <td>0.449</td>\n",
       "      <td>-3.000</td>\n",
       "      <td>0.941</td>\n",
       "      <td>0.052</td>\n",
       "      <td>4</td>\n",
       "      <td>fear</td>\n",
       "    </tr>\n",
       "    <tr>\n",
       "      <th>3</th>\n",
       "      <td>a dead man has one half hour to raise his roll...</td>\n",
       "      <td>1</td>\n",
       "      <td>1</td>\n",
       "      <td>0.531</td>\n",
       "      <td>0.532</td>\n",
       "      <td>0.192</td>\n",
       "      <td>0.705</td>\n",
       "      <td>-3.000</td>\n",
       "      <td>-0.044</td>\n",
       "      <td>5</td>\n",
       "      <td>hap</td>\n",
       "    </tr>\n",
       "    <tr>\n",
       "      <th>4</th>\n",
       "      <td>a guy thats talking about hes gonna solve all ...</td>\n",
       "      <td>1</td>\n",
       "      <td>1</td>\n",
       "      <td>-0.040</td>\n",
       "      <td>0.501</td>\n",
       "      <td>-0.145</td>\n",
       "      <td>-3.000</td>\n",
       "      <td>0.492</td>\n",
       "      <td>0.010</td>\n",
       "      <td>4</td>\n",
       "      <td>fear</td>\n",
       "    </tr>\n",
       "  </tbody>\n",
       "</table>\n",
       "</div>"
      ],
      "text/plain": [
       "                                          text_clean  label_1  label_2_fill  \\\n",
       "0  and i dont think we need to discuss the trinit...        8             1   \n",
       "1                          so get up out of your bed        1             1   \n",
       "2  a confession that you hired person and are res...        1             6   \n",
       "3  a dead man has one half hour to raise his roll...        1             1   \n",
       "4  a guy thats talking about hes gonna solve all ...        1             1   \n",
       "\n",
       "     ang   fear   disg    hap    sad   surp  target target_name  \n",
       "0  0.240 -3.000 -0.002  0.818  0.657 -0.216       5         hap  \n",
       "1  0.524  0.638  0.129 -3.000  0.422 -0.158       4        fear  \n",
       "2  0.893  0.984  0.449 -3.000  0.941  0.052       4        fear  \n",
       "3  0.531  0.532  0.192  0.705 -3.000 -0.044       5         hap  \n",
       "4 -0.040  0.501 -0.145 -3.000  0.492  0.010       4        fear  "
      ]
     },
     "execution_count": 459,
     "metadata": {},
     "output_type": "execute_result"
    }
   ],
   "source": [
    "df.head()"
   ]
  },
  {
   "cell_type": "code",
   "execution_count": 460,
   "metadata": {},
   "outputs": [
    {
     "name": "stdout",
     "output_type": "stream",
     "text": [
      "<class 'pandas.core.frame.DataFrame'>\n",
      "RangeIndex: 17490 entries, 0 to 17489\n",
      "Data columns (total 11 columns):\n",
      " #   Column        Non-Null Count  Dtype  \n",
      "---  ------        --------------  -----  \n",
      " 0   text_clean    17490 non-null  object \n",
      " 1   label_1       17490 non-null  int64  \n",
      " 2   label_2_fill  17490 non-null  int64  \n",
      " 3   ang           17490 non-null  float64\n",
      " 4   fear          17490 non-null  float64\n",
      " 5   disg          17490 non-null  float64\n",
      " 6   hap           17490 non-null  float64\n",
      " 7   sad           17490 non-null  float64\n",
      " 8   surp          17490 non-null  float64\n",
      " 9   target        17490 non-null  int64  \n",
      " 10  target_name   17490 non-null  object \n",
      "dtypes: float64(6), int64(3), object(2)\n",
      "memory usage: 1.5+ MB\n"
     ]
    }
   ],
   "source": [
    "df.info()"
   ]
  },
  {
   "cell_type": "code",
   "execution_count": 461,
   "metadata": {},
   "outputs": [
    {
     "data": {
      "text/plain": [
       "5    6372\n",
       "4    4254\n",
       "6    4072\n",
       "1    1338\n",
       "7    1199\n",
       "3     255\n",
       "Name: target, dtype: int64"
      ]
     },
     "execution_count": 461,
     "metadata": {},
     "output_type": "execute_result"
    }
   ],
   "source": [
    "df.target.value_counts()"
   ]
  },
  {
   "cell_type": "code",
   "execution_count": 462,
   "metadata": {},
   "outputs": [
    {
     "data": {
      "text/plain": [
       "1    3703\n",
       "2    2706\n",
       "8    2684\n",
       "5    1843\n",
       "4    1791\n",
       "6    1702\n",
       "3    1639\n",
       "7    1422\n",
       "Name: label_1, dtype: int64"
      ]
     },
     "execution_count": 462,
     "metadata": {},
     "output_type": "execute_result"
    }
   ],
   "source": [
    "df.label_1.value_counts()"
   ]
  },
  {
   "cell_type": "code",
   "execution_count": 463,
   "metadata": {},
   "outputs": [
    {
     "data": {
      "text/plain": [
       "2    2701\n",
       "5    2516\n",
       "1    2486\n",
       "7    2080\n",
       "6    2048\n",
       "3    2028\n",
       "4    2016\n",
       "8    1615\n",
       "Name: label_2_fill, dtype: int64"
      ]
     },
     "execution_count": 463,
     "metadata": {},
     "output_type": "execute_result"
    }
   ],
   "source": [
    "df.label_2_fill.value_counts()"
   ]
  },
  {
   "cell_type": "code",
   "execution_count": 464,
   "metadata": {},
   "outputs": [
    {
     "data": {
      "text/plain": [
       "hap     1364\n",
       "fear     877\n",
       "sad      790\n",
       "ang      391\n",
       "surp     221\n",
       "disg      60\n",
       "Name: target_name, dtype: int64"
      ]
     },
     "execution_count": 464,
     "metadata": {},
     "output_type": "execute_result"
    }
   ],
   "source": [
    "df_anger = df.loc[df[\"label_1\"] == 1]\n",
    "df_anger[\"target_name\"].value_counts()"
   ]
  },
  {
   "cell_type": "code",
   "execution_count": 465,
   "metadata": {},
   "outputs": [
    {
     "data": {
      "text/plain": [
       "hap     1001\n",
       "fear     724\n",
       "sad      608\n",
       "surp     222\n",
       "ang      119\n",
       "disg      32\n",
       "Name: target_name, dtype: int64"
      ]
     },
     "execution_count": 465,
     "metadata": {},
     "output_type": "execute_result"
    }
   ],
   "source": [
    "df_anticipation = df.loc[df[\"label_1\"] == 2]\n",
    "df_anticipation[\"target_name\"].value_counts()"
   ]
  },
  {
   "cell_type": "code",
   "execution_count": 466,
   "metadata": {},
   "outputs": [
    {
     "data": {
      "text/plain": [
       "hap     537\n",
       "fear    416\n",
       "sad     403\n",
       "ang     173\n",
       "surp     64\n",
       "disg     46\n",
       "Name: target_name, dtype: int64"
      ]
     },
     "execution_count": 466,
     "metadata": {},
     "output_type": "execute_result"
    }
   ],
   "source": [
    "df_disgust = df.loc[df[\"label_1\"] == 3]\n",
    "df_disgust[\"target_name\"].value_counts()"
   ]
  },
  {
   "cell_type": "code",
   "execution_count": 467,
   "metadata": {},
   "outputs": [
    {
     "data": {
      "text/plain": [
       "hap     696\n",
       "fear    421\n",
       "sad     344\n",
       "ang     166\n",
       "surp    139\n",
       "disg     25\n",
       "Name: target_name, dtype: int64"
      ]
     },
     "execution_count": 467,
     "metadata": {},
     "output_type": "execute_result"
    }
   ],
   "source": [
    "df_fear = df.loc[df[\"label_1\"] == 4]\n",
    "df_fear[\"target_name\"].value_counts()"
   ]
  },
  {
   "cell_type": "code",
   "execution_count": 468,
   "metadata": {},
   "outputs": [
    {
     "data": {
      "text/plain": [
       "sad     575\n",
       "hap     567\n",
       "fear    419\n",
       "surp    152\n",
       "ang     103\n",
       "disg     27\n",
       "Name: target_name, dtype: int64"
      ]
     },
     "execution_count": 468,
     "metadata": {},
     "output_type": "execute_result"
    }
   ],
   "source": [
    "df_joy = df.loc[df[\"label_1\"] == 5]\n",
    "df_joy.target_name.value_counts()"
   ]
  },
  {
   "cell_type": "code",
   "execution_count": 469,
   "metadata": {},
   "outputs": [
    {
     "data": {
      "text/plain": [
       "hap     670\n",
       "fear    379\n",
       "sad     369\n",
       "ang     144\n",
       "surp    114\n",
       "disg     26\n",
       "Name: target_name, dtype: int64"
      ]
     },
     "execution_count": 469,
     "metadata": {},
     "output_type": "execute_result"
    }
   ],
   "source": [
    "df_sad = df.loc[df[\"label_1\"] == 6]\n",
    "df_sad.target_name.value_counts()"
   ]
  },
  {
   "cell_type": "code",
   "execution_count": 470,
   "metadata": {},
   "outputs": [
    {
     "data": {
      "text/plain": [
       "hap     522\n",
       "sad     377\n",
       "fear    300\n",
       "ang     107\n",
       "surp     96\n",
       "disg     20\n",
       "Name: target_name, dtype: int64"
      ]
     },
     "execution_count": 470,
     "metadata": {},
     "output_type": "execute_result"
    }
   ],
   "source": [
    "df_surp = df.loc[df[\"label_1\"] == 7]\n",
    "df_surp.target_name.value_counts()"
   ]
  },
  {
   "cell_type": "code",
   "execution_count": 471,
   "metadata": {},
   "outputs": [
    {
     "data": {
      "text/plain": [
       "hap     1015\n",
       "fear     718\n",
       "sad      606\n",
       "surp     191\n",
       "ang      135\n",
       "disg      19\n",
       "Name: target_name, dtype: int64"
      ]
     },
     "execution_count": 471,
     "metadata": {},
     "output_type": "execute_result"
    }
   ],
   "source": [
    "df_trust = df[df[\"label_1\"] == 8]\n",
    "df_trust.target_name.value_counts()"
   ]
  },
  {
   "cell_type": "code",
   "execution_count": 472,
   "metadata": {},
   "outputs": [
    {
     "data": {
      "text/plain": [
       "hap     956\n",
       "fear    574\n",
       "sad     512\n",
       "ang     256\n",
       "surp    152\n",
       "disg     36\n",
       "Name: target_name, dtype: int64"
      ]
     },
     "execution_count": 472,
     "metadata": {},
     "output_type": "execute_result"
    }
   ],
   "source": [
    "df_anger_2 = df[df[\"label_2_fill\"] == 1]\n",
    "df_anger_2.target_name.value_counts()                 "
   ]
  },
  {
   "cell_type": "code",
   "execution_count": 473,
   "metadata": {},
   "outputs": [
    {
     "data": {
      "text/plain": [
       "hap     1010\n",
       "fear     732\n",
       "sad      592\n",
       "surp     212\n",
       "ang      119\n",
       "disg      36\n",
       "Name: target_name, dtype: int64"
      ]
     },
     "execution_count": 473,
     "metadata": {},
     "output_type": "execute_result"
    }
   ],
   "source": [
    "df_antic_2 = df[df[\"label_2_fill\"] == 2]\n",
    "df_antic_2.target_name.value_counts()"
   ]
  },
  {
   "cell_type": "code",
   "execution_count": 474,
   "metadata": {},
   "outputs": [
    {
     "data": {
      "text/plain": [
       "hap     651\n",
       "fear    512\n",
       "sad     502\n",
       "ang     229\n",
       "surp     85\n",
       "disg     49\n",
       "Name: target_name, dtype: int64"
      ]
     },
     "execution_count": 474,
     "metadata": {},
     "output_type": "execute_result"
    }
   ],
   "source": [
    "df_disg_2 = df[df[\"label_2_fill\"] == 3]\n",
    "df_disg_2.target_name.value_counts()"
   ]
  },
  {
   "cell_type": "code",
   "execution_count": 475,
   "metadata": {},
   "outputs": [
    {
     "data": {
      "text/plain": [
       "hap     770\n",
       "fear    477\n",
       "sad     402\n",
       "ang     189\n",
       "surp    148\n",
       "disg     30\n",
       "Name: target_name, dtype: int64"
      ]
     },
     "execution_count": 475,
     "metadata": {},
     "output_type": "execute_result"
    }
   ],
   "source": [
    "df_fear_2 = df[df[\"label_2_fill\"] == 4]\n",
    "df_fear_2.target_name.value_counts()"
   ]
  },
  {
   "cell_type": "code",
   "execution_count": 476,
   "metadata": {},
   "outputs": [
    {
     "data": {
      "text/plain": [
       "hap     788\n",
       "sad     739\n",
       "fear    600\n",
       "surp    221\n",
       "ang     133\n",
       "disg     35\n",
       "Name: target_name, dtype: int64"
      ]
     },
     "execution_count": 476,
     "metadata": {},
     "output_type": "execute_result"
    }
   ],
   "source": [
    "df_hap_2 = df[df[\"label_2_fill\"] == 5]\n",
    "df_hap_2.target_name.value_counts()"
   ]
  },
  {
   "cell_type": "code",
   "execution_count": 477,
   "metadata": {},
   "outputs": [
    {
     "data": {
      "text/plain": [
       "hap     811\n",
       "fear    471\n",
       "sad     421\n",
       "ang     174\n",
       "surp    137\n",
       "disg     34\n",
       "Name: target_name, dtype: int64"
      ]
     },
     "execution_count": 477,
     "metadata": {},
     "output_type": "execute_result"
    }
   ],
   "source": [
    "df_sad_2 = df[df[\"label_2_fill\"] == 6]\n",
    "df_sad_2.target_name.value_counts()"
   ]
  },
  {
   "cell_type": "code",
   "execution_count": 478,
   "metadata": {},
   "outputs": [
    {
     "data": {
      "text/plain": [
       "hap     761\n",
       "sad     554\n",
       "fear    437\n",
       "ang     158\n",
       "surp    143\n",
       "disg     27\n",
       "Name: target_name, dtype: int64"
      ]
     },
     "execution_count": 478,
     "metadata": {},
     "output_type": "execute_result"
    }
   ],
   "source": [
    "df_surp_2 = df[df[\"label_2_fill\"] == 7]\n",
    "df_surp_2.target_name.value_counts()"
   ]
  },
  {
   "cell_type": "code",
   "execution_count": 479,
   "metadata": {},
   "outputs": [
    {
     "data": {
      "text/plain": [
       "hap     625\n",
       "fear    451\n",
       "sad     350\n",
       "surp    101\n",
       "ang      80\n",
       "disg      8\n",
       "Name: target_name, dtype: int64"
      ]
     },
     "execution_count": 479,
     "metadata": {},
     "output_type": "execute_result"
    }
   ],
   "source": [
    "df_trust_2 = df[df[\"label_2_fill\"] == 8]\n",
    "df_trust_2.target_name.value_counts()"
   ]
  },
  {
   "cell_type": "markdown",
   "metadata": {},
   "source": [
    "# Classification"
   ]
  },
  {
   "cell_type": "code",
   "execution_count": 480,
   "metadata": {},
   "outputs": [],
   "source": [
    "df[\"label_fear\"] = df[\"label_1\"].map({1:0, 2:0, 3:0, 4:1, 5:0, 6:0, 7:0, 8:0})"
   ]
  },
  {
   "cell_type": "code",
   "execution_count": 481,
   "metadata": {},
   "outputs": [],
   "source": [
    "df[\"target_fear\"] = df[\"target\"].map({1:0, 3:0, 4:1, 5:0, 6:0, 7:0})"
   ]
  },
  {
   "cell_type": "code",
   "execution_count": 482,
   "metadata": {},
   "outputs": [
    {
     "data": {
      "text/plain": [
       "0    13236\n",
       "1     4254\n",
       "Name: target_fear, dtype: int64"
      ]
     },
     "execution_count": 482,
     "metadata": {},
     "output_type": "execute_result"
    }
   ],
   "source": [
    "df.target_fear.value_counts()"
   ]
  },
  {
   "cell_type": "code",
   "execution_count": 483,
   "metadata": {},
   "outputs": [
    {
     "data": {
      "text/plain": [
       "0    15699\n",
       "1     1791\n",
       "Name: label_fear, dtype: int64"
      ]
     },
     "execution_count": 483,
     "metadata": {},
     "output_type": "execute_result"
    }
   ],
   "source": [
    "df.label_fear.value_counts()"
   ]
  },
  {
   "cell_type": "code",
   "execution_count": 484,
   "metadata": {},
   "outputs": [],
   "source": [
    "from sklearn.model_selection import train_test_split\n",
    "from sklearn.pipeline import Pipeline\n",
    "from sklearn.feature_extraction.text import TfidfVectorizer\n",
    "from sklearn.naive_bayes import MultinomialNB\n",
    "from sklearn.svm import LinearSVC\n",
    "from sklearn import metrics\n",
    "from sklearn.linear_model import LogisticRegression\n"
   ]
  },
  {
   "cell_type": "code",
   "execution_count": 485,
   "metadata": {},
   "outputs": [],
   "source": [
    "X = df[\"text_clean\"]\n",
    "y_target = df[\"target_fear\"]\n",
    "y_label = df[\"label_fear\"]\n",
    "\n",
    "X_train, X_test, y_train_t, y_test_t, y_train_l, y_test_l = train_test_split(X, y_target, y_label, test_size=0.30, random_state=42)"
   ]
  },
  {
   "cell_type": "code",
   "execution_count": 486,
   "metadata": {},
   "outputs": [],
   "source": [
    "# Naïve Bayes:\n",
    "text_clf_nb = Pipeline([('tfidf', TfidfVectorizer()),\n",
    "                     ('clf', MultinomialNB()),\n",
    "])\n",
    "\n",
    "# Linear SVC:\n",
    "text_clf_lsvc = Pipeline([('tfidf', TfidfVectorizer()),\n",
    "                     ('clf', LinearSVC()),\n",
    "])\n",
    "\n",
    "# LogisticRegression \n",
    "text_clf_lr = Pipeline([('tfidf', TfidfVectorizer()),\n",
    "                     ('clf', LogisticRegression()),\n",
    "])"
   ]
  },
  {
   "cell_type": "code",
   "execution_count": 487,
   "metadata": {},
   "outputs": [
    {
     "name": "stdout",
     "output_type": "stream",
     "text": [
      "Report of MultinomialNB_fear\n",
      "Confusion Matrix \n",
      " [[4708   13]\n",
      " [ 523    3]]\n",
      "              precision    recall  f1-score   support\n",
      "\n",
      "           0       0.90      1.00      0.95      4721\n",
      "           1       0.19      0.01      0.01       526\n",
      "\n",
      "    accuracy                           0.90      5247\n",
      "   macro avg       0.54      0.50      0.48      5247\n",
      "weighted avg       0.83      0.90      0.85      5247\n",
      "\n",
      "Accuracy Score:  0.8978463884124261\n"
     ]
    }
   ],
   "source": [
    "print(\"Report of MultinomialNB_fear\")\n",
    "text_clf_nb.fit(X_train, y_train_t)\n",
    "predictions = text_clf_nb.predict(X_test)\n",
    "print(\"Confusion Matrix \\n\",metrics.confusion_matrix(y_test_l,predictions))\n",
    "print(metrics.classification_report(y_test_l,predictions))\n",
    "print(\"Accuracy Score: \", metrics.accuracy_score(y_test_l,predictions))"
   ]
  },
  {
   "cell_type": "code",
   "execution_count": 488,
   "metadata": {},
   "outputs": [
    {
     "name": "stdout",
     "output_type": "stream",
     "text": [
      "Report of LinearSVC_fear\n",
      "Confusion Matrix \n",
      " [[4136  585]\n",
      " [ 464   62]]\n",
      "              precision    recall  f1-score   support\n",
      "\n",
      "           0       0.90      0.88      0.89      4721\n",
      "           1       0.10      0.12      0.11       526\n",
      "\n",
      "    accuracy                           0.80      5247\n",
      "   macro avg       0.50      0.50      0.50      5247\n",
      "weighted avg       0.82      0.80      0.81      5247\n",
      "\n",
      "Accuracy Score:  0.8000762340384981\n"
     ]
    }
   ],
   "source": [
    "print(\"Report of LinearSVC_fear\")\n",
    "text_clf_lsvc.fit(X_train, y_train_t)\n",
    "predictions = text_clf_lsvc.predict(X_test)\n",
    "print(\"Confusion Matrix \\n\", metrics.confusion_matrix(y_test_l,predictions))\n",
    "print(metrics.classification_report(y_test_l,predictions))\n",
    "print(\"Accuracy Score: \", metrics.accuracy_score(y_test_l,predictions))"
   ]
  },
  {
   "cell_type": "code",
   "execution_count": 489,
   "metadata": {},
   "outputs": [
    {
     "name": "stdout",
     "output_type": "stream",
     "text": [
      "Report of LogisticRegression_fear\n",
      "Confusion Matrix \n",
      " [[4499  222]\n",
      " [ 510   16]]\n",
      "              precision    recall  f1-score   support\n",
      "\n",
      "           0       0.90      0.95      0.92      4721\n",
      "           1       0.07      0.03      0.04       526\n",
      "\n",
      "    accuracy                           0.86      5247\n",
      "   macro avg       0.48      0.49      0.48      5247\n",
      "weighted avg       0.81      0.86      0.84      5247\n",
      "\n",
      "Accuracy Score:  0.8604917095483133\n"
     ]
    }
   ],
   "source": [
    "print(\"Report of LogisticRegression_fear\")\n",
    "text_clf_lr.fit(X_train, y_train_t)\n",
    "predictions = text_clf_lr.predict(X_test)\n",
    "print(\"Confusion Matrix \\n\", metrics.confusion_matrix(y_test_l,predictions))\n",
    "print(metrics.classification_report(y_test_l,predictions))\n",
    "print(\"Accuracy Score: \", metrics.accuracy_score(y_test_l,predictions))"
   ]
  },
  {
   "cell_type": "code",
   "execution_count": null,
   "metadata": {},
   "outputs": [],
   "source": []
  },
  {
   "cell_type": "code",
   "execution_count": 490,
   "metadata": {},
   "outputs": [],
   "source": [
    "df[\"label_hap\"] = df[\"label_1\"].map({1:0, 2:0, 3:0, 4:0, 5:1, 6:0, 7:0, 8:0})\n",
    "df[\"target_hap\"] = df[\"target\"].map({1:0, 3:0, 4:0, 5:1, 6:0, 7:0})"
   ]
  },
  {
   "cell_type": "code",
   "execution_count": 491,
   "metadata": {},
   "outputs": [
    {
     "data": {
      "text/plain": [
       "0    11118\n",
       "1     6372\n",
       "Name: target_hap, dtype: int64"
      ]
     },
     "execution_count": 491,
     "metadata": {},
     "output_type": "execute_result"
    }
   ],
   "source": [
    "df.target_hap.value_counts()"
   ]
  },
  {
   "cell_type": "code",
   "execution_count": 492,
   "metadata": {},
   "outputs": [
    {
     "data": {
      "text/plain": [
       "0    15647\n",
       "1     1843\n",
       "Name: label_hap, dtype: int64"
      ]
     },
     "execution_count": 492,
     "metadata": {},
     "output_type": "execute_result"
    }
   ],
   "source": [
    "df.label_hap.value_counts()"
   ]
  },
  {
   "cell_type": "code",
   "execution_count": 493,
   "metadata": {},
   "outputs": [],
   "source": [
    "X = df[\"text_clean\"]\n",
    "y_target = df[\"target_hap\"]\n",
    "y_label = df[\"label_hap\"]\n",
    "\n",
    "X_train, X_test, y_train_t, y_test_t, y_train_l, y_test_l = train_test_split(X, y_target, y_label, test_size=0.30, random_state=42)"
   ]
  },
  {
   "cell_type": "code",
   "execution_count": 494,
   "metadata": {
    "scrolled": true
   },
   "outputs": [
    {
     "name": "stdout",
     "output_type": "stream",
     "text": [
      "Report of MultinomialNB_hap\n",
      "Confusion Matrix \n",
      " [[4076  608]\n",
      " [ 515   48]]\n",
      "              precision    recall  f1-score   support\n",
      "\n",
      "           0       0.89      0.87      0.88      4684\n",
      "           1       0.07      0.09      0.08       563\n",
      "\n",
      "    accuracy                           0.79      5247\n",
      "   macro avg       0.48      0.48      0.48      5247\n",
      "weighted avg       0.80      0.79      0.79      5247\n",
      "\n",
      "Accuracy Score: 0.7859729369163332\n"
     ]
    }
   ],
   "source": [
    "print(\"Report of MultinomialNB_hap\")\n",
    "text_clf_nb.fit(X_train, y_train_t)\n",
    "predictions = text_clf_nb.predict(X_test)\n",
    "print(\"Confusion Matrix \\n\",metrics.confusion_matrix(y_test_l,predictions))\n",
    "print(metrics.classification_report(y_test_l,predictions))\n",
    "print(\"Accuracy Score:\", metrics.accuracy_score(y_test_l,predictions))"
   ]
  },
  {
   "cell_type": "code",
   "execution_count": 495,
   "metadata": {},
   "outputs": [
    {
     "name": "stdout",
     "output_type": "stream",
     "text": [
      "Report of LinearSVC_hap\n",
      "Confusion Matrix \n",
      " [[3162 1522]\n",
      " [ 424  139]]\n",
      "              precision    recall  f1-score   support\n",
      "\n",
      "           0       0.88      0.68      0.76      4684\n",
      "           1       0.08      0.25      0.13       563\n",
      "\n",
      "    accuracy                           0.63      5247\n",
      "   macro avg       0.48      0.46      0.44      5247\n",
      "weighted avg       0.80      0.63      0.70      5247\n",
      "\n",
      "Accuracy Score 0.6291214027063083\n"
     ]
    }
   ],
   "source": [
    "print(\"Report of LinearSVC_hap\")\n",
    "text_clf_lsvc.fit(X_train, y_train_t)\n",
    "predictions = text_clf_lsvc.predict(X_test)\n",
    "print(\"Confusion Matrix \\n\",metrics.confusion_matrix(y_test_l,predictions))\n",
    "print(metrics.classification_report(y_test_l,predictions))\n",
    "print(\"Accuracy Score\", metrics.accuracy_score(y_test_l,predictions))"
   ]
  },
  {
   "cell_type": "code",
   "execution_count": 496,
   "metadata": {},
   "outputs": [
    {
     "name": "stdout",
     "output_type": "stream",
     "text": [
      "Report of LogisticRegression_hap\n",
      "Confusion Matrix \n",
      " [[3514 1170]\n",
      " [ 478   85]]\n",
      "              precision    recall  f1-score   support\n",
      "\n",
      "           0       0.88      0.75      0.81      4684\n",
      "           1       0.07      0.15      0.09       563\n",
      "\n",
      "    accuracy                           0.69      5247\n",
      "   macro avg       0.47      0.45      0.45      5247\n",
      "weighted avg       0.79      0.69      0.73      5247\n",
      "\n",
      "Accuracy Score 0.6859157613874595\n"
     ]
    }
   ],
   "source": [
    "print(\"Report of LogisticRegression_hap\")\n",
    "text_clf_lr.fit(X_train, y_train_t)\n",
    "predictions = text_clf_lr.predict(X_test)\n",
    "print(\"Confusion Matrix \\n\",metrics.confusion_matrix(y_test_l,predictions))\n",
    "print(metrics.classification_report(y_test_l,predictions))\n",
    "print(\"Accuracy Score\", metrics.accuracy_score(y_test_l,predictions))"
   ]
  },
  {
   "cell_type": "code",
   "execution_count": null,
   "metadata": {},
   "outputs": [],
   "source": []
  },
  {
   "cell_type": "code",
   "execution_count": 497,
   "metadata": {},
   "outputs": [],
   "source": [
    "df[\"label_sad\"] = df[\"label_1\"].map({1:0, 2: 0, 3:0, 4:0, 5:0, 6:1, 7:0, 8:0})\n",
    "df[\"target_sad\"] = df[\"target\"].map({1:0, 3:0, 4:0, 5:0, 6:1, 7:0})"
   ]
  },
  {
   "cell_type": "code",
   "execution_count": 498,
   "metadata": {},
   "outputs": [
    {
     "data": {
      "text/plain": [
       "0    13418\n",
       "1     4072\n",
       "Name: target_sad, dtype: int64"
      ]
     },
     "execution_count": 498,
     "metadata": {},
     "output_type": "execute_result"
    }
   ],
   "source": [
    "df.target_sad.value_counts()"
   ]
  },
  {
   "cell_type": "code",
   "execution_count": 499,
   "metadata": {},
   "outputs": [
    {
     "data": {
      "text/plain": [
       "0    15788\n",
       "1     1702\n",
       "Name: label_sad, dtype: int64"
      ]
     },
     "execution_count": 499,
     "metadata": {},
     "output_type": "execute_result"
    }
   ],
   "source": [
    "df.label_sad.value_counts()"
   ]
  },
  {
   "cell_type": "code",
   "execution_count": 500,
   "metadata": {},
   "outputs": [],
   "source": [
    "X = df[\"text_clean\"]\n",
    "y_target = df[\"target_sad\"]\n",
    "y_label = df[\"label_sad\"]\n",
    "\n",
    "X_train, X_test, y_train_t, y_test_t, y_train_l, y_test_l = train_test_split(X, y_target, y_label, test_size=0.30, random_state=42)"
   ]
  },
  {
   "cell_type": "code",
   "execution_count": 501,
   "metadata": {},
   "outputs": [
    {
     "name": "stdout",
     "output_type": "stream",
     "text": [
      "Report of MultinomialNB_sad\n",
      "Confusion Matrix \n",
      " [[4708   30]\n",
      " [ 507    2]]\n",
      "              precision    recall  f1-score   support\n",
      "\n",
      "           0       0.90      0.99      0.95      4738\n",
      "           1       0.06      0.00      0.01       509\n",
      "\n",
      "    accuracy                           0.90      5247\n",
      "   macro avg       0.48      0.50      0.48      5247\n",
      "weighted avg       0.82      0.90      0.85      5247\n",
      "\n",
      "Accuracy Score: 0.8976558033161807\n"
     ]
    }
   ],
   "source": [
    "print(\"Report of MultinomialNB_sad\")\n",
    "text_clf_nb.fit(X_train, y_train_t)\n",
    "predictions = text_clf_nb.predict(X_test)\n",
    "print(\"Confusion Matrix \\n\",metrics.confusion_matrix(y_test_l,predictions))\n",
    "print(metrics.classification_report(y_test_l,predictions))\n",
    "print(\"Accuracy Score:\", metrics.accuracy_score(y_test_l,predictions))"
   ]
  },
  {
   "cell_type": "code",
   "execution_count": 502,
   "metadata": {},
   "outputs": [
    {
     "name": "stdout",
     "output_type": "stream",
     "text": [
      "Report of LinearSVC_sad\n",
      "Confusion Matrix \n",
      " [[4071  667]\n",
      " [ 444   65]]\n",
      "              precision    recall  f1-score   support\n",
      "\n",
      "           0       0.90      0.86      0.88      4738\n",
      "           1       0.09      0.13      0.10       509\n",
      "\n",
      "    accuracy                           0.79      5247\n",
      "   macro avg       0.50      0.49      0.49      5247\n",
      "weighted avg       0.82      0.79      0.80      5247\n",
      "\n",
      "Accuracy Score 0.7882599580712788\n"
     ]
    }
   ],
   "source": [
    "print(\"Report of LinearSVC_sad\")\n",
    "text_clf_lsvc.fit(X_train, y_train_t)\n",
    "predictions = text_clf_lsvc.predict(X_test)\n",
    "print(\"Confusion Matrix \\n\",metrics.confusion_matrix(y_test_l,predictions))\n",
    "print(metrics.classification_report(y_test_l,predictions))\n",
    "print(\"Accuracy Score\", metrics.accuracy_score(y_test_l,predictions))"
   ]
  },
  {
   "cell_type": "code",
   "execution_count": 503,
   "metadata": {},
   "outputs": [
    {
     "name": "stdout",
     "output_type": "stream",
     "text": [
      "Report of LogisticRegression_sad\n",
      "Confusion Matrix \n",
      " [[4394  344]\n",
      " [ 479   30]]\n",
      "              precision    recall  f1-score   support\n",
      "\n",
      "           0       0.90      0.93      0.91      4738\n",
      "           1       0.08      0.06      0.07       509\n",
      "\n",
      "    accuracy                           0.84      5247\n",
      "   macro avg       0.49      0.49      0.49      5247\n",
      "weighted avg       0.82      0.84      0.83      5247\n",
      "\n",
      "Accuracy Score 0.8431484657899753\n"
     ]
    }
   ],
   "source": [
    "print(\"Report of LogisticRegression_sad\")\n",
    "text_clf_lr.fit(X_train, y_train_t)\n",
    "predictions = text_clf_lr.predict(X_test)\n",
    "print(\"Confusion Matrix \\n\",metrics.confusion_matrix(y_test_l,predictions))\n",
    "print(metrics.classification_report(y_test_l,predictions))\n",
    "print(\"Accuracy Score\", metrics.accuracy_score(y_test_l,predictions))"
   ]
  },
  {
   "cell_type": "code",
   "execution_count": null,
   "metadata": {},
   "outputs": [],
   "source": []
  },
  {
   "cell_type": "markdown",
   "metadata": {},
   "source": [
    "# SentArt vs label_2"
   ]
  },
  {
   "cell_type": "code",
   "execution_count": 504,
   "metadata": {},
   "outputs": [],
   "source": [
    "df[\"label_fear_2\"] = df[\"label_2_fill\"].map({1: 0, 2: 0, 3:0, 4:1, 5:0, 6:0, 7:0, 8:0})\n",
    "X = df[\"text_clean\"]\n",
    "y_target = df[\"target_fear\"]\n",
    "y_label = df[\"label_fear_2\"]\n",
    "\n",
    "X_train, X_test, y_train_t, y_test_t, y_train_l, y_test_l = train_test_split(X, y_target, y_label, test_size=0.30, random_state=42)"
   ]
  },
  {
   "cell_type": "code",
   "execution_count": 505,
   "metadata": {},
   "outputs": [
    {
     "name": "stdout",
     "output_type": "stream",
     "text": [
      "0    15474\n",
      "1     2016\n",
      "Name: label_fear_2, dtype: int64\n",
      "0    13236\n",
      "1     4254\n",
      "Name: target_fear, dtype: int64\n"
     ]
    }
   ],
   "source": [
    "print(df.label_fear_2.value_counts())\n",
    "print(df.target_fear.value_counts())\n"
   ]
  },
  {
   "cell_type": "code",
   "execution_count": 506,
   "metadata": {},
   "outputs": [
    {
     "name": "stdout",
     "output_type": "stream",
     "text": [
      "Report of MultinomialNB_fear_2\n",
      "Confusion Matrix \n",
      " [[4642   12]\n",
      " [ 589    4]]\n",
      "              precision    recall  f1-score   support\n",
      "\n",
      "           0       0.89      1.00      0.94      4654\n",
      "           1       0.25      0.01      0.01       593\n",
      "\n",
      "    accuracy                           0.89      5247\n",
      "   macro avg       0.57      0.50      0.48      5247\n",
      "weighted avg       0.82      0.89      0.83      5247\n",
      "\n",
      "Accuracy Score:  0.8854583571564704\n"
     ]
    }
   ],
   "source": [
    "print(\"Report of MultinomialNB_fear_2\")\n",
    "text_clf_nb.fit(X_train, y_train_t)\n",
    "predictions = text_clf_nb.predict(X_test)\n",
    "print(\"Confusion Matrix \\n\",metrics.confusion_matrix(y_test_l,predictions))\n",
    "print(metrics.classification_report(y_test_l,predictions))\n",
    "print(\"Accuracy Score: \", metrics.accuracy_score(y_test_l,predictions))"
   ]
  },
  {
   "cell_type": "code",
   "execution_count": 507,
   "metadata": {},
   "outputs": [
    {
     "name": "stdout",
     "output_type": "stream",
     "text": [
      "Report of LinearSVC_fear_2\n",
      "Confusion Matrix \n",
      " [[4070  584]\n",
      " [ 530   63]]\n",
      "              precision    recall  f1-score   support\n",
      "\n",
      "           0       0.88      0.87      0.88      4654\n",
      "           1       0.10      0.11      0.10       593\n",
      "\n",
      "    accuracy                           0.79      5247\n",
      "   macro avg       0.49      0.49      0.49      5247\n",
      "weighted avg       0.80      0.79      0.79      5247\n",
      "\n",
      "Accuracy Score:  0.7876882027825424\n"
     ]
    }
   ],
   "source": [
    "print(\"Report of LinearSVC_fear_2\")\n",
    "text_clf_lsvc.fit(X_train, y_train_t)\n",
    "predictions = text_clf_lsvc.predict(X_test)\n",
    "print(\"Confusion Matrix \\n\", metrics.confusion_matrix(y_test_l,predictions))\n",
    "print(metrics.classification_report(y_test_l,predictions))\n",
    "print(\"Accuracy Score: \", metrics.accuracy_score(y_test_l,predictions))"
   ]
  },
  {
   "cell_type": "code",
   "execution_count": 508,
   "metadata": {},
   "outputs": [
    {
     "name": "stdout",
     "output_type": "stream",
     "text": [
      "Report of LogisticRegression_fear_2\n",
      "Confusion Matrix \n",
      " [[4435  219]\n",
      " [ 574   19]]\n",
      "              precision    recall  f1-score   support\n",
      "\n",
      "           0       0.89      0.95      0.92      4654\n",
      "           1       0.08      0.03      0.05       593\n",
      "\n",
      "    accuracy                           0.85      5247\n",
      "   macro avg       0.48      0.49      0.48      5247\n",
      "weighted avg       0.79      0.85      0.82      5247\n",
      "\n",
      "Accuracy Score 0.8488660186773395\n"
     ]
    }
   ],
   "source": [
    "print(\"Report of LogisticRegression_fear_2\")\n",
    "text_clf_lr.fit(X_train, y_train_t)\n",
    "predictions = text_clf_lr.predict(X_test)\n",
    "print(\"Confusion Matrix \\n\",metrics.confusion_matrix(y_test_l,predictions))\n",
    "print(metrics.classification_report(y_test_l,predictions))\n",
    "print(\"Accuracy Score\", metrics.accuracy_score(y_test_l,predictions))"
   ]
  },
  {
   "cell_type": "code",
   "execution_count": null,
   "metadata": {},
   "outputs": [],
   "source": []
  },
  {
   "cell_type": "code",
   "execution_count": null,
   "metadata": {},
   "outputs": [],
   "source": []
  },
  {
   "cell_type": "code",
   "execution_count": 509,
   "metadata": {},
   "outputs": [],
   "source": [
    "df[\"label_hap_2\"] = df[\"label_2_fill\"].map({1: 0, 2: 0, 3:0, 4:0, 5:1, 6:0, 7:0, 8:0})\n",
    "X = df[\"text_clean\"]\n",
    "y_target = df[\"target_hap\"]\n",
    "y_label = df[\"label_hap_2\"]\n",
    "\n",
    "X_train, X_test, y_train_t, y_test_t, y_train_l, y_test_l = train_test_split(X, y_target, y_label, test_size=0.30, random_state=42)"
   ]
  },
  {
   "cell_type": "code",
   "execution_count": 510,
   "metadata": {},
   "outputs": [
    {
     "name": "stdout",
     "output_type": "stream",
     "text": [
      "0    14974\n",
      "1     2516\n",
      "Name: label_hap_2, dtype: int64\n",
      "0    11118\n",
      "1     6372\n",
      "Name: target_hap, dtype: int64\n"
     ]
    }
   ],
   "source": [
    "print(df.label_hap_2.value_counts())\n",
    "print(df.target_hap.value_counts())"
   ]
  },
  {
   "cell_type": "code",
   "execution_count": 511,
   "metadata": {},
   "outputs": [
    {
     "name": "stdout",
     "output_type": "stream",
     "text": [
      "Report of MultinomialNB_hap_2\n",
      "Confusion Matrix \n",
      " [[3868  578]\n",
      " [ 723   78]]\n",
      "              precision    recall  f1-score   support\n",
      "\n",
      "           0       0.84      0.87      0.86      4446\n",
      "           1       0.12      0.10      0.11       801\n",
      "\n",
      "    accuracy                           0.75      5247\n",
      "   macro avg       0.48      0.48      0.48      5247\n",
      "weighted avg       0.73      0.75      0.74      5247\n",
      "\n",
      "Accuracy Score:  0.7520487897846388\n"
     ]
    }
   ],
   "source": [
    "print(\"Report of MultinomialNB_hap_2\")\n",
    "text_clf_nb.fit(X_train, y_train_t)\n",
    "predictions = text_clf_nb.predict(X_test)\n",
    "print(\"Confusion Matrix \\n\",metrics.confusion_matrix(y_test_l,predictions))\n",
    "print(metrics.classification_report(y_test_l,predictions))\n",
    "print(\"Accuracy Score: \", metrics.accuracy_score(y_test_l,predictions))"
   ]
  },
  {
   "cell_type": "code",
   "execution_count": 512,
   "metadata": {},
   "outputs": [
    {
     "name": "stdout",
     "output_type": "stream",
     "text": [
      "Report of LinearSVC_hap_2\n",
      "Confusion Matrix \n",
      " [[3000 1446]\n",
      " [ 585  216]]\n",
      "              precision    recall  f1-score   support\n",
      "\n",
      "           0       0.84      0.67      0.75      4446\n",
      "           1       0.13      0.27      0.18       801\n",
      "\n",
      "    accuracy                           0.61      5247\n",
      "   macro avg       0.48      0.47      0.46      5247\n",
      "weighted avg       0.73      0.61      0.66      5247\n",
      "\n",
      "Accuracy Score:  0.6129216695254431\n"
     ]
    }
   ],
   "source": [
    "print(\"Report of LinearSVC_hap_2\")\n",
    "text_clf_lsvc.fit(X_train, y_train_t)\n",
    "predictions = text_clf_lsvc.predict(X_test)\n",
    "print(\"Confusion Matrix \\n\", metrics.confusion_matrix(y_test_l,predictions))\n",
    "print(metrics.classification_report(y_test_l,predictions))\n",
    "print(\"Accuracy Score: \", metrics.accuracy_score(y_test_l,predictions))"
   ]
  },
  {
   "cell_type": "code",
   "execution_count": 513,
   "metadata": {},
   "outputs": [
    {
     "name": "stdout",
     "output_type": "stream",
     "text": [
      "Report of LogisticRegression_hap_2\n",
      "Confusion Matrix \n",
      " [[3334 1112]\n",
      " [ 658  143]]\n",
      "              precision    recall  f1-score   support\n",
      "\n",
      "           0       0.84      0.75      0.79      4446\n",
      "           1       0.11      0.18      0.14       801\n",
      "\n",
      "    accuracy                           0.66      5247\n",
      "   macro avg       0.47      0.46      0.46      5247\n",
      "weighted avg       0.73      0.66      0.69      5247\n",
      "\n",
      "Accuracy Score 0.6626643796455117\n"
     ]
    }
   ],
   "source": [
    "print(\"Report of LogisticRegression_hap_2\")\n",
    "text_clf_lr.fit(X_train, y_train_t)\n",
    "predictions = text_clf_lr.predict(X_test)\n",
    "print(\"Confusion Matrix \\n\",metrics.confusion_matrix(y_test_l,predictions))\n",
    "print(metrics.classification_report(y_test_l,predictions))\n",
    "print(\"Accuracy Score\", metrics.accuracy_score(y_test_l,predictions))"
   ]
  },
  {
   "cell_type": "code",
   "execution_count": null,
   "metadata": {},
   "outputs": [],
   "source": []
  },
  {
   "cell_type": "code",
   "execution_count": null,
   "metadata": {},
   "outputs": [],
   "source": []
  },
  {
   "cell_type": "code",
   "execution_count": 514,
   "metadata": {},
   "outputs": [],
   "source": [
    "df[\"label_sad_2\"] = df[\"label_2_fill\"].map({1: 0, 2: 0, 3:0, 4:0, 5:0, 6:1, 7:0, 8:0})\n",
    "X = df[\"text_clean\"]\n",
    "y_target = df[\"target_sad\"]\n",
    "y_label = df[\"label_sad_2\"]\n",
    "\n",
    "X_train, X_test, y_train_t, y_test_t, y_train_l, y_test_l = train_test_split(X, y_target, y_label, test_size=0.30, random_state=42)"
   ]
  },
  {
   "cell_type": "code",
   "execution_count": 515,
   "metadata": {},
   "outputs": [
    {
     "name": "stdout",
     "output_type": "stream",
     "text": [
      "0    15442\n",
      "1     2048\n",
      "Name: label_sad_2, dtype: int64\n",
      "0    13418\n",
      "1     4072\n",
      "Name: target_sad, dtype: int64\n"
     ]
    }
   ],
   "source": [
    "print(df.label_sad_2.value_counts())\n",
    "print(df.target_sad.value_counts())\n"
   ]
  },
  {
   "cell_type": "code",
   "execution_count": 516,
   "metadata": {},
   "outputs": [
    {
     "name": "stdout",
     "output_type": "stream",
     "text": [
      "Report of MultinomialNB_sad_2\n",
      "Confusion Matrix \n",
      " [[4600   30]\n",
      " [ 615    2]]\n",
      "              precision    recall  f1-score   support\n",
      "\n",
      "           0       0.88      0.99      0.93      4630\n",
      "           1       0.06      0.00      0.01       617\n",
      "\n",
      "    accuracy                           0.88      5247\n",
      "   macro avg       0.47      0.50      0.47      5247\n",
      "weighted avg       0.79      0.88      0.83      5247\n",
      "\n",
      "Accuracy Score:  0.8770726129216695\n"
     ]
    }
   ],
   "source": [
    "print(\"Report of MultinomialNB_sad_2\")\n",
    "text_clf_nb.fit(X_train, y_train_t)\n",
    "predictions = text_clf_nb.predict(X_test)\n",
    "print(\"Confusion Matrix \\n\",metrics.confusion_matrix(y_test_l,predictions))\n",
    "print(metrics.classification_report(y_test_l,predictions))\n",
    "print(\"Accuracy Score: \", metrics.accuracy_score(y_test_l,predictions))"
   ]
  },
  {
   "cell_type": "code",
   "execution_count": 517,
   "metadata": {},
   "outputs": [
    {
     "name": "stdout",
     "output_type": "stream",
     "text": [
      "Report of LinearSVC_sad_2\n",
      "Confusion Matrix \n",
      " [[3977  653]\n",
      " [ 538   79]]\n",
      "              precision    recall  f1-score   support\n",
      "\n",
      "           0       0.88      0.86      0.87      4630\n",
      "           1       0.11      0.13      0.12       617\n",
      "\n",
      "    accuracy                           0.77      5247\n",
      "   macro avg       0.49      0.49      0.49      5247\n",
      "weighted avg       0.79      0.77      0.78      5247\n",
      "\n",
      "Accuracy Score:  0.773013150371641\n"
     ]
    }
   ],
   "source": [
    "print(\"Report of LinearSVC_sad_2\")\n",
    "text_clf_lsvc.fit(X_train, y_train_t)\n",
    "predictions = text_clf_lsvc.predict(X_test)\n",
    "print(\"Confusion Matrix \\n\", metrics.confusion_matrix(y_test_l,predictions))\n",
    "print(metrics.classification_report(y_test_l,predictions))\n",
    "print(\"Accuracy Score: \", metrics.accuracy_score(y_test_l,predictions))"
   ]
  },
  {
   "cell_type": "code",
   "execution_count": 518,
   "metadata": {},
   "outputs": [
    {
     "name": "stdout",
     "output_type": "stream",
     "text": [
      "Report of LogisticRegression_sad_2\n",
      "Confusion Matrix \n",
      " [[4294  336]\n",
      " [ 579   38]]\n",
      "              precision    recall  f1-score   support\n",
      "\n",
      "           0       0.88      0.93      0.90      4630\n",
      "           1       0.10      0.06      0.08       617\n",
      "\n",
      "    accuracy                           0.83      5247\n",
      "   macro avg       0.49      0.49      0.49      5247\n",
      "weighted avg       0.79      0.83      0.81      5247\n",
      "\n",
      "Accuracy Score 0.8256146369353916\n"
     ]
    }
   ],
   "source": [
    "print(\"Report of LogisticRegression_sad_2\")\n",
    "text_clf_lr.fit(X_train, y_train_t)\n",
    "predictions = text_clf_lr.predict(X_test)\n",
    "print(\"Confusion Matrix \\n\",metrics.confusion_matrix(y_test_l,predictions))\n",
    "print(metrics.classification_report(y_test_l,predictions))\n",
    "print(\"Accuracy Score\", metrics.accuracy_score(y_test_l,predictions))"
   ]
  },
  {
   "cell_type": "code",
   "execution_count": null,
   "metadata": {},
   "outputs": [],
   "source": []
  },
  {
   "cell_type": "code",
   "execution_count": null,
   "metadata": {},
   "outputs": [],
   "source": []
  },
  {
   "cell_type": "code",
   "execution_count": null,
   "metadata": {},
   "outputs": [],
   "source": []
  },
  {
   "cell_type": "markdown",
   "metadata": {},
   "source": [
    "# POS vs NEG"
   ]
  },
  {
   "cell_type": "code",
   "execution_count": 519,
   "metadata": {},
   "outputs": [
    {
     "data": {
      "text/html": [
       "<div>\n",
       "<style scoped>\n",
       "    .dataframe tbody tr th:only-of-type {\n",
       "        vertical-align: middle;\n",
       "    }\n",
       "\n",
       "    .dataframe tbody tr th {\n",
       "        vertical-align: top;\n",
       "    }\n",
       "\n",
       "    .dataframe thead th {\n",
       "        text-align: right;\n",
       "    }\n",
       "</style>\n",
       "<table border=\"1\" class=\"dataframe\">\n",
       "  <thead>\n",
       "    <tr style=\"text-align: right;\">\n",
       "      <th></th>\n",
       "      <th>text_clean</th>\n",
       "      <th>label_1</th>\n",
       "      <th>label_2_fill</th>\n",
       "      <th>ang</th>\n",
       "      <th>fear</th>\n",
       "      <th>disg</th>\n",
       "      <th>hap</th>\n",
       "      <th>sad</th>\n",
       "      <th>surp</th>\n",
       "      <th>target</th>\n",
       "      <th>target_name</th>\n",
       "      <th>label_fear</th>\n",
       "      <th>target_fear</th>\n",
       "      <th>label_hap</th>\n",
       "      <th>target_hap</th>\n",
       "      <th>label_sad</th>\n",
       "      <th>target_sad</th>\n",
       "      <th>label_fear_2</th>\n",
       "      <th>label_hap_2</th>\n",
       "      <th>label_sad_2</th>\n",
       "    </tr>\n",
       "  </thead>\n",
       "  <tbody>\n",
       "    <tr>\n",
       "      <th>0</th>\n",
       "      <td>and i dont think we need to discuss the trinit...</td>\n",
       "      <td>8</td>\n",
       "      <td>1</td>\n",
       "      <td>0.240</td>\n",
       "      <td>-3.000</td>\n",
       "      <td>-0.002</td>\n",
       "      <td>0.818</td>\n",
       "      <td>0.657</td>\n",
       "      <td>-0.216</td>\n",
       "      <td>5</td>\n",
       "      <td>hap</td>\n",
       "      <td>0</td>\n",
       "      <td>0</td>\n",
       "      <td>0</td>\n",
       "      <td>1</td>\n",
       "      <td>0</td>\n",
       "      <td>0</td>\n",
       "      <td>0</td>\n",
       "      <td>0</td>\n",
       "      <td>0</td>\n",
       "    </tr>\n",
       "    <tr>\n",
       "      <th>1</th>\n",
       "      <td>so get up out of your bed</td>\n",
       "      <td>1</td>\n",
       "      <td>1</td>\n",
       "      <td>0.524</td>\n",
       "      <td>0.638</td>\n",
       "      <td>0.129</td>\n",
       "      <td>-3.000</td>\n",
       "      <td>0.422</td>\n",
       "      <td>-0.158</td>\n",
       "      <td>4</td>\n",
       "      <td>fear</td>\n",
       "      <td>0</td>\n",
       "      <td>1</td>\n",
       "      <td>0</td>\n",
       "      <td>0</td>\n",
       "      <td>0</td>\n",
       "      <td>0</td>\n",
       "      <td>0</td>\n",
       "      <td>0</td>\n",
       "      <td>0</td>\n",
       "    </tr>\n",
       "    <tr>\n",
       "      <th>2</th>\n",
       "      <td>a confession that you hired person and are res...</td>\n",
       "      <td>1</td>\n",
       "      <td>6</td>\n",
       "      <td>0.893</td>\n",
       "      <td>0.984</td>\n",
       "      <td>0.449</td>\n",
       "      <td>-3.000</td>\n",
       "      <td>0.941</td>\n",
       "      <td>0.052</td>\n",
       "      <td>4</td>\n",
       "      <td>fear</td>\n",
       "      <td>0</td>\n",
       "      <td>1</td>\n",
       "      <td>0</td>\n",
       "      <td>0</td>\n",
       "      <td>0</td>\n",
       "      <td>0</td>\n",
       "      <td>0</td>\n",
       "      <td>0</td>\n",
       "      <td>1</td>\n",
       "    </tr>\n",
       "    <tr>\n",
       "      <th>3</th>\n",
       "      <td>a dead man has one half hour to raise his roll...</td>\n",
       "      <td>1</td>\n",
       "      <td>1</td>\n",
       "      <td>0.531</td>\n",
       "      <td>0.532</td>\n",
       "      <td>0.192</td>\n",
       "      <td>0.705</td>\n",
       "      <td>-3.000</td>\n",
       "      <td>-0.044</td>\n",
       "      <td>5</td>\n",
       "      <td>hap</td>\n",
       "      <td>0</td>\n",
       "      <td>0</td>\n",
       "      <td>0</td>\n",
       "      <td>1</td>\n",
       "      <td>0</td>\n",
       "      <td>0</td>\n",
       "      <td>0</td>\n",
       "      <td>0</td>\n",
       "      <td>0</td>\n",
       "    </tr>\n",
       "    <tr>\n",
       "      <th>4</th>\n",
       "      <td>a guy thats talking about hes gonna solve all ...</td>\n",
       "      <td>1</td>\n",
       "      <td>1</td>\n",
       "      <td>-0.040</td>\n",
       "      <td>0.501</td>\n",
       "      <td>-0.145</td>\n",
       "      <td>-3.000</td>\n",
       "      <td>0.492</td>\n",
       "      <td>0.010</td>\n",
       "      <td>4</td>\n",
       "      <td>fear</td>\n",
       "      <td>0</td>\n",
       "      <td>1</td>\n",
       "      <td>0</td>\n",
       "      <td>0</td>\n",
       "      <td>0</td>\n",
       "      <td>0</td>\n",
       "      <td>0</td>\n",
       "      <td>0</td>\n",
       "      <td>0</td>\n",
       "    </tr>\n",
       "  </tbody>\n",
       "</table>\n",
       "</div>"
      ],
      "text/plain": [
       "                                          text_clean  label_1  label_2_fill  \\\n",
       "0  and i dont think we need to discuss the trinit...        8             1   \n",
       "1                          so get up out of your bed        1             1   \n",
       "2  a confession that you hired person and are res...        1             6   \n",
       "3  a dead man has one half hour to raise his roll...        1             1   \n",
       "4  a guy thats talking about hes gonna solve all ...        1             1   \n",
       "\n",
       "     ang   fear   disg    hap    sad   surp  target target_name  label_fear  \\\n",
       "0  0.240 -3.000 -0.002  0.818  0.657 -0.216       5         hap           0   \n",
       "1  0.524  0.638  0.129 -3.000  0.422 -0.158       4        fear           0   \n",
       "2  0.893  0.984  0.449 -3.000  0.941  0.052       4        fear           0   \n",
       "3  0.531  0.532  0.192  0.705 -3.000 -0.044       5         hap           0   \n",
       "4 -0.040  0.501 -0.145 -3.000  0.492  0.010       4        fear           0   \n",
       "\n",
       "   target_fear  label_hap  target_hap  label_sad  target_sad  label_fear_2  \\\n",
       "0            0          0           1          0           0             0   \n",
       "1            1          0           0          0           0             0   \n",
       "2            1          0           0          0           0             0   \n",
       "3            0          0           1          0           0             0   \n",
       "4            1          0           0          0           0             0   \n",
       "\n",
       "   label_hap_2  label_sad_2  \n",
       "0            0            0  \n",
       "1            0            0  \n",
       "2            0            1  \n",
       "3            0            0  \n",
       "4            0            0  "
      ]
     },
     "execution_count": 519,
     "metadata": {},
     "output_type": "execute_result"
    }
   ],
   "source": [
    "df.head()"
   ]
  },
  {
   "cell_type": "code",
   "execution_count": 520,
   "metadata": {},
   "outputs": [],
   "source": [
    "df[\"label_polarity\"] = df[\"label_1\"].map({1:0, 2:1, 3:0, 4:0, 5:1, 6:0, 7:0, 8:1})\n",
    "df[\"target_polarity\"] = df[\"target\"].map({1:0, 3:0, 4:0, 5:1, 6:0, 7:0})\n",
    "X = df[\"text_clean\"]\n",
    "y_target = df[\"target_polarity\"]\n",
    "y_label = df[\"label_polarity\"]\n",
    "\n",
    "X_train, X_test, y_train_t, y_test_t, y_train_l, y_test_l = train_test_split(X, y_target, y_label, test_size=0.30, random_state=42)"
   ]
  },
  {
   "cell_type": "code",
   "execution_count": 521,
   "metadata": {},
   "outputs": [
    {
     "data": {
      "text/plain": [
       "0    10257\n",
       "1     7233\n",
       "Name: label_polarity, dtype: int64"
      ]
     },
     "execution_count": 521,
     "metadata": {},
     "output_type": "execute_result"
    }
   ],
   "source": [
    "df.label_polarity.value_counts()"
   ]
  },
  {
   "cell_type": "code",
   "execution_count": 522,
   "metadata": {},
   "outputs": [
    {
     "data": {
      "text/plain": [
       "0    11118\n",
       "1     6372\n",
       "Name: target_polarity, dtype: int64"
      ]
     },
     "execution_count": 522,
     "metadata": {},
     "output_type": "execute_result"
    }
   ],
   "source": [
    "df.target_polarity.value_counts()"
   ]
  },
  {
   "cell_type": "code",
   "execution_count": 523,
   "metadata": {},
   "outputs": [
    {
     "name": "stdout",
     "output_type": "stream",
     "text": [
      "Report of MultinomialNB Polarity\n",
      "Confusion Matrix \n",
      " [[2682  378]\n",
      " [1909  278]]\n",
      "              precision    recall  f1-score   support\n",
      "\n",
      "           0       0.58      0.88      0.70      3060\n",
      "           1       0.42      0.13      0.20      2187\n",
      "\n",
      "    accuracy                           0.56      5247\n",
      "   macro avg       0.50      0.50      0.45      5247\n",
      "weighted avg       0.52      0.56      0.49      5247\n",
      "\n",
      "Accuracy Score:  0.5641318848866018\n"
     ]
    }
   ],
   "source": [
    "print(\"Report of MultinomialNB Polarity\")\n",
    "text_clf_nb.fit(X_train, y_train_t)\n",
    "predictions = text_clf_nb.predict(X_test)\n",
    "print(\"Confusion Matrix \\n\",metrics.confusion_matrix(y_test_l,predictions))\n",
    "print(metrics.classification_report(y_test_l,predictions))\n",
    "print(\"Accuracy Score: \", metrics.accuracy_score(y_test_l,predictions))"
   ]
  },
  {
   "cell_type": "code",
   "execution_count": 524,
   "metadata": {},
   "outputs": [
    {
     "name": "stdout",
     "output_type": "stream",
     "text": [
      "Report of LinearSVC Polarity\n",
      "Confusion Matrix \n",
      " [[2107  953]\n",
      " [1479  708]]\n",
      "              precision    recall  f1-score   support\n",
      "\n",
      "           0       0.59      0.69      0.63      3060\n",
      "           1       0.43      0.32      0.37      2187\n",
      "\n",
      "    accuracy                           0.54      5247\n",
      "   macro avg       0.51      0.51      0.50      5247\n",
      "weighted avg       0.52      0.54      0.52      5247\n",
      "\n",
      "Accuracy Score:  0.5364970459310082\n"
     ]
    }
   ],
   "source": [
    "print(\"Report of LinearSVC Polarity\")\n",
    "text_clf_lsvc.fit(X_train, y_train_t)\n",
    "predictions = text_clf_lsvc.predict(X_test)\n",
    "print(\"Confusion Matrix \\n\", metrics.confusion_matrix(y_test_l,predictions))\n",
    "print(metrics.classification_report(y_test_l,predictions))\n",
    "print(\"Accuracy Score: \", metrics.accuracy_score(y_test_l,predictions))"
   ]
  },
  {
   "cell_type": "code",
   "execution_count": 525,
   "metadata": {},
   "outputs": [
    {
     "name": "stdout",
     "output_type": "stream",
     "text": [
      "Report of LogisticRegression Polarity\n",
      "Confusion Matrix \n",
      " [[2353  707]\n",
      " [1639  548]]\n",
      "              precision    recall  f1-score   support\n",
      "\n",
      "           0       0.59      0.77      0.67      3060\n",
      "           1       0.44      0.25      0.32      2187\n",
      "\n",
      "    accuracy                           0.55      5247\n",
      "   macro avg       0.51      0.51      0.49      5247\n",
      "weighted avg       0.53      0.55      0.52      5247\n",
      "\n",
      "Accuracy Score 0.5528873642081189\n"
     ]
    }
   ],
   "source": [
    "print(\"Report of LogisticRegression Polarity\")\n",
    "text_clf_lr.fit(X_train, y_train_t)\n",
    "predictions = text_clf_lr.predict(X_test)\n",
    "print(\"Confusion Matrix \\n\",metrics.confusion_matrix(y_test_l,predictions))\n",
    "print(metrics.classification_report(y_test_l,predictions))\n",
    "print(\"Accuracy Score\", metrics.accuracy_score(y_test_l,predictions))"
   ]
  },
  {
   "cell_type": "markdown",
   "metadata": {},
   "source": [
    "# Polarity label_2_fill"
   ]
  },
  {
   "cell_type": "code",
   "execution_count": 526,
   "metadata": {},
   "outputs": [],
   "source": [
    "df[\"label_polarity_2\"] = df[\"label_2_fill\"].map({1:0, 2:1, 3:0, 4:0, 5:1, 6:0, 7:0, 8:1})\n",
    "df[\"target_polarity\"] = df[\"target\"].map({1:0, 3:0, 4:0, 5:1, 6:0, 7:0})\n",
    "X = df[\"text_clean\"]\n",
    "y_target = df[\"target_polarity\"]\n",
    "y_label = df[\"label_polarity_2\"]\n",
    "\n",
    "X_train, X_test, y_train_t, y_test_t, y_train_l, y_test_l = train_test_split(X, y_target, y_label, test_size=0.30, random_state=42)"
   ]
  },
  {
   "cell_type": "code",
   "execution_count": 527,
   "metadata": {},
   "outputs": [
    {
     "data": {
      "text/plain": [
       "0    10658\n",
       "1     6832\n",
       "Name: label_polarity_2, dtype: int64"
      ]
     },
     "execution_count": 527,
     "metadata": {},
     "output_type": "execute_result"
    }
   ],
   "source": [
    "df.label_polarity_2.value_counts()"
   ]
  },
  {
   "cell_type": "code",
   "execution_count": 528,
   "metadata": {},
   "outputs": [
    {
     "name": "stdout",
     "output_type": "stream",
     "text": [
      "Report of MultinomialNB Polarity 2\n",
      "Confusion Matrix \n",
      " [[2748  398]\n",
      " [1843  258]]\n",
      "              precision    recall  f1-score   support\n",
      "\n",
      "           0       0.60      0.87      0.71      3146\n",
      "           1       0.39      0.12      0.19      2101\n",
      "\n",
      "    accuracy                           0.57      5247\n",
      "   macro avg       0.50      0.50      0.45      5247\n",
      "weighted avg       0.52      0.57      0.50      5247\n",
      "\n",
      "Accuracy Score:  0.5728987993138936\n"
     ]
    }
   ],
   "source": [
    "print(\"Report of MultinomialNB Polarity 2\")\n",
    "text_clf_nb.fit(X_train, y_train_t)\n",
    "predictions = text_clf_nb.predict(X_test)\n",
    "print(\"Confusion Matrix \\n\",metrics.confusion_matrix(y_test_l,predictions))\n",
    "print(metrics.classification_report(y_test_l,predictions))\n",
    "print(\"Accuracy Score: \", metrics.accuracy_score(y_test_l,predictions))"
   ]
  },
  {
   "cell_type": "code",
   "execution_count": 529,
   "metadata": {},
   "outputs": [
    {
     "name": "stdout",
     "output_type": "stream",
     "text": [
      "Report of LinearSVC Polarity 2\n",
      "Confusion Matrix \n",
      " [[2154  992]\n",
      " [1431  670]]\n",
      "              precision    recall  f1-score   support\n",
      "\n",
      "           0       0.60      0.68      0.64      3146\n",
      "           1       0.40      0.32      0.36      2101\n",
      "\n",
      "    accuracy                           0.54      5247\n",
      "   macro avg       0.50      0.50      0.50      5247\n",
      "weighted avg       0.52      0.54      0.53      5247\n",
      "\n",
      "Accuracy Score:  0.5382123117972175\n"
     ]
    }
   ],
   "source": [
    "print(\"Report of LinearSVC Polarity 2\")\n",
    "text_clf_lsvc.fit(X_train, y_train_t)\n",
    "predictions = text_clf_lsvc.predict(X_test)\n",
    "print(\"Confusion Matrix \\n\", metrics.confusion_matrix(y_test_l,predictions))\n",
    "print(metrics.classification_report(y_test_l,predictions))\n",
    "print(\"Accuracy Score: \", metrics.accuracy_score(y_test_l,predictions))"
   ]
  },
  {
   "cell_type": "code",
   "execution_count": 530,
   "metadata": {},
   "outputs": [
    {
     "name": "stdout",
     "output_type": "stream",
     "text": [
      "Report of LogisticRegression Polarity 2\n",
      "Confusion Matrix \n",
      " [[2402  744]\n",
      " [1590  511]]\n",
      "              precision    recall  f1-score   support\n",
      "\n",
      "           0       0.60      0.76      0.67      3146\n",
      "           1       0.41      0.24      0.30      2101\n",
      "\n",
      "    accuracy                           0.56      5247\n",
      "   macro avg       0.50      0.50      0.49      5247\n",
      "weighted avg       0.52      0.56      0.53      5247\n",
      "\n",
      "Accuracy Score 0.5551743853630646\n"
     ]
    }
   ],
   "source": [
    "print(\"Report of LogisticRegression Polarity 2\")\n",
    "text_clf_lr.fit(X_train, y_train_t)\n",
    "predictions = text_clf_lr.predict(X_test)\n",
    "print(\"Confusion Matrix \\n\",metrics.confusion_matrix(y_test_l,predictions))\n",
    "print(metrics.classification_report(y_test_l,predictions))\n",
    "print(\"Accuracy Score\", metrics.accuracy_score(y_test_l,predictions))"
   ]
  },
  {
   "cell_type": "markdown",
   "metadata": {},
   "source": [
    "# Multiclass Classification"
   ]
  },
  {
   "cell_type": "code",
   "execution_count": 531,
   "metadata": {},
   "outputs": [],
   "source": [
    "data = df[[\"text_clean\", \"label_1\", \"ang\", \"fear\", \"disg\", \"hap\", \"sad\", \"surp\", \"target\", \"label_2_fill\", \"target_name\", \"target_polarity\", \"label_polarity\"]]"
   ]
  },
  {
   "cell_type": "code",
   "execution_count": 532,
   "metadata": {},
   "outputs": [],
   "source": [
    "anticipation = data[data[\"label_1\"] == 2].index\n",
    "data = data.drop(anticipation, inplace= False)"
   ]
  },
  {
   "cell_type": "code",
   "execution_count": 533,
   "metadata": {},
   "outputs": [],
   "source": [
    "trust = data[data[\"label_1\"] == 8].index\n",
    "data = data.drop(trust, inplace= False)"
   ]
  },
  {
   "cell_type": "code",
   "execution_count": 534,
   "metadata": {},
   "outputs": [],
   "source": [
    "data = data.reset_index(drop=True)"
   ]
  },
  {
   "cell_type": "code",
   "execution_count": 535,
   "metadata": {},
   "outputs": [
    {
     "data": {
      "text/plain": [
       "(12100, 13)"
      ]
     },
     "execution_count": 535,
     "metadata": {},
     "output_type": "execute_result"
    }
   ],
   "source": [
    "data.shape"
   ]
  },
  {
   "cell_type": "code",
   "execution_count": 536,
   "metadata": {},
   "outputs": [
    {
     "name": "stdout",
     "output_type": "stream",
     "text": [
      "<class 'pandas.core.frame.DataFrame'>\n",
      "RangeIndex: 12100 entries, 0 to 12099\n",
      "Data columns (total 13 columns):\n",
      " #   Column           Non-Null Count  Dtype  \n",
      "---  ------           --------------  -----  \n",
      " 0   text_clean       12100 non-null  object \n",
      " 1   label_1          12100 non-null  int64  \n",
      " 2   ang              12100 non-null  float64\n",
      " 3   fear             12100 non-null  float64\n",
      " 4   disg             12100 non-null  float64\n",
      " 5   hap              12100 non-null  float64\n",
      " 6   sad              12100 non-null  float64\n",
      " 7   surp             12100 non-null  float64\n",
      " 8   target           12100 non-null  int64  \n",
      " 9   label_2_fill     12100 non-null  int64  \n",
      " 10  target_name      12100 non-null  object \n",
      " 11  target_polarity  12100 non-null  int64  \n",
      " 12  label_polarity   12100 non-null  int64  \n",
      "dtypes: float64(6), int64(5), object(2)\n",
      "memory usage: 1.2+ MB\n"
     ]
    }
   ],
   "source": [
    "data.info()"
   ]
  },
  {
   "cell_type": "code",
   "execution_count": 537,
   "metadata": {},
   "outputs": [
    {
     "data": {
      "text/plain": [
       "5    4356\n",
       "6    2858\n",
       "4    2812\n",
       "1    1084\n",
       "7     786\n",
       "3     204\n",
       "Name: target, dtype: int64"
      ]
     },
     "execution_count": 537,
     "metadata": {},
     "output_type": "execute_result"
    }
   ],
   "source": [
    "data.target.value_counts()"
   ]
  },
  {
   "cell_type": "code",
   "execution_count": 538,
   "metadata": {},
   "outputs": [
    {
     "data": {
      "text/plain": [
       "1    3703\n",
       "5    1843\n",
       "4    1791\n",
       "6    1702\n",
       "3    1639\n",
       "7    1422\n",
       "Name: label_1, dtype: int64"
      ]
     },
     "execution_count": 538,
     "metadata": {},
     "output_type": "execute_result"
    }
   ],
   "source": [
    "data.label_1.value_counts()"
   ]
  },
  {
   "cell_type": "code",
   "execution_count": 539,
   "metadata": {},
   "outputs": [],
   "source": [
    "X = data[\"text_clean\"]\n",
    "y_target = data[\"target\"]\n",
    "y_label = data[\"label_1\"]\n",
    "\n",
    "X_train, X_test, y_train_t, y_test_t, y_train_l, y_test_l = train_test_split(X, y_target, y_label, test_size=0.30, random_state=42)"
   ]
  },
  {
   "cell_type": "code",
   "execution_count": 540,
   "metadata": {},
   "outputs": [
    {
     "name": "stdout",
     "output_type": "stream",
     "text": [
      "Report of MultinomialNB\n",
      "Confusion Matrix \n",
      " [[   1    0   65 1007   65    0]\n",
      " [   0    0   38  400   47    0]\n",
      " [   0    0   43  459   44    0]\n",
      " [   1    0   28  416   92    0]\n",
      " [   0    0   29  445   39    0]\n",
      " [   0    0   24  352   35    0]]\n",
      "              precision    recall  f1-score   support\n",
      "\n",
      "           1       0.50      0.00      0.00      1138\n",
      "           3       0.00      0.00      0.00       485\n",
      "           4       0.19      0.08      0.11       546\n",
      "           5       0.14      0.77      0.23       537\n",
      "           6       0.12      0.08      0.09       513\n",
      "           7       0.00      0.00      0.00       411\n",
      "\n",
      "    accuracy                           0.14      3630\n",
      "   macro avg       0.16      0.16      0.07      3630\n",
      "weighted avg       0.22      0.14      0.06      3630\n",
      "\n",
      "Accuracy Score:  0.13746556473829202\n"
     ]
    }
   ],
   "source": [
    "print(\"Report of MultinomialNB\")\n",
    "text_clf_nb.fit(X_train, y_train_t)\n",
    "predictions = text_clf_nb.predict(X_test)\n",
    "confusion_matrix = metrics.confusion_matrix(y_test_l,predictions)\n",
    "print(\"Confusion Matrix \\n\",confusion_matrix)\n",
    "print(metrics.classification_report(y_test_l,predictions, zero_division = 0))\n",
    "print(\"Accuracy Score: \", metrics.accuracy_score(y_test_l,predictions))"
   ]
  },
  {
   "cell_type": "code",
   "execution_count": 541,
   "metadata": {},
   "outputs": [
    {
     "name": "stdout",
     "output_type": "stream",
     "text": [
      "classes [1 3 4 5 6 7]\n"
     ]
    },
    {
     "data": {
      "image/png": "[encoded data removed]",
      "text/plain": [
       "<Figure size 576x576 with 2 Axes>"
      ]
     },
     "metadata": {
      "needs_background": "light"
     },
     "output_type": "display_data"
    }
   ],
   "source": [
    "print(\"classes\",text_clf_nb.classes_)\n",
    "f,ax = plt.subplots(figsize=(8,8))\n",
    "sns.heatmap(confusion_matrix, annot=True, linewidths=.5, fmt= '.1f',ax=ax, cmap=\"YlGnBu\");\n",
    "plt.title(\"confusion matrix of NB\")\n",
    "plt.xlabel(\"true label\");\n",
    "plt.ylabel(\"predictions\");"
   ]
  },
  {
   "cell_type": "code",
   "execution_count": 542,
   "metadata": {},
   "outputs": [
    {
     "name": "stdout",
     "output_type": "stream",
     "text": [
      "Report of LinearSVC\n",
      "Confusion Matrix \n",
      " [[ 91   6 214 540 245  42]\n",
      " [ 34   2 116 178 139  16]\n",
      " [ 41   2 116 249 117  21]\n",
      " [ 22   1 120 194 164  36]\n",
      " [ 31   2  99 254 107  20]\n",
      " [ 20   3  86 172 109  21]]\n",
      "              precision    recall  f1-score   support\n",
      "\n",
      "           1       0.38      0.08      0.13      1138\n",
      "           3       0.12      0.00      0.01       485\n",
      "           4       0.15      0.21      0.18       546\n",
      "           5       0.12      0.36      0.18       537\n",
      "           6       0.12      0.21      0.15       513\n",
      "           7       0.13      0.05      0.07       411\n",
      "\n",
      "    accuracy                           0.15      3630\n",
      "   macro avg       0.17      0.15      0.12      3630\n",
      "weighted avg       0.21      0.15      0.13      3630\n",
      "\n",
      "Accuracy Score:  0.14628099173553719\n"
     ]
    }
   ],
   "source": [
    "print(\"Report of LinearSVC\")\n",
    "text_clf_lsvc.fit(X_train, y_train_t)\n",
    "predictions = text_clf_lsvc.predict(X_test)\n",
    "confusion_matrix = metrics.confusion_matrix(y_test_l,predictions)\n",
    "print(\"Confusion Matrix \\n\", metrics.confusion_matrix(y_test_l,predictions))\n",
    "print(metrics.classification_report(y_test_l,predictions))\n",
    "print(\"Accuracy Score: \", metrics.accuracy_score(y_test_l,predictions))"
   ]
  },
  {
   "cell_type": "code",
   "execution_count": 543,
   "metadata": {},
   "outputs": [
    {
     "name": "stdout",
     "output_type": "stream",
     "text": [
      "classes: [1 3 4 5 6 7]\n"
     ]
    },
    {
     "data": {
      "text/plain": [
       "Text(0.5, 1.0, 'confusion matrix of SVC')"
      ]
     },
     "execution_count": 543,
     "metadata": {},
     "output_type": "execute_result"
    },
    {
     "data": {
      "image/png": "[encoded data removed]",
      "text/plain": [
       "<Figure size 576x576 with 2 Axes>"
      ]
     },
     "metadata": {
      "needs_background": "light"
     },
     "output_type": "display_data"
    }
   ],
   "source": [
    "f,ax = plt.subplots(figsize=(8,8))\n",
    "print(\"classes:\" ,text_clf_lsvc.classes_)   \n",
    "sns.heatmap(confusion_matrix, annot=True, linewidths=.5, fmt= '.1f',ax=ax, cmap=\"YlGnBu\");\n",
    "plt.xlabel(\"true label\");\n",
    "plt.ylabel(\"predictions\");\n",
    "plt.title(\"confusion matrix of SVC\")"
   ]
  },
  {
   "cell_type": "code",
   "execution_count": null,
   "metadata": {},
   "outputs": [],
   "source": []
  },
  {
   "cell_type": "markdown",
   "metadata": {},
   "source": [
    "# Polarity (after removing 2 and 8)"
   ]
  },
  {
   "cell_type": "markdown",
   "metadata": {},
   "source": [
    "# label_1"
   ]
  },
  {
   "cell_type": "code",
   "execution_count": 544,
   "metadata": {},
   "outputs": [],
   "source": [
    "X = data[\"text_clean\"]\n",
    "y_target = data[\"target_polarity\"]\n",
    "y_label = data[\"label_polarity\"]\n",
    "\n",
    "X_train, X_test, y_train_t, y_test_t, y_train_l, y_test_l = train_test_split(X, y_target, y_label, test_size=0.30, random_state=42)"
   ]
  },
  {
   "cell_type": "code",
   "execution_count": 545,
   "metadata": {},
   "outputs": [
    {
     "name": "stdout",
     "output_type": "stream",
     "text": [
      "Report of MultinomialNB Polarity\n",
      "Confusion Matrix \n",
      " [[2704  389]\n",
      " [ 499   38]]\n",
      "              precision    recall  f1-score   support\n",
      "\n",
      "           0       0.84      0.87      0.86      3093\n",
      "           1       0.09      0.07      0.08       537\n",
      "\n",
      "    accuracy                           0.76      3630\n",
      "   macro avg       0.47      0.47      0.47      3630\n",
      "weighted avg       0.73      0.76      0.74      3630\n",
      "\n",
      "Accuracy Score:  0.7553719008264462\n"
     ]
    }
   ],
   "source": [
    "print(\"Report of MultinomialNB Polarity\")\n",
    "text_clf_nb.fit(X_train, y_train_t)\n",
    "predictions = text_clf_nb.predict(X_test)\n",
    "print(\"Confusion Matrix \\n\",metrics.confusion_matrix(y_test_l,predictions))\n",
    "print(metrics.classification_report(y_test_l,predictions))\n",
    "print(\"Accuracy Score: \", metrics.accuracy_score(y_test_l,predictions))"
   ]
  },
  {
   "cell_type": "code",
   "execution_count": 546,
   "metadata": {},
   "outputs": [
    {
     "name": "stdout",
     "output_type": "stream",
     "text": [
      "Report of LinearSVC Polarity\n",
      "Confusion Matrix \n",
      " [[2111  982]\n",
      " [ 411  126]]\n",
      "              precision    recall  f1-score   support\n",
      "\n",
      "           0       0.84      0.68      0.75      3093\n",
      "           1       0.11      0.23      0.15       537\n",
      "\n",
      "    accuracy                           0.62      3630\n",
      "   macro avg       0.48      0.46      0.45      3630\n",
      "weighted avg       0.73      0.62      0.66      3630\n",
      "\n",
      "Accuracy Score:  0.6162534435261708\n"
     ]
    }
   ],
   "source": [
    "print(\"Report of LinearSVC Polarity\")\n",
    "text_clf_lsvc.fit(X_train, y_train_t)\n",
    "predictions = text_clf_lsvc.predict(X_test)\n",
    "print(\"Confusion Matrix \\n\", metrics.confusion_matrix(y_test_l,predictions))\n",
    "print(metrics.classification_report(y_test_l,predictions))\n",
    "print(\"Accuracy Score: \", metrics.accuracy_score(y_test_l,predictions))"
   ]
  },
  {
   "cell_type": "code",
   "execution_count": 547,
   "metadata": {},
   "outputs": [
    {
     "name": "stdout",
     "output_type": "stream",
     "text": [
      "Report of LogisticRegression Polarity\n",
      "Confusion Matrix \n",
      " [[2375  718]\n",
      " [ 472   65]]\n",
      "              precision    recall  f1-score   support\n",
      "\n",
      "           0       0.83      0.77      0.80      3093\n",
      "           1       0.08      0.12      0.10       537\n",
      "\n",
      "    accuracy                           0.67      3630\n",
      "   macro avg       0.46      0.44      0.45      3630\n",
      "weighted avg       0.72      0.67      0.70      3630\n",
      "\n",
      "Accuracy Score 0.6721763085399449\n"
     ]
    }
   ],
   "source": [
    "print(\"Report of LogisticRegression Polarity\")\n",
    "text_clf_lr.fit(X_train, y_train_t)\n",
    "predictions = text_clf_lr.predict(X_test)\n",
    "print(\"Confusion Matrix \\n\",metrics.confusion_matrix(y_test_l,predictions))\n",
    "print(metrics.classification_report(y_test_l,predictions))\n",
    "print(\"Accuracy Score\", metrics.accuracy_score(y_test_l,predictions))"
   ]
  },
  {
   "cell_type": "code",
   "execution_count": null,
   "metadata": {},
   "outputs": [],
   "source": []
  }
 ],
 "metadata": {
  "kernelspec": {
   "display_name": "Python 3",
   "language": "python",
   "name": "python3"
  },
  "language_info": {
   "codemirror_mode": {
    "name": "ipython",
    "version": 3
   },
   "file_extension": ".py",
   "mimetype": "text/x-python",
   "name": "python",
   "nbconvert_exporter": "python",
   "pygments_lexer": "ipython3",
   "version": "3.8.5"
  }
 },
 "nbformat": 4,
 "nbformat_minor": 4
}
