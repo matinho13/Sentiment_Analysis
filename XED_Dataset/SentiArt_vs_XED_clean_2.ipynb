{
 "cells": [
  {
   "cell_type": "code",
   "execution_count": 443,
   "metadata": {},
   "outputs": [],
   "source": [
    "import os,codecs\n",
    "import pandas as pd\n",
    "import nltk\n",
    "from nltk import*\n",
    "import matplotlib.pyplot as plt\n",
    "import string\n",
    "import numpy as np\n",
    "import seaborn as sns"
   ]
  },
  {
   "cell_type": "markdown",
   "metadata": {},
   "source": [
    "# Data Cleaning and Preprocessing\n",
    "\n",
    "- reading the data\n",
    "- split the labels into three columns:label_1, label_2, label_3\n",
    "- fill the missing values in label_2 with the corresponding values in label_1\n",
    "- data cleaning: removing the punctuations and the stopwords\n",
    "- tokenization"
   ]
  },
  {
   "cell_type": "code",
   "execution_count": 444,
   "metadata": {},
   "outputs": [],
   "source": [
    "df = pd.read_csv(\"XED.txt\",  error_bad_lines=False, sep= '\\t', header= None, names = [\"sent\", \"label_1\"])"
   ]
  },
  {
   "cell_type": "code",
   "execution_count": 445,
   "metadata": {},
   "outputs": [
    {
     "data": {
      "text/plain": [
       "(17528, 2)"
      ]
     },
     "execution_count": 445,
     "metadata": {},
     "output_type": "execute_result"
    }
   ],
   "source": [
    "df.shape"
   ]
  },
  {
   "cell_type": "code",
   "execution_count": 446,
   "metadata": {},
   "outputs": [],
   "source": [
    "df[[\"label_1\", \"label_2\"]] = df['label_1'].str.split(\",\", 1, expand=True)\n",
    "df[[\"label_2\", \"label_3\"]] = df['label_2'].str.split(\",\", 1, expand=True)"
   ]
  },
  {
   "cell_type": "code",
   "execution_count": 447,
   "metadata": {},
   "outputs": [
    {
     "data": {
      "text/html": [
       "<div>\n",
       "<style scoped>\n",
       "    .dataframe tbody tr th:only-of-type {\n",
       "        vertical-align: middle;\n",
       "    }\n",
       "\n",
       "    .dataframe tbody tr th {\n",
       "        vertical-align: top;\n",
       "    }\n",
       "\n",
       "    .dataframe thead th {\n",
       "        text-align: right;\n",
       "    }\n",
       "</style>\n",
       "<table border=\"1\" class=\"dataframe\">\n",
       "  <thead>\n",
       "    <tr style=\"text-align: right;\">\n",
       "      <th></th>\n",
       "      <th>sent</th>\n",
       "      <th>label_1</th>\n",
       "      <th>label_2</th>\n",
       "      <th>label_3</th>\n",
       "    </tr>\n",
       "  </thead>\n",
       "  <tbody>\n",
       "    <tr>\n",
       "      <th>0</th>\n",
       "      <td>, ...</td>\n",
       "      <td>1</td>\n",
       "      <td>None</td>\n",
       "      <td>None</td>\n",
       "    </tr>\n",
       "    <tr>\n",
       "      <th>1</th>\n",
       "      <td>!</td>\n",
       "      <td>1</td>\n",
       "      <td>4</td>\n",
       "      <td>7</td>\n",
       "    </tr>\n",
       "    <tr>\n",
       "      <th>2</th>\n",
       "      <td>... And I don't think we need to discuss the T...</td>\n",
       "      <td>8</td>\n",
       "      <td>1</td>\n",
       "      <td>None</td>\n",
       "    </tr>\n",
       "    <tr>\n",
       "      <th>3</th>\n",
       "      <td>* So get up out of your bed</td>\n",
       "      <td>1</td>\n",
       "      <td>None</td>\n",
       "      <td>None</td>\n",
       "    </tr>\n",
       "    <tr>\n",
       "      <th>4</th>\n",
       "      <td>A confession that you hired [PERSON] ... and a...</td>\n",
       "      <td>1</td>\n",
       "      <td>6</td>\n",
       "      <td>None</td>\n",
       "    </tr>\n",
       "  </tbody>\n",
       "</table>\n",
       "</div>"
      ],
      "text/plain": [
       "                                                sent label_1 label_2 label_3\n",
       "0                                              , ...       1    None    None\n",
       "1                                                  !       1       4       7\n",
       "2  ... And I don't think we need to discuss the T...       8       1    None\n",
       "3                        * So get up out of your bed       1    None    None\n",
       "4  A confession that you hired [PERSON] ... and a...       1       6    None"
      ]
     },
     "execution_count": 447,
     "metadata": {},
     "output_type": "execute_result"
    }
   ],
   "source": [
    "df.head()"
   ]
  },
  {
   "cell_type": "code",
   "execution_count": 448,
   "metadata": {},
   "outputs": [],
   "source": [
    "df[\"label_1\"] = pd.to_numeric(df[\"label_1\"])\n",
    "df[\"label_2_fill\"] = np.where(df.label_2.isnull(), df.label_1, df.label_2)\n",
    "df[\"label_2_fill\"] = pd.to_numeric(df[\"label_2_fill\"])"
   ]
  },
  {
   "cell_type": "code",
   "execution_count": 449,
   "metadata": {},
   "outputs": [],
   "source": [
    "lst_stopwords = nltk.corpus.stopwords.words(\"english\")"
   ]
  },
  {
   "cell_type": "code",
   "execution_count": 450,
   "metadata": {},
   "outputs": [],
   "source": [
    "def utils_preprocess_text(text, flg_stemm=False, flg_lemm=True, lst_stopwords=None):\n",
    "    ## clean (convert to lowercase and remove punctuations and characters and then strip)\n",
    "    text = re.sub(r'[^\\w\\s]', '', str(text).lower().strip())\n",
    "    \n",
    "               \n",
    "    ## Tokenize (convert from string to list)\n",
    "    lst_text = text.split()\n",
    "    table = str.maketrans('', '', string.punctuation)\n",
    "    lst_text = [w.translate(table) for w in lst_text]\n",
    "                   \n",
    "    ## back to string from list\n",
    "    text = \" \".join(lst_text)\n",
    "    return text"
   ]
  },
  {
   "cell_type": "code",
   "execution_count": 451,
   "metadata": {},
   "outputs": [],
   "source": [
    "df[\"text_clean\"] = df[\"sent\"].apply(lambda x: \n",
    "          utils_preprocess_text(x, flg_stemm=False, flg_lemm=True, \n",
    "          lst_stopwords= lst_stopwords))"
   ]
  },
  {
   "cell_type": "code",
   "execution_count": 452,
   "metadata": {},
   "outputs": [
    {
     "data": {
      "text/html": [
       "<div>\n",
       "<style scoped>\n",
       "    .dataframe tbody tr th:only-of-type {\n",
       "        vertical-align: middle;\n",
       "    }\n",
       "\n",
       "    .dataframe tbody tr th {\n",
       "        vertical-align: top;\n",
       "    }\n",
       "\n",
       "    .dataframe thead th {\n",
       "        text-align: right;\n",
       "    }\n",
       "</style>\n",
       "<table border=\"1\" class=\"dataframe\">\n",
       "  <thead>\n",
       "    <tr style=\"text-align: right;\">\n",
       "      <th></th>\n",
       "      <th>sent</th>\n",
       "      <th>label_1</th>\n",
       "      <th>label_2</th>\n",
       "      <th>label_3</th>\n",
       "      <th>label_2_fill</th>\n",
       "      <th>text_clean</th>\n",
       "      <th>tokenized_sents</th>\n",
       "    </tr>\n",
       "  </thead>\n",
       "  <tbody>\n",
       "    <tr>\n",
       "      <th>0</th>\n",
       "      <td>, ...</td>\n",
       "      <td>1</td>\n",
       "      <td>None</td>\n",
       "      <td>None</td>\n",
       "      <td>1</td>\n",
       "      <td></td>\n",
       "      <td>[]</td>\n",
       "    </tr>\n",
       "    <tr>\n",
       "      <th>1</th>\n",
       "      <td>!</td>\n",
       "      <td>1</td>\n",
       "      <td>4</td>\n",
       "      <td>7</td>\n",
       "      <td>4</td>\n",
       "      <td></td>\n",
       "      <td>[]</td>\n",
       "    </tr>\n",
       "    <tr>\n",
       "      <th>2</th>\n",
       "      <td>... And I don't think we need to discuss the T...</td>\n",
       "      <td>8</td>\n",
       "      <td>1</td>\n",
       "      <td>None</td>\n",
       "      <td>1</td>\n",
       "      <td>and i dont think we need to discuss the trinit...</td>\n",
       "      <td>[and, i, dont, think, we, need, to, discuss, t...</td>\n",
       "    </tr>\n",
       "    <tr>\n",
       "      <th>3</th>\n",
       "      <td>* So get up out of your bed</td>\n",
       "      <td>1</td>\n",
       "      <td>None</td>\n",
       "      <td>None</td>\n",
       "      <td>1</td>\n",
       "      <td>so get up out of your bed</td>\n",
       "      <td>[so, get, up, out, of, your, bed]</td>\n",
       "    </tr>\n",
       "    <tr>\n",
       "      <th>4</th>\n",
       "      <td>A confession that you hired [PERSON] ... and a...</td>\n",
       "      <td>1</td>\n",
       "      <td>6</td>\n",
       "      <td>None</td>\n",
       "      <td>6</td>\n",
       "      <td>a confession that you hired person and are res...</td>\n",
       "      <td>[a, confession, that, you, hired, person, and,...</td>\n",
       "    </tr>\n",
       "  </tbody>\n",
       "</table>\n",
       "</div>"
      ],
      "text/plain": [
       "                                                sent  label_1 label_2 label_3  \\\n",
       "0                                              , ...        1    None    None   \n",
       "1                                                  !        1       4       7   \n",
       "2  ... And I don't think we need to discuss the T...        8       1    None   \n",
       "3                        * So get up out of your bed        1    None    None   \n",
       "4  A confession that you hired [PERSON] ... and a...        1       6    None   \n",
       "\n",
       "   label_2_fill                                         text_clean  \\\n",
       "0             1                                                      \n",
       "1             4                                                      \n",
       "2             1  and i dont think we need to discuss the trinit...   \n",
       "3             1                          so get up out of your bed   \n",
       "4             6  a confession that you hired person and are res...   \n",
       "\n",
       "                                     tokenized_sents  \n",
       "0                                                 []  \n",
       "1                                                 []  \n",
       "2  [and, i, dont, think, we, need, to, discuss, t...  \n",
       "3                  [so, get, up, out, of, your, bed]  \n",
       "4  [a, confession, that, you, hired, person, and,...  "
      ]
     },
     "execution_count": 452,
     "metadata": {},
     "output_type": "execute_result"
    }
   ],
   "source": [
    "df['tokenized_sents'] = df.apply(lambda row: nltk.word_tokenize(row[\"text_clean\"]), axis=1)\n",
    "df.head()"
   ]
  },
  {
   "cell_type": "markdown",
   "metadata": {},
   "source": [
    "# SentiArt Calculations\n",
    "\n",
    "* The Hit Rate (92.453 %)"
   ]
  },
  {
   "cell_type": "code",
   "execution_count": 453,
   "metadata": {},
   "outputs": [],
   "source": [
    "TC = \"250kSentiArt_EN.xlsx\""
   ]
  },
  {
   "cell_type": "code",
   "execution_count": 454,
   "metadata": {},
   "outputs": [],
   "source": [
    "sa = pd.read_excel(TC)"
   ]
  },
  {
   "cell_type": "code",
   "execution_count": 455,
   "metadata": {},
   "outputs": [
    {
     "data": {
      "text/html": [
       "<div>\n",
       "<style scoped>\n",
       "    .dataframe tbody tr th:only-of-type {\n",
       "        vertical-align: middle;\n",
       "    }\n",
       "\n",
       "    .dataframe tbody tr th {\n",
       "        vertical-align: top;\n",
       "    }\n",
       "\n",
       "    .dataframe thead th {\n",
       "        text-align: right;\n",
       "    }\n",
       "</style>\n",
       "<table border=\"1\" class=\"dataframe\">\n",
       "  <thead>\n",
       "    <tr style=\"text-align: right;\">\n",
       "      <th></th>\n",
       "      <th>word</th>\n",
       "      <th>AAPz</th>\n",
       "      <th>ang_z</th>\n",
       "      <th>fear_z</th>\n",
       "      <th>disg_z</th>\n",
       "      <th>hap_z</th>\n",
       "      <th>sad_z</th>\n",
       "      <th>surp_z</th>\n",
       "    </tr>\n",
       "  </thead>\n",
       "  <tbody>\n",
       "    <tr>\n",
       "      <th>0</th>\n",
       "      <td>a</td>\n",
       "      <td>-0.635</td>\n",
       "      <td>1.569</td>\n",
       "      <td>1.047</td>\n",
       "      <td>0.844</td>\n",
       "      <td>1.649</td>\n",
       "      <td>1.820</td>\n",
       "      <td>0.154</td>\n",
       "    </tr>\n",
       "    <tr>\n",
       "      <th>1</th>\n",
       "      <td>aa</td>\n",
       "      <td>-1.402</td>\n",
       "      <td>-0.916</td>\n",
       "      <td>-0.349</td>\n",
       "      <td>-1.284</td>\n",
       "      <td>-1.335</td>\n",
       "      <td>-1.525</td>\n",
       "      <td>-1.610</td>\n",
       "    </tr>\n",
       "    <tr>\n",
       "      <th>2</th>\n",
       "      <td>aaa</td>\n",
       "      <td>-1.287</td>\n",
       "      <td>-0.624</td>\n",
       "      <td>-0.063</td>\n",
       "      <td>-0.641</td>\n",
       "      <td>-1.227</td>\n",
       "      <td>-1.132</td>\n",
       "      <td>-1.194</td>\n",
       "    </tr>\n",
       "    <tr>\n",
       "      <th>3</th>\n",
       "      <td>aaaaah</td>\n",
       "      <td>-0.329</td>\n",
       "      <td>-0.400</td>\n",
       "      <td>-0.021</td>\n",
       "      <td>-0.134</td>\n",
       "      <td>0.565</td>\n",
       "      <td>0.372</td>\n",
       "      <td>-0.364</td>\n",
       "    </tr>\n",
       "    <tr>\n",
       "      <th>4</th>\n",
       "      <td>aaaam</td>\n",
       "      <td>0.016</td>\n",
       "      <td>-0.592</td>\n",
       "      <td>0.513</td>\n",
       "      <td>-0.800</td>\n",
       "      <td>-0.741</td>\n",
       "      <td>-1.194</td>\n",
       "      <td>-0.686</td>\n",
       "    </tr>\n",
       "  </tbody>\n",
       "</table>\n",
       "</div>"
      ],
      "text/plain": [
       "     word   AAPz  ang_z  fear_z  disg_z  hap_z  sad_z  surp_z\n",
       "0       a -0.635  1.569   1.047   0.844  1.649  1.820   0.154\n",
       "1      aa -1.402 -0.916  -0.349  -1.284 -1.335 -1.525  -1.610\n",
       "2     aaa -1.287 -0.624  -0.063  -0.641 -1.227 -1.132  -1.194\n",
       "3  aaaaah -0.329 -0.400  -0.021  -0.134  0.565  0.372  -0.364\n",
       "4   aaaam  0.016 -0.592   0.513  -0.800 -0.741 -1.194  -0.686"
      ]
     },
     "execution_count": 455,
     "metadata": {},
     "output_type": "execute_result"
    }
   ],
   "source": [
    "sa.head()"
   ]
  },
  {
   "cell_type": "code",
   "execution_count": 456,
   "metadata": {},
   "outputs": [
    {
     "data": {
      "text/plain": [
       "(241493, 8)"
      ]
     },
     "execution_count": 456,
     "metadata": {},
     "output_type": "execute_result"
    }
   ],
   "source": [
    "sa.shape"
   ]
  },
  {
   "cell_type": "code",
   "execution_count": 457,
   "metadata": {},
   "outputs": [],
   "source": [
    "sent_mean_ang_z = []\n",
    "sent_mean_fear_z = []\n",
    "sent_mean_disg_z = []\n",
    "sent_mean_hap_z = []\n",
    "sent_mean_sad_z = []\n",
    "sent_mean_surp_z = []\n",
    "sent_mean_APPz = []"
   ]
  },
  {
   "cell_type": "code",
   "execution_count": 458,
   "metadata": {},
   "outputs": [
    {
     "data": {
      "text/plain": [
       "17528"
      ]
     },
     "execution_count": 458,
     "metadata": {},
     "output_type": "execute_result"
    }
   ],
   "source": [
    "my_list = []\n",
    "for sent in df.tokenized_sents:\n",
    "    my_list.append(sent)\n",
    "    \n",
    "len(my_list)"
   ]
  },
  {
   "cell_type": "code",
   "execution_count": 465,
   "metadata": {},
   "outputs": [
    {
     "name": "stdout",
     "output_type": "stream",
     "text": [
      "130534\n",
      "8586\n"
     ]
    }
   ],
   "source": [
    "word_list = []\n",
    "for sent in my_list:\n",
    "    for word in sent:\n",
    "        word_list.append(word)\n",
    "print(len(word_list))\n",
    "print(len(set(word_list)))"
   ]
  },
  {
   "cell_type": "code",
   "execution_count": 459,
   "metadata": {},
   "outputs": [
    {
     "name": "stdout",
     "output_type": "stream",
     "text": [
      "241493\n"
     ]
    }
   ],
   "source": [
    "senti_words = []\n",
    "for word in sa.word:\n",
    "    senti_words.append(word)\n",
    "print(len(senti_words))"
   ]
  },
  {
   "cell_type": "code",
   "execution_count": 466,
   "metadata": {},
   "outputs": [
    {
     "name": "stdout",
     "output_type": "stream",
     "text": [
      "7938\n"
     ]
    }
   ],
   "source": [
    "match_senti = []\n",
    "for word in set(word_list):\n",
    "    if word in senti_words:\n",
    "        match_senti.append(word)\n",
    "print(len(match_senti))"
   ]
  },
  {
   "cell_type": "code",
   "execution_count": 467,
   "metadata": {},
   "outputs": [
    {
     "name": "stdout",
     "output_type": "stream",
     "text": [
      "The hit rate of SentiArt =  92.453 %)\n"
     ]
    }
   ],
   "source": [
    "print(\"The hit rate of SentiArt = \", round(len(match_senti)*100/len(set(word_list)),3), \"%)\")"
   ]
  },
  {
   "cell_type": "code",
   "execution_count": null,
   "metadata": {},
   "outputs": [],
   "source": []
  },
  {
   "cell_type": "code",
   "execution_count": 344,
   "metadata": {},
   "outputs": [],
   "source": [
    "for t in my_list:\n",
    "    dt = sa.query('word in @t')\n",
    "    sent_mean_ang_z.append(dt.ang_z.mean())\n",
    "    sent_mean_fear_z.append(dt.fear_z.mean())\n",
    "    sent_mean_disg_z.append(dt.disg_z.mean())\n",
    "    sent_mean_hap_z.append(dt.hap_z.mean())\n",
    "    sent_mean_sad_z.append(dt.sad_z.mean())\n",
    "    sent_mean_surp_z.append(dt.surp_z.mean())\n",
    "    sent_mean_APPz.append(dt.AAPz.mean())"
   ]
  },
  {
   "cell_type": "code",
   "execution_count": 345,
   "metadata": {},
   "outputs": [],
   "source": [
    "df[\"ang\"] = sent_mean_ang_z\n",
    "df[\"fear\"] = sent_mean_fear_z\n",
    "df[\"disg\"] = sent_mean_disg_z\n",
    "df[\"hap\"] = sent_mean_hap_z\n",
    "df[\"sad\"] = sent_mean_sad_z\n",
    "df[\"surp\"] = sent_mean_surp_z\n",
    "df[\"APPz\"] = sent_mean_APPz\n",
    "df = round(df,3)"
   ]
  },
  {
   "cell_type": "code",
   "execution_count": 346,
   "metadata": {},
   "outputs": [
    {
     "name": "stdout",
     "output_type": "stream",
     "text": [
      "<class 'pandas.core.frame.DataFrame'>\n",
      "RangeIndex: 17528 entries, 0 to 17527\n",
      "Data columns (total 14 columns):\n",
      " #   Column           Non-Null Count  Dtype  \n",
      "---  ------           --------------  -----  \n",
      " 0   sent             17528 non-null  object \n",
      " 1   label_1          17528 non-null  int64  \n",
      " 2   label_2          3873 non-null   object \n",
      " 3   label_3          849 non-null    object \n",
      " 4   label_2_fill     17528 non-null  int64  \n",
      " 5   text_clean       17528 non-null  object \n",
      " 6   tokenized_sents  17528 non-null  object \n",
      " 7   ang              17490 non-null  float64\n",
      " 8   fear             17490 non-null  float64\n",
      " 9   disg             17490 non-null  float64\n",
      " 10  hap              17490 non-null  float64\n",
      " 11  sad              17490 non-null  float64\n",
      " 12  surp             17490 non-null  float64\n",
      " 13  APPz             17490 non-null  float64\n",
      "dtypes: float64(7), int64(2), object(5)\n",
      "memory usage: 1.9+ MB\n"
     ]
    }
   ],
   "source": [
    "df.info()"
   ]
  },
  {
   "cell_type": "code",
   "execution_count": 347,
   "metadata": {},
   "outputs": [
    {
     "name": "stdout",
     "output_type": "stream",
     "text": [
      "38\n",
      "38\n",
      "38\n",
      "38\n",
      "38\n",
      "38\n"
     ]
    }
   ],
   "source": [
    "print(df.ang.isna().sum())      \n",
    "print(df.fear.isna().sum())   \n",
    "print(df.disg.isna().sum()) \n",
    "print(df.hap.isna().sum())\n",
    "print(df.sad.isnull().sum())\n",
    "print(df.surp.isnull().sum())"
   ]
  },
  {
   "cell_type": "code",
   "execution_count": 348,
   "metadata": {},
   "outputs": [
    {
     "data": {
      "text/html": [
       "<div>\n",
       "<style scoped>\n",
       "    .dataframe tbody tr th:only-of-type {\n",
       "        vertical-align: middle;\n",
       "    }\n",
       "\n",
       "    .dataframe tbody tr th {\n",
       "        vertical-align: top;\n",
       "    }\n",
       "\n",
       "    .dataframe thead th {\n",
       "        text-align: right;\n",
       "    }\n",
       "</style>\n",
       "<table border=\"1\" class=\"dataframe\">\n",
       "  <thead>\n",
       "    <tr style=\"text-align: right;\">\n",
       "      <th></th>\n",
       "      <th>sent</th>\n",
       "      <th>label_1</th>\n",
       "      <th>label_2</th>\n",
       "      <th>label_3</th>\n",
       "      <th>label_2_fill</th>\n",
       "      <th>text_clean</th>\n",
       "      <th>tokenized_sents</th>\n",
       "      <th>ang</th>\n",
       "      <th>fear</th>\n",
       "      <th>disg</th>\n",
       "      <th>hap</th>\n",
       "      <th>sad</th>\n",
       "      <th>surp</th>\n",
       "      <th>APPz</th>\n",
       "    </tr>\n",
       "  </thead>\n",
       "  <tbody>\n",
       "    <tr>\n",
       "      <th>0</th>\n",
       "      <td>, ...</td>\n",
       "      <td>1</td>\n",
       "      <td>None</td>\n",
       "      <td>None</td>\n",
       "      <td>1</td>\n",
       "      <td></td>\n",
       "      <td>[]</td>\n",
       "      <td>NaN</td>\n",
       "      <td>NaN</td>\n",
       "      <td>NaN</td>\n",
       "      <td>NaN</td>\n",
       "      <td>NaN</td>\n",
       "      <td>NaN</td>\n",
       "      <td>NaN</td>\n",
       "    </tr>\n",
       "    <tr>\n",
       "      <th>1</th>\n",
       "      <td>!</td>\n",
       "      <td>1</td>\n",
       "      <td>4</td>\n",
       "      <td>7</td>\n",
       "      <td>4</td>\n",
       "      <td></td>\n",
       "      <td>[]</td>\n",
       "      <td>NaN</td>\n",
       "      <td>NaN</td>\n",
       "      <td>NaN</td>\n",
       "      <td>NaN</td>\n",
       "      <td>NaN</td>\n",
       "      <td>NaN</td>\n",
       "      <td>NaN</td>\n",
       "    </tr>\n",
       "    <tr>\n",
       "      <th>202</th>\n",
       "      <td>Argh ! Kaili !</td>\n",
       "      <td>1</td>\n",
       "      <td>None</td>\n",
       "      <td>None</td>\n",
       "      <td>1</td>\n",
       "      <td>argh kaili</td>\n",
       "      <td>[argh, kaili]</td>\n",
       "      <td>NaN</td>\n",
       "      <td>NaN</td>\n",
       "      <td>NaN</td>\n",
       "      <td>NaN</td>\n",
       "      <td>NaN</td>\n",
       "      <td>NaN</td>\n",
       "      <td>NaN</td>\n",
       "    </tr>\n",
       "    <tr>\n",
       "      <th>287</th>\n",
       "      <td>Bullshit !</td>\n",
       "      <td>1</td>\n",
       "      <td>3</td>\n",
       "      <td>None</td>\n",
       "      <td>3</td>\n",
       "      <td>bullshit</td>\n",
       "      <td>[bullshit]</td>\n",
       "      <td>NaN</td>\n",
       "      <td>NaN</td>\n",
       "      <td>NaN</td>\n",
       "      <td>NaN</td>\n",
       "      <td>NaN</td>\n",
       "      <td>NaN</td>\n",
       "      <td>NaN</td>\n",
       "    </tr>\n",
       "    <tr>\n",
       "      <th>289</th>\n",
       "      <td>Bullshit .</td>\n",
       "      <td>1</td>\n",
       "      <td>7</td>\n",
       "      <td>None</td>\n",
       "      <td>7</td>\n",
       "      <td>bullshit</td>\n",
       "      <td>[bullshit]</td>\n",
       "      <td>NaN</td>\n",
       "      <td>NaN</td>\n",
       "      <td>NaN</td>\n",
       "      <td>NaN</td>\n",
       "      <td>NaN</td>\n",
       "      <td>NaN</td>\n",
       "      <td>NaN</td>\n",
       "    </tr>\n",
       "  </tbody>\n",
       "</table>\n",
       "</div>"
      ],
      "text/plain": [
       "               sent  label_1 label_2 label_3  label_2_fill  text_clean  \\\n",
       "0             , ...        1    None    None             1               \n",
       "1                 !        1       4       7             4               \n",
       "202  Argh ! Kaili !        1    None    None             1  argh kaili   \n",
       "287      Bullshit !        1       3    None             3    bullshit   \n",
       "289      Bullshit .        1       7    None             7    bullshit   \n",
       "\n",
       "    tokenized_sents  ang  fear  disg  hap  sad  surp  APPz  \n",
       "0                []  NaN   NaN   NaN  NaN  NaN   NaN   NaN  \n",
       "1                []  NaN   NaN   NaN  NaN  NaN   NaN   NaN  \n",
       "202   [argh, kaili]  NaN   NaN   NaN  NaN  NaN   NaN   NaN  \n",
       "287      [bullshit]  NaN   NaN   NaN  NaN  NaN   NaN   NaN  \n",
       "289      [bullshit]  NaN   NaN   NaN  NaN  NaN   NaN   NaN  "
      ]
     },
     "execution_count": 348,
     "metadata": {},
     "output_type": "execute_result"
    }
   ],
   "source": [
    "df_38 = df.loc[pd.isna(df[\"disg\"]), :]\n",
    "df_38.head()"
   ]
  },
  {
   "cell_type": "code",
   "execution_count": 349,
   "metadata": {},
   "outputs": [],
   "source": [
    "#df_38.to_csv('df_38.csv')"
   ]
  },
  {
   "cell_type": "code",
   "execution_count": 350,
   "metadata": {},
   "outputs": [],
   "source": [
    "df = df[[\"text_clean\", \"label_1\", \"label_2_fill\", \"ang\", \"fear\", \"disg\", \"hap\", \"sad\", \"surp\", \"APPz\"]]"
   ]
  },
  {
   "cell_type": "code",
   "execution_count": 351,
   "metadata": {},
   "outputs": [
    {
     "data": {
      "text/plain": [
       "(17490, 10)"
      ]
     },
     "execution_count": 351,
     "metadata": {},
     "output_type": "execute_result"
    }
   ],
   "source": [
    "df = df.dropna().reset_index(drop=True)\n",
    "df.shape"
   ]
  },
  {
   "cell_type": "code",
   "execution_count": null,
   "metadata": {},
   "outputs": [],
   "source": []
  },
  {
   "cell_type": "markdown",
   "metadata": {},
   "source": [
    "* Mapping the target column based on the mapping of XED.\n",
    "\n",
    "* Removing the missing values.\n",
    "\n",
    "* Exploring the distribution of the classes in label_1 and label_2 from XED and the target of SentiArt \n",
    "\n",
    "* Data Exploration\n"
   ]
  },
  {
   "cell_type": "code",
   "execution_count": 352,
   "metadata": {},
   "outputs": [],
   "source": [
    "df[\"target\"] = df[[\"ang\", \"fear\", \"disg\", \"hap\", \"sad\", \"surp\"]].idxmax(axis=1)\n",
    "df[\"target_name\"] = df[[\"ang\", \"fear\", \"disg\", \"hap\", \"sad\", \"surp\"]].idxmax(axis=1)"
   ]
  },
  {
   "cell_type": "code",
   "execution_count": 353,
   "metadata": {},
   "outputs": [
    {
     "data": {
      "text/html": [
       "<div>\n",
       "<style scoped>\n",
       "    .dataframe tbody tr th:only-of-type {\n",
       "        vertical-align: middle;\n",
       "    }\n",
       "\n",
       "    .dataframe tbody tr th {\n",
       "        vertical-align: top;\n",
       "    }\n",
       "\n",
       "    .dataframe thead th {\n",
       "        text-align: right;\n",
       "    }\n",
       "</style>\n",
       "<table border=\"1\" class=\"dataframe\">\n",
       "  <thead>\n",
       "    <tr style=\"text-align: right;\">\n",
       "      <th></th>\n",
       "      <th>text_clean</th>\n",
       "      <th>label_1</th>\n",
       "      <th>label_2_fill</th>\n",
       "      <th>ang</th>\n",
       "      <th>fear</th>\n",
       "      <th>disg</th>\n",
       "      <th>hap</th>\n",
       "      <th>sad</th>\n",
       "      <th>surp</th>\n",
       "      <th>APPz</th>\n",
       "      <th>target</th>\n",
       "      <th>target_name</th>\n",
       "    </tr>\n",
       "  </thead>\n",
       "  <tbody>\n",
       "    <tr>\n",
       "      <th>0</th>\n",
       "      <td>and i dont think we need to discuss the trinit...</td>\n",
       "      <td>8</td>\n",
       "      <td>1</td>\n",
       "      <td>0.240</td>\n",
       "      <td>1.354</td>\n",
       "      <td>-0.002</td>\n",
       "      <td>0.818</td>\n",
       "      <td>0.657</td>\n",
       "      <td>-0.216</td>\n",
       "      <td>-0.540</td>\n",
       "      <td>4</td>\n",
       "      <td>fear</td>\n",
       "    </tr>\n",
       "    <tr>\n",
       "      <th>1</th>\n",
       "      <td>so get up out of your bed</td>\n",
       "      <td>1</td>\n",
       "      <td>1</td>\n",
       "      <td>0.524</td>\n",
       "      <td>0.638</td>\n",
       "      <td>0.129</td>\n",
       "      <td>0.776</td>\n",
       "      <td>0.422</td>\n",
       "      <td>-0.158</td>\n",
       "      <td>-0.460</td>\n",
       "      <td>5</td>\n",
       "      <td>hap</td>\n",
       "    </tr>\n",
       "    <tr>\n",
       "      <th>2</th>\n",
       "      <td>a confession that you hired person and are res...</td>\n",
       "      <td>1</td>\n",
       "      <td>6</td>\n",
       "      <td>0.893</td>\n",
       "      <td>0.984</td>\n",
       "      <td>0.449</td>\n",
       "      <td>1.317</td>\n",
       "      <td>0.941</td>\n",
       "      <td>0.052</td>\n",
       "      <td>-1.051</td>\n",
       "      <td>5</td>\n",
       "      <td>hap</td>\n",
       "    </tr>\n",
       "    <tr>\n",
       "      <th>3</th>\n",
       "      <td>a dead man has one half hour to raise his roll...</td>\n",
       "      <td>1</td>\n",
       "      <td>1</td>\n",
       "      <td>0.531</td>\n",
       "      <td>0.532</td>\n",
       "      <td>0.192</td>\n",
       "      <td>0.705</td>\n",
       "      <td>0.810</td>\n",
       "      <td>-0.044</td>\n",
       "      <td>-0.395</td>\n",
       "      <td>6</td>\n",
       "      <td>sad</td>\n",
       "    </tr>\n",
       "    <tr>\n",
       "      <th>4</th>\n",
       "      <td>a guy thats talking about hes gonna solve all ...</td>\n",
       "      <td>1</td>\n",
       "      <td>1</td>\n",
       "      <td>-0.040</td>\n",
       "      <td>0.501</td>\n",
       "      <td>-0.145</td>\n",
       "      <td>0.766</td>\n",
       "      <td>0.492</td>\n",
       "      <td>0.010</td>\n",
       "      <td>-0.281</td>\n",
       "      <td>5</td>\n",
       "      <td>hap</td>\n",
       "    </tr>\n",
       "  </tbody>\n",
       "</table>\n",
       "</div>"
      ],
      "text/plain": [
       "                                          text_clean  label_1  label_2_fill  \\\n",
       "0  and i dont think we need to discuss the trinit...        8             1   \n",
       "1                          so get up out of your bed        1             1   \n",
       "2  a confession that you hired person and are res...        1             6   \n",
       "3  a dead man has one half hour to raise his roll...        1             1   \n",
       "4  a guy thats talking about hes gonna solve all ...        1             1   \n",
       "\n",
       "     ang   fear   disg    hap    sad   surp   APPz  target target_name  \n",
       "0  0.240  1.354 -0.002  0.818  0.657 -0.216 -0.540       4        fear  \n",
       "1  0.524  0.638  0.129  0.776  0.422 -0.158 -0.460       5         hap  \n",
       "2  0.893  0.984  0.449  1.317  0.941  0.052 -1.051       5         hap  \n",
       "3  0.531  0.532  0.192  0.705  0.810 -0.044 -0.395       6         sad  \n",
       "4 -0.040  0.501 -0.145  0.766  0.492  0.010 -0.281       5         hap  "
      ]
     },
     "execution_count": 353,
     "metadata": {},
     "output_type": "execute_result"
    }
   ],
   "source": [
    "emo_map = {\"ang\": int(1), \"fear\": int(4), \"disg\": int(3), \"hap\": int(5), \"sad\" : int(6), \"surp\": int(7)}\n",
    "df = df.replace({\"target\": emo_map})\n",
    "df.head()"
   ]
  },
  {
   "cell_type": "code",
   "execution_count": 354,
   "metadata": {},
   "outputs": [
    {
     "data": {
      "text/plain": [
       "4    7154\n",
       "5    6243\n",
       "6    2482\n",
       "7     941\n",
       "1     578\n",
       "3      92\n",
       "Name: target, dtype: int64"
      ]
     },
     "execution_count": 354,
     "metadata": {},
     "output_type": "execute_result"
    }
   ],
   "source": [
    "df.target.value_counts()"
   ]
  },
  {
   "cell_type": "code",
   "execution_count": 355,
   "metadata": {},
   "outputs": [
    {
     "data": {
      "text/plain": [
       "1    3703\n",
       "2    2706\n",
       "8    2684\n",
       "5    1843\n",
       "4    1791\n",
       "6    1702\n",
       "3    1639\n",
       "7    1422\n",
       "Name: label_1, dtype: int64"
      ]
     },
     "execution_count": 355,
     "metadata": {},
     "output_type": "execute_result"
    }
   ],
   "source": [
    "df.label_1.value_counts()"
   ]
  },
  {
   "cell_type": "code",
   "execution_count": 356,
   "metadata": {},
   "outputs": [
    {
     "data": {
      "text/plain": [
       "2    2701\n",
       "5    2516\n",
       "1    2486\n",
       "7    2080\n",
       "6    2048\n",
       "3    2028\n",
       "4    2016\n",
       "8    1615\n",
       "Name: label_2_fill, dtype: int64"
      ]
     },
     "execution_count": 356,
     "metadata": {},
     "output_type": "execute_result"
    }
   ],
   "source": [
    "df.label_2_fill.value_counts()"
   ]
  },
  {
   "cell_type": "code",
   "execution_count": 357,
   "metadata": {},
   "outputs": [
    {
     "data": {
      "text/plain": [
       "fear    1724\n",
       "hap     1219\n",
       "sad      427\n",
       "surp     161\n",
       "ang      151\n",
       "disg      21\n",
       "Name: target_name, dtype: int64"
      ]
     },
     "execution_count": 357,
     "metadata": {},
     "output_type": "execute_result"
    }
   ],
   "source": [
    "df_anger = df.loc[df[\"label_1\"] == 1]\n",
    "df_anger[\"target_name\"].value_counts()"
   ]
  },
  {
   "cell_type": "code",
   "execution_count": 358,
   "metadata": {},
   "outputs": [
    {
     "data": {
      "text/plain": [
       "fear    1110\n",
       "hap     1024\n",
       "sad      352\n",
       "surp     168\n",
       "ang       40\n",
       "disg      12\n",
       "Name: target_name, dtype: int64"
      ]
     },
     "execution_count": 358,
     "metadata": {},
     "output_type": "execute_result"
    }
   ],
   "source": [
    "df_anticipation = df.loc[df[\"label_1\"] == 2]\n",
    "df_anticipation[\"target_name\"].value_counts()"
   ]
  },
  {
   "cell_type": "code",
   "execution_count": 359,
   "metadata": {},
   "outputs": [
    {
     "data": {
      "text/plain": [
       "hap     592\n",
       "fear    589\n",
       "sad     295\n",
       "ang      94\n",
       "surp     44\n",
       "disg     25\n",
       "Name: target_name, dtype: int64"
      ]
     },
     "execution_count": 359,
     "metadata": {},
     "output_type": "execute_result"
    }
   ],
   "source": [
    "df_disgust = df.loc[df[\"label_1\"] == 3]\n",
    "df_disgust[\"target_name\"].value_counts()"
   ]
  },
  {
   "cell_type": "code",
   "execution_count": 360,
   "metadata": {},
   "outputs": [
    {
     "data": {
      "text/plain": [
       "fear    886\n",
       "hap     464\n",
       "sad     258\n",
       "ang      97\n",
       "surp     77\n",
       "disg      9\n",
       "Name: target_name, dtype: int64"
      ]
     },
     "execution_count": 360,
     "metadata": {},
     "output_type": "execute_result"
    }
   ],
   "source": [
    "df_fear = df.loc[df[\"label_1\"] == 4]\n",
    "df_fear[\"target_name\"].value_counts()"
   ]
  },
  {
   "cell_type": "code",
   "execution_count": 361,
   "metadata": {},
   "outputs": [
    {
     "data": {
      "text/plain": [
       "hap     891\n",
       "fear    371\n",
       "sad     358\n",
       "surp    188\n",
       "ang      32\n",
       "disg      3\n",
       "Name: target_name, dtype: int64"
      ]
     },
     "execution_count": 361,
     "metadata": {},
     "output_type": "execute_result"
    }
   ],
   "source": [
    "df_joy = df.loc[df[\"label_1\"] == 5]\n",
    "df_joy.target_name.value_counts()"
   ]
  },
  {
   "cell_type": "code",
   "execution_count": 362,
   "metadata": {},
   "outputs": [
    {
     "data": {
      "text/plain": [
       "fear    829\n",
       "hap     455\n",
       "sad     284\n",
       "surp     72\n",
       "ang      57\n",
       "disg      5\n",
       "Name: target_name, dtype: int64"
      ]
     },
     "execution_count": 362,
     "metadata": {},
     "output_type": "execute_result"
    }
   ],
   "source": [
    "df_sad = df.loc[df[\"label_1\"] == 6]\n",
    "df_sad.target_name.value_counts()"
   ]
  },
  {
   "cell_type": "code",
   "execution_count": 363,
   "metadata": {},
   "outputs": [
    {
     "data": {
      "text/plain": [
       "fear    528\n",
       "hap     458\n",
       "sad     258\n",
       "surp    110\n",
       "ang      59\n",
       "disg      9\n",
       "Name: target_name, dtype: int64"
      ]
     },
     "execution_count": 363,
     "metadata": {},
     "output_type": "execute_result"
    }
   ],
   "source": [
    "df_surp = df.loc[df[\"label_1\"] == 7]\n",
    "df_surp.target_name.value_counts()"
   ]
  },
  {
   "cell_type": "code",
   "execution_count": 364,
   "metadata": {},
   "outputs": [
    {
     "data": {
      "text/plain": [
       "hap     1140\n",
       "fear    1117\n",
       "sad      250\n",
       "surp     121\n",
       "ang       48\n",
       "disg       8\n",
       "Name: target_name, dtype: int64"
      ]
     },
     "execution_count": 364,
     "metadata": {},
     "output_type": "execute_result"
    }
   ],
   "source": [
    "df_trust = df[df[\"label_1\"] == 8]\n",
    "df_trust.target_name.value_counts()"
   ]
  },
  {
   "cell_type": "code",
   "execution_count": 365,
   "metadata": {},
   "outputs": [
    {
     "data": {
      "text/plain": [
       "fear    1204\n",
       "hap      792\n",
       "sad      279\n",
       "surp     107\n",
       "ang       94\n",
       "disg      10\n",
       "Name: target_name, dtype: int64"
      ]
     },
     "execution_count": 365,
     "metadata": {},
     "output_type": "execute_result"
    }
   ],
   "source": [
    "df_anger_2 = df[df[\"label_2_fill\"] == 1]\n",
    "df_anger_2.target_name.value_counts()                 "
   ]
  },
  {
   "cell_type": "code",
   "execution_count": 366,
   "metadata": {},
   "outputs": [
    {
     "data": {
      "text/plain": [
       "fear    1135\n",
       "hap     1033\n",
       "sad      328\n",
       "surp     152\n",
       "ang       43\n",
       "disg      10\n",
       "Name: target_name, dtype: int64"
      ]
     },
     "execution_count": 366,
     "metadata": {},
     "output_type": "execute_result"
    }
   ],
   "source": [
    "df_antic_2 = df[df[\"label_2_fill\"] == 2]\n",
    "df_antic_2.target_name.value_counts()"
   ]
  },
  {
   "cell_type": "code",
   "execution_count": 367,
   "metadata": {},
   "outputs": [
    {
     "data": {
      "text/plain": [
       "fear    757\n",
       "hap     749\n",
       "sad     335\n",
       "ang     105\n",
       "surp     55\n",
       "disg     27\n",
       "Name: target_name, dtype: int64"
      ]
     },
     "execution_count": 367,
     "metadata": {},
     "output_type": "execute_result"
    }
   ],
   "source": [
    "df_disg_2 = df[df[\"label_2_fill\"] == 3]\n",
    "df_disg_2.target_name.value_counts()"
   ]
  },
  {
   "cell_type": "code",
   "execution_count": 368,
   "metadata": {},
   "outputs": [
    {
     "data": {
      "text/plain": [
       "fear    991\n",
       "hap     542\n",
       "sad     277\n",
       "ang     106\n",
       "surp     86\n",
       "disg     14\n",
       "Name: target_name, dtype: int64"
      ]
     },
     "execution_count": 368,
     "metadata": {},
     "output_type": "execute_result"
    }
   ],
   "source": [
    "df_fear_2 = df[df[\"label_2_fill\"] == 4]\n",
    "df_fear_2.target_name.value_counts()"
   ]
  },
  {
   "cell_type": "code",
   "execution_count": 369,
   "metadata": {},
   "outputs": [
    {
     "data": {
      "text/plain": [
       "hap     1209\n",
       "fear     597\n",
       "sad      417\n",
       "surp     241\n",
       "ang       46\n",
       "disg       6\n",
       "Name: target_name, dtype: int64"
      ]
     },
     "execution_count": 369,
     "metadata": {},
     "output_type": "execute_result"
    }
   ],
   "source": [
    "df_hap_2 = df[df[\"label_2_fill\"] == 5]\n",
    "df_hap_2.target_name.value_counts()"
   ]
  },
  {
   "cell_type": "code",
   "execution_count": 370,
   "metadata": {},
   "outputs": [
    {
     "data": {
      "text/plain": [
       "fear    995\n",
       "hap     556\n",
       "sad     331\n",
       "surp     87\n",
       "ang      72\n",
       "disg      7\n",
       "Name: target_name, dtype: int64"
      ]
     },
     "execution_count": 370,
     "metadata": {},
     "output_type": "execute_result"
    }
   ],
   "source": [
    "df_sad_2 = df[df[\"label_2_fill\"] == 6]\n",
    "df_sad_2.target_name.value_counts()"
   ]
  },
  {
   "cell_type": "code",
   "execution_count": 371,
   "metadata": {},
   "outputs": [
    {
     "data": {
      "text/plain": [
       "fear    774\n",
       "hap     688\n",
       "sad     369\n",
       "surp    153\n",
       "ang      84\n",
       "disg     12\n",
       "Name: target_name, dtype: int64"
      ]
     },
     "execution_count": 371,
     "metadata": {},
     "output_type": "execute_result"
    }
   ],
   "source": [
    "df_surp_2 = df[df[\"label_2_fill\"] == 7]\n",
    "df_surp_2.target_name.value_counts()"
   ]
  },
  {
   "cell_type": "code",
   "execution_count": 372,
   "metadata": {},
   "outputs": [
    {
     "data": {
      "text/plain": [
       "fear    701\n",
       "hap     674\n",
       "sad     146\n",
       "surp     60\n",
       "ang      28\n",
       "disg      6\n",
       "Name: target_name, dtype: int64"
      ]
     },
     "execution_count": 372,
     "metadata": {},
     "output_type": "execute_result"
    }
   ],
   "source": [
    "df_trust_2 = df[df[\"label_2_fill\"] == 8]\n",
    "df_trust_2.target_name.value_counts()"
   ]
  },
  {
   "cell_type": "markdown",
   "metadata": {},
   "source": [
    "# Classification\n",
    "\n",
    "* fear vs the rest\n",
    "* happiness vs the rest\n",
    "* sadness vs the rest"
   ]
  },
  {
   "cell_type": "code",
   "execution_count": 373,
   "metadata": {},
   "outputs": [],
   "source": [
    "df[\"label_fear\"] = df[\"label_1\"].map({1:0, 2:0, 3:0, 4:1, 5:0, 6:0, 7:0, 8:0})"
   ]
  },
  {
   "cell_type": "code",
   "execution_count": 374,
   "metadata": {},
   "outputs": [],
   "source": [
    "df[\"target_fear\"] = df[\"target\"].map({1:0, 3:0, 4:1, 5:0, 6:0, 7:0})"
   ]
  },
  {
   "cell_type": "code",
   "execution_count": 375,
   "metadata": {},
   "outputs": [
    {
     "data": {
      "text/plain": [
       "0    10336\n",
       "1     7154\n",
       "Name: target_fear, dtype: int64"
      ]
     },
     "execution_count": 375,
     "metadata": {},
     "output_type": "execute_result"
    }
   ],
   "source": [
    "df.target_fear.value_counts()"
   ]
  },
  {
   "cell_type": "code",
   "execution_count": 376,
   "metadata": {},
   "outputs": [
    {
     "data": {
      "text/plain": [
       "0    15699\n",
       "1     1791\n",
       "Name: label_fear, dtype: int64"
      ]
     },
     "execution_count": 376,
     "metadata": {},
     "output_type": "execute_result"
    }
   ],
   "source": [
    "df.label_fear.value_counts()"
   ]
  },
  {
   "cell_type": "code",
   "execution_count": 377,
   "metadata": {},
   "outputs": [],
   "source": [
    "from sklearn.model_selection import train_test_split\n",
    "from sklearn.pipeline import Pipeline\n",
    "from sklearn.feature_extraction.text import TfidfVectorizer\n",
    "from sklearn.naive_bayes import MultinomialNB\n",
    "from sklearn.svm import LinearSVC\n",
    "from sklearn import metrics\n",
    "from sklearn.linear_model import LogisticRegression\n",
    "from sklearn.metrics import f1_score, accuracy_score"
   ]
  },
  {
   "cell_type": "code",
   "execution_count": 378,
   "metadata": {},
   "outputs": [],
   "source": [
    "X = df[\"text_clean\"]\n",
    "y_target = df[\"target_fear\"]\n",
    "y_label = df[\"label_fear\"]\n",
    "\n",
    "X_train, X_test, y_train_t, y_test_t, y_train_l, y_test_l = train_test_split(X, y_target, y_label, test_size=0.30, random_state=42)"
   ]
  },
  {
   "cell_type": "code",
   "execution_count": 379,
   "metadata": {},
   "outputs": [],
   "source": [
    "# Naïve Bayes:\n",
    "text_clf_nb = Pipeline([('tfidf', TfidfVectorizer()),\n",
    "                     ('clf', MultinomialNB()),\n",
    "])\n",
    "\n",
    "# Linear SVC:\n",
    "text_clf_lsvc = Pipeline([('tfidf', TfidfVectorizer()),\n",
    "                     ('clf', LinearSVC()),\n",
    "])\n",
    "\n",
    "# LogisticRegression \n",
    "text_clf_lr = Pipeline([('tfidf', TfidfVectorizer()),\n",
    "                     ('clf', LogisticRegression()),\n",
    "])"
   ]
  },
  {
   "cell_type": "code",
   "execution_count": 380,
   "metadata": {},
   "outputs": [
    {
     "name": "stdout",
     "output_type": "stream",
     "text": [
      "Report of MultinomialNB_fear\n",
      "Confusion Matrix \n",
      " [[3143 1578]\n",
      " [ 316  210]]\n",
      "              precision    recall  f1-score   support\n",
      "\n",
      "           0       0.91      0.67      0.77      4721\n",
      "           1       0.12      0.40      0.18       526\n",
      "\n",
      "    accuracy                           0.64      5247\n",
      "   macro avg       0.51      0.53      0.47      5247\n",
      "weighted avg       0.83      0.64      0.71      5247\n",
      "\n",
      "Accuracy Score:  0.639031827711073\n"
     ]
    }
   ],
   "source": [
    "print(\"Report of MultinomialNB_fear\")\n",
    "text_clf_nb.fit(X_train, y_train_t)\n",
    "predictions = text_clf_nb.predict(X_test)\n",
    "print(\"Confusion Matrix \\n\",metrics.confusion_matrix(y_test_l,predictions))\n",
    "print(metrics.classification_report(y_test_l,predictions))\n",
    "print(\"Accuracy Score: \", metrics.accuracy_score(y_test_l,predictions))"
   ]
  },
  {
   "cell_type": "code",
   "execution_count": 381,
   "metadata": {},
   "outputs": [
    {
     "name": "stdout",
     "output_type": "stream",
     "text": [
      "Report of LinearSVC_fear\n",
      "Confusion Matrix \n",
      " [[2789 1932]\n",
      " [ 276  250]]\n",
      "              precision    recall  f1-score   support\n",
      "\n",
      "           0       0.91      0.59      0.72      4721\n",
      "           1       0.11      0.48      0.18       526\n",
      "\n",
      "    accuracy                           0.58      5247\n",
      "   macro avg       0.51      0.53      0.45      5247\n",
      "weighted avg       0.83      0.58      0.66      5247\n",
      "\n",
      "Accuracy Score:  0.5791881074899943\n"
     ]
    }
   ],
   "source": [
    "print(\"Report of LinearSVC_fear\")\n",
    "text_clf_lsvc.fit(X_train, y_train_t)\n",
    "predictions = text_clf_lsvc.predict(X_test)\n",
    "print(\"Confusion Matrix \\n\", metrics.confusion_matrix(y_test_l,predictions))\n",
    "print(metrics.classification_report(y_test_l,predictions))\n",
    "print(\"Accuracy Score: \", metrics.accuracy_score(y_test_l,predictions))"
   ]
  },
  {
   "cell_type": "code",
   "execution_count": 382,
   "metadata": {},
   "outputs": [
    {
     "name": "stdout",
     "output_type": "stream",
     "text": [
      "Report of LogisticRegression_fear\n",
      "Confusion Matrix \n",
      " [[3006 1715]\n",
      " [ 315  211]]\n",
      "              precision    recall  f1-score   support\n",
      "\n",
      "           0       0.91      0.64      0.75      4721\n",
      "           1       0.11      0.40      0.17       526\n",
      "\n",
      "    accuracy                           0.61      5247\n",
      "   macro avg       0.51      0.52      0.46      5247\n",
      "weighted avg       0.83      0.61      0.69      5247\n",
      "\n",
      "Accuracy Score:  0.6131122546216886\n"
     ]
    }
   ],
   "source": [
    "print(\"Report of LogisticRegression_fear\")\n",
    "text_clf_lr.fit(X_train, y_train_t)\n",
    "predictions = text_clf_lr.predict(X_test)\n",
    "print(\"Confusion Matrix \\n\", metrics.confusion_matrix(y_test_l,predictions))\n",
    "print(metrics.classification_report(y_test_l,predictions))\n",
    "print(\"Accuracy Score: \", metrics.accuracy_score(y_test_l,predictions))"
   ]
  },
  {
   "cell_type": "code",
   "execution_count": null,
   "metadata": {},
   "outputs": [],
   "source": []
  },
  {
   "cell_type": "code",
   "execution_count": 383,
   "metadata": {},
   "outputs": [],
   "source": [
    "df[\"label_hap\"] = df[\"label_1\"].map({1:0, 2:0, 3:0, 4:0, 5:1, 6:0, 7:0, 8:0})\n",
    "df[\"target_hap\"] = df[\"target\"].map({1:0, 3:0, 4:0, 5:1, 6:0, 7:0})"
   ]
  },
  {
   "cell_type": "code",
   "execution_count": 384,
   "metadata": {},
   "outputs": [
    {
     "data": {
      "text/plain": [
       "0    11247\n",
       "1     6243\n",
       "Name: target_hap, dtype: int64"
      ]
     },
     "execution_count": 384,
     "metadata": {},
     "output_type": "execute_result"
    }
   ],
   "source": [
    "df.target_hap.value_counts()"
   ]
  },
  {
   "cell_type": "code",
   "execution_count": 385,
   "metadata": {},
   "outputs": [
    {
     "data": {
      "text/plain": [
       "0    15647\n",
       "1     1843\n",
       "Name: label_hap, dtype: int64"
      ]
     },
     "execution_count": 385,
     "metadata": {},
     "output_type": "execute_result"
    }
   ],
   "source": [
    "df.label_hap.value_counts()"
   ]
  },
  {
   "cell_type": "code",
   "execution_count": 386,
   "metadata": {},
   "outputs": [],
   "source": [
    "X = df[\"text_clean\"]\n",
    "y_target = df[\"target_hap\"]\n",
    "y_label = df[\"label_hap\"]\n",
    "\n",
    "X_train, X_test, y_train_t, y_test_t, y_train_l, y_test_l = train_test_split(X, y_target, y_label, test_size=0.30, random_state=42)"
   ]
  },
  {
   "cell_type": "code",
   "execution_count": 387,
   "metadata": {
    "scrolled": true
   },
   "outputs": [
    {
     "name": "stdout",
     "output_type": "stream",
     "text": [
      "Report of MultinomialNB_hap\n",
      "Confusion Matrix \n",
      " [[4175  509]\n",
      " [ 445  118]]\n",
      "              precision    recall  f1-score   support\n",
      "\n",
      "           0       0.90      0.89      0.90      4684\n",
      "           1       0.19      0.21      0.20       563\n",
      "\n",
      "    accuracy                           0.82      5247\n",
      "   macro avg       0.55      0.55      0.55      5247\n",
      "weighted avg       0.83      0.82      0.82      5247\n",
      "\n",
      "Accuracy Score: 0.8181818181818182\n"
     ]
    }
   ],
   "source": [
    "print(\"Report of MultinomialNB_hap\")\n",
    "text_clf_nb.fit(X_train, y_train_t)\n",
    "predictions = text_clf_nb.predict(X_test)\n",
    "print(\"Confusion Matrix \\n\",metrics.confusion_matrix(y_test_l,predictions))\n",
    "print(metrics.classification_report(y_test_l,predictions))\n",
    "print(\"Accuracy Score:\", metrics.accuracy_score(y_test_l,predictions))"
   ]
  },
  {
   "cell_type": "code",
   "execution_count": 388,
   "metadata": {},
   "outputs": [
    {
     "name": "stdout",
     "output_type": "stream",
     "text": [
      "Report of LinearSVC_hap\n",
      "Confusion Matrix \n",
      " [[3169 1515]\n",
      " [ 298  265]]\n",
      "              precision    recall  f1-score   support\n",
      "\n",
      "           0       0.91      0.68      0.78      4684\n",
      "           1       0.15      0.47      0.23       563\n",
      "\n",
      "    accuracy                           0.65      5247\n",
      "   macro avg       0.53      0.57      0.50      5247\n",
      "weighted avg       0.83      0.65      0.72      5247\n",
      "\n",
      "Accuracy Score 0.6544692205069563\n"
     ]
    }
   ],
   "source": [
    "print(\"Report of LinearSVC_hap\")\n",
    "text_clf_lsvc.fit(X_train, y_train_t)\n",
    "predictions = text_clf_lsvc.predict(X_test)\n",
    "print(\"Confusion Matrix \\n\",metrics.confusion_matrix(y_test_l,predictions))\n",
    "print(metrics.classification_report(y_test_l,predictions))\n",
    "print(\"Accuracy Score\", metrics.accuracy_score(y_test_l,predictions))"
   ]
  },
  {
   "cell_type": "code",
   "execution_count": 389,
   "metadata": {},
   "outputs": [
    {
     "name": "stdout",
     "output_type": "stream",
     "text": [
      "Report of LogisticRegression_hap\n",
      "Confusion Matrix \n",
      " [[3376 1308]\n",
      " [ 334  229]]\n",
      "              precision    recall  f1-score   support\n",
      "\n",
      "           0       0.91      0.72      0.80      4684\n",
      "           1       0.15      0.41      0.22       563\n",
      "\n",
      "    accuracy                           0.69      5247\n",
      "   macro avg       0.53      0.56      0.51      5247\n",
      "weighted avg       0.83      0.69      0.74      5247\n",
      "\n",
      "Accuracy Score 0.6870592719649323\n"
     ]
    }
   ],
   "source": [
    "print(\"Report of LogisticRegression_hap\")\n",
    "text_clf_lr.fit(X_train, y_train_t)\n",
    "predictions = text_clf_lr.predict(X_test)\n",
    "print(\"Confusion Matrix \\n\",metrics.confusion_matrix(y_test_l,predictions))\n",
    "print(metrics.classification_report(y_test_l,predictions))\n",
    "print(\"Accuracy Score\", metrics.accuracy_score(y_test_l,predictions))"
   ]
  },
  {
   "cell_type": "code",
   "execution_count": null,
   "metadata": {},
   "outputs": [],
   "source": []
  },
  {
   "cell_type": "code",
   "execution_count": 390,
   "metadata": {},
   "outputs": [],
   "source": [
    "df[\"label_sad\"] = df[\"label_1\"].map({1:0, 2: 0, 3:0, 4:0, 5:0, 6:1, 7:0, 8:0})\n",
    "df[\"target_sad\"] = df[\"target\"].map({1:0, 3:0, 4:0, 5:0, 6:1, 7:0})"
   ]
  },
  {
   "cell_type": "code",
   "execution_count": 391,
   "metadata": {},
   "outputs": [
    {
     "data": {
      "text/plain": [
       "0    15008\n",
       "1     2482\n",
       "Name: target_sad, dtype: int64"
      ]
     },
     "execution_count": 391,
     "metadata": {},
     "output_type": "execute_result"
    }
   ],
   "source": [
    "df.target_sad.value_counts()"
   ]
  },
  {
   "cell_type": "code",
   "execution_count": 392,
   "metadata": {},
   "outputs": [
    {
     "data": {
      "text/plain": [
       "0    15788\n",
       "1     1702\n",
       "Name: label_sad, dtype: int64"
      ]
     },
     "execution_count": 392,
     "metadata": {},
     "output_type": "execute_result"
    }
   ],
   "source": [
    "df.label_sad.value_counts()"
   ]
  },
  {
   "cell_type": "code",
   "execution_count": 393,
   "metadata": {},
   "outputs": [],
   "source": [
    "X = df[\"text_clean\"]\n",
    "y_target = df[\"target_sad\"]\n",
    "y_label = df[\"label_sad\"]\n",
    "\n",
    "X_train, X_test, y_train_t, y_test_t, y_train_l, y_test_l = train_test_split(X, y_target, y_label, test_size=0.30, random_state=42)"
   ]
  },
  {
   "cell_type": "code",
   "execution_count": 394,
   "metadata": {},
   "outputs": [
    {
     "name": "stdout",
     "output_type": "stream",
     "text": [
      "Report of MultinomialNB_sad\n",
      "Confusion Matrix \n",
      " [[4735    3]\n",
      " [ 509    0]]\n",
      "              precision    recall  f1-score   support\n",
      "\n",
      "           0       0.90      1.00      0.95      4738\n",
      "           1       0.00      0.00      0.00       509\n",
      "\n",
      "    accuracy                           0.90      5247\n",
      "   macro avg       0.45      0.50      0.47      5247\n",
      "weighted avg       0.82      0.90      0.86      5247\n",
      "\n",
      "Accuracy Score: 0.9024204307223175\n"
     ]
    }
   ],
   "source": [
    "print(\"Report of MultinomialNB_sad\")\n",
    "text_clf_nb.fit(X_train, y_train_t)\n",
    "predictions = text_clf_nb.predict(X_test)\n",
    "print(\"Confusion Matrix \\n\",metrics.confusion_matrix(y_test_l,predictions))\n",
    "print(metrics.classification_report(y_test_l,predictions))\n",
    "print(\"Accuracy Score:\", metrics.accuracy_score(y_test_l,predictions))"
   ]
  },
  {
   "cell_type": "code",
   "execution_count": 395,
   "metadata": {},
   "outputs": [
    {
     "name": "stdout",
     "output_type": "stream",
     "text": [
      "Report of LinearSVC_sad\n",
      "Confusion Matrix \n",
      " [[4289  449]\n",
      " [ 454   55]]\n",
      "              precision    recall  f1-score   support\n",
      "\n",
      "           0       0.90      0.91      0.90      4738\n",
      "           1       0.11      0.11      0.11       509\n",
      "\n",
      "    accuracy                           0.83      5247\n",
      "   macro avg       0.51      0.51      0.51      5247\n",
      "weighted avg       0.83      0.83      0.83      5247\n",
      "\n",
      "Accuracy Score 0.8279016580903373\n"
     ]
    }
   ],
   "source": [
    "print(\"Report of LinearSVC_sad\")\n",
    "text_clf_lsvc.fit(X_train, y_train_t)\n",
    "predictions = text_clf_lsvc.predict(X_test)\n",
    "print(\"Confusion Matrix \\n\",metrics.confusion_matrix(y_test_l,predictions))\n",
    "print(metrics.classification_report(y_test_l,predictions))\n",
    "print(\"Accuracy Score\", metrics.accuracy_score(y_test_l,predictions))"
   ]
  },
  {
   "cell_type": "code",
   "execution_count": 396,
   "metadata": {},
   "outputs": [
    {
     "name": "stdout",
     "output_type": "stream",
     "text": [
      "Report of LogisticRegression_sad\n",
      "Confusion Matrix \n",
      " [[4502  236]\n",
      " [ 470   39]]\n",
      "              precision    recall  f1-score   support\n",
      "\n",
      "           0       0.91      0.95      0.93      4738\n",
      "           1       0.14      0.08      0.10       509\n",
      "\n",
      "    accuracy                           0.87      5247\n",
      "   macro avg       0.52      0.51      0.51      5247\n",
      "weighted avg       0.83      0.87      0.85      5247\n",
      "\n",
      "Accuracy Score 0.8654469220506956\n"
     ]
    }
   ],
   "source": [
    "print(\"Report of LogisticRegression_sad\")\n",
    "text_clf_lr.fit(X_train, y_train_t)\n",
    "predictions = text_clf_lr.predict(X_test)\n",
    "print(\"Confusion Matrix \\n\",metrics.confusion_matrix(y_test_l,predictions))\n",
    "print(metrics.classification_report(y_test_l,predictions))\n",
    "print(\"Accuracy Score\", metrics.accuracy_score(y_test_l,predictions))"
   ]
  },
  {
   "cell_type": "code",
   "execution_count": null,
   "metadata": {},
   "outputs": [],
   "source": []
  },
  {
   "cell_type": "markdown",
   "metadata": {},
   "source": [
    "# SentArt vs label_2\n",
    "\n",
    "* the same steps but comparing to the label_2 (provides another annotation for about 20% of the data)"
   ]
  },
  {
   "cell_type": "code",
   "execution_count": 397,
   "metadata": {},
   "outputs": [],
   "source": [
    "df[\"label_fear_2\"] = df[\"label_2_fill\"].map({1: 0, 2: 0, 3:0, 4:1, 5:0, 6:0, 7:0, 8:0})\n",
    "X = df[\"text_clean\"]\n",
    "y_target = df[\"target_fear\"]\n",
    "y_label = df[\"label_fear_2\"]\n",
    "\n",
    "X_train, X_test, y_train_t, y_test_t, y_train_l, y_test_l = train_test_split(X, y_target, y_label, test_size=0.30, random_state=42)"
   ]
  },
  {
   "cell_type": "code",
   "execution_count": 398,
   "metadata": {},
   "outputs": [
    {
     "name": "stdout",
     "output_type": "stream",
     "text": [
      "0    15474\n",
      "1     2016\n",
      "Name: label_fear_2, dtype: int64\n",
      "0    10336\n",
      "1     7154\n",
      "Name: target_fear, dtype: int64\n"
     ]
    }
   ],
   "source": [
    "print(df.label_fear_2.value_counts())\n",
    "print(df.target_fear.value_counts())\n"
   ]
  },
  {
   "cell_type": "code",
   "execution_count": 399,
   "metadata": {},
   "outputs": [
    {
     "name": "stdout",
     "output_type": "stream",
     "text": [
      "Report of MultinomialNB_fear_2\n",
      "Confusion Matrix \n",
      " [[3113 1541]\n",
      " [ 346  247]]\n",
      "              precision    recall  f1-score   support\n",
      "\n",
      "           0       0.90      0.67      0.77      4654\n",
      "           1       0.14      0.42      0.21       593\n",
      "\n",
      "    accuracy                           0.64      5247\n",
      "   macro avg       0.52      0.54      0.49      5247\n",
      "weighted avg       0.81      0.64      0.70      5247\n",
      "\n",
      "Accuracy Score:  0.6403659233847913\n"
     ]
    }
   ],
   "source": [
    "print(\"Report of MultinomialNB_fear_2\")\n",
    "text_clf_nb.fit(X_train, y_train_t)\n",
    "predictions = text_clf_nb.predict(X_test)\n",
    "print(\"Confusion Matrix \\n\",metrics.confusion_matrix(y_test_l,predictions))\n",
    "print(metrics.classification_report(y_test_l,predictions))\n",
    "print(\"Accuracy Score: \", metrics.accuracy_score(y_test_l,predictions))"
   ]
  },
  {
   "cell_type": "code",
   "execution_count": 400,
   "metadata": {},
   "outputs": [
    {
     "name": "stdout",
     "output_type": "stream",
     "text": [
      "Report of LinearSVC_fear_2\n",
      "Confusion Matrix \n",
      " [[2764 1890]\n",
      " [ 301  292]]\n",
      "              precision    recall  f1-score   support\n",
      "\n",
      "           0       0.90      0.59      0.72      4654\n",
      "           1       0.13      0.49      0.21       593\n",
      "\n",
      "    accuracy                           0.58      5247\n",
      "   macro avg       0.52      0.54      0.46      5247\n",
      "weighted avg       0.82      0.58      0.66      5247\n",
      "\n",
      "Accuracy Score:  0.5824280541261674\n"
     ]
    }
   ],
   "source": [
    "print(\"Report of LinearSVC_fear_2\")\n",
    "text_clf_lsvc.fit(X_train, y_train_t)\n",
    "predictions = text_clf_lsvc.predict(X_test)\n",
    "print(\"Confusion Matrix \\n\", metrics.confusion_matrix(y_test_l,predictions))\n",
    "print(metrics.classification_report(y_test_l,predictions))\n",
    "print(\"Accuracy Score: \", metrics.accuracy_score(y_test_l,predictions))"
   ]
  },
  {
   "cell_type": "code",
   "execution_count": 401,
   "metadata": {},
   "outputs": [
    {
     "name": "stdout",
     "output_type": "stream",
     "text": [
      "Report of LogisticRegression_fear_2\n",
      "Confusion Matrix \n",
      " [[2981 1673]\n",
      " [ 340  253]]\n",
      "              precision    recall  f1-score   support\n",
      "\n",
      "           0       0.90      0.64      0.75      4654\n",
      "           1       0.13      0.43      0.20       593\n",
      "\n",
      "    accuracy                           0.62      5247\n",
      "   macro avg       0.51      0.53      0.47      5247\n",
      "weighted avg       0.81      0.62      0.69      5247\n",
      "\n",
      "Accuracy Score 0.6163522012578616\n"
     ]
    }
   ],
   "source": [
    "print(\"Report of LogisticRegression_fear_2\")\n",
    "text_clf_lr.fit(X_train, y_train_t)\n",
    "predictions = text_clf_lr.predict(X_test)\n",
    "print(\"Confusion Matrix \\n\",metrics.confusion_matrix(y_test_l,predictions))\n",
    "print(metrics.classification_report(y_test_l,predictions))\n",
    "print(\"Accuracy Score\", metrics.accuracy_score(y_test_l,predictions))"
   ]
  },
  {
   "cell_type": "code",
   "execution_count": 402,
   "metadata": {},
   "outputs": [],
   "source": [
    "df[\"label_hap_2\"] = df[\"label_2_fill\"].map({1: 0, 2: 0, 3:0, 4:0, 5:1, 6:0, 7:0, 8:0})\n",
    "X = df[\"text_clean\"]\n",
    "y_target = df[\"target_hap\"]\n",
    "y_label = df[\"label_hap_2\"]\n",
    "\n",
    "X_train, X_test, y_train_t, y_test_t, y_train_l, y_test_l = train_test_split(X, y_target, y_label, test_size=0.30, random_state=42)"
   ]
  },
  {
   "cell_type": "code",
   "execution_count": 403,
   "metadata": {},
   "outputs": [
    {
     "name": "stdout",
     "output_type": "stream",
     "text": [
      "0    14974\n",
      "1     2516\n",
      "Name: label_hap_2, dtype: int64\n",
      "0    11247\n",
      "1     6243\n",
      "Name: target_hap, dtype: int64\n"
     ]
    }
   ],
   "source": [
    "print(df.label_hap_2.value_counts())\n",
    "print(df.target_hap.value_counts())"
   ]
  },
  {
   "cell_type": "code",
   "execution_count": 404,
   "metadata": {},
   "outputs": [
    {
     "name": "stdout",
     "output_type": "stream",
     "text": [
      "Report of MultinomialNB_hap_2\n",
      "Confusion Matrix \n",
      " [[3986  460]\n",
      " [ 634  167]]\n",
      "              precision    recall  f1-score   support\n",
      "\n",
      "           0       0.86      0.90      0.88      4446\n",
      "           1       0.27      0.21      0.23       801\n",
      "\n",
      "    accuracy                           0.79      5247\n",
      "   macro avg       0.56      0.55      0.56      5247\n",
      "weighted avg       0.77      0.79      0.78      5247\n",
      "\n",
      "Accuracy Score:  0.7914999047074519\n"
     ]
    }
   ],
   "source": [
    "print(\"Report of MultinomialNB_hap_2\")\n",
    "text_clf_nb.fit(X_train, y_train_t)\n",
    "predictions = text_clf_nb.predict(X_test)\n",
    "print(\"Confusion Matrix \\n\",metrics.confusion_matrix(y_test_l,predictions))\n",
    "print(metrics.classification_report(y_test_l,predictions))\n",
    "print(\"Accuracy Score: \", metrics.accuracy_score(y_test_l,predictions))"
   ]
  },
  {
   "cell_type": "code",
   "execution_count": 405,
   "metadata": {},
   "outputs": [
    {
     "name": "stdout",
     "output_type": "stream",
     "text": [
      "Report of LinearSVC_hap_2\n",
      "Confusion Matrix \n",
      " [[3032 1414]\n",
      " [ 435  366]]\n",
      "              precision    recall  f1-score   support\n",
      "\n",
      "           0       0.87      0.68      0.77      4446\n",
      "           1       0.21      0.46      0.28       801\n",
      "\n",
      "    accuracy                           0.65      5247\n",
      "   macro avg       0.54      0.57      0.52      5247\n",
      "weighted avg       0.77      0.65      0.69      5247\n",
      "\n",
      "Accuracy Score:  0.6476081570421193\n"
     ]
    }
   ],
   "source": [
    "print(\"Report of LinearSVC_hap_2\")\n",
    "text_clf_lsvc.fit(X_train, y_train_t)\n",
    "predictions = text_clf_lsvc.predict(X_test)\n",
    "print(\"Confusion Matrix \\n\", metrics.confusion_matrix(y_test_l,predictions))\n",
    "print(metrics.classification_report(y_test_l,predictions))\n",
    "print(\"Accuracy Score: \", metrics.accuracy_score(y_test_l,predictions))"
   ]
  },
  {
   "cell_type": "code",
   "execution_count": 406,
   "metadata": {},
   "outputs": [
    {
     "name": "stdout",
     "output_type": "stream",
     "text": [
      "Report of LogisticRegression_hap_2\n",
      "Confusion Matrix \n",
      " [[3222 1224]\n",
      " [ 488  313]]\n",
      "              precision    recall  f1-score   support\n",
      "\n",
      "           0       0.87      0.72      0.79      4446\n",
      "           1       0.20      0.39      0.27       801\n",
      "\n",
      "    accuracy                           0.67      5247\n",
      "   macro avg       0.54      0.56      0.53      5247\n",
      "weighted avg       0.77      0.67      0.71      5247\n",
      "\n",
      "Accuracy Score 0.6737183152277492\n"
     ]
    }
   ],
   "source": [
    "print(\"Report of LogisticRegression_hap_2\")\n",
    "text_clf_lr.fit(X_train, y_train_t)\n",
    "predictions = text_clf_lr.predict(X_test)\n",
    "print(\"Confusion Matrix \\n\",metrics.confusion_matrix(y_test_l,predictions))\n",
    "print(metrics.classification_report(y_test_l,predictions))\n",
    "print(\"Accuracy Score\", metrics.accuracy_score(y_test_l,predictions))"
   ]
  },
  {
   "cell_type": "code",
   "execution_count": 407,
   "metadata": {},
   "outputs": [],
   "source": [
    "df[\"label_sad_2\"] = df[\"label_2_fill\"].map({1: 0, 2: 0, 3:0, 4:0, 5:0, 6:1, 7:0, 8:0})\n",
    "X = df[\"text_clean\"]\n",
    "y_target = df[\"target_sad\"]\n",
    "y_label = df[\"label_sad_2\"]\n",
    "\n",
    "X_train, X_test, y_train_t, y_test_t, y_train_l, y_test_l = train_test_split(X, y_target, y_label, test_size=0.30, random_state=42)"
   ]
  },
  {
   "cell_type": "code",
   "execution_count": 408,
   "metadata": {},
   "outputs": [
    {
     "name": "stdout",
     "output_type": "stream",
     "text": [
      "0    15442\n",
      "1     2048\n",
      "Name: label_sad_2, dtype: int64\n",
      "0    15008\n",
      "1     2482\n",
      "Name: target_sad, dtype: int64\n"
     ]
    }
   ],
   "source": [
    "print(df.label_sad_2.value_counts())\n",
    "print(df.target_sad.value_counts())\n"
   ]
  },
  {
   "cell_type": "code",
   "execution_count": 409,
   "metadata": {},
   "outputs": [
    {
     "name": "stdout",
     "output_type": "stream",
     "text": [
      "Report of MultinomialNB_sad_2\n",
      "Confusion Matrix \n",
      " [[4627    3]\n",
      " [ 617    0]]\n",
      "              precision    recall  f1-score   support\n",
      "\n",
      "           0       0.88      1.00      0.94      4630\n",
      "           1       0.00      0.00      0.00       617\n",
      "\n",
      "    accuracy                           0.88      5247\n",
      "   macro avg       0.44      0.50      0.47      5247\n",
      "weighted avg       0.78      0.88      0.83      5247\n",
      "\n",
      "Accuracy Score:  0.8818372403278064\n"
     ]
    }
   ],
   "source": [
    "print(\"Report of MultinomialNB_sad_2\")\n",
    "text_clf_nb.fit(X_train, y_train_t)\n",
    "predictions = text_clf_nb.predict(X_test)\n",
    "print(\"Confusion Matrix \\n\",metrics.confusion_matrix(y_test_l,predictions))\n",
    "print(metrics.classification_report(y_test_l,predictions))\n",
    "print(\"Accuracy Score: \", metrics.accuracy_score(y_test_l,predictions))"
   ]
  },
  {
   "cell_type": "code",
   "execution_count": 410,
   "metadata": {},
   "outputs": [
    {
     "name": "stdout",
     "output_type": "stream",
     "text": [
      "Report of LinearSVC_sad_2\n",
      "Confusion Matrix \n",
      " [[4199  431]\n",
      " [ 544   73]]\n",
      "              precision    recall  f1-score   support\n",
      "\n",
      "           0       0.89      0.91      0.90      4630\n",
      "           1       0.14      0.12      0.13       617\n",
      "\n",
      "    accuracy                           0.81      5247\n",
      "   macro avg       0.52      0.51      0.51      5247\n",
      "weighted avg       0.80      0.81      0.81      5247\n",
      "\n",
      "Accuracy Score:  0.8141795311606632\n"
     ]
    }
   ],
   "source": [
    "print(\"Report of LinearSVC_sad_2\")\n",
    "text_clf_lsvc.fit(X_train, y_train_t)\n",
    "predictions = text_clf_lsvc.predict(X_test)\n",
    "print(\"Confusion Matrix \\n\", metrics.confusion_matrix(y_test_l,predictions))\n",
    "print(metrics.classification_report(y_test_l,predictions))\n",
    "print(\"Accuracy Score: \", metrics.accuracy_score(y_test_l,predictions))"
   ]
  },
  {
   "cell_type": "code",
   "execution_count": 411,
   "metadata": {},
   "outputs": [
    {
     "name": "stdout",
     "output_type": "stream",
     "text": [
      "Report of LogisticRegression_sad_2\n",
      "Confusion Matrix \n",
      " [[4404  226]\n",
      " [ 568   49]]\n",
      "              precision    recall  f1-score   support\n",
      "\n",
      "           0       0.89      0.95      0.92      4630\n",
      "           1       0.18      0.08      0.11       617\n",
      "\n",
      "    accuracy                           0.85      5247\n",
      "   macro avg       0.53      0.52      0.51      5247\n",
      "weighted avg       0.80      0.85      0.82      5247\n",
      "\n",
      "Accuracy Score 0.848675433581094\n"
     ]
    }
   ],
   "source": [
    "print(\"Report of LogisticRegression_sad_2\")\n",
    "text_clf_lr.fit(X_train, y_train_t)\n",
    "predictions = text_clf_lr.predict(X_test)\n",
    "print(\"Confusion Matrix \\n\",metrics.confusion_matrix(y_test_l,predictions))\n",
    "print(metrics.classification_report(y_test_l,predictions))\n",
    "print(\"Accuracy Score\", metrics.accuracy_score(y_test_l,predictions))"
   ]
  },
  {
   "cell_type": "code",
   "execution_count": null,
   "metadata": {},
   "outputs": [],
   "source": []
  },
  {
   "cell_type": "code",
   "execution_count": null,
   "metadata": {},
   "outputs": [],
   "source": []
  },
  {
   "cell_type": "code",
   "execution_count": null,
   "metadata": {},
   "outputs": [],
   "source": []
  },
  {
   "cell_type": "code",
   "execution_count": null,
   "metadata": {},
   "outputs": [],
   "source": []
  },
  {
   "cell_type": "code",
   "execution_count": null,
   "metadata": {},
   "outputs": [],
   "source": []
  },
  {
   "cell_type": "markdown",
   "metadata": {},
   "source": [
    "# POS vs NEG"
   ]
  },
  {
   "cell_type": "code",
   "execution_count": 412,
   "metadata": {},
   "outputs": [],
   "source": [
    "df[\"label_polarity\"] = df[\"label_1\"].map({1:0, 2:1, 3:0, 4:0, 5:1, 6:0, 7:0, 8:1}) \n",
    "df[\"target_polarity\"] = df[\"target\"].map({1:0, 3:0, 4:0, 5:1, 6:0, 7:0}) \n",
    "X = df[\"text_clean\"]\n",
    "y_target = df[\"target_polarity\"]\n",
    "y_label = df[\"label_polarity\"]\n",
    "\n",
    "X_train, X_test, y_train_t, y_test_t, y_train_l, y_test_l = train_test_split(X, y_target, y_label, test_size=0.30, random_state=42)"
   ]
  },
  {
   "cell_type": "code",
   "execution_count": 413,
   "metadata": {},
   "outputs": [
    {
     "data": {
      "text/plain": [
       "-1    12685\n",
       " 1     3580\n",
       " 0     1225\n",
       "Name: AAPz_target, dtype: int64"
      ]
     },
     "execution_count": 413,
     "metadata": {},
     "output_type": "execute_result"
    }
   ],
   "source": [
    "df[\"AAPz_target\"] = np.where((df[\"APPz\"] < -0.05), -1, np.where((df[\"APPz\"] > 0.05), 1, 0))\n",
    "df[\"AAPz_target\"].value_counts()"
   ]
  },
  {
   "cell_type": "code",
   "execution_count": 414,
   "metadata": {},
   "outputs": [
    {
     "data": {
      "text/plain": [
       "0    10257\n",
       "1     7233\n",
       "Name: label_polarity, dtype: int64"
      ]
     },
     "execution_count": 414,
     "metadata": {},
     "output_type": "execute_result"
    }
   ],
   "source": [
    "df.label_polarity.value_counts()"
   ]
  },
  {
   "cell_type": "code",
   "execution_count": 415,
   "metadata": {},
   "outputs": [
    {
     "data": {
      "text/plain": [
       "0    11247\n",
       "1     6243\n",
       "Name: target_polarity, dtype: int64"
      ]
     },
     "execution_count": 415,
     "metadata": {},
     "output_type": "execute_result"
    }
   ],
   "source": [
    "df.target_polarity.value_counts()"
   ]
  },
  {
   "cell_type": "code",
   "execution_count": 416,
   "metadata": {},
   "outputs": [
    {
     "name": "stdout",
     "output_type": "stream",
     "text": [
      "f1_macro : 0.179\n",
      "accuracy: 16.804 %\n"
     ]
    },
    {
     "data": {
      "image/png": "[encoded data removed]",
      "text/plain": [
       "<Figure size 288x288 with 2 Axes>"
      ]
     },
     "metadata": {
      "needs_background": "light"
     },
     "output_type": "display_data"
    }
   ],
   "source": [
    "f1_macro = f1_score(df[\"label_polarity\"], df[\"AAPz_target\"], average=\"macro\")\n",
    "acc = accuracy_score(df[\"label_polarity\"], df[\"AAPz_target\"])*100\n",
    "print(\"f1_macro :\", round(f1_macro, 3))\n",
    "print(\"accuracy:\", round(acc,3), \"%\")\n",
    "confusion_matrix = metrics.confusion_matrix(df[\"label_polarity\"], df[\"AAPz_target\"])\n",
    "f,ax = plt.subplots(figsize=(4,4))\n",
    "sns.heatmap(confusion_matrix, annot=True, linewidths=.5, fmt= \"d\",ax=ax, cmap=\"YlGnBu\");\n",
    "plt.title(\"confusion matrix\")\n",
    "plt.xlabel(\"true label\");\n",
    "plt.ylabel(\"predictions\");"
   ]
  },
  {
   "cell_type": "code",
   "execution_count": 417,
   "metadata": {},
   "outputs": [
    {
     "data": {
      "text/plain": [
       "(16265, 24)"
      ]
     },
     "execution_count": 417,
     "metadata": {},
     "output_type": "execute_result"
    }
   ],
   "source": [
    "df_remove_0 = df[df.AAPz_target != 0]\n",
    "df_remove_0.shape"
   ]
  },
  {
   "cell_type": "code",
   "execution_count": 418,
   "metadata": {},
   "outputs": [
    {
     "name": "stdout",
     "output_type": "stream",
     "text": [
      "f1_macro : 0.152\n",
      "accuracy: 14.307 %\n"
     ]
    },
    {
     "data": {
      "image/png": "[encoded data removed]",
      "text/plain": [
       "<Figure size 288x288 with 2 Axes>"
      ]
     },
     "metadata": {
      "needs_background": "light"
     },
     "output_type": "display_data"
    }
   ],
   "source": [
    "f1_macro = f1_score(df_remove_0[\"label_polarity\"], df_remove_0[\"AAPz_target\"], average=\"macro\")\n",
    "acc = accuracy_score(df_remove_0[\"label_polarity\"], df_remove_0[\"AAPz_target\"])*100\n",
    "print(\"f1_macro :\", round(f1_macro, 3))\n",
    "print(\"accuracy:\", round(acc,3), \"%\")\n",
    "confusion_matrix = metrics.confusion_matrix(df_remove_0[\"label_polarity\"], df_remove_0[\"AAPz_target\"])\n",
    "f,ax = plt.subplots(figsize=(4,4))\n",
    "sns.heatmap(confusion_matrix, annot=True, linewidths=.5, fmt= \"d\",ax=ax, cmap=\"YlGnBu\");\n",
    "plt.title(\"confusion matrix\")\n",
    "plt.xlabel(\"true label\");\n",
    "plt.ylabel(\"predictions\");"
   ]
  },
  {
   "cell_type": "code",
   "execution_count": 419,
   "metadata": {},
   "outputs": [
    {
     "name": "stdout",
     "output_type": "stream",
     "text": [
      "Report of MultinomialNB Polarity\n",
      "Confusion Matrix \n",
      " [[2752  308]\n",
      " [1868  319]]\n",
      "              precision    recall  f1-score   support\n",
      "\n",
      "           0       0.60      0.90      0.72      3060\n",
      "           1       0.51      0.15      0.23      2187\n",
      "\n",
      "    accuracy                           0.59      5247\n",
      "   macro avg       0.55      0.52      0.47      5247\n",
      "weighted avg       0.56      0.59      0.51      5247\n",
      "\n",
      "Accuracy Score:  0.5852868305698494\n"
     ]
    }
   ],
   "source": [
    "print(\"Report of MultinomialNB Polarity\")\n",
    "text_clf_nb.fit(X_train, y_train_t)\n",
    "predictions = text_clf_nb.predict(X_test)\n",
    "print(\"Confusion Matrix \\n\",metrics.confusion_matrix(y_test_l,predictions))\n",
    "print(metrics.classification_report(y_test_l,predictions))\n",
    "print(\"Accuracy Score: \", metrics.accuracy_score(y_test_l,predictions))"
   ]
  },
  {
   "cell_type": "code",
   "execution_count": 420,
   "metadata": {},
   "outputs": [
    {
     "name": "stdout",
     "output_type": "stream",
     "text": [
      "Report of LinearSVC Polarity\n",
      "Confusion Matrix \n",
      " [[2126  934]\n",
      " [1341  846]]\n",
      "              precision    recall  f1-score   support\n",
      "\n",
      "           0       0.61      0.69      0.65      3060\n",
      "           1       0.48      0.39      0.43      2187\n",
      "\n",
      "    accuracy                           0.57      5247\n",
      "   macro avg       0.54      0.54      0.54      5247\n",
      "weighted avg       0.56      0.57      0.56      5247\n",
      "\n",
      "Accuracy Score:  0.5664189060415475\n"
     ]
    }
   ],
   "source": [
    "print(\"Report of LinearSVC Polarity\")\n",
    "text_clf_lsvc.fit(X_train, y_train_t)\n",
    "predictions = text_clf_lsvc.predict(X_test)\n",
    "print(\"Confusion Matrix \\n\", metrics.confusion_matrix(y_test_l,predictions))\n",
    "print(metrics.classification_report(y_test_l,predictions))\n",
    "print(\"Accuracy Score: \", metrics.accuracy_score(y_test_l,predictions))"
   ]
  },
  {
   "cell_type": "code",
   "execution_count": 421,
   "metadata": {},
   "outputs": [
    {
     "name": "stdout",
     "output_type": "stream",
     "text": [
      "Report of LogisticRegression Polarity\n",
      "Confusion Matrix \n",
      " [[2257  803]\n",
      " [1453  734]]\n",
      "              precision    recall  f1-score   support\n",
      "\n",
      "           0       0.61      0.74      0.67      3060\n",
      "           1       0.48      0.34      0.39      2187\n",
      "\n",
      "    accuracy                           0.57      5247\n",
      "   macro avg       0.54      0.54      0.53      5247\n",
      "weighted avg       0.55      0.57      0.55      5247\n",
      "\n",
      "Accuracy Score 0.5700400228702116\n"
     ]
    }
   ],
   "source": [
    "print(\"Report of LogisticRegression Polarity\")\n",
    "text_clf_lr.fit(X_train, y_train_t)\n",
    "predictions = text_clf_lr.predict(X_test)\n",
    "print(\"Confusion Matrix \\n\",metrics.confusion_matrix(y_test_l,predictions))\n",
    "print(metrics.classification_report(y_test_l,predictions))\n",
    "print(\"Accuracy Score\", metrics.accuracy_score(y_test_l,predictions))"
   ]
  },
  {
   "cell_type": "markdown",
   "metadata": {},
   "source": [
    "# Multiclass Classification\n",
    "\n",
    "* after removing datapoints that had been annotated as trust or anticipation"
   ]
  },
  {
   "cell_type": "code",
   "execution_count": 422,
   "metadata": {},
   "outputs": [],
   "source": [
    "data = df[[\"text_clean\", \"label_1\", \"ang\", \"fear\", \"disg\", \"hap\", \"sad\", \"surp\", \"target\",\"AAPz_target\", \"label_polarity\"]]"
   ]
  },
  {
   "cell_type": "code",
   "execution_count": 423,
   "metadata": {},
   "outputs": [],
   "source": [
    "anticipation = data[data[\"label_1\"] == 2].index\n",
    "data = data.drop(anticipation, inplace= False)"
   ]
  },
  {
   "cell_type": "code",
   "execution_count": 424,
   "metadata": {},
   "outputs": [],
   "source": [
    "trust = data[data[\"label_1\"] == 8].index\n",
    "data = data.drop(trust, inplace= False)"
   ]
  },
  {
   "cell_type": "code",
   "execution_count": 425,
   "metadata": {},
   "outputs": [],
   "source": [
    "data = data.reset_index(drop=True)"
   ]
  },
  {
   "cell_type": "code",
   "execution_count": 426,
   "metadata": {},
   "outputs": [
    {
     "data": {
      "text/plain": [
       "(12100, 11)"
      ]
     },
     "execution_count": 426,
     "metadata": {},
     "output_type": "execute_result"
    }
   ],
   "source": [
    "data.shape"
   ]
  },
  {
   "cell_type": "code",
   "execution_count": 427,
   "metadata": {},
   "outputs": [
    {
     "data": {
      "text/plain": [
       "4    4927\n",
       "5    4079\n",
       "6    1880\n",
       "7     652\n",
       "1     490\n",
       "3      72\n",
       "Name: target, dtype: int64"
      ]
     },
     "execution_count": 427,
     "metadata": {},
     "output_type": "execute_result"
    }
   ],
   "source": [
    "data.target.value_counts()"
   ]
  },
  {
   "cell_type": "code",
   "execution_count": 428,
   "metadata": {},
   "outputs": [
    {
     "data": {
      "text/plain": [
       "1    3703\n",
       "5    1843\n",
       "4    1791\n",
       "6    1702\n",
       "3    1639\n",
       "7    1422\n",
       "Name: label_1, dtype: int64"
      ]
     },
     "execution_count": 428,
     "metadata": {},
     "output_type": "execute_result"
    }
   ],
   "source": [
    "data.label_1.value_counts()"
   ]
  },
  {
   "cell_type": "code",
   "execution_count": 429,
   "metadata": {},
   "outputs": [],
   "source": [
    "X = data[\"text_clean\"]\n",
    "y_target = data[\"target\"]\n",
    "y_label = data[\"label_1\"]\n",
    "\n",
    "X_train, X_test, y_train_t, y_test_t, y_train_l, y_test_l = train_test_split(X, y_target, y_label, test_size=0.30, random_state=42)"
   ]
  },
  {
   "cell_type": "code",
   "execution_count": 430,
   "metadata": {},
   "outputs": [
    {
     "name": "stdout",
     "output_type": "stream",
     "text": [
      "Report of MultinomialNB\n",
      "Confusion Matrix \n",
      " [[  0   0 842 290   5   1]\n",
      " [  0   0 333 143   9   0]\n",
      " [  0   0 426 115   5   0]\n",
      " [  0   0 242 280  14   1]\n",
      " [  0   0 388 117   8   0]\n",
      " [  0   0 284 121   6   0]]\n",
      "              precision    recall  f1-score   support\n",
      "\n",
      "           1       0.00      0.00      0.00      1138\n",
      "           3       0.00      0.00      0.00       485\n",
      "           4       0.17      0.78      0.28       546\n",
      "           5       0.26      0.52      0.35       537\n",
      "           6       0.17      0.02      0.03       513\n",
      "           7       0.00      0.00      0.00       411\n",
      "\n",
      "    accuracy                           0.20      3630\n",
      "   macro avg       0.10      0.22      0.11      3630\n",
      "weighted avg       0.09      0.20      0.10      3630\n",
      "\n",
      "Accuracy Score:  0.19669421487603306\n"
     ]
    }
   ],
   "source": [
    "print(\"Report of MultinomialNB\")\n",
    "text_clf_nb.fit(X_train, y_train_t)\n",
    "predictions = text_clf_nb.predict(X_test)\n",
    "confusion_matrix = metrics.confusion_matrix(y_test_l,predictions)\n",
    "print(\"Confusion Matrix \\n\",confusion_matrix)\n",
    "print(metrics.classification_report(y_test_l,predictions, zero_division = 0))\n",
    "print(\"Accuracy Score: \", metrics.accuracy_score(y_test_l,predictions))"
   ]
  },
  {
   "cell_type": "code",
   "execution_count": 431,
   "metadata": {},
   "outputs": [
    {
     "name": "stdout",
     "output_type": "stream",
     "text": [
      "classes [1 3 4 5 6 7]\n"
     ]
    },
    {
     "data": {
      "image/png": "[encoded data removed]",
      "text/plain": [
       "<Figure size 576x576 with 2 Axes>"
      ]
     },
     "metadata": {
      "needs_background": "light"
     },
     "output_type": "display_data"
    }
   ],
   "source": [
    "print(\"classes\",text_clf_nb.classes_)\n",
    "f,ax = plt.subplots(figsize=(8,8))\n",
    "sns.heatmap(confusion_matrix, annot=True, linewidths=.5, fmt= '.1f',ax=ax, cmap=\"YlGnBu\");\n",
    "plt.title(\"confusion matrix of NB\")\n",
    "plt.xlabel(\"true label\");\n",
    "plt.ylabel(\"predictions\");"
   ]
  },
  {
   "cell_type": "code",
   "execution_count": 432,
   "metadata": {},
   "outputs": [
    {
     "name": "stdout",
     "output_type": "stream",
     "text": [
      "Report of LinearSVC\n",
      "Confusion Matrix \n",
      " [[ 24   1 600 375 109  29]\n",
      " [  8   2 210 174  82   9]\n",
      " [ 16   0 284 157  72  17]\n",
      " [  2   0 138 269  85  43]\n",
      " [ 13   0 274 143  65  18]\n",
      " [ 12   0 179 139  64  17]]\n",
      "              precision    recall  f1-score   support\n",
      "\n",
      "           1       0.32      0.02      0.04      1138\n",
      "           3       0.67      0.00      0.01       485\n",
      "           4       0.17      0.52      0.25       546\n",
      "           5       0.21      0.50      0.30       537\n",
      "           6       0.14      0.13      0.13       513\n",
      "           7       0.13      0.04      0.06       411\n",
      "\n",
      "    accuracy                           0.18      3630\n",
      "   macro avg       0.27      0.20      0.13      3630\n",
      "weighted avg       0.28      0.18      0.12      3630\n",
      "\n",
      "Accuracy Score:  0.18209366391184573\n"
     ]
    }
   ],
   "source": [
    "print(\"Report of LinearSVC\")\n",
    "text_clf_lsvc.fit(X_train, y_train_t)\n",
    "predictions = text_clf_lsvc.predict(X_test)\n",
    "confusion_matrix = metrics.confusion_matrix(y_test_l,predictions)\n",
    "print(\"Confusion Matrix \\n\", metrics.confusion_matrix(y_test_l,predictions))\n",
    "print(metrics.classification_report(y_test_l,predictions))\n",
    "print(\"Accuracy Score: \", metrics.accuracy_score(y_test_l,predictions))"
   ]
  },
  {
   "cell_type": "code",
   "execution_count": 433,
   "metadata": {},
   "outputs": [
    {
     "name": "stdout",
     "output_type": "stream",
     "text": [
      "classes: [1 3 4 5 6 7]\n"
     ]
    },
    {
     "data": {
      "text/plain": [
       "Text(0.5, 1.0, 'confusion matrix of SVC')"
      ]
     },
     "execution_count": 433,
     "metadata": {},
     "output_type": "execute_result"
    },
    {
     "data": {
      "image/png": "[encoded data removed]",
      "text/plain": [
       "<Figure size 576x576 with 2 Axes>"
      ]
     },
     "metadata": {
      "needs_background": "light"
     },
     "output_type": "display_data"
    }
   ],
   "source": [
    "f,ax = plt.subplots(figsize=(8,8))\n",
    "print(\"classes:\" ,text_clf_lsvc.classes_)   \n",
    "sns.heatmap(confusion_matrix, annot=True, linewidths=.5, fmt= '.1f',ax=ax, cmap=\"YlGnBu\");\n",
    "plt.xlabel(\"true label\");\n",
    "plt.ylabel(\"predictions\");\n",
    "plt.title(\"confusion matrix of SVC\")"
   ]
  },
  {
   "cell_type": "markdown",
   "metadata": {},
   "source": [
    "# Polarity 2"
   ]
  },
  {
   "cell_type": "code",
   "execution_count": 434,
   "metadata": {},
   "outputs": [],
   "source": [
    "data[\"target_polarity\"] = data[\"target\"].map({1:0, 3:0, 4:0, 5:1, 6:0, 7:0})\n",
    "X = data[\"text_clean\"]\n",
    "y_target = data[\"target_polarity\"]\n",
    "y_label = data[\"label_polarity\"]\n",
    "\n",
    "X_train, X_test, y_train_t, y_test_t, y_train_l, y_test_l = train_test_split(X, y_target, y_label, test_size=0.30, random_state=42)"
   ]
  },
  {
   "cell_type": "code",
   "execution_count": 435,
   "metadata": {},
   "outputs": [
    {
     "data": {
      "text/plain": [
       "0    10257\n",
       "1     1843\n",
       "Name: label_polarity, dtype: int64"
      ]
     },
     "execution_count": 435,
     "metadata": {},
     "output_type": "execute_result"
    }
   ],
   "source": [
    "data.label_polarity.value_counts()"
   ]
  },
  {
   "cell_type": "code",
   "execution_count": 436,
   "metadata": {},
   "outputs": [
    {
     "data": {
      "text/plain": [
       "0    8021\n",
       "1    4079\n",
       "Name: target_polarity, dtype: int64"
      ]
     },
     "execution_count": 436,
     "metadata": {},
     "output_type": "execute_result"
    }
   ],
   "source": [
    "data.target_polarity.value_counts()"
   ]
  },
  {
   "cell_type": "code",
   "execution_count": 437,
   "metadata": {},
   "outputs": [
    {
     "name": "stdout",
     "output_type": "stream",
     "text": [
      "Report of MultinomialNB Polarity 2\n",
      "Confusion Matrix \n",
      " [[2880  213]\n",
      " [ 452   85]]\n",
      "              precision    recall  f1-score   support\n",
      "\n",
      "           0       0.86      0.93      0.90      3093\n",
      "           1       0.29      0.16      0.20       537\n",
      "\n",
      "    accuracy                           0.82      3630\n",
      "   macro avg       0.57      0.54      0.55      3630\n",
      "weighted avg       0.78      0.82      0.79      3630\n",
      "\n",
      "Accuracy Score:  0.8168044077134986\n"
     ]
    }
   ],
   "source": [
    "print(\"Report of MultinomialNB Polarity 2\")\n",
    "text_clf_nb.fit(X_train, y_train_t)\n",
    "predictions = text_clf_nb.predict(X_test)\n",
    "print(\"Confusion Matrix \\n\",metrics.confusion_matrix(y_test_l,predictions))\n",
    "print(metrics.classification_report(y_test_l,predictions))\n",
    "print(\"Accuracy Score: \", metrics.accuracy_score(y_test_l,predictions))"
   ]
  },
  {
   "cell_type": "code",
   "execution_count": 438,
   "metadata": {},
   "outputs": [
    {
     "name": "stdout",
     "output_type": "stream",
     "text": [
      "Report of LinearSVC Polarity 2\n",
      "Confusion Matrix \n",
      " [[2233  860]\n",
      " [ 301  236]]\n",
      "              precision    recall  f1-score   support\n",
      "\n",
      "           0       0.88      0.72      0.79      3093\n",
      "           1       0.22      0.44      0.29       537\n",
      "\n",
      "    accuracy                           0.68      3630\n",
      "   macro avg       0.55      0.58      0.54      3630\n",
      "weighted avg       0.78      0.68      0.72      3630\n",
      "\n",
      "Accuracy Score:  0.6801652892561983\n"
     ]
    }
   ],
   "source": [
    "print(\"Report of LinearSVC Polarity 2\")\n",
    "text_clf_lsvc.fit(X_train, y_train_t)\n",
    "predictions = text_clf_lsvc.predict(X_test)\n",
    "print(\"Confusion Matrix \\n\", metrics.confusion_matrix(y_test_l,predictions))\n",
    "print(metrics.classification_report(y_test_l,predictions))\n",
    "print(\"Accuracy Score: \", metrics.accuracy_score(y_test_l,predictions))"
   ]
  },
  {
   "cell_type": "code",
   "execution_count": 439,
   "metadata": {},
   "outputs": [
    {
     "name": "stdout",
     "output_type": "stream",
     "text": [
      "Report of LogisticRegression Polarity\n",
      "Confusion Matrix \n",
      " [[2387  706]\n",
      " [ 346  191]]\n",
      "              precision    recall  f1-score   support\n",
      "\n",
      "           0       0.87      0.77      0.82      3093\n",
      "           1       0.21      0.36      0.27       537\n",
      "\n",
      "    accuracy                           0.71      3630\n",
      "   macro avg       0.54      0.56      0.54      3630\n",
      "weighted avg       0.78      0.71      0.74      3630\n",
      "\n",
      "Accuracy Score 0.7101928374655647\n"
     ]
    }
   ],
   "source": [
    "print(\"Report of LogisticRegression Polarity\")\n",
    "text_clf_lr.fit(X_train, y_train_t)\n",
    "predictions = text_clf_lr.predict(X_test)\n",
    "print(\"Confusion Matrix \\n\",metrics.confusion_matrix(y_test_l,predictions))\n",
    "print(metrics.classification_report(y_test_l,predictions))\n",
    "print(\"Accuracy Score\", metrics.accuracy_score(y_test_l,predictions))"
   ]
  },
  {
   "cell_type": "code",
   "execution_count": null,
   "metadata": {},
   "outputs": [],
   "source": []
  },
  {
   "cell_type": "markdown",
   "metadata": {},
   "source": [
    "# Evaluating the performance of SentiArt by comparing the true scores to the predicted scores"
   ]
  },
  {
   "cell_type": "code",
   "execution_count": 440,
   "metadata": {},
   "outputs": [
    {
     "name": "stdout",
     "output_type": "stream",
     "text": [
      "f1_macro : 0.197\n",
      "accuracy: 13.149 %\n"
     ]
    },
    {
     "data": {
      "image/png": "[encoded data removed]",
      "text/plain": [
       "<Figure size 288x288 with 2 Axes>"
      ]
     },
     "metadata": {
      "needs_background": "light"
     },
     "output_type": "display_data"
    }
   ],
   "source": [
    "f1_macro = f1_score(data[\"label_polarity\"], data[\"AAPz_target\"], average=\"macro\")\n",
    "acc = accuracy_score(data[\"label_polarity\"], data[\"AAPz_target\"])*100\n",
    "print(\"f1_macro :\", round(f1_macro, 3))\n",
    "print(\"accuracy:\", round(acc,3), \"%\")\n",
    "confusion_matrix = metrics.confusion_matrix(data[\"label_polarity\"], data[\"AAPz_target\"])\n",
    "f,ax = plt.subplots(figsize=(4,4))\n",
    "sns.heatmap(confusion_matrix, annot=True, linewidths=.5, fmt= \"d\",ax=ax, cmap=\"YlGnBu\");\n",
    "plt.title(\"confusion matrix\")\n",
    "plt.xlabel(\"true label\");\n",
    "plt.ylabel(\"predictions\");"
   ]
  },
  {
   "cell_type": "code",
   "execution_count": 441,
   "metadata": {},
   "outputs": [
    {
     "data": {
      "text/plain": [
       "(11296, 12)"
      ]
     },
     "execution_count": 441,
     "metadata": {},
     "output_type": "execute_result"
    }
   ],
   "source": [
    "data_remove_0 = data[data.AAPz_target != 0]\n",
    "data_remove_0.shape"
   ]
  },
  {
   "cell_type": "code",
   "execution_count": 442,
   "metadata": {},
   "outputs": [
    {
     "name": "stdout",
     "output_type": "stream",
     "text": [
      "f1_macro : 0.168\n",
      "accuracy: 8.667 %\n"
     ]
    },
    {
     "data": {
      "image/png": "[encoded data removed]",
      "text/plain": [
       "<Figure size 288x288 with 2 Axes>"
      ]
     },
     "metadata": {
      "needs_background": "light"
     },
     "output_type": "display_data"
    }
   ],
   "source": [
    "f1_macro = f1_score(data_remove_0[\"label_polarity\"], data_remove_0[\"AAPz_target\"], average=\"macro\")\n",
    "acc = accuracy_score(data_remove_0[\"label_polarity\"], data_remove_0[\"AAPz_target\"])*100\n",
    "print(\"f1_macro :\", round(f1_macro, 3))\n",
    "print(\"accuracy:\", round(acc,3), \"%\")\n",
    "confusion_matrix = metrics.confusion_matrix(data_remove_0[\"label_polarity\"], data_remove_0[\"AAPz_target\"])\n",
    "f,ax = plt.subplots(figsize=(4,4))\n",
    "sns.heatmap(confusion_matrix, annot=True, linewidths=.5, fmt= \"d\",ax=ax, cmap=\"YlGnBu\");\n",
    "plt.title(\"confusion matrix\")\n",
    "plt.xlabel(\"true label\");\n",
    "plt.ylabel(\"predictions\");"
   ]
  }
 ],
 "metadata": {
  "kernelspec": {
   "display_name": "Python 3",
   "language": "python",
   "name": "python3"
  },
  "language_info": {
   "codemirror_mode": {
    "name": "ipython",
    "version": 3
   },
   "file_extension": ".py",
   "mimetype": "text/x-python",
   "name": "python",
   "nbconvert_exporter": "python",
   "pygments_lexer": "ipython3",
   "version": "3.8.5"
  }
 },
 "nbformat": 4,
 "nbformat_minor": 4
}
